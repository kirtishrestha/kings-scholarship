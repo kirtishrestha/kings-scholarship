{
 "cells": [
  {
   "cell_type": "markdown",
   "id": "9d50b21f",
   "metadata": {},
   "source": [
    "# GPA score of students at King's Study\n"
   ]
  },
  {
   "cell_type": "markdown",
   "id": "09ea1f66",
   "metadata": {},
   "source": [
    "## A. Problem Statement"
   ]
  },
  {
   "cell_type": "markdown",
   "id": "657fca5a",
   "metadata": {},
   "source": [
    "1. Building a logistic regression model to assign a score between 0 and 100 to each of the students which can be used by the King's College Nepal to provide scholarships to potential candidate students.\n",
    "2. Creating a model that can adjust according to the college's requirements\n",
    "    - When the college's mission is to support academic excellence and financial need, the focus is to identify all deserving students for scholarship opportunities.\n",
    "    - When the college's commitment centers on fiscal responsibility and the equitable distribution of resources, the priority is to carefully manage scholarship allocations to ensure fairness and sustainability."
   ]
  },
  {
   "cell_type": "markdown",
   "id": "677bc090",
   "metadata": {},
   "source": [
    "#### Importing Revelant Libraries"
   ]
  },
  {
   "cell_type": "code",
   "execution_count": 431,
   "id": "0baa9d9f",
   "metadata": {},
   "outputs": [],
   "source": [
    "# imporitng relevant libraries\n",
    "\n",
    "import numpy as np\n",
    "import pandas as pd\n",
    "import matplotlib.pyplot as plt\n",
    "import seaborn as sns\n",
    "\n",
    "import warnings \n",
    "warnings.filterwarnings('ignore')"
   ]
  },
  {
   "cell_type": "code",
   "execution_count": 432,
   "id": "77c1e1e2",
   "metadata": {
    "scrolled": true
   },
   "outputs": [
    {
     "data": {
      "text/html": [
       "<div>\n",
       "<style scoped>\n",
       "    .dataframe tbody tr th:only-of-type {\n",
       "        vertical-align: middle;\n",
       "    }\n",
       "\n",
       "    .dataframe tbody tr th {\n",
       "        vertical-align: top;\n",
       "    }\n",
       "\n",
       "    .dataframe thead th {\n",
       "        text-align: right;\n",
       "    }\n",
       "</style>\n",
       "<table border=\"1\" class=\"dataframe\">\n",
       "  <thead>\n",
       "    <tr style=\"text-align: right;\">\n",
       "      <th></th>\n",
       "      <th>Program</th>\n",
       "      <th>Enrollment Year</th>\n",
       "      <th>Gender</th>\n",
       "      <th>DOB</th>\n",
       "      <th>District</th>\n",
       "      <th>Country</th>\n",
       "      <th>Education Background</th>\n",
       "      <th>GPA</th>\n",
       "      <th>Professional Engagement</th>\n",
       "      <th>Mothers Profession</th>\n",
       "      <th>Fathers Profession</th>\n",
       "      <th>Status</th>\n",
       "      <th>Withdrawn or Graduate Date (mm.dd.yy)</th>\n",
       "      <th>Reason for Withdrawal</th>\n",
       "      <th>Year</th>\n",
       "      <th>Actual Concentration</th>\n",
       "    </tr>\n",
       "  </thead>\n",
       "  <tbody>\n",
       "    <tr>\n",
       "      <th>0</th>\n",
       "      <td>NaN</td>\n",
       "      <td>NaN</td>\n",
       "      <td>NaN</td>\n",
       "      <td>NaN</td>\n",
       "      <td>NaN</td>\n",
       "      <td>NaN</td>\n",
       "      <td>NaN</td>\n",
       "      <td>NaN</td>\n",
       "      <td>NaN</td>\n",
       "      <td>NaN</td>\n",
       "      <td>NaN</td>\n",
       "      <td>NaN</td>\n",
       "      <td>NaN</td>\n",
       "      <td>NaN</td>\n",
       "      <td>NaN</td>\n",
       "      <td>NaN</td>\n",
       "    </tr>\n",
       "    <tr>\n",
       "      <th>1</th>\n",
       "      <td>MBA</td>\n",
       "      <td>2019.0</td>\n",
       "      <td>Male</td>\n",
       "      <td>29/11/1993</td>\n",
       "      <td>Kathmandu</td>\n",
       "      <td>Nepal</td>\n",
       "      <td>Bachelor of Business Administration</td>\n",
       "      <td>3.41</td>\n",
       "      <td>Unemployed</td>\n",
       "      <td>Business</td>\n",
       "      <td>Business</td>\n",
       "      <td>Withdrawn</td>\n",
       "      <td>March 15, 2020</td>\n",
       "      <td>Abroad Study</td>\n",
       "      <td>2020</td>\n",
       "      <td>Pending</td>\n",
       "    </tr>\n",
       "    <tr>\n",
       "      <th>2</th>\n",
       "      <td>MBA</td>\n",
       "      <td>2019.0</td>\n",
       "      <td>Male</td>\n",
       "      <td>11/14/1994</td>\n",
       "      <td>Kaski</td>\n",
       "      <td>Nepal</td>\n",
       "      <td>Bachelor of Business Administration</td>\n",
       "      <td>3.08</td>\n",
       "      <td>Unemployed</td>\n",
       "      <td>Housewife</td>\n",
       "      <td>Businessman</td>\n",
       "      <td>Graduate</td>\n",
       "      <td>August 21, 2021</td>\n",
       "      <td>NaN</td>\n",
       "      <td>2021</td>\n",
       "      <td>Marketing Management</td>\n",
       "    </tr>\n",
       "    <tr>\n",
       "      <th>3</th>\n",
       "      <td>MBA</td>\n",
       "      <td>2019.0</td>\n",
       "      <td>Female</td>\n",
       "      <td>10/02/1997</td>\n",
       "      <td>Mahottari</td>\n",
       "      <td>Nepal</td>\n",
       "      <td>Bachelor of Business Administration</td>\n",
       "      <td>2.86</td>\n",
       "      <td>Employed</td>\n",
       "      <td>NGO worker</td>\n",
       "      <td>NGO worker</td>\n",
       "      <td>Graduate</td>\n",
       "      <td>August 21, 2021</td>\n",
       "      <td>NaN</td>\n",
       "      <td>2021</td>\n",
       "      <td>Entrepreneurship</td>\n",
       "    </tr>\n",
       "    <tr>\n",
       "      <th>4</th>\n",
       "      <td>MBA</td>\n",
       "      <td>2019.0</td>\n",
       "      <td>Male</td>\n",
       "      <td>10/06/1995</td>\n",
       "      <td>Kathmandu</td>\n",
       "      <td>Nepal</td>\n",
       "      <td>Bachelor of Business Administration</td>\n",
       "      <td>2.99</td>\n",
       "      <td>Employed</td>\n",
       "      <td>Housewife</td>\n",
       "      <td>Business</td>\n",
       "      <td>Withdrawn</td>\n",
       "      <td>December 30, 2019</td>\n",
       "      <td>Work Commitment</td>\n",
       "      <td>2019</td>\n",
       "      <td>Pending</td>\n",
       "    </tr>\n",
       "    <tr>\n",
       "      <th>...</th>\n",
       "      <td>...</td>\n",
       "      <td>...</td>\n",
       "      <td>...</td>\n",
       "      <td>...</td>\n",
       "      <td>...</td>\n",
       "      <td>...</td>\n",
       "      <td>...</td>\n",
       "      <td>...</td>\n",
       "      <td>...</td>\n",
       "      <td>...</td>\n",
       "      <td>...</td>\n",
       "      <td>...</td>\n",
       "      <td>...</td>\n",
       "      <td>...</td>\n",
       "      <td>...</td>\n",
       "      <td>...</td>\n",
       "    </tr>\n",
       "    <tr>\n",
       "      <th>2570</th>\n",
       "      <td>BSIT</td>\n",
       "      <td>2023.0</td>\n",
       "      <td>Male</td>\n",
       "      <td>02/19/2004</td>\n",
       "      <td>Bhaktapur</td>\n",
       "      <td>Nepal</td>\n",
       "      <td>Intermediate Level</td>\n",
       "      <td>2.61</td>\n",
       "      <td>NaN</td>\n",
       "      <td>NaN</td>\n",
       "      <td>NaN</td>\n",
       "      <td>Running</td>\n",
       "      <td>NaN</td>\n",
       "      <td>NaN</td>\n",
       "      <td>NaN</td>\n",
       "      <td>NaN</td>\n",
       "    </tr>\n",
       "    <tr>\n",
       "      <th>2571</th>\n",
       "      <td>BSIT</td>\n",
       "      <td>2023.0</td>\n",
       "      <td>Male</td>\n",
       "      <td>24/10/2004</td>\n",
       "      <td>Sindhuli</td>\n",
       "      <td>Nepal</td>\n",
       "      <td>A Level</td>\n",
       "      <td>3.5 credit</td>\n",
       "      <td>NaN</td>\n",
       "      <td>NaN</td>\n",
       "      <td>NaN</td>\n",
       "      <td>Running</td>\n",
       "      <td>NaN</td>\n",
       "      <td>NaN</td>\n",
       "      <td>NaN</td>\n",
       "      <td>NaN</td>\n",
       "    </tr>\n",
       "    <tr>\n",
       "      <th>2572</th>\n",
       "      <td>BSIT</td>\n",
       "      <td>2023.0</td>\n",
       "      <td>Male</td>\n",
       "      <td>02/27/2006</td>\n",
       "      <td>Kailali</td>\n",
       "      <td>Nepal</td>\n",
       "      <td>Intermediate Level</td>\n",
       "      <td>2.96</td>\n",
       "      <td>NaN</td>\n",
       "      <td>NaN</td>\n",
       "      <td>NaN</td>\n",
       "      <td>Running</td>\n",
       "      <td>NaN</td>\n",
       "      <td>NaN</td>\n",
       "      <td>NaN</td>\n",
       "      <td>NaN</td>\n",
       "    </tr>\n",
       "    <tr>\n",
       "      <th>2573</th>\n",
       "      <td>BSIT</td>\n",
       "      <td>2023.0</td>\n",
       "      <td>Male</td>\n",
       "      <td>09/30/2004</td>\n",
       "      <td>Kailali</td>\n",
       "      <td>Nepal</td>\n",
       "      <td>Intermediate Level</td>\n",
       "      <td>3.53</td>\n",
       "      <td>NaN</td>\n",
       "      <td>NaN</td>\n",
       "      <td>NaN</td>\n",
       "      <td>Running</td>\n",
       "      <td>NaN</td>\n",
       "      <td>NaN</td>\n",
       "      <td>NaN</td>\n",
       "      <td>NaN</td>\n",
       "    </tr>\n",
       "    <tr>\n",
       "      <th>2574</th>\n",
       "      <td>BSIT</td>\n",
       "      <td>NaN</td>\n",
       "      <td>Female</td>\n",
       "      <td>09/02/2003</td>\n",
       "      <td>Jhapa</td>\n",
       "      <td>Nepal</td>\n",
       "      <td>Intermediate Level</td>\n",
       "      <td>3.42</td>\n",
       "      <td>NaN</td>\n",
       "      <td>NaN</td>\n",
       "      <td>NaN</td>\n",
       "      <td>Running</td>\n",
       "      <td>NaN</td>\n",
       "      <td>NaN</td>\n",
       "      <td>NaN</td>\n",
       "      <td>NaN</td>\n",
       "    </tr>\n",
       "  </tbody>\n",
       "</table>\n",
       "<p>2575 rows × 16 columns</p>\n",
       "</div>"
      ],
      "text/plain": [
       "     Program  Enrollment Year  Gender         DOB   District Country  \\\n",
       "0        NaN              NaN     NaN         NaN        NaN     NaN   \n",
       "1        MBA           2019.0    Male  29/11/1993  Kathmandu   Nepal   \n",
       "2        MBA           2019.0    Male  11/14/1994      Kaski   Nepal   \n",
       "3        MBA           2019.0  Female  10/02/1997  Mahottari   Nepal   \n",
       "4        MBA           2019.0    Male  10/06/1995  Kathmandu   Nepal   \n",
       "...      ...              ...     ...         ...        ...     ...   \n",
       "2570    BSIT           2023.0    Male  02/19/2004  Bhaktapur   Nepal   \n",
       "2571    BSIT           2023.0    Male  24/10/2004   Sindhuli   Nepal   \n",
       "2572    BSIT           2023.0    Male  02/27/2006    Kailali   Nepal   \n",
       "2573    BSIT           2023.0    Male  09/30/2004    Kailali   Nepal   \n",
       "2574    BSIT              NaN  Female  09/02/2003      Jhapa   Nepal   \n",
       "\n",
       "                     Education Background         GPA Professional Engagement  \\\n",
       "0                                     NaN         NaN                     NaN   \n",
       "1     Bachelor of Business Administration        3.41              Unemployed   \n",
       "2     Bachelor of Business Administration        3.08              Unemployed   \n",
       "3     Bachelor of Business Administration        2.86                Employed   \n",
       "4     Bachelor of Business Administration        2.99                Employed   \n",
       "...                                   ...         ...                     ...   \n",
       "2570                   Intermediate Level        2.61                     NaN   \n",
       "2571                              A Level  3.5 credit                     NaN   \n",
       "2572                   Intermediate Level        2.96                     NaN   \n",
       "2573                   Intermediate Level        3.53                     NaN   \n",
       "2574                   Intermediate Level        3.42                     NaN   \n",
       "\n",
       "     Mothers Profession Fathers Profession      Status  \\\n",
       "0                   NaN                NaN         NaN   \n",
       "1              Business           Business  Withdrawn    \n",
       "2             Housewife        Businessman    Graduate   \n",
       "3            NGO worker         NGO worker    Graduate   \n",
       "4             Housewife           Business  Withdrawn    \n",
       "...                 ...                ...         ...   \n",
       "2570                NaN                NaN     Running   \n",
       "2571                NaN                NaN     Running   \n",
       "2572                NaN                NaN     Running   \n",
       "2573                NaN                NaN     Running   \n",
       "2574                NaN                NaN     Running   \n",
       "\n",
       "     Withdrawn or Graduate Date (mm.dd.yy) Reason for Withdrawal  Year  \\\n",
       "0                                      NaN                   NaN   NaN   \n",
       "1                           March 15, 2020          Abroad Study  2020   \n",
       "2                          August 21, 2021                   NaN  2021   \n",
       "3                          August 21, 2021                   NaN  2021   \n",
       "4                        December 30, 2019       Work Commitment  2019   \n",
       "...                                    ...                   ...   ...   \n",
       "2570                                   NaN                   NaN   NaN   \n",
       "2571                                   NaN                   NaN   NaN   \n",
       "2572                                   NaN                   NaN   NaN   \n",
       "2573                                   NaN                   NaN   NaN   \n",
       "2574                                   NaN                   NaN   NaN   \n",
       "\n",
       "      Actual Concentration  \n",
       "0                      NaN  \n",
       "1                 Pending   \n",
       "2     Marketing Management  \n",
       "3        Entrepreneurship   \n",
       "4                 Pending   \n",
       "...                    ...  \n",
       "2570                   NaN  \n",
       "2571                   NaN  \n",
       "2572                   NaN  \n",
       "2573                   NaN  \n",
       "2574                   NaN  \n",
       "\n",
       "[2575 rows x 16 columns]"
      ]
     },
     "execution_count": 432,
     "metadata": {},
     "output_type": "execute_result"
    }
   ],
   "source": [
    "# retrieving data\n",
    "\n",
    "data = pd.read_csv('GPA.csv')\n",
    "data"
   ]
  },
  {
   "cell_type": "code",
   "execution_count": 433,
   "id": "374aa66f",
   "metadata": {},
   "outputs": [
    {
     "data": {
      "text/plain": [
       "Program                                    23\n",
       "Enrollment Year                           147\n",
       "Gender                                    146\n",
       "DOB                                      1004\n",
       "District                                  536\n",
       "Country                                  1107\n",
       "Education Background                      419\n",
       "GPA                                      1036\n",
       "Professional Engagement                   999\n",
       "Mothers Profession                       1382\n",
       "Fathers Profession                       1368\n",
       "Status                                    149\n",
       "Withdrawn or Graduate Date (mm.dd.yy)     964\n",
       "Reason for Withdrawal                    1957\n",
       "Year                                      249\n",
       "Actual Concentration                      485\n",
       "dtype: int64"
      ]
     },
     "execution_count": 433,
     "metadata": {},
     "output_type": "execute_result"
    }
   ],
   "source": [
    "data.isnull().sum()"
   ]
  },
  {
   "cell_type": "code",
   "execution_count": 434,
   "id": "0323acce",
   "metadata": {},
   "outputs": [
    {
     "data": {
      "text/plain": [
       "(2575, 16)"
      ]
     },
     "execution_count": 434,
     "metadata": {},
     "output_type": "execute_result"
    }
   ],
   "source": [
    "data.shape"
   ]
  },
  {
   "cell_type": "markdown",
   "id": "44848b3b",
   "metadata": {},
   "source": [
    "# B. Data Preparation and EDA"
   ]
  },
  {
   "cell_type": "code",
   "execution_count": 435,
   "id": "858a6014",
   "metadata": {
    "scrolled": false
   },
   "outputs": [
    {
     "data": {
      "text/plain": [
       "Program                                  0.01\n",
       "Enrollment Year                          0.06\n",
       "Gender                                   0.06\n",
       "DOB                                      0.39\n",
       "District                                 0.21\n",
       "Country                                  0.43\n",
       "Education Background                     0.16\n",
       "GPA                                      0.40\n",
       "Professional Engagement                  0.39\n",
       "Mothers Profession                       0.54\n",
       "Fathers Profession                       0.53\n",
       "Status                                   0.06\n",
       "Withdrawn or Graduate Date (mm.dd.yy)    0.37\n",
       "Reason for Withdrawal                    0.76\n",
       "Year                                     0.10\n",
       "Actual Concentration                     0.19\n",
       "dtype: float64"
      ]
     },
     "execution_count": 435,
     "metadata": {},
     "output_type": "execute_result"
    }
   ],
   "source": [
    "# checking the percentage of missing values \n",
    "\n",
    "round(data.isnull().sum()/len(data),2)"
   ]
  },
  {
   "cell_type": "markdown",
   "id": "b24b052b",
   "metadata": {},
   "source": [
    "#### Dropping rows with missing high percentage of missing values"
   ]
  },
  {
   "cell_type": "code",
   "execution_count": 436,
   "id": "e06ba04d",
   "metadata": {},
   "outputs": [],
   "source": [
    "data.drop('Withdrawn or Graduate Date (mm.dd.yy)', axis =1, inplace = True)"
   ]
  },
  {
   "cell_type": "markdown",
   "id": "b80ab99f",
   "metadata": {},
   "source": [
    "- 'Withdrawn or Graduate Date (mm.dd.yy)' column does not contain necessary informations for our model"
   ]
  },
  {
   "cell_type": "code",
   "execution_count": 437,
   "id": "8a9efb7d",
   "metadata": {},
   "outputs": [],
   "source": [
    "data.drop('DOB', axis =1, inplace = True)"
   ]
  },
  {
   "cell_type": "markdown",
   "id": "1fba9eb4",
   "metadata": {},
   "source": [
    "- 'DOB' column does not contain necessary informations for our model"
   ]
  },
  {
   "cell_type": "code",
   "execution_count": 438,
   "id": "f25a83d3",
   "metadata": {},
   "outputs": [],
   "source": [
    "data.drop('Reason for Withdrawal', axis = 1, inplace=True)"
   ]
  },
  {
   "cell_type": "markdown",
   "id": "65d86623",
   "metadata": {},
   "source": [
    "- 'Reason for Withdrawal' column does not contain necessary informations for our model"
   ]
  },
  {
   "cell_type": "code",
   "execution_count": 439,
   "id": "c37a6265",
   "metadata": {},
   "outputs": [],
   "source": [
    "data.drop('Year', axis = 1, inplace=True)"
   ]
  },
  {
   "cell_type": "markdown",
   "id": "870ca749",
   "metadata": {},
   "source": [
    "- 'Year' column does not contain necessary informations for our model"
   ]
  },
  {
   "cell_type": "markdown",
   "id": "72fede74",
   "metadata": {},
   "source": [
    "#### Dropping null values in the GPA column"
   ]
  },
  {
   "cell_type": "code",
   "execution_count": 440,
   "id": "e4d8af69",
   "metadata": {},
   "outputs": [],
   "source": [
    "data = data.dropna(subset=['GPA'])"
   ]
  },
  {
   "cell_type": "code",
   "execution_count": 441,
   "id": "22c7858d",
   "metadata": {},
   "outputs": [
    {
     "data": {
      "text/plain": [
       "Program                    0.00\n",
       "Enrollment Year            0.01\n",
       "Gender                     0.01\n",
       "District                   0.15\n",
       "Country                    0.45\n",
       "Education Background       0.09\n",
       "GPA                        0.00\n",
       "Professional Engagement    0.35\n",
       "Mothers Profession         0.45\n",
       "Fathers Profession         0.44\n",
       "Status                     0.04\n",
       "Actual Concentration       0.20\n",
       "dtype: float64"
      ]
     },
     "execution_count": 441,
     "metadata": {},
     "output_type": "execute_result"
    }
   ],
   "source": [
    "# checking the percentage of missing values \n",
    "\n",
    "round(data.isnull().sum()/len(data),2)"
   ]
  },
  {
   "cell_type": "markdown",
   "id": "3e1098bc",
   "metadata": {},
   "source": [
    "## Note"
   ]
  },
  {
   "cell_type": "markdown",
   "id": "95b7c8b0",
   "metadata": {},
   "source": [
    "- 'Country', 'Professional Engagement', 'District', 'Mothers Profession', 'Fathers Profession', 'Actual Concentration' they might high number of missing values but they have important information for the problem statement. Doing some analysis on them"
   ]
  },
  {
   "cell_type": "code",
   "execution_count": 442,
   "id": "96833730",
   "metadata": {},
   "outputs": [],
   "source": [
    "# replacing nan by 'Select_District' in 'District'\n",
    "\n",
    "data['District'] = data['District'].replace(np.nan, 'Select_District')"
   ]
  },
  {
   "cell_type": "code",
   "execution_count": 443,
   "id": "9fb1ebaf",
   "metadata": {},
   "outputs": [],
   "source": [
    "# replacing nan by 'Select_Country' in 'Country'\n",
    "\n",
    "data['Country'] = data['Country'].replace(np.nan, 'Select_Country')"
   ]
  },
  {
   "cell_type": "code",
   "execution_count": 444,
   "id": "2937fd44",
   "metadata": {},
   "outputs": [],
   "source": [
    "# replacing nan by 'Select_EB' in 'Education Background'\n",
    "\n",
    "data['Education Background'] = data['Education Background'].replace(np.nan, 'Select_EB')"
   ]
  },
  {
   "cell_type": "code",
   "execution_count": 445,
   "id": "91426e8c",
   "metadata": {},
   "outputs": [],
   "source": [
    "# replacing nan by 'Select_PE' in 'Professional Engagement'\n",
    "\n",
    "data['Professional Engagement'] = data['Professional Engagement'].replace(np.nan, 'Select_PE')"
   ]
  },
  {
   "cell_type": "code",
   "execution_count": 446,
   "id": "abad75a8",
   "metadata": {},
   "outputs": [],
   "source": [
    "data['Gender'] = data['Gender'].replace(np.nan, 'Select_G')"
   ]
  },
  {
   "cell_type": "code",
   "execution_count": 447,
   "id": "e52d5d45",
   "metadata": {},
   "outputs": [],
   "source": [
    "# replacing nan by 'Select_Status' in 'Status'\n",
    "\n",
    "data['Status'] = data['Status'].replace(np.nan, 'Select_Status')"
   ]
  },
  {
   "cell_type": "code",
   "execution_count": 448,
   "id": "d885c976",
   "metadata": {},
   "outputs": [],
   "source": [
    "# replacing nan by 'Select_AC' in 'Actual Concentration'\n",
    "\n",
    "data['Actual Concentration'] = data['Actual Concentration'].replace(np.nan, 'Select_AC')"
   ]
  },
  {
   "cell_type": "code",
   "execution_count": 449,
   "id": "17d80fab",
   "metadata": {},
   "outputs": [],
   "source": [
    "# replacing nan by 'Select_EY' in 'Enrollment Year'\n",
    "\n",
    "data['Enrollment Year'] = data['Enrollment Year'].replace(np.nan, 'Select_EY')"
   ]
  },
  {
   "cell_type": "markdown",
   "id": "ac134479",
   "metadata": {},
   "source": [
    "#### Cleaning and Structuring Variable : Mothers Profession"
   ]
  },
  {
   "cell_type": "code",
   "execution_count": 450,
   "id": "1491e87b",
   "metadata": {},
   "outputs": [
    {
     "data": {
      "text/plain": [
       "Housewife             234\n",
       "House wife             73\n",
       "Teacher                36\n",
       "House Wife             34\n",
       "Housewife              34\n",
       "                     ... \n",
       "Passed away             1\n",
       "entrepreneur            1\n",
       "Reception-Incharge      1\n",
       "BUSINESS WOMEN          1\n",
       "Administrator           1\n",
       "Name: Mothers Profession, Length: 224, dtype: int64"
      ]
     },
     "execution_count": 450,
     "metadata": {},
     "output_type": "execute_result"
    }
   ],
   "source": [
    "data['Mothers Profession'].value_counts()"
   ]
  },
  {
   "cell_type": "code",
   "execution_count": 451,
   "id": "be1d2894",
   "metadata": {},
   "outputs": [],
   "source": [
    "# Keywords to look for\n",
    "keywords = ['house', 'huse', 'home', 'hou','hoise']\n",
    "\n",
    "# Replace any value containing the keywords with 'HouseWife'\n",
    "data['Mothers Profession'] = data['Mothers Profession'].apply(lambda x: 'HouseWife' if any(keyword in str(x).lower() for keyword in keywords) else x)\n",
    "\n",
    "# Now all values containing any of the specified keywords in the 'Mothers Profession' column will be replaced with 'HouseWife'\n"
   ]
  },
  {
   "cell_type": "code",
   "execution_count": 452,
   "id": "5c7b213c",
   "metadata": {},
   "outputs": [],
   "source": [
    "# Keywords to look for\n",
    "keywords = ['business', 'entreprenuer', 'handicraft','same as mine', 'manger','retailer ','entrepreneur','pharmasicts','job', 'founder','own', 'wholesale' ,'self','entrepreneur','shopkeeper', 'service','studio']\n",
    "\n",
    "# Replace any value containing the keywords with 'HouseWife'\n",
    "data['Mothers Profession'] = data['Mothers Profession'].apply(lambda x: 'Businesswoman' if any(keyword in str(x).lower() for keyword in keywords) else x)\n",
    "\n",
    "# Now all values containing any of the specified keywords in the 'Mothers Profession' column will be replaced with 'HouseWife'\n"
   ]
  },
  {
   "cell_type": "code",
   "execution_count": 453,
   "id": "139493c7",
   "metadata": {},
   "outputs": [],
   "source": [
    "# Keywords to look for\n",
    "keywords = ['employee','worker','teacher','md','beautician', 'principle','reception','investor', 'ngo', 'education', 'ingo','abroad','broker', 'banker', 'manager','director','freelancer','farmer','beauty','front','employed','health','artist','cabin','physiotherapist','student','phd','journalist','yoga','lancer','lekhapadi','engineer','lecturer','radiologist','doctor','writer','farming','admin','facilitator','accountant','lawyer','nurse','manufacturing','supervisor','sales','assistant','educator','agriculturer','principal','insurance','hospitality','service','foreign','trainer','organization','designer','ceo','social','cafeteria','architect','manager','tours','finance','bank','pilot','dermatologist']\n",
    "\n",
    "# Replace any value containing the keywords with 'HouseWife'\n",
    "data['Mothers Profession'] = data['Mothers Profession'].apply(lambda x: 'Employee_Mother' if any(keyword in str(x).lower() for keyword in keywords) else x)\n",
    "\n",
    "# Now all values containing any of the specified keywords in the 'Mothers Profession' column will be replaced with 'HouseWife'"
   ]
  },
  {
   "cell_type": "code",
   "execution_count": 454,
   "id": "88c9c387",
   "metadata": {},
   "outputs": [],
   "source": [
    "# Keywords to look for\n",
    "keywords = ['government','human','police', 'office','handicraft','civil','mangerpharmasicts','servant','ministry','retired','retried']\n",
    "\n",
    "# Replace any value containing the keywords with 'HouseWife'\n",
    "data['Mothers Profession'] = data['Mothers Profession'].apply(lambda x: 'Government_Workers_Mother' if any(keyword in str(x).lower() for keyword in keywords) else x)\n",
    "\n",
    "# Now all values containing any of the specified keywords in the 'Mothers Profession' column will be replaced with 'HouseWife'"
   ]
  },
  {
   "cell_type": "code",
   "execution_count": 455,
   "id": "b4e6bc83",
   "metadata": {},
   "outputs": [],
   "source": [
    "# Keywords to look for\n",
    "keywords = ['passed','moment','expired','not','maggie','uma','pun','renu','gurung','durga','no']\n",
    "\n",
    "# Replace any value containing the keywords with 'HouseWife'\n",
    "data['Mothers Profession'] = data['Mothers Profession'].apply(lambda x: 'Select_MothersP' if any(keyword in str(x).lower() for keyword in keywords) else x)\n",
    "\n",
    "# Now all values containing any of the specified keywords in the 'Mothers Profession' column will be replaced with 'HouseWife'"
   ]
  },
  {
   "cell_type": "code",
   "execution_count": 456,
   "id": "d0e242bc",
   "metadata": {},
   "outputs": [],
   "source": [
    "data = data[data['Mothers Profession'] != 'N/a']"
   ]
  },
  {
   "cell_type": "code",
   "execution_count": 457,
   "id": "6bfd0327",
   "metadata": {},
   "outputs": [],
   "source": [
    "data = data[data['Mothers Profession'] != 'Na']"
   ]
  },
  {
   "cell_type": "code",
   "execution_count": 458,
   "id": "69c3f05e",
   "metadata": {},
   "outputs": [],
   "source": [
    "data = data[data['Mothers Profession'] != '-']"
   ]
  },
  {
   "cell_type": "code",
   "execution_count": 459,
   "id": "912d0c04",
   "metadata": {},
   "outputs": [],
   "source": [
    "data = data[data['Mothers Profession'] != '- ']"
   ]
  },
  {
   "cell_type": "code",
   "execution_count": 460,
   "id": "68926911",
   "metadata": {},
   "outputs": [],
   "source": [
    "data = data[data['Mothers Profession'] != '..']"
   ]
  },
  {
   "cell_type": "code",
   "execution_count": 461,
   "id": "5781ce55",
   "metadata": {},
   "outputs": [],
   "source": [
    "data = data[data['Mothers Profession'] != '........']"
   ]
  },
  {
   "cell_type": "code",
   "execution_count": 462,
   "id": "a6df3051",
   "metadata": {},
   "outputs": [],
   "source": [
    "data['Mothers Profession'] = data['Mothers Profession'].replace(np.nan, 'Select_MothersP')"
   ]
  },
  {
   "cell_type": "code",
   "execution_count": 463,
   "id": "acea7e59",
   "metadata": {},
   "outputs": [
    {
     "data": {
      "text/plain": [
       "Select_MothersP              706\n",
       "HouseWife                    493\n",
       "Employee_Mother              169\n",
       "Businesswoman                142\n",
       "Government_Workers_Mother     25\n",
       "Name: Mothers Profession, dtype: int64"
      ]
     },
     "execution_count": 463,
     "metadata": {},
     "output_type": "execute_result"
    }
   ],
   "source": [
    "data['Mothers Profession'].value_counts()"
   ]
  },
  {
   "cell_type": "markdown",
   "id": "a0e1a1fe",
   "metadata": {},
   "source": [
    "#### Cleaning and Structuring Variable : Fathers Profession"
   ]
  },
  {
   "cell_type": "code",
   "execution_count": 464,
   "id": "a1012fd0",
   "metadata": {},
   "outputs": [
    {
     "data": {
      "text/plain": [
       "Businessman                    118\n",
       "Business                        78\n",
       "Business man                    38\n",
       "Retired                         26\n",
       "Businessman                     20\n",
       "                              ... \n",
       "Executive Director               1\n",
       "Professor/ Advocate              1\n",
       "Head of Liaison Department       1\n",
       "Expired                          1\n",
       "Foreign Employee                 1\n",
       "Name: Fathers Profession, Length: 355, dtype: int64"
      ]
     },
     "execution_count": 464,
     "metadata": {},
     "output_type": "execute_result"
    }
   ],
   "source": [
    "data['Fathers Profession'].value_counts()"
   ]
  },
  {
   "cell_type": "code",
   "execution_count": 465,
   "id": "9c0e96e0",
   "metadata": {},
   "outputs": [],
   "source": [
    "# Keywords to look for\n",
    "keywords = ['business','retailer','buisness','bussiness','busniess','business owner','retail shop','bussinessman','wholesale trade of garment','business man','businessMan','buissnesman','business men','entreprenuer', 'retailer ','entrepreneur', 'founder','own','self','entrepreneur', 'service']\n",
    "\n",
    "# Replace any value containing the keywords with 'HouseWife'\n",
    "data['Fathers Profession'] = data['Fathers Profession'].apply(lambda x: 'Businessman' if any(keyword in str(x).lower() for keyword in keywords) else x)\n",
    "\n",
    "# Now all values containing any of the specified keywords in the 'Mothers Profession' column will be replaced with 'HouseWife'\n"
   ]
  },
  {
   "cell_type": "code",
   "execution_count": 466,
   "id": "c78f52ef",
   "metadata": {},
   "outputs": [],
   "source": [
    "# Keywords to look for\n",
    "keywords = ['government','political','inspector','cpa','politicain','human','diplomat','retirement','nepal','govt','regional','goverenment','gov','politician','army','police', 'office','handicraft','civil','mangerpharmasicts','servant','ministry','retired','retried']\n",
    "\n",
    "# Replace any value containing the keywords with 'HouseWife'\n",
    "data['Fathers Profession'] = data['Fathers Profession'].apply(lambda x: 'Government_Workers_Father' if any(keyword in str(x).lower() for keyword in keywords) else x)\n",
    "\n",
    "# Now all values containing any of the specified keywords in the 'Mothers Profession' column will be replaced with 'HouseWife'"
   ]
  },
  {
   "cell_type": "code",
   "execution_count": 467,
   "id": "252b4bc2",
   "metadata": {},
   "outputs": [],
   "source": [
    "# Keywords to look for\n",
    "keywords = ['employee','peon','factory','operation','export','advisor','credit','teacher','md','cao','cook','dentist','plumber','uber','auditor','operator','management','guide','construction','research','conservationist','bureaucratic','electrician','referee','food','consultant','agriculture','commisner','chef','professor','hotelier','musician','proprietor','contractor','shopkeeper','share','pharmacist','project','department','job','state','instructor','restaurateur','ceramists','microbiologist','seivice','judge','advocate','seaman','astrologer','driver','mechanic','mechanics','media','security','stock','plastic','travel','driving','editor','guide''credit','wash','beautician', 'principle','reception','investor', 'ngo', 'education', 'ingo','abroad','broker', 'banker', 'manager','director','freelancer','farmer','beauty','front','employed','health','artist','cabin','physiotherapist','student','phd','journalist','yoga','lancer','lekhapadi','engineer','lecturer','radiologist','doctor','writer','farming','admin','facilitator','accountant','lawyer','nurse','manufacturing','supervisor','sales','assistant','educator','agriculturer','principal','insurance','hospitality','service','foreign','trainer','organization','designer','ceo','social','cafeteria','architect','manager','tours','finance','bank','pilot','dermatologist']\n",
    "\n",
    "# Replace any value containing the keywords with 'HouseWife'\n",
    "data['Fathers Profession'] = data['Fathers Profession'].apply(lambda x: 'Employee_Father' if any(keyword in str(x).lower() for keyword in keywords) else x)\n",
    "\n",
    "# Now all values containing any of the specified keywords in the 'Mothers Profession' column will be replaced with 'HouseWife'"
   ]
  },
  {
   "cell_type": "code",
   "execution_count": 468,
   "id": "d40ed39d",
   "metadata": {},
   "outputs": [],
   "source": [
    "# Keywords to look for\n",
    "keywords = ['passed','available','expired','not','kansakar','deceased','have','malla','house','pass','uma','pun','renu','gurung','durga','no','rudra','shrestha','lookout','aboard','retarded']\n",
    "\n",
    "# Replace any value containing the keywords with 'HouseWife'\n",
    "data['Fathers Profession'] = data['Fathers Profession'].apply(lambda x: 'Select_FathersP' if any(keyword in str(x).lower() for keyword in keywords) else x)\n",
    "\n",
    "# Now all values containing any of the specified keywords in the 'Mothers Profession' column will be replaced with 'HouseWife'"
   ]
  },
  {
   "cell_type": "code",
   "execution_count": 469,
   "id": "bfbf3e8f",
   "metadata": {},
   "outputs": [],
   "source": [
    "data = data[data['Fathers Profession'] != 'nan']"
   ]
  },
  {
   "cell_type": "code",
   "execution_count": 470,
   "id": "3d71432c",
   "metadata": {},
   "outputs": [],
   "source": [
    "data = data[data['Fathers Profession'] != '****']"
   ]
  },
  {
   "cell_type": "code",
   "execution_count": 471,
   "id": "27d1f7dd",
   "metadata": {},
   "outputs": [],
   "source": [
    "data = data[data['Fathers Profession'] != 'Na']"
   ]
  },
  {
   "cell_type": "code",
   "execution_count": 472,
   "id": "4e0a6323",
   "metadata": {},
   "outputs": [],
   "source": [
    "data = data[data['Fathers Profession'] != 'na']"
   ]
  },
  {
   "cell_type": "code",
   "execution_count": 473,
   "id": "453baf4a",
   "metadata": {},
   "outputs": [],
   "source": [
    "data = data[data['Fathers Profession'] != '-']"
   ]
  },
  {
   "cell_type": "code",
   "execution_count": 474,
   "id": "ffbca522",
   "metadata": {},
   "outputs": [
    {
     "data": {
      "text/plain": [
       "Businessman                  447\n",
       "Employee_Father              221\n",
       "Government_Workers_Father    153\n",
       "Select_FathersP               25\n",
       "Name: Fathers Profession, dtype: int64"
      ]
     },
     "execution_count": 474,
     "metadata": {},
     "output_type": "execute_result"
    }
   ],
   "source": [
    "data['Fathers Profession'].value_counts()"
   ]
  },
  {
   "cell_type": "code",
   "execution_count": 475,
   "id": "32f218b5",
   "metadata": {},
   "outputs": [
    {
     "data": {
      "text/plain": [
       "array(['Businessman', 'Employee_Father', nan, 'Government_Workers_Father',\n",
       "       'Select_FathersP'], dtype=object)"
      ]
     },
     "execution_count": 475,
     "metadata": {},
     "output_type": "execute_result"
    }
   ],
   "source": [
    "unique_values = data['Fathers Profession'].unique()\n",
    "unique_values"
   ]
  },
  {
   "cell_type": "code",
   "execution_count": 476,
   "id": "5eb57611",
   "metadata": {},
   "outputs": [],
   "source": [
    "data['Fathers Profession'] = data['Fathers Profession'].replace(np.nan, 'Select_FathersP')"
   ]
  },
  {
   "cell_type": "code",
   "execution_count": 477,
   "id": "54528dff",
   "metadata": {
    "scrolled": true
   },
   "outputs": [
    {
     "data": {
      "text/plain": [
       "Program                    0.0\n",
       "Enrollment Year            0.0\n",
       "Gender                     0.0\n",
       "District                   0.0\n",
       "Country                    0.0\n",
       "Education Background       0.0\n",
       "GPA                        0.0\n",
       "Professional Engagement    0.0\n",
       "Mothers Profession         0.0\n",
       "Fathers Profession         0.0\n",
       "Status                     0.0\n",
       "Actual Concentration       0.0\n",
       "dtype: float64"
      ]
     },
     "execution_count": 477,
     "metadata": {},
     "output_type": "execute_result"
    }
   ],
   "source": [
    "# checking the percentage of missing values \n",
    "\n",
    "round(data.isnull().sum()/len(data),2)"
   ]
  },
  {
   "cell_type": "markdown",
   "id": "8bcf66a4",
   "metadata": {},
   "source": [
    "#### Cleaning and Structuring Variable : Country"
   ]
  },
  {
   "cell_type": "code",
   "execution_count": 478,
   "id": "898265bb",
   "metadata": {},
   "outputs": [
    {
     "data": {
      "text/plain": [
       "Nepal             832\n",
       "Select_Country    689\n",
       "India               4\n",
       "India               4\n",
       "Name: Country, dtype: int64"
      ]
     },
     "execution_count": 478,
     "metadata": {},
     "output_type": "execute_result"
    }
   ],
   "source": [
    "data['Country'].value_counts()"
   ]
  },
  {
   "cell_type": "code",
   "execution_count": 479,
   "id": "0686e45f",
   "metadata": {},
   "outputs": [
    {
     "data": {
      "text/plain": [
       "array(['Nepal', 'India', 'Select_Country', 'India '], dtype=object)"
      ]
     },
     "execution_count": 479,
     "metadata": {},
     "output_type": "execute_result"
    }
   ],
   "source": [
    "unique_values = data['Country'].unique()\n",
    "unique_values"
   ]
  },
  {
   "cell_type": "code",
   "execution_count": 480,
   "id": "a5de8afa",
   "metadata": {},
   "outputs": [],
   "source": [
    "data['Country'] = data['Country'].replace(['Nepal '], 'Nepal')"
   ]
  },
  {
   "cell_type": "code",
   "execution_count": 481,
   "id": "d55475dd",
   "metadata": {},
   "outputs": [],
   "source": [
    "data['Country'] = data['Country'].replace(['India '], 'India')"
   ]
  },
  {
   "cell_type": "code",
   "execution_count": 482,
   "id": "a0b72f99",
   "metadata": {},
   "outputs": [
    {
     "data": {
      "text/plain": [
       "Nepal             832\n",
       "Select_Country    689\n",
       "India               8\n",
       "Name: Country, dtype: int64"
      ]
     },
     "execution_count": 482,
     "metadata": {},
     "output_type": "execute_result"
    }
   ],
   "source": [
    "data['Country'].value_counts()"
   ]
  },
  {
   "cell_type": "code",
   "execution_count": 483,
   "id": "da472987",
   "metadata": {},
   "outputs": [],
   "source": [
    "data['Country'] = data['Country'].replace('India', 'Select_Country')"
   ]
  },
  {
   "cell_type": "code",
   "execution_count": 484,
   "id": "9a11eabe",
   "metadata": {},
   "outputs": [],
   "source": [
    "data['Country'] = data['Country'].replace('Singapore', 'Select_Country')"
   ]
  },
  {
   "cell_type": "code",
   "execution_count": 485,
   "id": "8be8df86",
   "metadata": {},
   "outputs": [],
   "source": [
    "data['Country'] = data['Country'].replace('USA', 'Select_Country')"
   ]
  },
  {
   "cell_type": "code",
   "execution_count": 486,
   "id": "a4273122",
   "metadata": {},
   "outputs": [
    {
     "data": {
      "text/plain": [
       "Nepal             832\n",
       "Select_Country    697\n",
       "Name: Country, dtype: int64"
      ]
     },
     "execution_count": 486,
     "metadata": {},
     "output_type": "execute_result"
    }
   ],
   "source": [
    "data['Country'].value_counts()"
   ]
  },
  {
   "cell_type": "markdown",
   "id": "eaa6ea8c",
   "metadata": {},
   "source": [
    "#### Cleaning and Structuring Variable : Professional Engagement"
   ]
  },
  {
   "cell_type": "code",
   "execution_count": 487,
   "id": "e13eb0ce",
   "metadata": {},
   "outputs": [
    {
     "data": {
      "text/plain": [
       "Select_PE       535\n",
       "Unemployed      488\n",
       "Employed        424\n",
       "Entrepreneur     81\n",
       "Employed          1\n",
       "Name: Professional Engagement, dtype: int64"
      ]
     },
     "execution_count": 487,
     "metadata": {},
     "output_type": "execute_result"
    }
   ],
   "source": [
    "data['Professional Engagement'].value_counts()"
   ]
  },
  {
   "cell_type": "code",
   "execution_count": 488,
   "id": "100740bc",
   "metadata": {},
   "outputs": [],
   "source": [
    "data['Professional Engagement'] = data['Professional Engagement'].replace(['Entrepreneur'], 'PE_Entrepreneur')"
   ]
  },
  {
   "cell_type": "code",
   "execution_count": 489,
   "id": "2616b590",
   "metadata": {},
   "outputs": [],
   "source": [
    "data['Professional Engagement'] = data['Professional Engagement'].replace(['Unemployed'], 'PE_Unemployed')"
   ]
  },
  {
   "cell_type": "code",
   "execution_count": 490,
   "id": "a9cfc18b",
   "metadata": {},
   "outputs": [],
   "source": [
    "data['Professional Engagement'] = data['Professional Engagement'].replace(['Employed  '], 'Employed')"
   ]
  },
  {
   "cell_type": "code",
   "execution_count": 491,
   "id": "3042c78e",
   "metadata": {},
   "outputs": [],
   "source": [
    "data['Professional Engagement'] = data['Professional Engagement'].replace(['Employed'], 'PE_Employed')"
   ]
  },
  {
   "cell_type": "code",
   "execution_count": 492,
   "id": "dd5c43af",
   "metadata": {},
   "outputs": [
    {
     "data": {
      "text/plain": [
       "Select_PE          535\n",
       "PE_Unemployed      488\n",
       "PE_Employed        425\n",
       "PE_Entrepreneur     81\n",
       "Name: Professional Engagement, dtype: int64"
      ]
     },
     "execution_count": 492,
     "metadata": {},
     "output_type": "execute_result"
    }
   ],
   "source": [
    "data['Professional Engagement'].value_counts()"
   ]
  },
  {
   "cell_type": "markdown",
   "id": "9be780bf",
   "metadata": {},
   "source": [
    "#### Cleaning and Structuring Variable : Program"
   ]
  },
  {
   "cell_type": "code",
   "execution_count": 493,
   "id": "95b41d99",
   "metadata": {},
   "outputs": [
    {
     "data": {
      "text/plain": [
       "BBA      757\n",
       "MBA      658\n",
       "BSIT     102\n",
       "FALSE     12\n",
       "Name: Program, dtype: int64"
      ]
     },
     "execution_count": 493,
     "metadata": {},
     "output_type": "execute_result"
    }
   ],
   "source": [
    "data['Program'].value_counts()"
   ]
  },
  {
   "cell_type": "code",
   "execution_count": 494,
   "id": "0eb1702c",
   "metadata": {},
   "outputs": [],
   "source": [
    "data['Program'] = data['Program'].replace('FALSE', 'Select_P')"
   ]
  },
  {
   "cell_type": "code",
   "execution_count": 495,
   "id": "81833c71",
   "metadata": {},
   "outputs": [],
   "source": [
    "data['Program'] = data['Program'].replace(np.nan, 'Select_P')"
   ]
  },
  {
   "cell_type": "code",
   "execution_count": 496,
   "id": "a7c7d286",
   "metadata": {
    "scrolled": true
   },
   "outputs": [
    {
     "data": {
      "text/plain": [
       "BBA         757\n",
       "MBA         658\n",
       "BSIT        102\n",
       "Select_P     12\n",
       "Name: Program, dtype: int64"
      ]
     },
     "execution_count": 496,
     "metadata": {},
     "output_type": "execute_result"
    }
   ],
   "source": [
    "data['Program'].value_counts()"
   ]
  },
  {
   "cell_type": "markdown",
   "id": "cb8747ee",
   "metadata": {},
   "source": [
    "#### Cleaning and Structuring Variable : District"
   ]
  },
  {
   "cell_type": "code",
   "execution_count": 497,
   "id": "8ec64056",
   "metadata": {},
   "outputs": [
    {
     "data": {
      "text/plain": [
       "Kathmandu          550\n",
       "Select_District    223\n",
       "Lalitpur           137\n",
       "Bhaktapur           80\n",
       "Kavreplanchok       51\n",
       "                  ... \n",
       "lalitpur             1\n",
       "Darchula             1\n",
       "Dhangadhi            1\n",
       "Terhathum            1\n",
       "Salyan               1\n",
       "Name: District, Length: 75, dtype: int64"
      ]
     },
     "execution_count": 497,
     "metadata": {},
     "output_type": "execute_result"
    }
   ],
   "source": [
    "data['District'].value_counts()"
   ]
  },
  {
   "cell_type": "code",
   "execution_count": 498,
   "id": "b17e7546",
   "metadata": {},
   "outputs": [],
   "source": [
    "def group_low_value_counts(data, column_name, threshold=10):\n",
    "    \"\"\"\n",
    "    Group low-value counts in a column into an 'Others' category.\n",
    "\n",
    "    Parameters:\n",
    "        df (pandas DataFrame): The DataFrame containing the data.\n",
    "        column_name (str): The name of the column to process.\n",
    "        threshold (int): The threshold below which data will be grouped into 'Others'.\n",
    "                         Defaults to 100.\n",
    "\n",
    "    Returns:\n",
    "        pandas DataFrame: The updated DataFrame with 'Others' category.\n",
    "    \"\"\"\n",
    "    # Count the occurrences of each value in the column\n",
    "    value_counts = data[column_name].value_counts()\n",
    "\n",
    "    # Identify values with counts below the threshold\n",
    "    low_value_counts = value_counts[value_counts < threshold].index\n",
    "\n",
    "    # Replace those values with 'Others'\n",
    "    data.loc[data[column_name].isin(low_value_counts), column_name] = 'Other_Districts'\n",
    "\n",
    "    return data\n",
    "\n",
    "# Example usage:\n",
    "# Assuming your DataFrame is called 'data' and the column to process is 'category_column'\n",
    "data = group_low_value_counts(data, 'District', threshold=10)"
   ]
  },
  {
   "cell_type": "code",
   "execution_count": 499,
   "id": "5a23b571",
   "metadata": {},
   "outputs": [
    {
     "data": {
      "image/png": "[encoded data removed]",
      "text/plain": [
       "<Figure size 1000x400 with 1 Axes>"
      ]
     },
     "metadata": {},
     "output_type": "display_data"
    }
   ],
   "source": [
    "# visualizing the spread of data in 'Country' column\n",
    "\n",
    "plt.figure(figsize=(10,4))\n",
    "order=data['District'].value_counts().index\n",
    "sns.countplot(x='District', data=data, order=order)\n",
    "\n",
    "plt.show()"
   ]
  },
  {
   "cell_type": "code",
   "execution_count": 500,
   "id": "c221d416",
   "metadata": {},
   "outputs": [
    {
     "data": {
      "text/plain": [
       "Kathmandu          550\n",
       "Select_District    223\n",
       "Other_Districts    187\n",
       "Lalitpur           137\n",
       "Bhaktapur           80\n",
       "Kavreplanchok       51\n",
       "Jhapa               50\n",
       "Chitwan             24\n",
       "Dhading             19\n",
       "Morang              19\n",
       "Sunsari             18\n",
       "Nuwakot             18\n",
       "Kaski               17\n",
       "Kailali             16\n",
       "Rupandehi           15\n",
       "Dhanusa             14\n",
       "Kanchanpur          13\n",
       "Sarlahi             12\n",
       "Dang                12\n",
       "Syangja             12\n",
       "Dolkha              11\n",
       "Makwanpur           11\n",
       "Lamjung             10\n",
       "Gorkha              10\n",
       "Name: District, dtype: int64"
      ]
     },
     "execution_count": 500,
     "metadata": {},
     "output_type": "execute_result"
    }
   ],
   "source": [
    "data['District'].value_counts()"
   ]
  },
  {
   "cell_type": "code",
   "execution_count": 501,
   "id": "75c8fb4a",
   "metadata": {},
   "outputs": [],
   "source": [
    "data['District'] = data['District'].replace('Select_District', 'Other_Districts')"
   ]
  },
  {
   "cell_type": "code",
   "execution_count": 502,
   "id": "4685aa30",
   "metadata": {},
   "outputs": [
    {
     "data": {
      "text/plain": [
       "Kathmandu          550\n",
       "Other_Districts    410\n",
       "Lalitpur           137\n",
       "Bhaktapur           80\n",
       "Kavreplanchok       51\n",
       "Jhapa               50\n",
       "Chitwan             24\n",
       "Dhading             19\n",
       "Morang              19\n",
       "Nuwakot             18\n",
       "Sunsari             18\n",
       "Kaski               17\n",
       "Kailali             16\n",
       "Rupandehi           15\n",
       "Dhanusa             14\n",
       "Kanchanpur          13\n",
       "Dang                12\n",
       "Syangja             12\n",
       "Sarlahi             12\n",
       "Makwanpur           11\n",
       "Dolkha              11\n",
       "Lamjung             10\n",
       "Gorkha              10\n",
       "Name: District, dtype: int64"
      ]
     },
     "execution_count": 502,
     "metadata": {},
     "output_type": "execute_result"
    }
   ],
   "source": [
    "data['District'].value_counts()"
   ]
  },
  {
   "cell_type": "markdown",
   "id": "61c19e25",
   "metadata": {},
   "source": [
    "#### Cleaning and Structuring Variable : Education Background"
   ]
  },
  {
   "cell_type": "code",
   "execution_count": 503,
   "id": "be2fe9c1",
   "metadata": {},
   "outputs": [
    {
     "data": {
      "text/plain": [
       "Intermediate Level                          374\n",
       "Intermediate level                          165\n",
       "Bachelor of Business Administration         150\n",
       "Select_EB                                   145\n",
       "GED                                          62\n",
       "                                           ... \n",
       "BSc (Hons) Computing                          1\n",
       "Bachelor's in Information Management          1\n",
       "Bachelor of Business Admnistration            1\n",
       "Bachelors In Business Information System      1\n",
       "28.15                                         1\n",
       "Name: Education Background, Length: 246, dtype: int64"
      ]
     },
     "execution_count": 503,
     "metadata": {},
     "output_type": "execute_result"
    }
   ],
   "source": [
    "data['Education Background'].value_counts()"
   ]
  },
  {
   "cell_type": "code",
   "execution_count": 504,
   "id": "421769e1",
   "metadata": {},
   "outputs": [],
   "source": [
    "data = data[data['Education Background'] != '27']"
   ]
  },
  {
   "cell_type": "code",
   "execution_count": 505,
   "id": "045d6bba",
   "metadata": {},
   "outputs": [],
   "source": [
    "data = data[data['Education Background'] != '26.57']"
   ]
  },
  {
   "cell_type": "code",
   "execution_count": 506,
   "id": "a3ab0b3d",
   "metadata": {},
   "outputs": [],
   "source": [
    "data = data[data['Education Background'] != '2.5']"
   ]
  },
  {
   "cell_type": "code",
   "execution_count": 507,
   "id": "847c8f66",
   "metadata": {},
   "outputs": [],
   "source": [
    "data = data[data['Education Background'] != '28.13']"
   ]
  },
  {
   "cell_type": "code",
   "execution_count": 508,
   "id": "d4e27350",
   "metadata": {},
   "outputs": [],
   "source": [
    "data = data[data['Education Background'] != '23.45']"
   ]
  },
  {
   "cell_type": "code",
   "execution_count": 509,
   "id": "8e195b98",
   "metadata": {},
   "outputs": [],
   "source": [
    "data = data[data['Education Background'] != '30']"
   ]
  },
  {
   "cell_type": "code",
   "execution_count": 510,
   "id": "a3f55ff7",
   "metadata": {},
   "outputs": [],
   "source": [
    "data = data[data['Education Background'] != '28.15']"
   ]
  },
  {
   "cell_type": "code",
   "execution_count": 511,
   "id": "d728d6d1",
   "metadata": {},
   "outputs": [],
   "source": [
    "data = data[data['Education Background'] != '23 .45']"
   ]
  },
  {
   "cell_type": "code",
   "execution_count": 512,
   "id": "1e8bd85d",
   "metadata": {},
   "outputs": [],
   "source": [
    "def group_low_value_counts(data, column_name, threshold=10):\n",
    "    \"\"\"\n",
    "    Group low-value counts in a column into an 'Others' category.\n",
    "\n",
    "    Parameters:\n",
    "        df (pandas DataFrame): The DataFrame containing the data.\n",
    "        column_name (str): The name of the column to process.\n",
    "        threshold (int): The threshold below which data will be grouped into 'Others'.\n",
    "                         Defaults to 100.\n",
    "\n",
    "    Returns:\n",
    "        pandas DataFrame: The updated DataFrame with 'Others' category.\n",
    "    \"\"\"\n",
    "    # Count the occurrences of each value in the column\n",
    "    value_counts = data[column_name].value_counts()\n",
    "\n",
    "    # Identify values with counts below the threshold\n",
    "    low_value_counts = value_counts[value_counts < threshold].index\n",
    "\n",
    "    # Replace those values with 'Others'\n",
    "    data.loc[data[column_name].isin(low_value_counts), column_name] = 'Other_EB'\n",
    "\n",
    "    return data\n",
    "\n",
    "# Example usage:\n",
    "# Assuming your DataFrame is called 'data' and the column to process is 'category_column'\n",
    "data = group_low_value_counts(data, 'Education Background', threshold=10)"
   ]
  },
  {
   "cell_type": "code",
   "execution_count": 513,
   "id": "c47e3308",
   "metadata": {},
   "outputs": [
    {
     "data": {
      "text/plain": [
       "array(['Bachelor of Business Administration', 'Other_EB',\n",
       "       \"Bachelor's Degree in Business Studies\",\n",
       "       \"Bachelor's Degree in Computer Engineering\",\n",
       "       'Bachelor of Science in Agriculture',\n",
       "       'Bachelor of Business Administration in Banking and Insurance',\n",
       "       'Select_EB', 'Bachelor', 'GED', 'Intermediate level- Sceince ',\n",
       "       'Intermediate level- Commerce ', 'A level', 'Intermediate Level',\n",
       "       'GED-Testing', 'GCE A-Level', 'Intermediate level', 'A Level',\n",
       "       'Intermediate Level '], dtype=object)"
      ]
     },
     "execution_count": 513,
     "metadata": {},
     "output_type": "execute_result"
    }
   ],
   "source": [
    "unique_values = data['Education Background'].unique()\n",
    "unique_values"
   ]
  },
  {
   "cell_type": "code",
   "execution_count": 514,
   "id": "8c90f30b",
   "metadata": {},
   "outputs": [
    {
     "data": {
      "image/png": "[encoded data removed]",
      "text/plain": [
       "<Figure size 1000x400 with 1 Axes>"
      ]
     },
     "metadata": {},
     "output_type": "display_data"
    }
   ],
   "source": [
    "# visualizing the spread of data in 'Country' column\n",
    "\n",
    "plt.figure(figsize=(10,4))\n",
    "order=data['Education Background'].value_counts().index\n",
    "sns.countplot(x='Education Background', data=data, order=order)\n",
    "\n",
    "plt.show()"
   ]
  },
  {
   "cell_type": "code",
   "execution_count": 515,
   "id": "6cfc06a6",
   "metadata": {},
   "outputs": [
    {
     "data": {
      "text/plain": [
       "Intermediate Level                                              374\n",
       "Other_EB                                                        364\n",
       "Intermediate level                                              165\n",
       "Bachelor of Business Administration                             150\n",
       "Select_EB                                                       145\n",
       "GED                                                              62\n",
       "Intermediate level- Commerce                                     44\n",
       "Bachelor's Degree in Business Studies                            40\n",
       "A Level                                                          29\n",
       "A level                                                          24\n",
       "Bachelor                                                         22\n",
       "GCE A-Level                                                      17\n",
       "Bachelor of Business Administration in Banking and Insurance     13\n",
       "Intermediate level- Sceince                                      12\n",
       "Bachelor of Science in Agriculture                               12\n",
       "Intermediate Level                                               12\n",
       "GED-Testing                                                      10\n",
       "Bachelor's Degree in Computer Engineering                        10\n",
       "Name: Education Background, dtype: int64"
      ]
     },
     "execution_count": 515,
     "metadata": {},
     "output_type": "execute_result"
    }
   ],
   "source": [
    "data['Education Background'].value_counts()"
   ]
  },
  {
   "cell_type": "markdown",
   "id": "53ae7293",
   "metadata": {},
   "source": [
    "#### Cleaning and Structuring Variable : Status"
   ]
  },
  {
   "cell_type": "code",
   "execution_count": 516,
   "id": "52e3daa2",
   "metadata": {},
   "outputs": [
    {
     "data": {
      "text/plain": [
       "Graduate                 687\n",
       "Running                  433\n",
       "Withdrawn                287\n",
       "Select_Status             55\n",
       "Readmission-Withdrawn     20\n",
       "Readmission-Running       16\n",
       "Readmission- Graduate      7\n",
       "Name: Status, dtype: int64"
      ]
     },
     "execution_count": 516,
     "metadata": {},
     "output_type": "execute_result"
    }
   ],
   "source": [
    "data['Status'].value_counts()"
   ]
  },
  {
   "cell_type": "code",
   "execution_count": 517,
   "id": "98691d4b",
   "metadata": {},
   "outputs": [],
   "source": [
    "# putting the values with less than 100 occurences in one category - other\n",
    "\n",
    "lis_ls = ['Readmission-Withdrawn','Readmission-Running','Readmission- Graduate']\n",
    "\n",
    "data['Status'] = data['Status'].apply(lambda x : 'Select_Status' if x in lis_ls else x)\n"
   ]
  },
  {
   "cell_type": "code",
   "execution_count": 518,
   "id": "e6ba813c",
   "metadata": {},
   "outputs": [
    {
     "data": {
      "text/plain": [
       "Graduate         687\n",
       "Running          433\n",
       "Withdrawn        287\n",
       "Select_Status     98\n",
       "Name: Status, dtype: int64"
      ]
     },
     "execution_count": 518,
     "metadata": {},
     "output_type": "execute_result"
    }
   ],
   "source": [
    "data['Status'].value_counts()"
   ]
  },
  {
   "cell_type": "markdown",
   "id": "f448ee8e",
   "metadata": {},
   "source": [
    "#### Cleaning and Structuring Variable : Actual Concentration"
   ]
  },
  {
   "cell_type": "code",
   "execution_count": 519,
   "id": "b7eb4a9b",
   "metadata": {},
   "outputs": [
    {
     "data": {
      "text/plain": [
       "Select_AC                            290\n",
       "No Concentration                     264\n",
       "Entrepreneurship                     217\n",
       "Human Resources Management           144\n",
       "Marketing Management                 137\n",
       "Financial Management                 122\n",
       "Digital Marketing                     70\n",
       "Pending                               57\n",
       "Technology and Innovation             51\n",
       "Agribusiness Management               34\n",
       "Nonprofit Management                  26\n",
       "Investment and Economics              24\n",
       "Digital Marketing                     11\n",
       "Investment & Economics                 9\n",
       "Data Analytics                         8\n",
       "Dual (Entrepreneurship & HRM)          7\n",
       "Dual (Entrepreneurship & Finance)      6\n",
       "Financial Management                   6\n",
       "Dual (Marketing and HRM)               6\n",
       "Dual (Finance & Marketing)             4\n",
       "Dual (Finance & HRM)                   3\n",
       "Applied Art and Design                 3\n",
       "Dual (Marketing & HRM)                 3\n",
       "Dual ( Marketing and Finance)          1\n",
       "Applied Art and Design                 1\n",
       "Human Resource Management              1\n",
       "Name: Actual Concentration, dtype: int64"
      ]
     },
     "execution_count": 519,
     "metadata": {},
     "output_type": "execute_result"
    }
   ],
   "source": [
    "data['Actual Concentration'].value_counts()"
   ]
  },
  {
   "cell_type": "code",
   "execution_count": 520,
   "id": "e6172adc",
   "metadata": {},
   "outputs": [],
   "source": [
    "def group_low_value_counts(data, column_name, threshold=10):\n",
    "    \"\"\"\n",
    "    Group low-value counts in a column into an 'Others' category.\n",
    "\n",
    "    Parameters:\n",
    "        df (pandas DataFrame): The DataFrame containing the data.\n",
    "        column_name (str): The name of the column to process.\n",
    "        threshold (int): The threshold below which data will be grouped into 'Others'.\n",
    "                         Defaults to 100.\n",
    "\n",
    "    Returns:\n",
    "        pandas DataFrame: The updated DataFrame with 'Others' category.\n",
    "    \"\"\"\n",
    "    # Count the occurrences of each value in the column\n",
    "    value_counts = data[column_name].value_counts()\n",
    "\n",
    "    # Identify values with counts below the threshold\n",
    "    low_value_counts = value_counts[value_counts < threshold].index\n",
    "\n",
    "    # Replace those values with 'Others'\n",
    "    data.loc[data[column_name].isin(low_value_counts), column_name] = 'Other_AC'\n",
    "\n",
    "    return data\n",
    "\n",
    "# Example usage:\n",
    "# Assuming your DataFrame is called 'data' and the column to process is 'category_column'\n",
    "data = group_low_value_counts(data, 'Actual Concentration', threshold=10)"
   ]
  },
  {
   "cell_type": "code",
   "execution_count": 521,
   "id": "558500fa",
   "metadata": {},
   "outputs": [
    {
     "data": {
      "text/plain": [
       "Select_AC                      290\n",
       "No Concentration               264\n",
       "Entrepreneurship               217\n",
       "Human Resources Management     144\n",
       "Marketing Management           137\n",
       "Financial Management           122\n",
       "Digital Marketing               70\n",
       "Other_AC                        58\n",
       "Pending                         57\n",
       "Technology and Innovation       51\n",
       "Agribusiness Management         34\n",
       "Nonprofit Management            26\n",
       "Investment and Economics        24\n",
       "Digital Marketing               11\n",
       "Name: Actual Concentration, dtype: int64"
      ]
     },
     "execution_count": 521,
     "metadata": {},
     "output_type": "execute_result"
    }
   ],
   "source": [
    "data['Actual Concentration'].value_counts()"
   ]
  },
  {
   "cell_type": "markdown",
   "id": "a55ecef5",
   "metadata": {},
   "source": [
    "#### Cleaning and Structuring Variable : GPA"
   ]
  },
  {
   "cell_type": "code",
   "execution_count": 522,
   "id": "aae144e8",
   "metadata": {},
   "outputs": [
    {
     "data": {
      "text/plain": [
       "array(['3.41', '3.08', '2.86', '2.99', '2.6', '2.52', '2.81', '2.21',\n",
       "       '3.6', '0.3757', '3.11', '0.71', '0.674', '0.512', '0.6', '3.31',\n",
       "       '52.65', '3.64', '3.76', '3.61', '69.38', '69.33', '3.65', '83.67',\n",
       "       '2.61', '44.05', '65.65', '2.92', '2.41', '2.98', '2.79', '8.07',\n",
       "       '3.9', '40.86', '47.45', '71.24', '2.65', '2.85', '68.41', '2.82',\n",
       "       '3.12', '2.58', '3.07', '5.6', '2.51', '2.63', '68.43', '2720',\n",
       "       '2.55', '8.2', '3.53', '3.27', '52.64', '62.75', '48.3', '2.62',\n",
       "       '76.1', '2.8', '70.9', '61', '59', '3.5', '77', '55', '80.4', '57',\n",
       "       '70.1', '56', '61.1', '60', '74.8', '67.5', '2.5', '3.02', '74.1',\n",
       "       '57.8', '74.9', '5.1', '74.7', '59.1', '-2.5', '65.7', '72.7',\n",
       "       '85.4', '72.8', '73.1', '78', '73.4', '71.9', '49.2', '73',\n",
       "       '63.56', '62.1', '27', '81', '78.9', '69.4', '70.2', '68.6', '74',\n",
       "       '62', '68.5', '48.2', '70.89', '70.4', '59.6', '58.2', '76',\n",
       "       '56.6', '84', '54', '5.3', '69', '60.8', '56.5', '64.5', '52',\n",
       "       '54.68', '66', '75.8', '50.6', '63', '58.1', '64', '53.6', '6.3',\n",
       "       '71.7', '50', '52.8', '3', '52.5', '51', '70.8', '67.7', '1', '70',\n",
       "       '66.8', '44.21', '44', '78.4', '71.5', '88.02', '2.54', '68.7',\n",
       "       '63.3', '61.6', '58.7', '68.2', '56.8', '60.3', '87', '59.9',\n",
       "       '61.2', '77.7', '56.2', '86.25', '72', '75', '47', '59.2', '69.2',\n",
       "       '81.1', '64.1', '68.8', '60.08', '44.1', '64.9', '2.09', '75.9',\n",
       "       '65.66', '75.6', '55.7', '49.9', '2', '67.3', '48.93', '65',\n",
       "       '59.8', '80.8', '59.5', '67.9', '65.3', '61.8', '59.3', '53',\n",
       "       '60.6', '63.5', '55.6', '62.4', '57.1', '61.3', '77.1', '80',\n",
       "       '62.3', '65.6', '78.3', '73.04', '77.52', '54.3', '61.87', '78.5',\n",
       "       '77.5', '91.4', '54.7', '55.4', '33', '67', '52.3', '86', '58',\n",
       "       '80.2', '61.13', '67.49', '3.87', '60.9', '7', '0.599', '70.6',\n",
       "       '65.8', '0.503', '73.7', '0.75', '81.4', '0.61', '0.654', '0.5808',\n",
       "       '0.683', '0.723', '73.38', '66.2', '0.53', '58.6', '0.72', '0.702',\n",
       "       '0.57', '0.518', '0.601', '52.08', '68', '58.9', '56.55', '2.77',\n",
       "       '2.35', '2.37', '3.14', '3.55', '3.7', '3.29', '3.73', '3.25',\n",
       "       '67.24', '2.32', '3.48', '3.04', '3.38', '2.36', '69.75', '51.5',\n",
       "       '72.17', '58.08', '42.71', '46.3', '3.15', '53.45', '3.2', '3.21',\n",
       "       '75.86', '76.17', '3.63', '2.66', '48.83', '74.33', '3.66',\n",
       "       '53.55', '2.95', '3.24', '3.09', '8.38', '3.03', '3.28', '54.65',\n",
       "       '58.79', '2.74', '49.29', '2.4', '3.58', '7.28', '50.9', '78.07',\n",
       "       '3.3', '3.62', '6.63', '257', '73.26', '44.64', '46.45', '3.568',\n",
       "       '53.21', '46.2', '6.857', '51.65', '3.26', '58.71', '3.72',\n",
       "       '63.29', '51.75', '54.1', '47.71', '54.25', '3.54', '6.419',\n",
       "       '57.64', '2.27', '3.32', '165', '3.23', '3054', '59.29', '55.65',\n",
       "       '57.17', 'A', '3.36', '3.06', '2.29', '76.45', '77.42', '47.21',\n",
       "       '50.8', '3.01', '3.93', '70.65', '2.64', '3.45', '48.14', '66.93',\n",
       "       '62.64', '65.27', '3.22', '2.72', '72.22', '43.6', '3.635', '8.08',\n",
       "       '7.81', '44.15', '44.85', '6.85', '6.82', '66.67', '4.9', '69.17',\n",
       "       '69.97', '3.16', '3.05', '64.26', '42.29', '3.56', '60.11', '3.37',\n",
       "       '3.69', '3.57', '81.12', '2.97', '72.3', '2.94', '43.14', '45.75',\n",
       "       '7.62', '7.73', '7.726', '8.23', '3.47', '62.72', '41.57', '7.07',\n",
       "       '52.93', '47.9', '2.75', '3.85', '2.93', '8.92', '7.04', '47.75',\n",
       "       '207', '231', '360', '183', '120', '132', '148', '176', '137',\n",
       "       '126', '220', '190', '330', '129', '123', '166', '196', '144',\n",
       "       '185', '169', '200', '4', '2.43', '3.88', '2.89', '3.33', '3.34',\n",
       "       '2.78', '3.68', '2.67', '3.13', '2.57', '5.47', '66.64', '9.54',\n",
       "       '2.69', '3.78', '3.51', '2.83', '2.53', '3.715', '3.4', '2.7',\n",
       "       '2.91', '46.15', '3.1', '2.87', '66.14', '77.95', '2.73', '72.5',\n",
       "       '0.7422', '9.24', '0.44', '508', '0.501', '0.832', '0.604', '0.66',\n",
       "       '609', '0.824', '0.81', '0.73', '627', '656', '0.65', '0.448',\n",
       "       '0.87', '73.875', '81.5', '2.08', '81.75', '76.25', '2.44', '53.5',\n",
       "       '6.5', '23.45', '2.39', '3.97', '2.13', '2.3', '2.26', '3.71',\n",
       "       '3.84', '2.12', '3.83', '2.96', '2.23', '2.03', '2.68', '2.19',\n",
       "       '2.05', '2.48', '2.06', '2.28', '3.79', '2.15', '3.35', '3.18',\n",
       "       '3.43', '3.89', '2.17', '2.33', '1.67', '2.2', '3.99', '2.04',\n",
       "       '2.01', '3.75', '2.16', '3.74', '2.24', '3.17', '2.14', '2.18',\n",
       "       '2.88', '2.45', '3.92', '3.39', '2.11', '3.44', '3.19', '2.56',\n",
       "       '2.47', '2.22', '3.95', '2.42', '2.25', '3.82', '2.31', '3.52',\n",
       "       '2.1', '2.07', '3.42', '2.76', '2.38', '3.49', '3.8', '3.67',\n",
       "       '2.9', '3.77', '56.4', '604', '2.59', '49.6', '630', '629', '626',\n",
       "       '474', '599', '6', '601', '57.3', '65.5', '7.5', '67.4', '69.8',\n",
       "       '625', '60.2', '637', '620', '612', '613', '610', '54.9', '62.6',\n",
       "       '666', '668', '667', '622', '2.4 GPA', 'A3.44',\n",
       "       'Grade 11(3.28) grade 12(3.52)', '2.49', '2.34', 'GS', '586',\n",
       "       '0.67', '2.71', '56.1', '2.84', '598', '616', '55.9', '635', '4.5',\n",
       "       '67.167', '47.1', '3.46', '74.17', '30', '26.57', '4.3', '3.17/68',\n",
       "       '3.5-A level', '2.46', '1.81', '63.6', '0.6933', '632',\n",
       "       '3.5 credit', '3 Credit', '629 or 3.2', '83', '636', '5', '646',\n",
       "       '606', '628', '4.5 Crdit'], dtype=object)"
      ]
     },
     "execution_count": 522,
     "metadata": {},
     "output_type": "execute_result"
    }
   ],
   "source": [
    "unique_values = data['GPA'].unique()\n",
    "unique_values"
   ]
  },
  {
   "cell_type": "code",
   "execution_count": 523,
   "id": "095d11dc",
   "metadata": {},
   "outputs": [],
   "source": [
    "data['GPA'] = data['GPA'].replace('2.4 GPA', '2.4')"
   ]
  },
  {
   "cell_type": "code",
   "execution_count": 524,
   "id": "b4157187",
   "metadata": {},
   "outputs": [],
   "source": [
    "data['GPA'] = data['GPA'].replace('3.17/68', '3.17')"
   ]
  },
  {
   "cell_type": "code",
   "execution_count": 525,
   "id": "c2b37262",
   "metadata": {},
   "outputs": [],
   "source": [
    "data['GPA'] = data['GPA'].replace('Grade 11(3.28) grade 12(3.52)', '3.28')"
   ]
  },
  {
   "cell_type": "code",
   "execution_count": 526,
   "id": "02b30f04",
   "metadata": {},
   "outputs": [],
   "source": [
    "data['GPA'] = data['GPA'].replace('3.5-A level', '3.5')"
   ]
  },
  {
   "cell_type": "code",
   "execution_count": 527,
   "id": "3f0e578b",
   "metadata": {},
   "outputs": [],
   "source": [
    "data['GPA'] = data['GPA'].replace('3.5 credit', '3.5')"
   ]
  },
  {
   "cell_type": "code",
   "execution_count": 528,
   "id": "078329c1",
   "metadata": {},
   "outputs": [],
   "source": [
    "data['GPA'] = data['GPA'].replace('3 Credit', '3.0')"
   ]
  },
  {
   "cell_type": "code",
   "execution_count": 529,
   "id": "5d3cd577",
   "metadata": {},
   "outputs": [],
   "source": [
    "data['GPA'] = data['GPA'].replace('629 or 3.2', '3.2')"
   ]
  },
  {
   "cell_type": "code",
   "execution_count": 530,
   "id": "8b26cbf6",
   "metadata": {},
   "outputs": [],
   "source": [
    "data['GPA'] = data['GPA'].replace('4.5 Crdit', '4.5')"
   ]
  },
  {
   "cell_type": "code",
   "execution_count": 531,
   "id": "04bf0f4e",
   "metadata": {},
   "outputs": [],
   "source": [
    "data['GPA'] = data['GPA'].replace('A3.44', '3.44')"
   ]
  },
  {
   "cell_type": "code",
   "execution_count": 532,
   "id": "108e013b",
   "metadata": {},
   "outputs": [],
   "source": [
    "data['GPA'] = data['GPA'].replace('-2.5', '2.5')"
   ]
  },
  {
   "cell_type": "code",
   "execution_count": 533,
   "id": "bb32a443",
   "metadata": {},
   "outputs": [],
   "source": [
    "data = data[data['GPA'] != 'GS']"
   ]
  },
  {
   "cell_type": "code",
   "execution_count": 534,
   "id": "f402ccbb",
   "metadata": {},
   "outputs": [],
   "source": [
    "data = data[data['GPA'] != 'A']"
   ]
  },
  {
   "cell_type": "code",
   "execution_count": 535,
   "id": "843eb113",
   "metadata": {},
   "outputs": [
    {
     "data": {
      "text/html": [
       "<div>\n",
       "<style scoped>\n",
       "    .dataframe tbody tr th:only-of-type {\n",
       "        vertical-align: middle;\n",
       "    }\n",
       "\n",
       "    .dataframe tbody tr th {\n",
       "        vertical-align: top;\n",
       "    }\n",
       "\n",
       "    .dataframe thead th {\n",
       "        text-align: right;\n",
       "    }\n",
       "</style>\n",
       "<table border=\"1\" class=\"dataframe\">\n",
       "  <thead>\n",
       "    <tr style=\"text-align: right;\">\n",
       "      <th></th>\n",
       "      <th>Program</th>\n",
       "      <th>Enrollment Year</th>\n",
       "      <th>Gender</th>\n",
       "      <th>District</th>\n",
       "      <th>Country</th>\n",
       "      <th>Education Background</th>\n",
       "      <th>GPA</th>\n",
       "      <th>Professional Engagement</th>\n",
       "      <th>Mothers Profession</th>\n",
       "      <th>Fathers Profession</th>\n",
       "      <th>Status</th>\n",
       "      <th>Actual Concentration</th>\n",
       "    </tr>\n",
       "  </thead>\n",
       "  <tbody>\n",
       "    <tr>\n",
       "      <th>1</th>\n",
       "      <td>MBA</td>\n",
       "      <td>2019.0</td>\n",
       "      <td>Male</td>\n",
       "      <td>Kathmandu</td>\n",
       "      <td>Nepal</td>\n",
       "      <td>Bachelor of Business Administration</td>\n",
       "      <td>3.41</td>\n",
       "      <td>PE_Unemployed</td>\n",
       "      <td>Businesswoman</td>\n",
       "      <td>Businessman</td>\n",
       "      <td>Withdrawn</td>\n",
       "      <td>Pending</td>\n",
       "    </tr>\n",
       "    <tr>\n",
       "      <th>2</th>\n",
       "      <td>MBA</td>\n",
       "      <td>2019.0</td>\n",
       "      <td>Male</td>\n",
       "      <td>Kaski</td>\n",
       "      <td>Nepal</td>\n",
       "      <td>Bachelor of Business Administration</td>\n",
       "      <td>3.08</td>\n",
       "      <td>PE_Unemployed</td>\n",
       "      <td>HouseWife</td>\n",
       "      <td>Businessman</td>\n",
       "      <td>Graduate</td>\n",
       "      <td>Marketing Management</td>\n",
       "    </tr>\n",
       "    <tr>\n",
       "      <th>3</th>\n",
       "      <td>MBA</td>\n",
       "      <td>2019.0</td>\n",
       "      <td>Female</td>\n",
       "      <td>Other_Districts</td>\n",
       "      <td>Nepal</td>\n",
       "      <td>Bachelor of Business Administration</td>\n",
       "      <td>2.86</td>\n",
       "      <td>PE_Employed</td>\n",
       "      <td>Employee_Mother</td>\n",
       "      <td>Employee_Father</td>\n",
       "      <td>Graduate</td>\n",
       "      <td>Entrepreneurship</td>\n",
       "    </tr>\n",
       "    <tr>\n",
       "      <th>4</th>\n",
       "      <td>MBA</td>\n",
       "      <td>2019.0</td>\n",
       "      <td>Male</td>\n",
       "      <td>Kathmandu</td>\n",
       "      <td>Nepal</td>\n",
       "      <td>Bachelor of Business Administration</td>\n",
       "      <td>2.99</td>\n",
       "      <td>PE_Employed</td>\n",
       "      <td>HouseWife</td>\n",
       "      <td>Businessman</td>\n",
       "      <td>Withdrawn</td>\n",
       "      <td>Pending</td>\n",
       "    </tr>\n",
       "    <tr>\n",
       "      <th>5</th>\n",
       "      <td>MBA</td>\n",
       "      <td>2019.0</td>\n",
       "      <td>Male</td>\n",
       "      <td>Kathmandu</td>\n",
       "      <td>Nepal</td>\n",
       "      <td>Other_EB</td>\n",
       "      <td>2.6</td>\n",
       "      <td>PE_Employed</td>\n",
       "      <td>Select_MothersP</td>\n",
       "      <td>Select_FathersP</td>\n",
       "      <td>Withdrawn</td>\n",
       "      <td>Pending</td>\n",
       "    </tr>\n",
       "    <tr>\n",
       "      <th>...</th>\n",
       "      <td>...</td>\n",
       "      <td>...</td>\n",
       "      <td>...</td>\n",
       "      <td>...</td>\n",
       "      <td>...</td>\n",
       "      <td>...</td>\n",
       "      <td>...</td>\n",
       "      <td>...</td>\n",
       "      <td>...</td>\n",
       "      <td>...</td>\n",
       "      <td>...</td>\n",
       "      <td>...</td>\n",
       "    </tr>\n",
       "    <tr>\n",
       "      <th>2570</th>\n",
       "      <td>BSIT</td>\n",
       "      <td>2023.0</td>\n",
       "      <td>Male</td>\n",
       "      <td>Bhaktapur</td>\n",
       "      <td>Nepal</td>\n",
       "      <td>Intermediate Level</td>\n",
       "      <td>2.61</td>\n",
       "      <td>Select_PE</td>\n",
       "      <td>Select_MothersP</td>\n",
       "      <td>Select_FathersP</td>\n",
       "      <td>Running</td>\n",
       "      <td>Select_AC</td>\n",
       "    </tr>\n",
       "    <tr>\n",
       "      <th>2571</th>\n",
       "      <td>BSIT</td>\n",
       "      <td>2023.0</td>\n",
       "      <td>Male</td>\n",
       "      <td>Other_Districts</td>\n",
       "      <td>Nepal</td>\n",
       "      <td>A Level</td>\n",
       "      <td>3.5</td>\n",
       "      <td>Select_PE</td>\n",
       "      <td>Select_MothersP</td>\n",
       "      <td>Select_FathersP</td>\n",
       "      <td>Running</td>\n",
       "      <td>Select_AC</td>\n",
       "    </tr>\n",
       "    <tr>\n",
       "      <th>2572</th>\n",
       "      <td>BSIT</td>\n",
       "      <td>2023.0</td>\n",
       "      <td>Male</td>\n",
       "      <td>Kailali</td>\n",
       "      <td>Nepal</td>\n",
       "      <td>Intermediate Level</td>\n",
       "      <td>2.96</td>\n",
       "      <td>Select_PE</td>\n",
       "      <td>Select_MothersP</td>\n",
       "      <td>Select_FathersP</td>\n",
       "      <td>Running</td>\n",
       "      <td>Select_AC</td>\n",
       "    </tr>\n",
       "    <tr>\n",
       "      <th>2573</th>\n",
       "      <td>BSIT</td>\n",
       "      <td>2023.0</td>\n",
       "      <td>Male</td>\n",
       "      <td>Kailali</td>\n",
       "      <td>Nepal</td>\n",
       "      <td>Intermediate Level</td>\n",
       "      <td>3.53</td>\n",
       "      <td>Select_PE</td>\n",
       "      <td>Select_MothersP</td>\n",
       "      <td>Select_FathersP</td>\n",
       "      <td>Running</td>\n",
       "      <td>Select_AC</td>\n",
       "    </tr>\n",
       "    <tr>\n",
       "      <th>2574</th>\n",
       "      <td>BSIT</td>\n",
       "      <td>Select_EY</td>\n",
       "      <td>Female</td>\n",
       "      <td>Jhapa</td>\n",
       "      <td>Nepal</td>\n",
       "      <td>Intermediate Level</td>\n",
       "      <td>3.42</td>\n",
       "      <td>Select_PE</td>\n",
       "      <td>Select_MothersP</td>\n",
       "      <td>Select_FathersP</td>\n",
       "      <td>Running</td>\n",
       "      <td>Select_AC</td>\n",
       "    </tr>\n",
       "  </tbody>\n",
       "</table>\n",
       "<p>1503 rows × 12 columns</p>\n",
       "</div>"
      ],
      "text/plain": [
       "     Program Enrollment Year  Gender         District Country  \\\n",
       "1        MBA          2019.0    Male        Kathmandu   Nepal   \n",
       "2        MBA          2019.0    Male            Kaski   Nepal   \n",
       "3        MBA          2019.0  Female  Other_Districts   Nepal   \n",
       "4        MBA          2019.0    Male        Kathmandu   Nepal   \n",
       "5        MBA          2019.0    Male        Kathmandu   Nepal   \n",
       "...      ...             ...     ...              ...     ...   \n",
       "2570    BSIT          2023.0    Male        Bhaktapur   Nepal   \n",
       "2571    BSIT          2023.0    Male  Other_Districts   Nepal   \n",
       "2572    BSIT          2023.0    Male          Kailali   Nepal   \n",
       "2573    BSIT          2023.0    Male          Kailali   Nepal   \n",
       "2574    BSIT       Select_EY  Female            Jhapa   Nepal   \n",
       "\n",
       "                     Education Background   GPA Professional Engagement  \\\n",
       "1     Bachelor of Business Administration  3.41           PE_Unemployed   \n",
       "2     Bachelor of Business Administration  3.08           PE_Unemployed   \n",
       "3     Bachelor of Business Administration  2.86             PE_Employed   \n",
       "4     Bachelor of Business Administration  2.99             PE_Employed   \n",
       "5                                Other_EB   2.6             PE_Employed   \n",
       "...                                   ...   ...                     ...   \n",
       "2570                   Intermediate Level  2.61               Select_PE   \n",
       "2571                              A Level   3.5               Select_PE   \n",
       "2572                   Intermediate Level  2.96               Select_PE   \n",
       "2573                   Intermediate Level  3.53               Select_PE   \n",
       "2574                   Intermediate Level  3.42               Select_PE   \n",
       "\n",
       "     Mothers Profession Fathers Profession      Status  Actual Concentration  \n",
       "1         Businesswoman        Businessman  Withdrawn               Pending   \n",
       "2             HouseWife        Businessman    Graduate  Marketing Management  \n",
       "3       Employee_Mother    Employee_Father    Graduate     Entrepreneurship   \n",
       "4             HouseWife        Businessman  Withdrawn               Pending   \n",
       "5       Select_MothersP    Select_FathersP  Withdrawn               Pending   \n",
       "...                 ...                ...         ...                   ...  \n",
       "2570    Select_MothersP    Select_FathersP     Running             Select_AC  \n",
       "2571    Select_MothersP    Select_FathersP     Running             Select_AC  \n",
       "2572    Select_MothersP    Select_FathersP     Running             Select_AC  \n",
       "2573    Select_MothersP    Select_FathersP     Running             Select_AC  \n",
       "2574    Select_MothersP    Select_FathersP     Running             Select_AC  \n",
       "\n",
       "[1503 rows x 12 columns]"
      ]
     },
     "execution_count": 535,
     "metadata": {},
     "output_type": "execute_result"
    }
   ],
   "source": [
    "data"
   ]
  },
  {
   "cell_type": "code",
   "execution_count": 536,
   "id": "257131bd",
   "metadata": {},
   "outputs": [],
   "source": [
    "data_cleaned=data.reset_index(drop=True)"
   ]
  },
  {
   "cell_type": "code",
   "execution_count": 537,
   "id": "0de17670",
   "metadata": {},
   "outputs": [
    {
     "data": {
      "text/html": [
       "<div>\n",
       "<style scoped>\n",
       "    .dataframe tbody tr th:only-of-type {\n",
       "        vertical-align: middle;\n",
       "    }\n",
       "\n",
       "    .dataframe tbody tr th {\n",
       "        vertical-align: top;\n",
       "    }\n",
       "\n",
       "    .dataframe thead th {\n",
       "        text-align: right;\n",
       "    }\n",
       "</style>\n",
       "<table border=\"1\" class=\"dataframe\">\n",
       "  <thead>\n",
       "    <tr style=\"text-align: right;\">\n",
       "      <th></th>\n",
       "      <th>Program</th>\n",
       "      <th>Enrollment Year</th>\n",
       "      <th>Gender</th>\n",
       "      <th>District</th>\n",
       "      <th>Country</th>\n",
       "      <th>Education Background</th>\n",
       "      <th>GPA</th>\n",
       "      <th>Professional Engagement</th>\n",
       "      <th>Mothers Profession</th>\n",
       "      <th>Fathers Profession</th>\n",
       "      <th>Status</th>\n",
       "      <th>Actual Concentration</th>\n",
       "    </tr>\n",
       "  </thead>\n",
       "  <tbody>\n",
       "    <tr>\n",
       "      <th>0</th>\n",
       "      <td>MBA</td>\n",
       "      <td>2019.0</td>\n",
       "      <td>Male</td>\n",
       "      <td>Kathmandu</td>\n",
       "      <td>Nepal</td>\n",
       "      <td>Bachelor of Business Administration</td>\n",
       "      <td>3.41</td>\n",
       "      <td>PE_Unemployed</td>\n",
       "      <td>Businesswoman</td>\n",
       "      <td>Businessman</td>\n",
       "      <td>Withdrawn</td>\n",
       "      <td>Pending</td>\n",
       "    </tr>\n",
       "    <tr>\n",
       "      <th>1</th>\n",
       "      <td>MBA</td>\n",
       "      <td>2019.0</td>\n",
       "      <td>Male</td>\n",
       "      <td>Kaski</td>\n",
       "      <td>Nepal</td>\n",
       "      <td>Bachelor of Business Administration</td>\n",
       "      <td>3.08</td>\n",
       "      <td>PE_Unemployed</td>\n",
       "      <td>HouseWife</td>\n",
       "      <td>Businessman</td>\n",
       "      <td>Graduate</td>\n",
       "      <td>Marketing Management</td>\n",
       "    </tr>\n",
       "    <tr>\n",
       "      <th>2</th>\n",
       "      <td>MBA</td>\n",
       "      <td>2019.0</td>\n",
       "      <td>Female</td>\n",
       "      <td>Other_Districts</td>\n",
       "      <td>Nepal</td>\n",
       "      <td>Bachelor of Business Administration</td>\n",
       "      <td>2.86</td>\n",
       "      <td>PE_Employed</td>\n",
       "      <td>Employee_Mother</td>\n",
       "      <td>Employee_Father</td>\n",
       "      <td>Graduate</td>\n",
       "      <td>Entrepreneurship</td>\n",
       "    </tr>\n",
       "    <tr>\n",
       "      <th>3</th>\n",
       "      <td>MBA</td>\n",
       "      <td>2019.0</td>\n",
       "      <td>Male</td>\n",
       "      <td>Kathmandu</td>\n",
       "      <td>Nepal</td>\n",
       "      <td>Bachelor of Business Administration</td>\n",
       "      <td>2.99</td>\n",
       "      <td>PE_Employed</td>\n",
       "      <td>HouseWife</td>\n",
       "      <td>Businessman</td>\n",
       "      <td>Withdrawn</td>\n",
       "      <td>Pending</td>\n",
       "    </tr>\n",
       "    <tr>\n",
       "      <th>4</th>\n",
       "      <td>MBA</td>\n",
       "      <td>2019.0</td>\n",
       "      <td>Male</td>\n",
       "      <td>Kathmandu</td>\n",
       "      <td>Nepal</td>\n",
       "      <td>Other_EB</td>\n",
       "      <td>2.6</td>\n",
       "      <td>PE_Employed</td>\n",
       "      <td>Select_MothersP</td>\n",
       "      <td>Select_FathersP</td>\n",
       "      <td>Withdrawn</td>\n",
       "      <td>Pending</td>\n",
       "    </tr>\n",
       "    <tr>\n",
       "      <th>...</th>\n",
       "      <td>...</td>\n",
       "      <td>...</td>\n",
       "      <td>...</td>\n",
       "      <td>...</td>\n",
       "      <td>...</td>\n",
       "      <td>...</td>\n",
       "      <td>...</td>\n",
       "      <td>...</td>\n",
       "      <td>...</td>\n",
       "      <td>...</td>\n",
       "      <td>...</td>\n",
       "      <td>...</td>\n",
       "    </tr>\n",
       "    <tr>\n",
       "      <th>1498</th>\n",
       "      <td>BSIT</td>\n",
       "      <td>2023.0</td>\n",
       "      <td>Male</td>\n",
       "      <td>Bhaktapur</td>\n",
       "      <td>Nepal</td>\n",
       "      <td>Intermediate Level</td>\n",
       "      <td>2.61</td>\n",
       "      <td>Select_PE</td>\n",
       "      <td>Select_MothersP</td>\n",
       "      <td>Select_FathersP</td>\n",
       "      <td>Running</td>\n",
       "      <td>Select_AC</td>\n",
       "    </tr>\n",
       "    <tr>\n",
       "      <th>1499</th>\n",
       "      <td>BSIT</td>\n",
       "      <td>2023.0</td>\n",
       "      <td>Male</td>\n",
       "      <td>Other_Districts</td>\n",
       "      <td>Nepal</td>\n",
       "      <td>A Level</td>\n",
       "      <td>3.5</td>\n",
       "      <td>Select_PE</td>\n",
       "      <td>Select_MothersP</td>\n",
       "      <td>Select_FathersP</td>\n",
       "      <td>Running</td>\n",
       "      <td>Select_AC</td>\n",
       "    </tr>\n",
       "    <tr>\n",
       "      <th>1500</th>\n",
       "      <td>BSIT</td>\n",
       "      <td>2023.0</td>\n",
       "      <td>Male</td>\n",
       "      <td>Kailali</td>\n",
       "      <td>Nepal</td>\n",
       "      <td>Intermediate Level</td>\n",
       "      <td>2.96</td>\n",
       "      <td>Select_PE</td>\n",
       "      <td>Select_MothersP</td>\n",
       "      <td>Select_FathersP</td>\n",
       "      <td>Running</td>\n",
       "      <td>Select_AC</td>\n",
       "    </tr>\n",
       "    <tr>\n",
       "      <th>1501</th>\n",
       "      <td>BSIT</td>\n",
       "      <td>2023.0</td>\n",
       "      <td>Male</td>\n",
       "      <td>Kailali</td>\n",
       "      <td>Nepal</td>\n",
       "      <td>Intermediate Level</td>\n",
       "      <td>3.53</td>\n",
       "      <td>Select_PE</td>\n",
       "      <td>Select_MothersP</td>\n",
       "      <td>Select_FathersP</td>\n",
       "      <td>Running</td>\n",
       "      <td>Select_AC</td>\n",
       "    </tr>\n",
       "    <tr>\n",
       "      <th>1502</th>\n",
       "      <td>BSIT</td>\n",
       "      <td>Select_EY</td>\n",
       "      <td>Female</td>\n",
       "      <td>Jhapa</td>\n",
       "      <td>Nepal</td>\n",
       "      <td>Intermediate Level</td>\n",
       "      <td>3.42</td>\n",
       "      <td>Select_PE</td>\n",
       "      <td>Select_MothersP</td>\n",
       "      <td>Select_FathersP</td>\n",
       "      <td>Running</td>\n",
       "      <td>Select_AC</td>\n",
       "    </tr>\n",
       "  </tbody>\n",
       "</table>\n",
       "<p>1503 rows × 12 columns</p>\n",
       "</div>"
      ],
      "text/plain": [
       "     Program Enrollment Year  Gender         District Country  \\\n",
       "0        MBA          2019.0    Male        Kathmandu   Nepal   \n",
       "1        MBA          2019.0    Male            Kaski   Nepal   \n",
       "2        MBA          2019.0  Female  Other_Districts   Nepal   \n",
       "3        MBA          2019.0    Male        Kathmandu   Nepal   \n",
       "4        MBA          2019.0    Male        Kathmandu   Nepal   \n",
       "...      ...             ...     ...              ...     ...   \n",
       "1498    BSIT          2023.0    Male        Bhaktapur   Nepal   \n",
       "1499    BSIT          2023.0    Male  Other_Districts   Nepal   \n",
       "1500    BSIT          2023.0    Male          Kailali   Nepal   \n",
       "1501    BSIT          2023.0    Male          Kailali   Nepal   \n",
       "1502    BSIT       Select_EY  Female            Jhapa   Nepal   \n",
       "\n",
       "                     Education Background   GPA Professional Engagement  \\\n",
       "0     Bachelor of Business Administration  3.41           PE_Unemployed   \n",
       "1     Bachelor of Business Administration  3.08           PE_Unemployed   \n",
       "2     Bachelor of Business Administration  2.86             PE_Employed   \n",
       "3     Bachelor of Business Administration  2.99             PE_Employed   \n",
       "4                                Other_EB   2.6             PE_Employed   \n",
       "...                                   ...   ...                     ...   \n",
       "1498                   Intermediate Level  2.61               Select_PE   \n",
       "1499                              A Level   3.5               Select_PE   \n",
       "1500                   Intermediate Level  2.96               Select_PE   \n",
       "1501                   Intermediate Level  3.53               Select_PE   \n",
       "1502                   Intermediate Level  3.42               Select_PE   \n",
       "\n",
       "     Mothers Profession Fathers Profession      Status  Actual Concentration  \n",
       "0         Businesswoman        Businessman  Withdrawn               Pending   \n",
       "1             HouseWife        Businessman    Graduate  Marketing Management  \n",
       "2       Employee_Mother    Employee_Father    Graduate     Entrepreneurship   \n",
       "3             HouseWife        Businessman  Withdrawn               Pending   \n",
       "4       Select_MothersP    Select_FathersP  Withdrawn               Pending   \n",
       "...                 ...                ...         ...                   ...  \n",
       "1498    Select_MothersP    Select_FathersP     Running             Select_AC  \n",
       "1499    Select_MothersP    Select_FathersP     Running             Select_AC  \n",
       "1500    Select_MothersP    Select_FathersP     Running             Select_AC  \n",
       "1501    Select_MothersP    Select_FathersP     Running             Select_AC  \n",
       "1502    Select_MothersP    Select_FathersP     Running             Select_AC  \n",
       "\n",
       "[1503 rows x 12 columns]"
      ]
     },
     "execution_count": 537,
     "metadata": {},
     "output_type": "execute_result"
    }
   ],
   "source": [
    "data_cleaned"
   ]
  },
  {
   "cell_type": "code",
   "execution_count": 538,
   "id": "3bebc259",
   "metadata": {},
   "outputs": [
    {
     "data": {
      "text/plain": [
       "0      3.41\n",
       "1      3.08\n",
       "2      2.86\n",
       "3      2.99\n",
       "4       2.6\n",
       "5      2.52\n",
       "6      2.81\n",
       "7      2.21\n",
       "8       3.6\n",
       "9    0.3757\n",
       "Name: GPA, dtype: object"
      ]
     },
     "execution_count": 538,
     "metadata": {},
     "output_type": "execute_result"
    }
   ],
   "source": [
    "data_cleaned['GPA'].head(10)"
   ]
  },
  {
   "cell_type": "code",
   "execution_count": 539,
   "id": "d80464b0",
   "metadata": {},
   "outputs": [],
   "source": [
    "data_cleaned['GPA'] = data_cleaned['GPA'].astype(float)"
   ]
  },
  {
   "cell_type": "code",
   "execution_count": 540,
   "id": "6b09eb90",
   "metadata": {},
   "outputs": [],
   "source": [
    "data_cleaned['GPA'] = data_cleaned['GPA'].round(2)"
   ]
  },
  {
   "cell_type": "code",
   "execution_count": 541,
   "id": "5cc725dc",
   "metadata": {
    "scrolled": true
   },
   "outputs": [],
   "source": [
    "data_cleaned['Scholarship'] = (data_cleaned['GPA'] > 4.0).astype(int)"
   ]
  },
  {
   "cell_type": "code",
   "execution_count": 542,
   "id": "a1182d79",
   "metadata": {},
   "outputs": [],
   "source": [
    "data_cleaned.drop('GPA', axis = 1, inplace=True)"
   ]
  },
  {
   "cell_type": "code",
   "execution_count": 543,
   "id": "b9d3dda3",
   "metadata": {},
   "outputs": [
    {
     "data": {
      "text/html": [
       "<div>\n",
       "<style scoped>\n",
       "    .dataframe tbody tr th:only-of-type {\n",
       "        vertical-align: middle;\n",
       "    }\n",
       "\n",
       "    .dataframe tbody tr th {\n",
       "        vertical-align: top;\n",
       "    }\n",
       "\n",
       "    .dataframe thead th {\n",
       "        text-align: right;\n",
       "    }\n",
       "</style>\n",
       "<table border=\"1\" class=\"dataframe\">\n",
       "  <thead>\n",
       "    <tr style=\"text-align: right;\">\n",
       "      <th></th>\n",
       "      <th>Program</th>\n",
       "      <th>Enrollment Year</th>\n",
       "      <th>Gender</th>\n",
       "      <th>District</th>\n",
       "      <th>Country</th>\n",
       "      <th>Education Background</th>\n",
       "      <th>Professional Engagement</th>\n",
       "      <th>Mothers Profession</th>\n",
       "      <th>Fathers Profession</th>\n",
       "      <th>Status</th>\n",
       "      <th>Actual Concentration</th>\n",
       "      <th>Scholarship</th>\n",
       "    </tr>\n",
       "  </thead>\n",
       "  <tbody>\n",
       "    <tr>\n",
       "      <th>0</th>\n",
       "      <td>MBA</td>\n",
       "      <td>2019.0</td>\n",
       "      <td>Male</td>\n",
       "      <td>Kathmandu</td>\n",
       "      <td>Nepal</td>\n",
       "      <td>Bachelor of Business Administration</td>\n",
       "      <td>PE_Unemployed</td>\n",
       "      <td>Businesswoman</td>\n",
       "      <td>Businessman</td>\n",
       "      <td>Withdrawn</td>\n",
       "      <td>Pending</td>\n",
       "      <td>0</td>\n",
       "    </tr>\n",
       "    <tr>\n",
       "      <th>1</th>\n",
       "      <td>MBA</td>\n",
       "      <td>2019.0</td>\n",
       "      <td>Male</td>\n",
       "      <td>Kaski</td>\n",
       "      <td>Nepal</td>\n",
       "      <td>Bachelor of Business Administration</td>\n",
       "      <td>PE_Unemployed</td>\n",
       "      <td>HouseWife</td>\n",
       "      <td>Businessman</td>\n",
       "      <td>Graduate</td>\n",
       "      <td>Marketing Management</td>\n",
       "      <td>0</td>\n",
       "    </tr>\n",
       "    <tr>\n",
       "      <th>2</th>\n",
       "      <td>MBA</td>\n",
       "      <td>2019.0</td>\n",
       "      <td>Female</td>\n",
       "      <td>Other_Districts</td>\n",
       "      <td>Nepal</td>\n",
       "      <td>Bachelor of Business Administration</td>\n",
       "      <td>PE_Employed</td>\n",
       "      <td>Employee_Mother</td>\n",
       "      <td>Employee_Father</td>\n",
       "      <td>Graduate</td>\n",
       "      <td>Entrepreneurship</td>\n",
       "      <td>0</td>\n",
       "    </tr>\n",
       "    <tr>\n",
       "      <th>3</th>\n",
       "      <td>MBA</td>\n",
       "      <td>2019.0</td>\n",
       "      <td>Male</td>\n",
       "      <td>Kathmandu</td>\n",
       "      <td>Nepal</td>\n",
       "      <td>Bachelor of Business Administration</td>\n",
       "      <td>PE_Employed</td>\n",
       "      <td>HouseWife</td>\n",
       "      <td>Businessman</td>\n",
       "      <td>Withdrawn</td>\n",
       "      <td>Pending</td>\n",
       "      <td>0</td>\n",
       "    </tr>\n",
       "    <tr>\n",
       "      <th>4</th>\n",
       "      <td>MBA</td>\n",
       "      <td>2019.0</td>\n",
       "      <td>Male</td>\n",
       "      <td>Kathmandu</td>\n",
       "      <td>Nepal</td>\n",
       "      <td>Other_EB</td>\n",
       "      <td>PE_Employed</td>\n",
       "      <td>Select_MothersP</td>\n",
       "      <td>Select_FathersP</td>\n",
       "      <td>Withdrawn</td>\n",
       "      <td>Pending</td>\n",
       "      <td>0</td>\n",
       "    </tr>\n",
       "    <tr>\n",
       "      <th>5</th>\n",
       "      <td>MBA</td>\n",
       "      <td>2019.0</td>\n",
       "      <td>Female</td>\n",
       "      <td>Sunsari</td>\n",
       "      <td>Nepal</td>\n",
       "      <td>Bachelor of Business Administration</td>\n",
       "      <td>PE_Unemployed</td>\n",
       "      <td>HouseWife</td>\n",
       "      <td>Businessman</td>\n",
       "      <td>Withdrawn</td>\n",
       "      <td>Pending</td>\n",
       "      <td>0</td>\n",
       "    </tr>\n",
       "    <tr>\n",
       "      <th>6</th>\n",
       "      <td>MBA</td>\n",
       "      <td>2019.0</td>\n",
       "      <td>Female</td>\n",
       "      <td>Kathmandu</td>\n",
       "      <td>Nepal</td>\n",
       "      <td>Bachelor of Business Administration</td>\n",
       "      <td>PE_Employed</td>\n",
       "      <td>Select_MothersP</td>\n",
       "      <td>Select_FathersP</td>\n",
       "      <td>Withdrawn</td>\n",
       "      <td>Pending</td>\n",
       "      <td>0</td>\n",
       "    </tr>\n",
       "    <tr>\n",
       "      <th>7</th>\n",
       "      <td>MBA</td>\n",
       "      <td>2019.0</td>\n",
       "      <td>Female</td>\n",
       "      <td>Kathmandu</td>\n",
       "      <td>Nepal</td>\n",
       "      <td>Bachelor of Business Administration</td>\n",
       "      <td>PE_Employed</td>\n",
       "      <td>Select_MothersP</td>\n",
       "      <td>Select_FathersP</td>\n",
       "      <td>Withdrawn</td>\n",
       "      <td>Pending</td>\n",
       "      <td>0</td>\n",
       "    </tr>\n",
       "    <tr>\n",
       "      <th>8</th>\n",
       "      <td>MBA</td>\n",
       "      <td>2019.0</td>\n",
       "      <td>Female</td>\n",
       "      <td>Other_Districts</td>\n",
       "      <td>Nepal</td>\n",
       "      <td>Bachelor of Business Administration</td>\n",
       "      <td>PE_Employed</td>\n",
       "      <td>Employee_Mother</td>\n",
       "      <td>Government_Workers_Father</td>\n",
       "      <td>Withdrawn</td>\n",
       "      <td>Pending</td>\n",
       "      <td>0</td>\n",
       "    </tr>\n",
       "    <tr>\n",
       "      <th>9</th>\n",
       "      <td>MBA</td>\n",
       "      <td>2019.0</td>\n",
       "      <td>Male</td>\n",
       "      <td>Dang</td>\n",
       "      <td>Nepal</td>\n",
       "      <td>Bachelor's Degree in Business Studies</td>\n",
       "      <td>PE_Employed</td>\n",
       "      <td>Select_MothersP</td>\n",
       "      <td>Select_FathersP</td>\n",
       "      <td>Graduate</td>\n",
       "      <td>Entrepreneurship</td>\n",
       "      <td>0</td>\n",
       "    </tr>\n",
       "  </tbody>\n",
       "</table>\n",
       "</div>"
      ],
      "text/plain": [
       "  Program Enrollment Year  Gender         District Country  \\\n",
       "0     MBA          2019.0    Male        Kathmandu   Nepal   \n",
       "1     MBA          2019.0    Male            Kaski   Nepal   \n",
       "2     MBA          2019.0  Female  Other_Districts   Nepal   \n",
       "3     MBA          2019.0    Male        Kathmandu   Nepal   \n",
       "4     MBA          2019.0    Male        Kathmandu   Nepal   \n",
       "5     MBA          2019.0  Female          Sunsari   Nepal   \n",
       "6     MBA          2019.0  Female        Kathmandu   Nepal   \n",
       "7     MBA          2019.0  Female        Kathmandu   Nepal   \n",
       "8     MBA          2019.0  Female  Other_Districts   Nepal   \n",
       "9     MBA          2019.0    Male             Dang   Nepal   \n",
       "\n",
       "                    Education Background Professional Engagement  \\\n",
       "0    Bachelor of Business Administration           PE_Unemployed   \n",
       "1    Bachelor of Business Administration           PE_Unemployed   \n",
       "2    Bachelor of Business Administration             PE_Employed   \n",
       "3    Bachelor of Business Administration             PE_Employed   \n",
       "4                               Other_EB             PE_Employed   \n",
       "5    Bachelor of Business Administration           PE_Unemployed   \n",
       "6    Bachelor of Business Administration             PE_Employed   \n",
       "7    Bachelor of Business Administration             PE_Employed   \n",
       "8    Bachelor of Business Administration             PE_Employed   \n",
       "9  Bachelor's Degree in Business Studies             PE_Employed   \n",
       "\n",
       "  Mothers Profession         Fathers Profession      Status  \\\n",
       "0      Businesswoman                Businessman  Withdrawn    \n",
       "1          HouseWife                Businessman    Graduate   \n",
       "2    Employee_Mother            Employee_Father    Graduate   \n",
       "3          HouseWife                Businessman  Withdrawn    \n",
       "4    Select_MothersP            Select_FathersP  Withdrawn    \n",
       "5          HouseWife                Businessman  Withdrawn    \n",
       "6    Select_MothersP            Select_FathersP  Withdrawn    \n",
       "7    Select_MothersP            Select_FathersP  Withdrawn    \n",
       "8    Employee_Mother  Government_Workers_Father  Withdrawn    \n",
       "9    Select_MothersP            Select_FathersP    Graduate   \n",
       "\n",
       "   Actual Concentration  Scholarship  \n",
       "0              Pending             0  \n",
       "1  Marketing Management            0  \n",
       "2     Entrepreneurship             0  \n",
       "3              Pending             0  \n",
       "4              Pending             0  \n",
       "5              Pending             0  \n",
       "6              Pending             0  \n",
       "7              Pending             0  \n",
       "8              Pending             0  \n",
       "9     Entrepreneurship             0  "
      ]
     },
     "execution_count": 543,
     "metadata": {},
     "output_type": "execute_result"
    }
   ],
   "source": [
    "data_cleaned.head(10)"
   ]
  },
  {
   "cell_type": "code",
   "execution_count": 544,
   "id": "0bccfe6a",
   "metadata": {},
   "outputs": [
    {
     "data": {
      "text/plain": [
       "Program                    0\n",
       "Enrollment Year            0\n",
       "Gender                     0\n",
       "District                   0\n",
       "Country                    0\n",
       "Education Background       0\n",
       "Professional Engagement    0\n",
       "Mothers Profession         0\n",
       "Fathers Profession         0\n",
       "Status                     0\n",
       "Actual Concentration       0\n",
       "Scholarship                0\n",
       "dtype: int64"
      ]
     },
     "execution_count": 544,
     "metadata": {},
     "output_type": "execute_result"
    }
   ],
   "source": [
    "data_cleaned.isnull().sum()"
   ]
  },
  {
   "cell_type": "markdown",
   "id": "1b488ca2",
   "metadata": {},
   "source": [
    "#### Creating Dummies for all the categorical variables "
   ]
  },
  {
   "cell_type": "code",
   "execution_count": 545,
   "id": "6517e6fe",
   "metadata": {},
   "outputs": [
    {
     "name": "stdout",
     "output_type": "stream",
     "text": [
      "<class 'pandas.core.frame.DataFrame'>\n",
      "RangeIndex: 1503 entries, 0 to 1502\n",
      "Data columns (total 12 columns):\n",
      " #   Column                   Non-Null Count  Dtype \n",
      "---  ------                   --------------  ----- \n",
      " 0   Program                  1503 non-null   object\n",
      " 1   Enrollment Year          1503 non-null   object\n",
      " 2   Gender                   1503 non-null   object\n",
      " 3   District                 1503 non-null   object\n",
      " 4   Country                  1503 non-null   object\n",
      " 5   Education Background     1503 non-null   object\n",
      " 6   Professional Engagement  1503 non-null   object\n",
      " 7   Mothers Profession       1503 non-null   object\n",
      " 8   Fathers Profession       1503 non-null   object\n",
      " 9   Status                   1503 non-null   object\n",
      " 10  Actual Concentration     1503 non-null   object\n",
      " 11  Scholarship              1503 non-null   int64 \n",
      "dtypes: int64(1), object(11)\n",
      "memory usage: 141.0+ KB\n"
     ]
    }
   ],
   "source": [
    "data_cleaned.info()"
   ]
  },
  {
   "cell_type": "markdown",
   "id": "6e5404f1",
   "metadata": {},
   "source": [
    "#### Variable One : Program"
   ]
  },
  {
   "cell_type": "code",
   "execution_count": 546,
   "id": "58e35282",
   "metadata": {},
   "outputs": [
    {
     "data": {
      "text/html": [
       "<div>\n",
       "<style scoped>\n",
       "    .dataframe tbody tr th:only-of-type {\n",
       "        vertical-align: middle;\n",
       "    }\n",
       "\n",
       "    .dataframe tbody tr th {\n",
       "        vertical-align: top;\n",
       "    }\n",
       "\n",
       "    .dataframe thead th {\n",
       "        text-align: right;\n",
       "    }\n",
       "</style>\n",
       "<table border=\"1\" class=\"dataframe\">\n",
       "  <thead>\n",
       "    <tr style=\"text-align: right;\">\n",
       "      <th></th>\n",
       "      <th>BSIT</th>\n",
       "      <th>MBA</th>\n",
       "      <th>Select_P</th>\n",
       "    </tr>\n",
       "  </thead>\n",
       "  <tbody>\n",
       "    <tr>\n",
       "      <th>0</th>\n",
       "      <td>0</td>\n",
       "      <td>1</td>\n",
       "      <td>0</td>\n",
       "    </tr>\n",
       "    <tr>\n",
       "      <th>1</th>\n",
       "      <td>0</td>\n",
       "      <td>1</td>\n",
       "      <td>0</td>\n",
       "    </tr>\n",
       "    <tr>\n",
       "      <th>2</th>\n",
       "      <td>0</td>\n",
       "      <td>1</td>\n",
       "      <td>0</td>\n",
       "    </tr>\n",
       "    <tr>\n",
       "      <th>3</th>\n",
       "      <td>0</td>\n",
       "      <td>1</td>\n",
       "      <td>0</td>\n",
       "    </tr>\n",
       "    <tr>\n",
       "      <th>4</th>\n",
       "      <td>0</td>\n",
       "      <td>1</td>\n",
       "      <td>0</td>\n",
       "    </tr>\n",
       "  </tbody>\n",
       "</table>\n",
       "</div>"
      ],
      "text/plain": [
       "   BSIT  MBA  Select_P\n",
       "0     0    1         0\n",
       "1     0    1         0\n",
       "2     0    1         0\n",
       "3     0    1         0\n",
       "4     0    1         0"
      ]
     },
     "execution_count": 546,
     "metadata": {},
     "output_type": "execute_result"
    }
   ],
   "source": [
    "program_dummy = pd.get_dummies(data_cleaned['Program'], drop_first = True)\n",
    "program_dummy.head()"
   ]
  },
  {
   "cell_type": "markdown",
   "id": "b882f348",
   "metadata": {},
   "source": [
    "#### Variable Two : Enrollment Year"
   ]
  },
  {
   "cell_type": "code",
   "execution_count": 547,
   "id": "c5d3ea8b",
   "metadata": {},
   "outputs": [
    {
     "data": {
      "text/html": [
       "<div>\n",
       "<style scoped>\n",
       "    .dataframe tbody tr th:only-of-type {\n",
       "        vertical-align: middle;\n",
       "    }\n",
       "\n",
       "    .dataframe tbody tr th {\n",
       "        vertical-align: top;\n",
       "    }\n",
       "\n",
       "    .dataframe thead th {\n",
       "        text-align: right;\n",
       "    }\n",
       "</style>\n",
       "<table border=\"1\" class=\"dataframe\">\n",
       "  <thead>\n",
       "    <tr style=\"text-align: right;\">\n",
       "      <th></th>\n",
       "      <th>2016.0</th>\n",
       "      <th>2017.0</th>\n",
       "      <th>2018.0</th>\n",
       "      <th>2019.0</th>\n",
       "      <th>2020.0</th>\n",
       "      <th>2021.0</th>\n",
       "      <th>2022.0</th>\n",
       "      <th>2023.0</th>\n",
       "      <th>Select_EY</th>\n",
       "    </tr>\n",
       "  </thead>\n",
       "  <tbody>\n",
       "    <tr>\n",
       "      <th>0</th>\n",
       "      <td>0</td>\n",
       "      <td>0</td>\n",
       "      <td>0</td>\n",
       "      <td>1</td>\n",
       "      <td>0</td>\n",
       "      <td>0</td>\n",
       "      <td>0</td>\n",
       "      <td>0</td>\n",
       "      <td>0</td>\n",
       "    </tr>\n",
       "    <tr>\n",
       "      <th>1</th>\n",
       "      <td>0</td>\n",
       "      <td>0</td>\n",
       "      <td>0</td>\n",
       "      <td>1</td>\n",
       "      <td>0</td>\n",
       "      <td>0</td>\n",
       "      <td>0</td>\n",
       "      <td>0</td>\n",
       "      <td>0</td>\n",
       "    </tr>\n",
       "    <tr>\n",
       "      <th>2</th>\n",
       "      <td>0</td>\n",
       "      <td>0</td>\n",
       "      <td>0</td>\n",
       "      <td>1</td>\n",
       "      <td>0</td>\n",
       "      <td>0</td>\n",
       "      <td>0</td>\n",
       "      <td>0</td>\n",
       "      <td>0</td>\n",
       "    </tr>\n",
       "    <tr>\n",
       "      <th>3</th>\n",
       "      <td>0</td>\n",
       "      <td>0</td>\n",
       "      <td>0</td>\n",
       "      <td>1</td>\n",
       "      <td>0</td>\n",
       "      <td>0</td>\n",
       "      <td>0</td>\n",
       "      <td>0</td>\n",
       "      <td>0</td>\n",
       "    </tr>\n",
       "    <tr>\n",
       "      <th>4</th>\n",
       "      <td>0</td>\n",
       "      <td>0</td>\n",
       "      <td>0</td>\n",
       "      <td>1</td>\n",
       "      <td>0</td>\n",
       "      <td>0</td>\n",
       "      <td>0</td>\n",
       "      <td>0</td>\n",
       "      <td>0</td>\n",
       "    </tr>\n",
       "  </tbody>\n",
       "</table>\n",
       "</div>"
      ],
      "text/plain": [
       "   2016.0  2017.0  2018.0  2019.0  2020.0  2021.0  2022.0  2023.0  Select_EY\n",
       "0       0       0       0       1       0       0       0       0          0\n",
       "1       0       0       0       1       0       0       0       0          0\n",
       "2       0       0       0       1       0       0       0       0          0\n",
       "3       0       0       0       1       0       0       0       0          0\n",
       "4       0       0       0       1       0       0       0       0          0"
      ]
     },
     "execution_count": 547,
     "metadata": {},
     "output_type": "execute_result"
    }
   ],
   "source": [
    "Enrollment_Year_dummy = pd.get_dummies(data_cleaned['Enrollment Year'], drop_first = True)\n",
    "Enrollment_Year_dummy.head()"
   ]
  },
  {
   "cell_type": "markdown",
   "id": "24f47b88",
   "metadata": {},
   "source": [
    "#### Variable Three : Gender"
   ]
  },
  {
   "cell_type": "code",
   "execution_count": 548,
   "id": "3853dda1",
   "metadata": {},
   "outputs": [
    {
     "data": {
      "text/html": [
       "<div>\n",
       "<style scoped>\n",
       "    .dataframe tbody tr th:only-of-type {\n",
       "        vertical-align: middle;\n",
       "    }\n",
       "\n",
       "    .dataframe tbody tr th {\n",
       "        vertical-align: top;\n",
       "    }\n",
       "\n",
       "    .dataframe thead th {\n",
       "        text-align: right;\n",
       "    }\n",
       "</style>\n",
       "<table border=\"1\" class=\"dataframe\">\n",
       "  <thead>\n",
       "    <tr style=\"text-align: right;\">\n",
       "      <th></th>\n",
       "      <th>Male</th>\n",
       "      <th>Select_G</th>\n",
       "    </tr>\n",
       "  </thead>\n",
       "  <tbody>\n",
       "    <tr>\n",
       "      <th>0</th>\n",
       "      <td>1</td>\n",
       "      <td>0</td>\n",
       "    </tr>\n",
       "    <tr>\n",
       "      <th>1</th>\n",
       "      <td>1</td>\n",
       "      <td>0</td>\n",
       "    </tr>\n",
       "    <tr>\n",
       "      <th>2</th>\n",
       "      <td>0</td>\n",
       "      <td>0</td>\n",
       "    </tr>\n",
       "    <tr>\n",
       "      <th>3</th>\n",
       "      <td>1</td>\n",
       "      <td>0</td>\n",
       "    </tr>\n",
       "    <tr>\n",
       "      <th>4</th>\n",
       "      <td>1</td>\n",
       "      <td>0</td>\n",
       "    </tr>\n",
       "  </tbody>\n",
       "</table>\n",
       "</div>"
      ],
      "text/plain": [
       "   Male  Select_G\n",
       "0     1         0\n",
       "1     1         0\n",
       "2     0         0\n",
       "3     1         0\n",
       "4     1         0"
      ]
     },
     "execution_count": 548,
     "metadata": {},
     "output_type": "execute_result"
    }
   ],
   "source": [
    "Gender_dummy = pd.get_dummies(data_cleaned['Gender'], drop_first = True)\n",
    "Gender_dummy.head()"
   ]
  },
  {
   "cell_type": "markdown",
   "id": "ae473fa7",
   "metadata": {},
   "source": [
    "#### Variable Four : District"
   ]
  },
  {
   "cell_type": "code",
   "execution_count": 549,
   "id": "f1f765aa",
   "metadata": {},
   "outputs": [
    {
     "data": {
      "text/html": [
       "<div>\n",
       "<style scoped>\n",
       "    .dataframe tbody tr th:only-of-type {\n",
       "        vertical-align: middle;\n",
       "    }\n",
       "\n",
       "    .dataframe tbody tr th {\n",
       "        vertical-align: top;\n",
       "    }\n",
       "\n",
       "    .dataframe thead th {\n",
       "        text-align: right;\n",
       "    }\n",
       "</style>\n",
       "<table border=\"1\" class=\"dataframe\">\n",
       "  <thead>\n",
       "    <tr style=\"text-align: right;\">\n",
       "      <th></th>\n",
       "      <th>Chitwan</th>\n",
       "      <th>Dang</th>\n",
       "      <th>Dhading</th>\n",
       "      <th>Dhanusa</th>\n",
       "      <th>Dolkha</th>\n",
       "      <th>Gorkha</th>\n",
       "      <th>Jhapa</th>\n",
       "      <th>Kailali</th>\n",
       "      <th>Kanchanpur</th>\n",
       "      <th>Kaski</th>\n",
       "      <th>...</th>\n",
       "      <th>Lalitpur</th>\n",
       "      <th>Lamjung</th>\n",
       "      <th>Makwanpur</th>\n",
       "      <th>Morang</th>\n",
       "      <th>Nuwakot</th>\n",
       "      <th>Other_Districts</th>\n",
       "      <th>Rupandehi</th>\n",
       "      <th>Sarlahi</th>\n",
       "      <th>Sunsari</th>\n",
       "      <th>Syangja</th>\n",
       "    </tr>\n",
       "  </thead>\n",
       "  <tbody>\n",
       "    <tr>\n",
       "      <th>0</th>\n",
       "      <td>0</td>\n",
       "      <td>0</td>\n",
       "      <td>0</td>\n",
       "      <td>0</td>\n",
       "      <td>0</td>\n",
       "      <td>0</td>\n",
       "      <td>0</td>\n",
       "      <td>0</td>\n",
       "      <td>0</td>\n",
       "      <td>0</td>\n",
       "      <td>...</td>\n",
       "      <td>0</td>\n",
       "      <td>0</td>\n",
       "      <td>0</td>\n",
       "      <td>0</td>\n",
       "      <td>0</td>\n",
       "      <td>0</td>\n",
       "      <td>0</td>\n",
       "      <td>0</td>\n",
       "      <td>0</td>\n",
       "      <td>0</td>\n",
       "    </tr>\n",
       "    <tr>\n",
       "      <th>1</th>\n",
       "      <td>0</td>\n",
       "      <td>0</td>\n",
       "      <td>0</td>\n",
       "      <td>0</td>\n",
       "      <td>0</td>\n",
       "      <td>0</td>\n",
       "      <td>0</td>\n",
       "      <td>0</td>\n",
       "      <td>0</td>\n",
       "      <td>1</td>\n",
       "      <td>...</td>\n",
       "      <td>0</td>\n",
       "      <td>0</td>\n",
       "      <td>0</td>\n",
       "      <td>0</td>\n",
       "      <td>0</td>\n",
       "      <td>0</td>\n",
       "      <td>0</td>\n",
       "      <td>0</td>\n",
       "      <td>0</td>\n",
       "      <td>0</td>\n",
       "    </tr>\n",
       "    <tr>\n",
       "      <th>2</th>\n",
       "      <td>0</td>\n",
       "      <td>0</td>\n",
       "      <td>0</td>\n",
       "      <td>0</td>\n",
       "      <td>0</td>\n",
       "      <td>0</td>\n",
       "      <td>0</td>\n",
       "      <td>0</td>\n",
       "      <td>0</td>\n",
       "      <td>0</td>\n",
       "      <td>...</td>\n",
       "      <td>0</td>\n",
       "      <td>0</td>\n",
       "      <td>0</td>\n",
       "      <td>0</td>\n",
       "      <td>0</td>\n",
       "      <td>1</td>\n",
       "      <td>0</td>\n",
       "      <td>0</td>\n",
       "      <td>0</td>\n",
       "      <td>0</td>\n",
       "    </tr>\n",
       "    <tr>\n",
       "      <th>3</th>\n",
       "      <td>0</td>\n",
       "      <td>0</td>\n",
       "      <td>0</td>\n",
       "      <td>0</td>\n",
       "      <td>0</td>\n",
       "      <td>0</td>\n",
       "      <td>0</td>\n",
       "      <td>0</td>\n",
       "      <td>0</td>\n",
       "      <td>0</td>\n",
       "      <td>...</td>\n",
       "      <td>0</td>\n",
       "      <td>0</td>\n",
       "      <td>0</td>\n",
       "      <td>0</td>\n",
       "      <td>0</td>\n",
       "      <td>0</td>\n",
       "      <td>0</td>\n",
       "      <td>0</td>\n",
       "      <td>0</td>\n",
       "      <td>0</td>\n",
       "    </tr>\n",
       "    <tr>\n",
       "      <th>4</th>\n",
       "      <td>0</td>\n",
       "      <td>0</td>\n",
       "      <td>0</td>\n",
       "      <td>0</td>\n",
       "      <td>0</td>\n",
       "      <td>0</td>\n",
       "      <td>0</td>\n",
       "      <td>0</td>\n",
       "      <td>0</td>\n",
       "      <td>0</td>\n",
       "      <td>...</td>\n",
       "      <td>0</td>\n",
       "      <td>0</td>\n",
       "      <td>0</td>\n",
       "      <td>0</td>\n",
       "      <td>0</td>\n",
       "      <td>0</td>\n",
       "      <td>0</td>\n",
       "      <td>0</td>\n",
       "      <td>0</td>\n",
       "      <td>0</td>\n",
       "    </tr>\n",
       "  </tbody>\n",
       "</table>\n",
       "<p>5 rows × 22 columns</p>\n",
       "</div>"
      ],
      "text/plain": [
       "   Chitwan  Dang  Dhading  Dhanusa  Dolkha  Gorkha  Jhapa  Kailali  \\\n",
       "0        0     0        0        0       0       0      0        0   \n",
       "1        0     0        0        0       0       0      0        0   \n",
       "2        0     0        0        0       0       0      0        0   \n",
       "3        0     0        0        0       0       0      0        0   \n",
       "4        0     0        0        0       0       0      0        0   \n",
       "\n",
       "   Kanchanpur  Kaski  ...  Lalitpur  Lamjung  Makwanpur  Morang  Nuwakot  \\\n",
       "0           0      0  ...         0        0          0       0        0   \n",
       "1           0      1  ...         0        0          0       0        0   \n",
       "2           0      0  ...         0        0          0       0        0   \n",
       "3           0      0  ...         0        0          0       0        0   \n",
       "4           0      0  ...         0        0          0       0        0   \n",
       "\n",
       "   Other_Districts  Rupandehi  Sarlahi  Sunsari  Syangja  \n",
       "0                0          0        0        0        0  \n",
       "1                0          0        0        0        0  \n",
       "2                1          0        0        0        0  \n",
       "3                0          0        0        0        0  \n",
       "4                0          0        0        0        0  \n",
       "\n",
       "[5 rows x 22 columns]"
      ]
     },
     "execution_count": 549,
     "metadata": {},
     "output_type": "execute_result"
    }
   ],
   "source": [
    "District_dummy = pd.get_dummies(data_cleaned['District'], drop_first = True)\n",
    "District_dummy.head()"
   ]
  },
  {
   "cell_type": "markdown",
   "id": "d0bbf826",
   "metadata": {},
   "source": [
    "#### Variable Five : Country"
   ]
  },
  {
   "cell_type": "code",
   "execution_count": 550,
   "id": "9d9389e5",
   "metadata": {
    "scrolled": true
   },
   "outputs": [
    {
     "data": {
      "text/html": [
       "<div>\n",
       "<style scoped>\n",
       "    .dataframe tbody tr th:only-of-type {\n",
       "        vertical-align: middle;\n",
       "    }\n",
       "\n",
       "    .dataframe tbody tr th {\n",
       "        vertical-align: top;\n",
       "    }\n",
       "\n",
       "    .dataframe thead th {\n",
       "        text-align: right;\n",
       "    }\n",
       "</style>\n",
       "<table border=\"1\" class=\"dataframe\">\n",
       "  <thead>\n",
       "    <tr style=\"text-align: right;\">\n",
       "      <th></th>\n",
       "      <th>Select_Country</th>\n",
       "    </tr>\n",
       "  </thead>\n",
       "  <tbody>\n",
       "    <tr>\n",
       "      <th>0</th>\n",
       "      <td>0</td>\n",
       "    </tr>\n",
       "    <tr>\n",
       "      <th>1</th>\n",
       "      <td>0</td>\n",
       "    </tr>\n",
       "    <tr>\n",
       "      <th>2</th>\n",
       "      <td>0</td>\n",
       "    </tr>\n",
       "    <tr>\n",
       "      <th>3</th>\n",
       "      <td>0</td>\n",
       "    </tr>\n",
       "    <tr>\n",
       "      <th>4</th>\n",
       "      <td>0</td>\n",
       "    </tr>\n",
       "  </tbody>\n",
       "</table>\n",
       "</div>"
      ],
      "text/plain": [
       "   Select_Country\n",
       "0               0\n",
       "1               0\n",
       "2               0\n",
       "3               0\n",
       "4               0"
      ]
     },
     "execution_count": 550,
     "metadata": {},
     "output_type": "execute_result"
    }
   ],
   "source": [
    "Country_dummy = pd.get_dummies(data_cleaned['Country'], drop_first = True)\n",
    "Country_dummy.head()"
   ]
  },
  {
   "cell_type": "markdown",
   "id": "5a9f7187",
   "metadata": {},
   "source": [
    "#### Variable Six : Education Background"
   ]
  },
  {
   "cell_type": "code",
   "execution_count": 551,
   "id": "1df82330",
   "metadata": {},
   "outputs": [
    {
     "data": {
      "text/html": [
       "<div>\n",
       "<style scoped>\n",
       "    .dataframe tbody tr th:only-of-type {\n",
       "        vertical-align: middle;\n",
       "    }\n",
       "\n",
       "    .dataframe tbody tr th {\n",
       "        vertical-align: top;\n",
       "    }\n",
       "\n",
       "    .dataframe thead th {\n",
       "        text-align: right;\n",
       "    }\n",
       "</style>\n",
       "<table border=\"1\" class=\"dataframe\">\n",
       "  <thead>\n",
       "    <tr style=\"text-align: right;\">\n",
       "      <th></th>\n",
       "      <th>A level</th>\n",
       "      <th>Bachelor</th>\n",
       "      <th>Bachelor of Business Administration</th>\n",
       "      <th>Bachelor of Business Administration in Banking and Insurance</th>\n",
       "      <th>Bachelor of Science in Agriculture</th>\n",
       "      <th>Bachelor's Degree in Business Studies</th>\n",
       "      <th>Bachelor's Degree in Computer Engineering</th>\n",
       "      <th>GCE A-Level</th>\n",
       "      <th>GED</th>\n",
       "      <th>GED-Testing</th>\n",
       "      <th>Intermediate Level</th>\n",
       "      <th>Intermediate Level</th>\n",
       "      <th>Intermediate level</th>\n",
       "      <th>Intermediate level- Commerce</th>\n",
       "      <th>Intermediate level- Sceince</th>\n",
       "      <th>Other_EB</th>\n",
       "      <th>Select_EB</th>\n",
       "    </tr>\n",
       "  </thead>\n",
       "  <tbody>\n",
       "    <tr>\n",
       "      <th>0</th>\n",
       "      <td>0</td>\n",
       "      <td>0</td>\n",
       "      <td>1</td>\n",
       "      <td>0</td>\n",
       "      <td>0</td>\n",
       "      <td>0</td>\n",
       "      <td>0</td>\n",
       "      <td>0</td>\n",
       "      <td>0</td>\n",
       "      <td>0</td>\n",
       "      <td>0</td>\n",
       "      <td>0</td>\n",
       "      <td>0</td>\n",
       "      <td>0</td>\n",
       "      <td>0</td>\n",
       "      <td>0</td>\n",
       "      <td>0</td>\n",
       "    </tr>\n",
       "    <tr>\n",
       "      <th>1</th>\n",
       "      <td>0</td>\n",
       "      <td>0</td>\n",
       "      <td>1</td>\n",
       "      <td>0</td>\n",
       "      <td>0</td>\n",
       "      <td>0</td>\n",
       "      <td>0</td>\n",
       "      <td>0</td>\n",
       "      <td>0</td>\n",
       "      <td>0</td>\n",
       "      <td>0</td>\n",
       "      <td>0</td>\n",
       "      <td>0</td>\n",
       "      <td>0</td>\n",
       "      <td>0</td>\n",
       "      <td>0</td>\n",
       "      <td>0</td>\n",
       "    </tr>\n",
       "    <tr>\n",
       "      <th>2</th>\n",
       "      <td>0</td>\n",
       "      <td>0</td>\n",
       "      <td>1</td>\n",
       "      <td>0</td>\n",
       "      <td>0</td>\n",
       "      <td>0</td>\n",
       "      <td>0</td>\n",
       "      <td>0</td>\n",
       "      <td>0</td>\n",
       "      <td>0</td>\n",
       "      <td>0</td>\n",
       "      <td>0</td>\n",
       "      <td>0</td>\n",
       "      <td>0</td>\n",
       "      <td>0</td>\n",
       "      <td>0</td>\n",
       "      <td>0</td>\n",
       "    </tr>\n",
       "    <tr>\n",
       "      <th>3</th>\n",
       "      <td>0</td>\n",
       "      <td>0</td>\n",
       "      <td>1</td>\n",
       "      <td>0</td>\n",
       "      <td>0</td>\n",
       "      <td>0</td>\n",
       "      <td>0</td>\n",
       "      <td>0</td>\n",
       "      <td>0</td>\n",
       "      <td>0</td>\n",
       "      <td>0</td>\n",
       "      <td>0</td>\n",
       "      <td>0</td>\n",
       "      <td>0</td>\n",
       "      <td>0</td>\n",
       "      <td>0</td>\n",
       "      <td>0</td>\n",
       "    </tr>\n",
       "    <tr>\n",
       "      <th>4</th>\n",
       "      <td>0</td>\n",
       "      <td>0</td>\n",
       "      <td>0</td>\n",
       "      <td>0</td>\n",
       "      <td>0</td>\n",
       "      <td>0</td>\n",
       "      <td>0</td>\n",
       "      <td>0</td>\n",
       "      <td>0</td>\n",
       "      <td>0</td>\n",
       "      <td>0</td>\n",
       "      <td>0</td>\n",
       "      <td>0</td>\n",
       "      <td>0</td>\n",
       "      <td>0</td>\n",
       "      <td>1</td>\n",
       "      <td>0</td>\n",
       "    </tr>\n",
       "  </tbody>\n",
       "</table>\n",
       "</div>"
      ],
      "text/plain": [
       "   A level  Bachelor  Bachelor of Business Administration  \\\n",
       "0        0         0                                    1   \n",
       "1        0         0                                    1   \n",
       "2        0         0                                    1   \n",
       "3        0         0                                    1   \n",
       "4        0         0                                    0   \n",
       "\n",
       "   Bachelor of Business Administration in Banking and Insurance  \\\n",
       "0                                                  0              \n",
       "1                                                  0              \n",
       "2                                                  0              \n",
       "3                                                  0              \n",
       "4                                                  0              \n",
       "\n",
       "   Bachelor of Science in Agriculture  Bachelor's Degree in Business Studies  \\\n",
       "0                                   0                                      0   \n",
       "1                                   0                                      0   \n",
       "2                                   0                                      0   \n",
       "3                                   0                                      0   \n",
       "4                                   0                                      0   \n",
       "\n",
       "   Bachelor's Degree in Computer Engineering  GCE A-Level  GED  GED-Testing  \\\n",
       "0                                          0            0    0            0   \n",
       "1                                          0            0    0            0   \n",
       "2                                          0            0    0            0   \n",
       "3                                          0            0    0            0   \n",
       "4                                          0            0    0            0   \n",
       "\n",
       "   Intermediate Level  Intermediate Level   Intermediate level  \\\n",
       "0                   0                    0                   0   \n",
       "1                   0                    0                   0   \n",
       "2                   0                    0                   0   \n",
       "3                   0                    0                   0   \n",
       "4                   0                    0                   0   \n",
       "\n",
       "   Intermediate level- Commerce   Intermediate level- Sceince   Other_EB  \\\n",
       "0                              0                             0         0   \n",
       "1                              0                             0         0   \n",
       "2                              0                             0         0   \n",
       "3                              0                             0         0   \n",
       "4                              0                             0         1   \n",
       "\n",
       "   Select_EB  \n",
       "0          0  \n",
       "1          0  \n",
       "2          0  \n",
       "3          0  \n",
       "4          0  "
      ]
     },
     "execution_count": 551,
     "metadata": {},
     "output_type": "execute_result"
    }
   ],
   "source": [
    "Education_Background_dummy = pd.get_dummies(data_cleaned['Education Background'], drop_first = True)\n",
    "Education_Background_dummy.head()"
   ]
  },
  {
   "cell_type": "markdown",
   "id": "34fd2da8",
   "metadata": {},
   "source": [
    "#### Variable Seven : Professional Engagement"
   ]
  },
  {
   "cell_type": "code",
   "execution_count": 552,
   "id": "78452192",
   "metadata": {},
   "outputs": [
    {
     "data": {
      "text/html": [
       "<div>\n",
       "<style scoped>\n",
       "    .dataframe tbody tr th:only-of-type {\n",
       "        vertical-align: middle;\n",
       "    }\n",
       "\n",
       "    .dataframe tbody tr th {\n",
       "        vertical-align: top;\n",
       "    }\n",
       "\n",
       "    .dataframe thead th {\n",
       "        text-align: right;\n",
       "    }\n",
       "</style>\n",
       "<table border=\"1\" class=\"dataframe\">\n",
       "  <thead>\n",
       "    <tr style=\"text-align: right;\">\n",
       "      <th></th>\n",
       "      <th>PE_Entrepreneur</th>\n",
       "      <th>PE_Unemployed</th>\n",
       "      <th>Select_PE</th>\n",
       "    </tr>\n",
       "  </thead>\n",
       "  <tbody>\n",
       "    <tr>\n",
       "      <th>0</th>\n",
       "      <td>0</td>\n",
       "      <td>1</td>\n",
       "      <td>0</td>\n",
       "    </tr>\n",
       "    <tr>\n",
       "      <th>1</th>\n",
       "      <td>0</td>\n",
       "      <td>1</td>\n",
       "      <td>0</td>\n",
       "    </tr>\n",
       "    <tr>\n",
       "      <th>2</th>\n",
       "      <td>0</td>\n",
       "      <td>0</td>\n",
       "      <td>0</td>\n",
       "    </tr>\n",
       "    <tr>\n",
       "      <th>3</th>\n",
       "      <td>0</td>\n",
       "      <td>0</td>\n",
       "      <td>0</td>\n",
       "    </tr>\n",
       "    <tr>\n",
       "      <th>4</th>\n",
       "      <td>0</td>\n",
       "      <td>0</td>\n",
       "      <td>0</td>\n",
       "    </tr>\n",
       "  </tbody>\n",
       "</table>\n",
       "</div>"
      ],
      "text/plain": [
       "   PE_Entrepreneur  PE_Unemployed  Select_PE\n",
       "0                0              1          0\n",
       "1                0              1          0\n",
       "2                0              0          0\n",
       "3                0              0          0\n",
       "4                0              0          0"
      ]
     },
     "execution_count": 552,
     "metadata": {},
     "output_type": "execute_result"
    }
   ],
   "source": [
    "Professional_Engagement_dummy = pd.get_dummies(data_cleaned['Professional Engagement'], drop_first = True)\n",
    "Professional_Engagement_dummy.head()"
   ]
  },
  {
   "cell_type": "markdown",
   "id": "ffa7a6c7",
   "metadata": {},
   "source": [
    "#### Variable Eight : Mothers Profession"
   ]
  },
  {
   "cell_type": "code",
   "execution_count": 553,
   "id": "90017058",
   "metadata": {},
   "outputs": [
    {
     "data": {
      "text/html": [
       "<div>\n",
       "<style scoped>\n",
       "    .dataframe tbody tr th:only-of-type {\n",
       "        vertical-align: middle;\n",
       "    }\n",
       "\n",
       "    .dataframe tbody tr th {\n",
       "        vertical-align: top;\n",
       "    }\n",
       "\n",
       "    .dataframe thead th {\n",
       "        text-align: right;\n",
       "    }\n",
       "</style>\n",
       "<table border=\"1\" class=\"dataframe\">\n",
       "  <thead>\n",
       "    <tr style=\"text-align: right;\">\n",
       "      <th></th>\n",
       "      <th>Employee_Mother</th>\n",
       "      <th>Government_Workers_Mother</th>\n",
       "      <th>HouseWife</th>\n",
       "      <th>Select_MothersP</th>\n",
       "    </tr>\n",
       "  </thead>\n",
       "  <tbody>\n",
       "    <tr>\n",
       "      <th>0</th>\n",
       "      <td>0</td>\n",
       "      <td>0</td>\n",
       "      <td>0</td>\n",
       "      <td>0</td>\n",
       "    </tr>\n",
       "    <tr>\n",
       "      <th>1</th>\n",
       "      <td>0</td>\n",
       "      <td>0</td>\n",
       "      <td>1</td>\n",
       "      <td>0</td>\n",
       "    </tr>\n",
       "    <tr>\n",
       "      <th>2</th>\n",
       "      <td>1</td>\n",
       "      <td>0</td>\n",
       "      <td>0</td>\n",
       "      <td>0</td>\n",
       "    </tr>\n",
       "    <tr>\n",
       "      <th>3</th>\n",
       "      <td>0</td>\n",
       "      <td>0</td>\n",
       "      <td>1</td>\n",
       "      <td>0</td>\n",
       "    </tr>\n",
       "    <tr>\n",
       "      <th>4</th>\n",
       "      <td>0</td>\n",
       "      <td>0</td>\n",
       "      <td>0</td>\n",
       "      <td>1</td>\n",
       "    </tr>\n",
       "  </tbody>\n",
       "</table>\n",
       "</div>"
      ],
      "text/plain": [
       "   Employee_Mother  Government_Workers_Mother  HouseWife  Select_MothersP\n",
       "0                0                          0          0                0\n",
       "1                0                          0          1                0\n",
       "2                1                          0          0                0\n",
       "3                0                          0          1                0\n",
       "4                0                          0          0                1"
      ]
     },
     "execution_count": 553,
     "metadata": {},
     "output_type": "execute_result"
    }
   ],
   "source": [
    "Mothers_Profession_dummy = pd.get_dummies(data_cleaned['Mothers Profession'], drop_first = True)\n",
    "Mothers_Profession_dummy.head()"
   ]
  },
  {
   "cell_type": "markdown",
   "id": "706965be",
   "metadata": {},
   "source": [
    "#### Variable Nine : Fathers Profession"
   ]
  },
  {
   "cell_type": "code",
   "execution_count": 554,
   "id": "c32e2dbb",
   "metadata": {},
   "outputs": [
    {
     "data": {
      "text/html": [
       "<div>\n",
       "<style scoped>\n",
       "    .dataframe tbody tr th:only-of-type {\n",
       "        vertical-align: middle;\n",
       "    }\n",
       "\n",
       "    .dataframe tbody tr th {\n",
       "        vertical-align: top;\n",
       "    }\n",
       "\n",
       "    .dataframe thead th {\n",
       "        text-align: right;\n",
       "    }\n",
       "</style>\n",
       "<table border=\"1\" class=\"dataframe\">\n",
       "  <thead>\n",
       "    <tr style=\"text-align: right;\">\n",
       "      <th></th>\n",
       "      <th>Employee_Father</th>\n",
       "      <th>Government_Workers_Father</th>\n",
       "      <th>Select_FathersP</th>\n",
       "    </tr>\n",
       "  </thead>\n",
       "  <tbody>\n",
       "    <tr>\n",
       "      <th>0</th>\n",
       "      <td>0</td>\n",
       "      <td>0</td>\n",
       "      <td>0</td>\n",
       "    </tr>\n",
       "    <tr>\n",
       "      <th>1</th>\n",
       "      <td>0</td>\n",
       "      <td>0</td>\n",
       "      <td>0</td>\n",
       "    </tr>\n",
       "    <tr>\n",
       "      <th>2</th>\n",
       "      <td>1</td>\n",
       "      <td>0</td>\n",
       "      <td>0</td>\n",
       "    </tr>\n",
       "    <tr>\n",
       "      <th>3</th>\n",
       "      <td>0</td>\n",
       "      <td>0</td>\n",
       "      <td>0</td>\n",
       "    </tr>\n",
       "    <tr>\n",
       "      <th>4</th>\n",
       "      <td>0</td>\n",
       "      <td>0</td>\n",
       "      <td>1</td>\n",
       "    </tr>\n",
       "  </tbody>\n",
       "</table>\n",
       "</div>"
      ],
      "text/plain": [
       "   Employee_Father  Government_Workers_Father  Select_FathersP\n",
       "0                0                          0                0\n",
       "1                0                          0                0\n",
       "2                1                          0                0\n",
       "3                0                          0                0\n",
       "4                0                          0                1"
      ]
     },
     "execution_count": 554,
     "metadata": {},
     "output_type": "execute_result"
    }
   ],
   "source": [
    "Fathers_Profession_dummy = pd.get_dummies(data_cleaned['Fathers Profession'], drop_first = True)\n",
    "Fathers_Profession_dummy.head()"
   ]
  },
  {
   "cell_type": "markdown",
   "id": "ceeb3ab1",
   "metadata": {},
   "source": [
    "#### Variable Ten : Status"
   ]
  },
  {
   "cell_type": "code",
   "execution_count": 555,
   "id": "9d343b6d",
   "metadata": {},
   "outputs": [
    {
     "data": {
      "text/html": [
       "<div>\n",
       "<style scoped>\n",
       "    .dataframe tbody tr th:only-of-type {\n",
       "        vertical-align: middle;\n",
       "    }\n",
       "\n",
       "    .dataframe tbody tr th {\n",
       "        vertical-align: top;\n",
       "    }\n",
       "\n",
       "    .dataframe thead th {\n",
       "        text-align: right;\n",
       "    }\n",
       "</style>\n",
       "<table border=\"1\" class=\"dataframe\">\n",
       "  <thead>\n",
       "    <tr style=\"text-align: right;\">\n",
       "      <th></th>\n",
       "      <th>Running</th>\n",
       "      <th>Select_Status</th>\n",
       "      <th>Withdrawn</th>\n",
       "    </tr>\n",
       "  </thead>\n",
       "  <tbody>\n",
       "    <tr>\n",
       "      <th>0</th>\n",
       "      <td>0</td>\n",
       "      <td>0</td>\n",
       "      <td>1</td>\n",
       "    </tr>\n",
       "    <tr>\n",
       "      <th>1</th>\n",
       "      <td>0</td>\n",
       "      <td>0</td>\n",
       "      <td>0</td>\n",
       "    </tr>\n",
       "    <tr>\n",
       "      <th>2</th>\n",
       "      <td>0</td>\n",
       "      <td>0</td>\n",
       "      <td>0</td>\n",
       "    </tr>\n",
       "    <tr>\n",
       "      <th>3</th>\n",
       "      <td>0</td>\n",
       "      <td>0</td>\n",
       "      <td>1</td>\n",
       "    </tr>\n",
       "    <tr>\n",
       "      <th>4</th>\n",
       "      <td>0</td>\n",
       "      <td>0</td>\n",
       "      <td>1</td>\n",
       "    </tr>\n",
       "  </tbody>\n",
       "</table>\n",
       "</div>"
      ],
      "text/plain": [
       "   Running  Select_Status  Withdrawn \n",
       "0        0              0           1\n",
       "1        0              0           0\n",
       "2        0              0           0\n",
       "3        0              0           1\n",
       "4        0              0           1"
      ]
     },
     "execution_count": 555,
     "metadata": {},
     "output_type": "execute_result"
    }
   ],
   "source": [
    "Status_dummy = pd.get_dummies(data_cleaned['Status'], drop_first = True)\n",
    "Status_dummy.head()"
   ]
  },
  {
   "cell_type": "markdown",
   "id": "2799788a",
   "metadata": {},
   "source": [
    "#### Variable Eleven : Actual Concentration"
   ]
  },
  {
   "cell_type": "code",
   "execution_count": 556,
   "id": "70c7c066",
   "metadata": {},
   "outputs": [
    {
     "data": {
      "text/html": [
       "<div>\n",
       "<style scoped>\n",
       "    .dataframe tbody tr th:only-of-type {\n",
       "        vertical-align: middle;\n",
       "    }\n",
       "\n",
       "    .dataframe tbody tr th {\n",
       "        vertical-align: top;\n",
       "    }\n",
       "\n",
       "    .dataframe thead th {\n",
       "        text-align: right;\n",
       "    }\n",
       "</style>\n",
       "<table border=\"1\" class=\"dataframe\">\n",
       "  <thead>\n",
       "    <tr style=\"text-align: right;\">\n",
       "      <th></th>\n",
       "      <th>Digital Marketing</th>\n",
       "      <th>Digital Marketing</th>\n",
       "      <th>Entrepreneurship</th>\n",
       "      <th>Financial Management</th>\n",
       "      <th>Human Resources Management</th>\n",
       "      <th>Investment and Economics</th>\n",
       "      <th>Marketing Management</th>\n",
       "      <th>No Concentration</th>\n",
       "      <th>Nonprofit Management</th>\n",
       "      <th>Other_AC</th>\n",
       "      <th>Pending</th>\n",
       "      <th>Select_AC</th>\n",
       "      <th>Technology and Innovation</th>\n",
       "    </tr>\n",
       "  </thead>\n",
       "  <tbody>\n",
       "    <tr>\n",
       "      <th>0</th>\n",
       "      <td>0</td>\n",
       "      <td>0</td>\n",
       "      <td>0</td>\n",
       "      <td>0</td>\n",
       "      <td>0</td>\n",
       "      <td>0</td>\n",
       "      <td>0</td>\n",
       "      <td>0</td>\n",
       "      <td>0</td>\n",
       "      <td>0</td>\n",
       "      <td>1</td>\n",
       "      <td>0</td>\n",
       "      <td>0</td>\n",
       "    </tr>\n",
       "    <tr>\n",
       "      <th>1</th>\n",
       "      <td>0</td>\n",
       "      <td>0</td>\n",
       "      <td>0</td>\n",
       "      <td>0</td>\n",
       "      <td>0</td>\n",
       "      <td>0</td>\n",
       "      <td>1</td>\n",
       "      <td>0</td>\n",
       "      <td>0</td>\n",
       "      <td>0</td>\n",
       "      <td>0</td>\n",
       "      <td>0</td>\n",
       "      <td>0</td>\n",
       "    </tr>\n",
       "    <tr>\n",
       "      <th>2</th>\n",
       "      <td>0</td>\n",
       "      <td>0</td>\n",
       "      <td>1</td>\n",
       "      <td>0</td>\n",
       "      <td>0</td>\n",
       "      <td>0</td>\n",
       "      <td>0</td>\n",
       "      <td>0</td>\n",
       "      <td>0</td>\n",
       "      <td>0</td>\n",
       "      <td>0</td>\n",
       "      <td>0</td>\n",
       "      <td>0</td>\n",
       "    </tr>\n",
       "    <tr>\n",
       "      <th>3</th>\n",
       "      <td>0</td>\n",
       "      <td>0</td>\n",
       "      <td>0</td>\n",
       "      <td>0</td>\n",
       "      <td>0</td>\n",
       "      <td>0</td>\n",
       "      <td>0</td>\n",
       "      <td>0</td>\n",
       "      <td>0</td>\n",
       "      <td>0</td>\n",
       "      <td>1</td>\n",
       "      <td>0</td>\n",
       "      <td>0</td>\n",
       "    </tr>\n",
       "    <tr>\n",
       "      <th>4</th>\n",
       "      <td>0</td>\n",
       "      <td>0</td>\n",
       "      <td>0</td>\n",
       "      <td>0</td>\n",
       "      <td>0</td>\n",
       "      <td>0</td>\n",
       "      <td>0</td>\n",
       "      <td>0</td>\n",
       "      <td>0</td>\n",
       "      <td>0</td>\n",
       "      <td>1</td>\n",
       "      <td>0</td>\n",
       "      <td>0</td>\n",
       "    </tr>\n",
       "  </tbody>\n",
       "</table>\n",
       "</div>"
      ],
      "text/plain": [
       "   Digital Marketing  Digital Marketing   Entrepreneurship   \\\n",
       "0                  0                   0                  0   \n",
       "1                  0                   0                  0   \n",
       "2                  0                   0                  1   \n",
       "3                  0                   0                  0   \n",
       "4                  0                   0                  0   \n",
       "\n",
       "   Financial Management   Human Resources Management   \\\n",
       "0                      0                            0   \n",
       "1                      0                            0   \n",
       "2                      0                            0   \n",
       "3                      0                            0   \n",
       "4                      0                            0   \n",
       "\n",
       "   Investment and Economics   Marketing Management  No Concentration  \\\n",
       "0                          0                     0                 0   \n",
       "1                          0                     1                 0   \n",
       "2                          0                     0                 0   \n",
       "3                          0                     0                 0   \n",
       "4                          0                     0                 0   \n",
       "\n",
       "   Nonprofit Management  Other_AC  Pending   Select_AC  \\\n",
       "0                     0         0         1          0   \n",
       "1                     0         0         0          0   \n",
       "2                     0         0         0          0   \n",
       "3                     0         0         1          0   \n",
       "4                     0         0         1          0   \n",
       "\n",
       "   Technology and Innovation  \n",
       "0                          0  \n",
       "1                          0  \n",
       "2                          0  \n",
       "3                          0  \n",
       "4                          0  "
      ]
     },
     "execution_count": 556,
     "metadata": {},
     "output_type": "execute_result"
    }
   ],
   "source": [
    "Actual_Concentration_dummy = pd.get_dummies(data_cleaned['Actual Concentration'], drop_first = True)\n",
    "Actual_Concentration_dummy.head()"
   ]
  },
  {
   "cell_type": "markdown",
   "id": "e069dae1",
   "metadata": {},
   "source": [
    "#### Variable Tweleve : Scholarship"
   ]
  },
  {
   "cell_type": "code",
   "execution_count": 557,
   "id": "347b4e94",
   "metadata": {},
   "outputs": [],
   "source": [
    "Scholarship = data_cleaned['Scholarship']"
   ]
  },
  {
   "cell_type": "markdown",
   "id": "1eed96db",
   "metadata": {},
   "source": [
    "#### Variable Thirteen : Student ID"
   ]
  },
  {
   "cell_type": "code",
   "execution_count": 558,
   "id": "618cb7f4",
   "metadata": {},
   "outputs": [],
   "source": [
    "Student_Id = pd.DataFrame({'Student ID': range(1, 1504)})"
   ]
  },
  {
   "cell_type": "code",
   "execution_count": 559,
   "id": "5facb35c",
   "metadata": {},
   "outputs": [
    {
     "data": {
      "text/html": [
       "<div>\n",
       "<style scoped>\n",
       "    .dataframe tbody tr th:only-of-type {\n",
       "        vertical-align: middle;\n",
       "    }\n",
       "\n",
       "    .dataframe tbody tr th {\n",
       "        vertical-align: top;\n",
       "    }\n",
       "\n",
       "    .dataframe thead th {\n",
       "        text-align: right;\n",
       "    }\n",
       "</style>\n",
       "<table border=\"1\" class=\"dataframe\">\n",
       "  <thead>\n",
       "    <tr style=\"text-align: right;\">\n",
       "      <th></th>\n",
       "      <th>Student ID</th>\n",
       "      <th>Scholarship</th>\n",
       "      <th>Male</th>\n",
       "      <th>Select_G</th>\n",
       "      <th>Select_Country</th>\n",
       "      <th>Chitwan</th>\n",
       "      <th>Dang</th>\n",
       "      <th>Dhading</th>\n",
       "      <th>Dhanusa</th>\n",
       "      <th>Dolkha</th>\n",
       "      <th>...</th>\n",
       "      <th>Other_AC</th>\n",
       "      <th>Pending</th>\n",
       "      <th>Select_AC</th>\n",
       "      <th>Technology and Innovation</th>\n",
       "      <th>Running</th>\n",
       "      <th>Select_Status</th>\n",
       "      <th>Withdrawn</th>\n",
       "      <th>PE_Entrepreneur</th>\n",
       "      <th>PE_Unemployed</th>\n",
       "      <th>Select_PE</th>\n",
       "    </tr>\n",
       "  </thead>\n",
       "  <tbody>\n",
       "    <tr>\n",
       "      <th>0</th>\n",
       "      <td>1</td>\n",
       "      <td>0</td>\n",
       "      <td>1</td>\n",
       "      <td>0</td>\n",
       "      <td>0</td>\n",
       "      <td>0</td>\n",
       "      <td>0</td>\n",
       "      <td>0</td>\n",
       "      <td>0</td>\n",
       "      <td>0</td>\n",
       "      <td>...</td>\n",
       "      <td>0</td>\n",
       "      <td>1</td>\n",
       "      <td>0</td>\n",
       "      <td>0</td>\n",
       "      <td>0</td>\n",
       "      <td>0</td>\n",
       "      <td>1</td>\n",
       "      <td>0</td>\n",
       "      <td>1</td>\n",
       "      <td>0</td>\n",
       "    </tr>\n",
       "    <tr>\n",
       "      <th>1</th>\n",
       "      <td>2</td>\n",
       "      <td>0</td>\n",
       "      <td>1</td>\n",
       "      <td>0</td>\n",
       "      <td>0</td>\n",
       "      <td>0</td>\n",
       "      <td>0</td>\n",
       "      <td>0</td>\n",
       "      <td>0</td>\n",
       "      <td>0</td>\n",
       "      <td>...</td>\n",
       "      <td>0</td>\n",
       "      <td>0</td>\n",
       "      <td>0</td>\n",
       "      <td>0</td>\n",
       "      <td>0</td>\n",
       "      <td>0</td>\n",
       "      <td>0</td>\n",
       "      <td>0</td>\n",
       "      <td>1</td>\n",
       "      <td>0</td>\n",
       "    </tr>\n",
       "    <tr>\n",
       "      <th>2</th>\n",
       "      <td>3</td>\n",
       "      <td>0</td>\n",
       "      <td>0</td>\n",
       "      <td>0</td>\n",
       "      <td>0</td>\n",
       "      <td>0</td>\n",
       "      <td>0</td>\n",
       "      <td>0</td>\n",
       "      <td>0</td>\n",
       "      <td>0</td>\n",
       "      <td>...</td>\n",
       "      <td>0</td>\n",
       "      <td>0</td>\n",
       "      <td>0</td>\n",
       "      <td>0</td>\n",
       "      <td>0</td>\n",
       "      <td>0</td>\n",
       "      <td>0</td>\n",
       "      <td>0</td>\n",
       "      <td>0</td>\n",
       "      <td>0</td>\n",
       "    </tr>\n",
       "    <tr>\n",
       "      <th>3</th>\n",
       "      <td>4</td>\n",
       "      <td>0</td>\n",
       "      <td>1</td>\n",
       "      <td>0</td>\n",
       "      <td>0</td>\n",
       "      <td>0</td>\n",
       "      <td>0</td>\n",
       "      <td>0</td>\n",
       "      <td>0</td>\n",
       "      <td>0</td>\n",
       "      <td>...</td>\n",
       "      <td>0</td>\n",
       "      <td>1</td>\n",
       "      <td>0</td>\n",
       "      <td>0</td>\n",
       "      <td>0</td>\n",
       "      <td>0</td>\n",
       "      <td>1</td>\n",
       "      <td>0</td>\n",
       "      <td>0</td>\n",
       "      <td>0</td>\n",
       "    </tr>\n",
       "    <tr>\n",
       "      <th>4</th>\n",
       "      <td>5</td>\n",
       "      <td>0</td>\n",
       "      <td>1</td>\n",
       "      <td>0</td>\n",
       "      <td>0</td>\n",
       "      <td>0</td>\n",
       "      <td>0</td>\n",
       "      <td>0</td>\n",
       "      <td>0</td>\n",
       "      <td>0</td>\n",
       "      <td>...</td>\n",
       "      <td>0</td>\n",
       "      <td>1</td>\n",
       "      <td>0</td>\n",
       "      <td>0</td>\n",
       "      <td>0</td>\n",
       "      <td>0</td>\n",
       "      <td>1</td>\n",
       "      <td>0</td>\n",
       "      <td>0</td>\n",
       "      <td>0</td>\n",
       "    </tr>\n",
       "    <tr>\n",
       "      <th>...</th>\n",
       "      <td>...</td>\n",
       "      <td>...</td>\n",
       "      <td>...</td>\n",
       "      <td>...</td>\n",
       "      <td>...</td>\n",
       "      <td>...</td>\n",
       "      <td>...</td>\n",
       "      <td>...</td>\n",
       "      <td>...</td>\n",
       "      <td>...</td>\n",
       "      <td>...</td>\n",
       "      <td>...</td>\n",
       "      <td>...</td>\n",
       "      <td>...</td>\n",
       "      <td>...</td>\n",
       "      <td>...</td>\n",
       "      <td>...</td>\n",
       "      <td>...</td>\n",
       "      <td>...</td>\n",
       "      <td>...</td>\n",
       "      <td>...</td>\n",
       "    </tr>\n",
       "    <tr>\n",
       "      <th>1498</th>\n",
       "      <td>1499</td>\n",
       "      <td>0</td>\n",
       "      <td>1</td>\n",
       "      <td>0</td>\n",
       "      <td>0</td>\n",
       "      <td>0</td>\n",
       "      <td>0</td>\n",
       "      <td>0</td>\n",
       "      <td>0</td>\n",
       "      <td>0</td>\n",
       "      <td>...</td>\n",
       "      <td>0</td>\n",
       "      <td>0</td>\n",
       "      <td>1</td>\n",
       "      <td>0</td>\n",
       "      <td>1</td>\n",
       "      <td>0</td>\n",
       "      <td>0</td>\n",
       "      <td>0</td>\n",
       "      <td>0</td>\n",
       "      <td>1</td>\n",
       "    </tr>\n",
       "    <tr>\n",
       "      <th>1499</th>\n",
       "      <td>1500</td>\n",
       "      <td>0</td>\n",
       "      <td>1</td>\n",
       "      <td>0</td>\n",
       "      <td>0</td>\n",
       "      <td>0</td>\n",
       "      <td>0</td>\n",
       "      <td>0</td>\n",
       "      <td>0</td>\n",
       "      <td>0</td>\n",
       "      <td>...</td>\n",
       "      <td>0</td>\n",
       "      <td>0</td>\n",
       "      <td>1</td>\n",
       "      <td>0</td>\n",
       "      <td>1</td>\n",
       "      <td>0</td>\n",
       "      <td>0</td>\n",
       "      <td>0</td>\n",
       "      <td>0</td>\n",
       "      <td>1</td>\n",
       "    </tr>\n",
       "    <tr>\n",
       "      <th>1500</th>\n",
       "      <td>1501</td>\n",
       "      <td>0</td>\n",
       "      <td>1</td>\n",
       "      <td>0</td>\n",
       "      <td>0</td>\n",
       "      <td>0</td>\n",
       "      <td>0</td>\n",
       "      <td>0</td>\n",
       "      <td>0</td>\n",
       "      <td>0</td>\n",
       "      <td>...</td>\n",
       "      <td>0</td>\n",
       "      <td>0</td>\n",
       "      <td>1</td>\n",
       "      <td>0</td>\n",
       "      <td>1</td>\n",
       "      <td>0</td>\n",
       "      <td>0</td>\n",
       "      <td>0</td>\n",
       "      <td>0</td>\n",
       "      <td>1</td>\n",
       "    </tr>\n",
       "    <tr>\n",
       "      <th>1501</th>\n",
       "      <td>1502</td>\n",
       "      <td>0</td>\n",
       "      <td>1</td>\n",
       "      <td>0</td>\n",
       "      <td>0</td>\n",
       "      <td>0</td>\n",
       "      <td>0</td>\n",
       "      <td>0</td>\n",
       "      <td>0</td>\n",
       "      <td>0</td>\n",
       "      <td>...</td>\n",
       "      <td>0</td>\n",
       "      <td>0</td>\n",
       "      <td>1</td>\n",
       "      <td>0</td>\n",
       "      <td>1</td>\n",
       "      <td>0</td>\n",
       "      <td>0</td>\n",
       "      <td>0</td>\n",
       "      <td>0</td>\n",
       "      <td>1</td>\n",
       "    </tr>\n",
       "    <tr>\n",
       "      <th>1502</th>\n",
       "      <td>1503</td>\n",
       "      <td>0</td>\n",
       "      <td>0</td>\n",
       "      <td>0</td>\n",
       "      <td>0</td>\n",
       "      <td>0</td>\n",
       "      <td>0</td>\n",
       "      <td>0</td>\n",
       "      <td>0</td>\n",
       "      <td>0</td>\n",
       "      <td>...</td>\n",
       "      <td>0</td>\n",
       "      <td>0</td>\n",
       "      <td>1</td>\n",
       "      <td>0</td>\n",
       "      <td>1</td>\n",
       "      <td>0</td>\n",
       "      <td>0</td>\n",
       "      <td>0</td>\n",
       "      <td>0</td>\n",
       "      <td>1</td>\n",
       "    </tr>\n",
       "  </tbody>\n",
       "</table>\n",
       "<p>1503 rows × 82 columns</p>\n",
       "</div>"
      ],
      "text/plain": [
       "      Student ID  Scholarship  Male  Select_G  Select_Country  Chitwan  Dang  \\\n",
       "0              1            0     1         0               0        0     0   \n",
       "1              2            0     1         0               0        0     0   \n",
       "2              3            0     0         0               0        0     0   \n",
       "3              4            0     1         0               0        0     0   \n",
       "4              5            0     1         0               0        0     0   \n",
       "...          ...          ...   ...       ...             ...      ...   ...   \n",
       "1498        1499            0     1         0               0        0     0   \n",
       "1499        1500            0     1         0               0        0     0   \n",
       "1500        1501            0     1         0               0        0     0   \n",
       "1501        1502            0     1         0               0        0     0   \n",
       "1502        1503            0     0         0               0        0     0   \n",
       "\n",
       "      Dhading  Dhanusa  Dolkha  ...  Other_AC  Pending   Select_AC  \\\n",
       "0           0        0       0  ...         0         1          0   \n",
       "1           0        0       0  ...         0         0          0   \n",
       "2           0        0       0  ...         0         0          0   \n",
       "3           0        0       0  ...         0         1          0   \n",
       "4           0        0       0  ...         0         1          0   \n",
       "...       ...      ...     ...  ...       ...       ...        ...   \n",
       "1498        0        0       0  ...         0         0          1   \n",
       "1499        0        0       0  ...         0         0          1   \n",
       "1500        0        0       0  ...         0         0          1   \n",
       "1501        0        0       0  ...         0         0          1   \n",
       "1502        0        0       0  ...         0         0          1   \n",
       "\n",
       "      Technology and Innovation  Running  Select_Status  Withdrawn   \\\n",
       "0                             0        0              0           1   \n",
       "1                             0        0              0           0   \n",
       "2                             0        0              0           0   \n",
       "3                             0        0              0           1   \n",
       "4                             0        0              0           1   \n",
       "...                         ...      ...            ...         ...   \n",
       "1498                          0        1              0           0   \n",
       "1499                          0        1              0           0   \n",
       "1500                          0        1              0           0   \n",
       "1501                          0        1              0           0   \n",
       "1502                          0        1              0           0   \n",
       "\n",
       "      PE_Entrepreneur  PE_Unemployed  Select_PE  \n",
       "0                   0              1          0  \n",
       "1                   0              1          0  \n",
       "2                   0              0          0  \n",
       "3                   0              0          0  \n",
       "4                   0              0          0  \n",
       "...               ...            ...        ...  \n",
       "1498                0              0          1  \n",
       "1499                0              0          1  \n",
       "1500                0              0          1  \n",
       "1501                0              0          1  \n",
       "1502                0              0          1  \n",
       "\n",
       "[1503 rows x 82 columns]"
      ]
     },
     "execution_count": 559,
     "metadata": {},
     "output_type": "execute_result"
    }
   ],
   "source": [
    "#### Putting all the dummy dataframe together \n",
    "\n",
    "final = pd.concat([Student_Id, Scholarship, Gender_dummy, Country_dummy, District_dummy, Mothers_Profession_dummy, Fathers_Profession_dummy, Education_Background_dummy, Enrollment_Year_dummy, program_dummy, Actual_Concentration_dummy, Status_dummy, Professional_Engagement_dummy],axis =1)\n",
    "final"
   ]
  },
  {
   "cell_type": "markdown",
   "id": "68367df9",
   "metadata": {},
   "source": [
    "## C. Dividing into train test data"
   ]
  },
  {
   "cell_type": "code",
   "execution_count": 560,
   "id": "66f534f5",
   "metadata": {},
   "outputs": [],
   "source": [
    "# importing relevant libraries \n",
    "\n",
    "import sklearn\n",
    "from sklearn.model_selection import train_test_split"
   ]
  },
  {
   "cell_type": "code",
   "execution_count": 561,
   "id": "051d9357",
   "metadata": {},
   "outputs": [
    {
     "name": "stdout",
     "output_type": "stream",
     "text": [
      "(1052, 82)\n",
      "(451, 82)\n"
     ]
    }
   ],
   "source": [
    "final_train, final_test = train_test_split(final, train_size = 0.7, random_state = 100)\n",
    "\n",
    "print(final_train.shape)\n",
    "print(final_test.shape)"
   ]
  },
  {
   "cell_type": "code",
   "execution_count": 562,
   "id": "3c783cdd",
   "metadata": {},
   "outputs": [
    {
     "data": {
      "text/html": [
       "<div>\n",
       "<style scoped>\n",
       "    .dataframe tbody tr th:only-of-type {\n",
       "        vertical-align: middle;\n",
       "    }\n",
       "\n",
       "    .dataframe tbody tr th {\n",
       "        vertical-align: top;\n",
       "    }\n",
       "\n",
       "    .dataframe thead th {\n",
       "        text-align: right;\n",
       "    }\n",
       "</style>\n",
       "<table border=\"1\" class=\"dataframe\">\n",
       "  <thead>\n",
       "    <tr style=\"text-align: right;\">\n",
       "      <th></th>\n",
       "      <th>Student ID</th>\n",
       "      <th>Scholarship</th>\n",
       "      <th>Male</th>\n",
       "      <th>Select_G</th>\n",
       "      <th>Select_Country</th>\n",
       "      <th>Chitwan</th>\n",
       "      <th>Dang</th>\n",
       "      <th>Dhading</th>\n",
       "      <th>Dhanusa</th>\n",
       "      <th>Dolkha</th>\n",
       "      <th>...</th>\n",
       "      <th>Other_AC</th>\n",
       "      <th>Pending</th>\n",
       "      <th>Select_AC</th>\n",
       "      <th>Technology and Innovation</th>\n",
       "      <th>Running</th>\n",
       "      <th>Select_Status</th>\n",
       "      <th>Withdrawn</th>\n",
       "      <th>PE_Entrepreneur</th>\n",
       "      <th>PE_Unemployed</th>\n",
       "      <th>Select_PE</th>\n",
       "    </tr>\n",
       "  </thead>\n",
       "  <tbody>\n",
       "    <tr>\n",
       "      <th>355</th>\n",
       "      <td>356</td>\n",
       "      <td>1</td>\n",
       "      <td>1</td>\n",
       "      <td>0</td>\n",
       "      <td>0</td>\n",
       "      <td>0</td>\n",
       "      <td>0</td>\n",
       "      <td>0</td>\n",
       "      <td>0</td>\n",
       "      <td>0</td>\n",
       "      <td>...</td>\n",
       "      <td>0</td>\n",
       "      <td>0</td>\n",
       "      <td>0</td>\n",
       "      <td>0</td>\n",
       "      <td>0</td>\n",
       "      <td>0</td>\n",
       "      <td>0</td>\n",
       "      <td>0</td>\n",
       "      <td>0</td>\n",
       "      <td>0</td>\n",
       "    </tr>\n",
       "    <tr>\n",
       "      <th>625</th>\n",
       "      <td>626</td>\n",
       "      <td>0</td>\n",
       "      <td>0</td>\n",
       "      <td>0</td>\n",
       "      <td>0</td>\n",
       "      <td>0</td>\n",
       "      <td>0</td>\n",
       "      <td>0</td>\n",
       "      <td>0</td>\n",
       "      <td>0</td>\n",
       "      <td>...</td>\n",
       "      <td>0</td>\n",
       "      <td>1</td>\n",
       "      <td>0</td>\n",
       "      <td>0</td>\n",
       "      <td>0</td>\n",
       "      <td>0</td>\n",
       "      <td>1</td>\n",
       "      <td>0</td>\n",
       "      <td>1</td>\n",
       "      <td>0</td>\n",
       "    </tr>\n",
       "    <tr>\n",
       "      <th>1478</th>\n",
       "      <td>1479</td>\n",
       "      <td>0</td>\n",
       "      <td>1</td>\n",
       "      <td>0</td>\n",
       "      <td>0</td>\n",
       "      <td>0</td>\n",
       "      <td>0</td>\n",
       "      <td>0</td>\n",
       "      <td>0</td>\n",
       "      <td>0</td>\n",
       "      <td>...</td>\n",
       "      <td>0</td>\n",
       "      <td>0</td>\n",
       "      <td>1</td>\n",
       "      <td>0</td>\n",
       "      <td>1</td>\n",
       "      <td>0</td>\n",
       "      <td>0</td>\n",
       "      <td>0</td>\n",
       "      <td>1</td>\n",
       "      <td>0</td>\n",
       "    </tr>\n",
       "    <tr>\n",
       "      <th>637</th>\n",
       "      <td>638</td>\n",
       "      <td>0</td>\n",
       "      <td>0</td>\n",
       "      <td>0</td>\n",
       "      <td>0</td>\n",
       "      <td>0</td>\n",
       "      <td>0</td>\n",
       "      <td>0</td>\n",
       "      <td>0</td>\n",
       "      <td>0</td>\n",
       "      <td>...</td>\n",
       "      <td>0</td>\n",
       "      <td>0</td>\n",
       "      <td>1</td>\n",
       "      <td>0</td>\n",
       "      <td>0</td>\n",
       "      <td>1</td>\n",
       "      <td>0</td>\n",
       "      <td>0</td>\n",
       "      <td>0</td>\n",
       "      <td>0</td>\n",
       "    </tr>\n",
       "    <tr>\n",
       "      <th>487</th>\n",
       "      <td>488</td>\n",
       "      <td>1</td>\n",
       "      <td>0</td>\n",
       "      <td>0</td>\n",
       "      <td>0</td>\n",
       "      <td>0</td>\n",
       "      <td>0</td>\n",
       "      <td>0</td>\n",
       "      <td>0</td>\n",
       "      <td>0</td>\n",
       "      <td>...</td>\n",
       "      <td>0</td>\n",
       "      <td>0</td>\n",
       "      <td>0</td>\n",
       "      <td>0</td>\n",
       "      <td>0</td>\n",
       "      <td>0</td>\n",
       "      <td>0</td>\n",
       "      <td>0</td>\n",
       "      <td>1</td>\n",
       "      <td>0</td>\n",
       "    </tr>\n",
       "  </tbody>\n",
       "</table>\n",
       "<p>5 rows × 82 columns</p>\n",
       "</div>"
      ],
      "text/plain": [
       "      Student ID  Scholarship  Male  Select_G  Select_Country  Chitwan  Dang  \\\n",
       "355          356            1     1         0               0        0     0   \n",
       "625          626            0     0         0               0        0     0   \n",
       "1478        1479            0     1         0               0        0     0   \n",
       "637          638            0     0         0               0        0     0   \n",
       "487          488            1     0         0               0        0     0   \n",
       "\n",
       "      Dhading  Dhanusa  Dolkha  ...  Other_AC  Pending   Select_AC  \\\n",
       "355         0        0       0  ...         0         0          0   \n",
       "625         0        0       0  ...         0         1          0   \n",
       "1478        0        0       0  ...         0         0          1   \n",
       "637         0        0       0  ...         0         0          1   \n",
       "487         0        0       0  ...         0         0          0   \n",
       "\n",
       "      Technology and Innovation  Running  Select_Status  Withdrawn   \\\n",
       "355                           0        0              0           0   \n",
       "625                           0        0              0           1   \n",
       "1478                          0        1              0           0   \n",
       "637                           0        0              1           0   \n",
       "487                           0        0              0           0   \n",
       "\n",
       "      PE_Entrepreneur  PE_Unemployed  Select_PE  \n",
       "355                 0              0          0  \n",
       "625                 0              1          0  \n",
       "1478                0              1          0  \n",
       "637                 0              0          0  \n",
       "487                 0              1          0  \n",
       "\n",
       "[5 rows x 82 columns]"
      ]
     },
     "execution_count": 562,
     "metadata": {},
     "output_type": "execute_result"
    }
   ],
   "source": [
    "final_train.head()"
   ]
  },
  {
   "cell_type": "markdown",
   "id": "9419584f",
   "metadata": {},
   "source": [
    "## D. Creating the test train split "
   ]
  },
  {
   "cell_type": "code",
   "execution_count": 563,
   "id": "4b28b6b5",
   "metadata": {},
   "outputs": [],
   "source": [
    "from sklearn.model_selection import train_test_split"
   ]
  },
  {
   "cell_type": "code",
   "execution_count": 564,
   "id": "5a8ed81a",
   "metadata": {},
   "outputs": [],
   "source": [
    "x = final.drop(['Scholarship'], axis =1)"
   ]
  },
  {
   "cell_type": "code",
   "execution_count": 565,
   "id": "ad6960b6",
   "metadata": {},
   "outputs": [
    {
     "data": {
      "text/html": [
       "<div>\n",
       "<style scoped>\n",
       "    .dataframe tbody tr th:only-of-type {\n",
       "        vertical-align: middle;\n",
       "    }\n",
       "\n",
       "    .dataframe tbody tr th {\n",
       "        vertical-align: top;\n",
       "    }\n",
       "\n",
       "    .dataframe thead th {\n",
       "        text-align: right;\n",
       "    }\n",
       "</style>\n",
       "<table border=\"1\" class=\"dataframe\">\n",
       "  <thead>\n",
       "    <tr style=\"text-align: right;\">\n",
       "      <th></th>\n",
       "      <th>Student ID</th>\n",
       "      <th>Male</th>\n",
       "      <th>Select_G</th>\n",
       "      <th>Select_Country</th>\n",
       "      <th>Chitwan</th>\n",
       "      <th>Dang</th>\n",
       "      <th>Dhading</th>\n",
       "      <th>Dhanusa</th>\n",
       "      <th>Dolkha</th>\n",
       "      <th>Gorkha</th>\n",
       "      <th>...</th>\n",
       "      <th>Other_AC</th>\n",
       "      <th>Pending</th>\n",
       "      <th>Select_AC</th>\n",
       "      <th>Technology and Innovation</th>\n",
       "      <th>Running</th>\n",
       "      <th>Select_Status</th>\n",
       "      <th>Withdrawn</th>\n",
       "      <th>PE_Entrepreneur</th>\n",
       "      <th>PE_Unemployed</th>\n",
       "      <th>Select_PE</th>\n",
       "    </tr>\n",
       "  </thead>\n",
       "  <tbody>\n",
       "    <tr>\n",
       "      <th>0</th>\n",
       "      <td>1</td>\n",
       "      <td>1</td>\n",
       "      <td>0</td>\n",
       "      <td>0</td>\n",
       "      <td>0</td>\n",
       "      <td>0</td>\n",
       "      <td>0</td>\n",
       "      <td>0</td>\n",
       "      <td>0</td>\n",
       "      <td>0</td>\n",
       "      <td>...</td>\n",
       "      <td>0</td>\n",
       "      <td>1</td>\n",
       "      <td>0</td>\n",
       "      <td>0</td>\n",
       "      <td>0</td>\n",
       "      <td>0</td>\n",
       "      <td>1</td>\n",
       "      <td>0</td>\n",
       "      <td>1</td>\n",
       "      <td>0</td>\n",
       "    </tr>\n",
       "    <tr>\n",
       "      <th>1</th>\n",
       "      <td>2</td>\n",
       "      <td>1</td>\n",
       "      <td>0</td>\n",
       "      <td>0</td>\n",
       "      <td>0</td>\n",
       "      <td>0</td>\n",
       "      <td>0</td>\n",
       "      <td>0</td>\n",
       "      <td>0</td>\n",
       "      <td>0</td>\n",
       "      <td>...</td>\n",
       "      <td>0</td>\n",
       "      <td>0</td>\n",
       "      <td>0</td>\n",
       "      <td>0</td>\n",
       "      <td>0</td>\n",
       "      <td>0</td>\n",
       "      <td>0</td>\n",
       "      <td>0</td>\n",
       "      <td>1</td>\n",
       "      <td>0</td>\n",
       "    </tr>\n",
       "    <tr>\n",
       "      <th>2</th>\n",
       "      <td>3</td>\n",
       "      <td>0</td>\n",
       "      <td>0</td>\n",
       "      <td>0</td>\n",
       "      <td>0</td>\n",
       "      <td>0</td>\n",
       "      <td>0</td>\n",
       "      <td>0</td>\n",
       "      <td>0</td>\n",
       "      <td>0</td>\n",
       "      <td>...</td>\n",
       "      <td>0</td>\n",
       "      <td>0</td>\n",
       "      <td>0</td>\n",
       "      <td>0</td>\n",
       "      <td>0</td>\n",
       "      <td>0</td>\n",
       "      <td>0</td>\n",
       "      <td>0</td>\n",
       "      <td>0</td>\n",
       "      <td>0</td>\n",
       "    </tr>\n",
       "    <tr>\n",
       "      <th>3</th>\n",
       "      <td>4</td>\n",
       "      <td>1</td>\n",
       "      <td>0</td>\n",
       "      <td>0</td>\n",
       "      <td>0</td>\n",
       "      <td>0</td>\n",
       "      <td>0</td>\n",
       "      <td>0</td>\n",
       "      <td>0</td>\n",
       "      <td>0</td>\n",
       "      <td>...</td>\n",
       "      <td>0</td>\n",
       "      <td>1</td>\n",
       "      <td>0</td>\n",
       "      <td>0</td>\n",
       "      <td>0</td>\n",
       "      <td>0</td>\n",
       "      <td>1</td>\n",
       "      <td>0</td>\n",
       "      <td>0</td>\n",
       "      <td>0</td>\n",
       "    </tr>\n",
       "    <tr>\n",
       "      <th>4</th>\n",
       "      <td>5</td>\n",
       "      <td>1</td>\n",
       "      <td>0</td>\n",
       "      <td>0</td>\n",
       "      <td>0</td>\n",
       "      <td>0</td>\n",
       "      <td>0</td>\n",
       "      <td>0</td>\n",
       "      <td>0</td>\n",
       "      <td>0</td>\n",
       "      <td>...</td>\n",
       "      <td>0</td>\n",
       "      <td>1</td>\n",
       "      <td>0</td>\n",
       "      <td>0</td>\n",
       "      <td>0</td>\n",
       "      <td>0</td>\n",
       "      <td>1</td>\n",
       "      <td>0</td>\n",
       "      <td>0</td>\n",
       "      <td>0</td>\n",
       "    </tr>\n",
       "  </tbody>\n",
       "</table>\n",
       "<p>5 rows × 81 columns</p>\n",
       "</div>"
      ],
      "text/plain": [
       "   Student ID  Male  Select_G  Select_Country  Chitwan  Dang  Dhading  \\\n",
       "0           1     1         0               0        0     0        0   \n",
       "1           2     1         0               0        0     0        0   \n",
       "2           3     0         0               0        0     0        0   \n",
       "3           4     1         0               0        0     0        0   \n",
       "4           5     1         0               0        0     0        0   \n",
       "\n",
       "   Dhanusa  Dolkha  Gorkha  ...  Other_AC  Pending   Select_AC  \\\n",
       "0        0       0       0  ...         0         1          0   \n",
       "1        0       0       0  ...         0         0          0   \n",
       "2        0       0       0  ...         0         0          0   \n",
       "3        0       0       0  ...         0         1          0   \n",
       "4        0       0       0  ...         0         1          0   \n",
       "\n",
       "   Technology and Innovation  Running  Select_Status  Withdrawn   \\\n",
       "0                          0        0              0           1   \n",
       "1                          0        0              0           0   \n",
       "2                          0        0              0           0   \n",
       "3                          0        0              0           1   \n",
       "4                          0        0              0           1   \n",
       "\n",
       "   PE_Entrepreneur  PE_Unemployed  Select_PE  \n",
       "0                0              1          0  \n",
       "1                0              1          0  \n",
       "2                0              0          0  \n",
       "3                0              0          0  \n",
       "4                0              0          0  \n",
       "\n",
       "[5 rows x 81 columns]"
      ]
     },
     "execution_count": 565,
     "metadata": {},
     "output_type": "execute_result"
    }
   ],
   "source": [
    "x.head()"
   ]
  },
  {
   "cell_type": "code",
   "execution_count": 566,
   "id": "469a6fd2",
   "metadata": {},
   "outputs": [],
   "source": [
    "y = final['Scholarship']"
   ]
  },
  {
   "cell_type": "code",
   "execution_count": 567,
   "id": "db404a65",
   "metadata": {},
   "outputs": [
    {
     "data": {
      "text/plain": [
       "0    0\n",
       "1    0\n",
       "2    0\n",
       "3    0\n",
       "4    0\n",
       "Name: Scholarship, dtype: int64"
      ]
     },
     "execution_count": 567,
     "metadata": {},
     "output_type": "execute_result"
    }
   ],
   "source": [
    "y.head()"
   ]
  },
  {
   "cell_type": "code",
   "execution_count": 568,
   "id": "71bd9246",
   "metadata": {},
   "outputs": [],
   "source": [
    "x_train, x_test, y_train, y_test = train_test_split(x,y, train_size = 0.7, test_size = 0.3, random_state = 100)"
   ]
  },
  {
   "cell_type": "code",
   "execution_count": 569,
   "id": "16d6d618",
   "metadata": {},
   "outputs": [
    {
     "data": {
      "text/plain": [
       "0.3253493013972056"
      ]
     },
     "execution_count": 569,
     "metadata": {},
     "output_type": "execute_result"
    }
   ],
   "source": [
    "# calculating the conversion rate\n",
    "\n",
    "conversion = sum(final['Scholarship'])/len(final['Scholarship'].index)\n",
    "conversion"
   ]
  },
  {
   "cell_type": "markdown",
   "id": "15a3f8d2",
   "metadata": {},
   "source": [
    "- We have a converstion rate of 32.53 percentage "
   ]
  },
  {
   "cell_type": "markdown",
   "id": "2daabf51",
   "metadata": {},
   "source": [
    "## E. Building the first model"
   ]
  },
  {
   "cell_type": "code",
   "execution_count": 570,
   "id": "5d401381",
   "metadata": {},
   "outputs": [],
   "source": [
    "import statsmodels.api as sm"
   ]
  },
  {
   "cell_type": "code",
   "execution_count": 571,
   "id": "03a7261e",
   "metadata": {},
   "outputs": [
    {
     "data": {
      "text/html": [
       "<table class=\"simpletable\">\n",
       "<caption>Generalized Linear Model Regression Results</caption>\n",
       "<tr>\n",
       "  <th>Dep. Variable:</th>      <td>Scholarship</td>   <th>  No. Observations:  </th>  <td>  1052</td> \n",
       "</tr>\n",
       "<tr>\n",
       "  <th>Model:</th>                  <td>GLM</td>       <th>  Df Residuals:      </th>  <td>   970</td> \n",
       "</tr>\n",
       "<tr>\n",
       "  <th>Model Family:</th>        <td>Binomial</td>     <th>  Df Model:          </th>  <td>    81</td> \n",
       "</tr>\n",
       "<tr>\n",
       "  <th>Link Function:</th>         <td>Logit</td>      <th>  Scale:             </th> <td>  1.0000</td>\n",
       "</tr>\n",
       "<tr>\n",
       "  <th>Method:</th>                <td>IRLS</td>       <th>  Log-Likelihood:    </th> <td> -298.82</td>\n",
       "</tr>\n",
       "<tr>\n",
       "  <th>Date:</th>            <td>Mon, 14 Aug 2023</td> <th>  Deviance:          </th> <td>  597.64</td>\n",
       "</tr>\n",
       "<tr>\n",
       "  <th>Time:</th>                <td>07:41:16</td>     <th>  Pearson chi2:      </th>  <td>  686.</td> \n",
       "</tr>\n",
       "<tr>\n",
       "  <th>No. Iterations:</th>         <td>25</td>        <th>  Pseudo R-squ. (CS):</th>  <td>0.4943</td> \n",
       "</tr>\n",
       "<tr>\n",
       "  <th>Covariance Type:</th>     <td>nonrobust</td>    <th>                     </th>     <td> </td>   \n",
       "</tr>\n",
       "</table>\n",
       "<table class=\"simpletable\">\n",
       "<tr>\n",
       "                                <td></td>                                  <th>coef</th>     <th>std err</th>      <th>z</th>      <th>P>|z|</th>  <th>[0.025</th>    <th>0.975]</th>  \n",
       "</tr>\n",
       "<tr>\n",
       "  <th>const</th>                                                        <td>  -28.9388</td> <td> 2.26e+04</td> <td>   -0.001</td> <td> 0.999</td> <td>-4.43e+04</td> <td> 4.43e+04</td>\n",
       "</tr>\n",
       "<tr>\n",
       "  <th>Student ID</th>                                                   <td>    0.0007</td> <td>    0.001</td> <td>    0.457</td> <td> 0.648</td> <td>   -0.002</td> <td>    0.004</td>\n",
       "</tr>\n",
       "<tr>\n",
       "  <th>Male</th>                                                         <td>    0.4373</td> <td>    0.232</td> <td>    1.886</td> <td> 0.059</td> <td>   -0.017</td> <td>    0.892</td>\n",
       "</tr>\n",
       "<tr>\n",
       "  <th>Select_G</th>                                                     <td>  -24.5445</td> <td> 1.66e+05</td> <td>   -0.000</td> <td> 1.000</td> <td>-3.25e+05</td> <td> 3.25e+05</td>\n",
       "</tr>\n",
       "<tr>\n",
       "  <th>Select_Country</th>                                               <td>    2.9514</td> <td>    0.629</td> <td>    4.696</td> <td> 0.000</td> <td>    1.720</td> <td>    4.183</td>\n",
       "</tr>\n",
       "<tr>\n",
       "  <th>Chitwan</th>                                                      <td>   -0.4154</td> <td>    0.912</td> <td>   -0.456</td> <td> 0.649</td> <td>   -2.203</td> <td>    1.372</td>\n",
       "</tr>\n",
       "<tr>\n",
       "  <th>Dang</th>                                                         <td>  -26.3068</td> <td> 5.64e+04</td> <td>   -0.000</td> <td> 1.000</td> <td>-1.11e+05</td> <td> 1.11e+05</td>\n",
       "</tr>\n",
       "<tr>\n",
       "  <th>Dhading</th>                                                      <td>  -21.6775</td> <td> 6.53e+04</td> <td>   -0.000</td> <td> 1.000</td> <td>-1.28e+05</td> <td> 1.28e+05</td>\n",
       "</tr>\n",
       "<tr>\n",
       "  <th>Dhanusa</th>                                                      <td>    0.8654</td> <td>    1.587</td> <td>    0.545</td> <td> 0.586</td> <td>   -2.245</td> <td>    3.976</td>\n",
       "</tr>\n",
       "<tr>\n",
       "  <th>Dolkha</th>                                                       <td>    0.9453</td> <td>    1.225</td> <td>    0.771</td> <td> 0.440</td> <td>   -1.456</td> <td>    3.347</td>\n",
       "</tr>\n",
       "<tr>\n",
       "  <th>Gorkha</th>                                                       <td>    2.0718</td> <td>    1.857</td> <td>    1.116</td> <td> 0.264</td> <td>   -1.567</td> <td>    5.711</td>\n",
       "</tr>\n",
       "<tr>\n",
       "  <th>Jhapa</th>                                                        <td>    1.1776</td> <td>    0.783</td> <td>    1.505</td> <td> 0.132</td> <td>   -0.356</td> <td>    2.711</td>\n",
       "</tr>\n",
       "<tr>\n",
       "  <th>Kailali</th>                                                      <td>    2.2005</td> <td>    1.598</td> <td>    1.377</td> <td> 0.169</td> <td>   -0.932</td> <td>    5.333</td>\n",
       "</tr>\n",
       "<tr>\n",
       "  <th>Kanchanpur</th>                                                   <td>    1.5315</td> <td>    1.364</td> <td>    1.123</td> <td> 0.261</td> <td>   -1.141</td> <td>    4.204</td>\n",
       "</tr>\n",
       "<tr>\n",
       "  <th>Kaski</th>                                                        <td>    0.3034</td> <td>    1.069</td> <td>    0.284</td> <td> 0.776</td> <td>   -1.791</td> <td>    2.398</td>\n",
       "</tr>\n",
       "<tr>\n",
       "  <th>Kathmandu</th>                                                    <td>    0.4264</td> <td>    0.565</td> <td>    0.754</td> <td> 0.451</td> <td>   -0.681</td> <td>    1.534</td>\n",
       "</tr>\n",
       "<tr>\n",
       "  <th>Kavreplanchok</th>                                                <td>    0.1511</td> <td>    0.848</td> <td>    0.178</td> <td> 0.859</td> <td>   -1.511</td> <td>    1.813</td>\n",
       "</tr>\n",
       "<tr>\n",
       "  <th>Lalitpur</th>                                                     <td>    0.5140</td> <td>    0.651</td> <td>    0.790</td> <td> 0.430</td> <td>   -0.761</td> <td>    1.789</td>\n",
       "</tr>\n",
       "<tr>\n",
       "  <th>Lamjung</th>                                                      <td>   -0.3453</td> <td>    1.149</td> <td>   -0.301</td> <td> 0.764</td> <td>   -2.597</td> <td>    1.907</td>\n",
       "</tr>\n",
       "<tr>\n",
       "  <th>Makwanpur</th>                                                    <td>    0.3950</td> <td>    1.306</td> <td>    0.302</td> <td> 0.762</td> <td>   -2.166</td> <td>    2.956</td>\n",
       "</tr>\n",
       "<tr>\n",
       "  <th>Morang</th>                                                       <td>    2.9341</td> <td>    1.123</td> <td>    2.613</td> <td> 0.009</td> <td>    0.733</td> <td>    5.135</td>\n",
       "</tr>\n",
       "<tr>\n",
       "  <th>Nuwakot</th>                                                      <td>    0.7756</td> <td>    1.077</td> <td>    0.720</td> <td> 0.471</td> <td>   -1.336</td> <td>    2.887</td>\n",
       "</tr>\n",
       "<tr>\n",
       "  <th>Other_Districts</th>                                              <td>   -0.2255</td> <td>    0.615</td> <td>   -0.367</td> <td> 0.714</td> <td>   -1.431</td> <td>    0.980</td>\n",
       "</tr>\n",
       "<tr>\n",
       "  <th>Rupandehi</th>                                                    <td>    0.6326</td> <td>    1.004</td> <td>    0.630</td> <td> 0.529</td> <td>   -1.336</td> <td>    2.601</td>\n",
       "</tr>\n",
       "<tr>\n",
       "  <th>Sarlahi</th>                                                      <td>    2.2125</td> <td>    1.113</td> <td>    1.988</td> <td> 0.047</td> <td>    0.032</td> <td>    4.393</td>\n",
       "</tr>\n",
       "<tr>\n",
       "  <th>Sunsari</th>                                                      <td>   -0.1083</td> <td>    1.045</td> <td>   -0.104</td> <td> 0.917</td> <td>   -2.157</td> <td>    1.940</td>\n",
       "</tr>\n",
       "<tr>\n",
       "  <th>Syangja</th>                                                      <td>    1.2934</td> <td>    1.246</td> <td>    1.038</td> <td> 0.299</td> <td>   -1.149</td> <td>    3.736</td>\n",
       "</tr>\n",
       "<tr>\n",
       "  <th>Employee_Mother</th>                                              <td>   -0.8941</td> <td>    0.452</td> <td>   -1.976</td> <td> 0.048</td> <td>   -1.781</td> <td>   -0.007</td>\n",
       "</tr>\n",
       "<tr>\n",
       "  <th>Government_Workers_Mother</th>                                    <td>   -0.5856</td> <td>    0.918</td> <td>   -0.638</td> <td> 0.523</td> <td>   -2.385</td> <td>    1.213</td>\n",
       "</tr>\n",
       "<tr>\n",
       "  <th>HouseWife</th>                                                    <td>    0.0555</td> <td>    0.356</td> <td>    0.156</td> <td> 0.876</td> <td>   -0.642</td> <td>    0.753</td>\n",
       "</tr>\n",
       "<tr>\n",
       "  <th>Select_MothersP</th>                                              <td>    0.1239</td> <td>    0.637</td> <td>    0.194</td> <td> 0.846</td> <td>   -1.125</td> <td>    1.373</td>\n",
       "</tr>\n",
       "<tr>\n",
       "  <th>Employee_Father</th>                                              <td>   -0.0982</td> <td>    0.343</td> <td>   -0.286</td> <td> 0.775</td> <td>   -0.770</td> <td>    0.574</td>\n",
       "</tr>\n",
       "<tr>\n",
       "  <th>Government_Workers_Father</th>                                    <td>   -0.2178</td> <td>    0.359</td> <td>   -0.607</td> <td> 0.544</td> <td>   -0.921</td> <td>    0.485</td>\n",
       "</tr>\n",
       "<tr>\n",
       "  <th>Select_FathersP</th>                                              <td>    0.1939</td> <td>    0.605</td> <td>    0.320</td> <td> 0.749</td> <td>   -0.992</td> <td>    1.380</td>\n",
       "</tr>\n",
       "<tr>\n",
       "  <th>A level</th>                                                      <td>   -1.3515</td> <td>    1.674</td> <td>   -0.807</td> <td> 0.420</td> <td>   -4.633</td> <td>    1.930</td>\n",
       "</tr>\n",
       "<tr>\n",
       "  <th>Bachelor</th>                                                     <td>   43.0311</td> <td> 9.91e+04</td> <td>    0.000</td> <td> 1.000</td> <td>-1.94e+05</td> <td> 1.94e+05</td>\n",
       "</tr>\n",
       "<tr>\n",
       "  <th>Bachelor of Business Administration</th>                          <td>   -3.3313</td> <td>    1.540</td> <td>   -2.164</td> <td> 0.030</td> <td>   -6.349</td> <td>   -0.313</td>\n",
       "</tr>\n",
       "<tr>\n",
       "  <th>Bachelor of Business Administration in Banking and Insurance</th> <td>  -28.1170</td> <td> 1.09e+05</td> <td>   -0.000</td> <td> 1.000</td> <td>-2.14e+05</td> <td> 2.14e+05</td>\n",
       "</tr>\n",
       "<tr>\n",
       "  <th>Bachelor of Science in Agriculture</th>                           <td>   48.8236</td> <td>  1.1e+05</td> <td>    0.000</td> <td> 1.000</td> <td>-2.16e+05</td> <td> 2.16e+05</td>\n",
       "</tr>\n",
       "<tr>\n",
       "  <th>Bachelor's Degree in Business Studies</th>                        <td>   24.9785</td> <td> 5.64e+04</td> <td>    0.000</td> <td> 1.000</td> <td>-1.11e+05</td> <td> 1.11e+05</td>\n",
       "</tr>\n",
       "<tr>\n",
       "  <th>Bachelor's Degree in Computer Engineering</th>                    <td>    0.4907</td> <td>    1.943</td> <td>    0.253</td> <td> 0.801</td> <td>   -3.317</td> <td>    4.298</td>\n",
       "</tr>\n",
       "<tr>\n",
       "  <th>GCE A-Level</th>                                                  <td>  -26.6803</td> <td>  9.7e+04</td> <td>   -0.000</td> <td> 1.000</td> <td> -1.9e+05</td> <td>  1.9e+05</td>\n",
       "</tr>\n",
       "<tr>\n",
       "  <th>GED</th>                                                          <td>    1.7275</td> <td>    1.441</td> <td>    1.199</td> <td> 0.231</td> <td>   -1.097</td> <td>    4.552</td>\n",
       "</tr>\n",
       "<tr>\n",
       "  <th>GED-Testing</th>                                                  <td>  -27.0256</td> <td> 1.25e+05</td> <td>   -0.000</td> <td> 1.000</td> <td>-2.44e+05</td> <td> 2.44e+05</td>\n",
       "</tr>\n",
       "<tr>\n",
       "  <th>Intermediate Level</th>                                           <td>   -2.7582</td> <td>    1.392</td> <td>   -1.981</td> <td> 0.048</td> <td>   -5.487</td> <td>   -0.030</td>\n",
       "</tr>\n",
       "<tr>\n",
       "  <th>Intermediate Level </th>                                          <td>  -25.5823</td> <td>  1.3e+05</td> <td>   -0.000</td> <td> 1.000</td> <td>-2.55e+05</td> <td> 2.55e+05</td>\n",
       "</tr>\n",
       "<tr>\n",
       "  <th>Intermediate level</th>                                           <td>  -25.8304</td> <td> 2.74e+04</td> <td>   -0.001</td> <td> 0.999</td> <td>-5.38e+04</td> <td> 5.38e+04</td>\n",
       "</tr>\n",
       "<tr>\n",
       "  <th>Intermediate level- Commerce </th>                                <td>   -2.5931</td> <td>    1.799</td> <td>   -1.442</td> <td> 0.149</td> <td>   -6.119</td> <td>    0.932</td>\n",
       "</tr>\n",
       "<tr>\n",
       "  <th>Intermediate level- Sceince </th>                                 <td>    0.5988</td> <td>    1.806</td> <td>    0.332</td> <td> 0.740</td> <td>   -2.942</td> <td>    4.139</td>\n",
       "</tr>\n",
       "<tr>\n",
       "  <th>Other_EB</th>                                                     <td>   -1.1192</td> <td>    1.505</td> <td>   -0.744</td> <td> 0.457</td> <td>   -4.069</td> <td>    1.831</td>\n",
       "</tr>\n",
       "<tr>\n",
       "  <th>Select_EB</th>                                                    <td>   -2.1380</td> <td>    1.543</td> <td>   -1.386</td> <td> 0.166</td> <td>   -5.162</td> <td>    0.886</td>\n",
       "</tr>\n",
       "<tr>\n",
       "  <th>2016.0</th>                                                       <td>   22.9010</td> <td> 2.26e+04</td> <td>    0.001</td> <td> 0.999</td> <td>-4.43e+04</td> <td> 4.43e+04</td>\n",
       "</tr>\n",
       "<tr>\n",
       "  <th>2017.0</th>                                                       <td>   24.6794</td> <td> 2.26e+04</td> <td>    0.001</td> <td> 0.999</td> <td>-4.43e+04</td> <td> 4.43e+04</td>\n",
       "</tr>\n",
       "<tr>\n",
       "  <th>2018.0</th>                                                       <td>   25.3442</td> <td> 2.26e+04</td> <td>    0.001</td> <td> 0.999</td> <td>-4.43e+04</td> <td> 4.43e+04</td>\n",
       "</tr>\n",
       "<tr>\n",
       "  <th>2019.0</th>                                                       <td>   26.7389</td> <td> 2.26e+04</td> <td>    0.001</td> <td> 0.999</td> <td>-4.43e+04</td> <td> 4.43e+04</td>\n",
       "</tr>\n",
       "<tr>\n",
       "  <th>2020.0</th>                                                       <td>   27.2294</td> <td> 2.26e+04</td> <td>    0.001</td> <td> 0.999</td> <td>-4.43e+04</td> <td> 4.43e+04</td>\n",
       "</tr>\n",
       "<tr>\n",
       "  <th>2021.0</th>                                                       <td>   27.6911</td> <td> 2.26e+04</td> <td>    0.001</td> <td> 0.999</td> <td>-4.43e+04</td> <td> 4.43e+04</td>\n",
       "</tr>\n",
       "<tr>\n",
       "  <th>2022.0</th>                                                       <td>   28.1185</td> <td> 2.26e+04</td> <td>    0.001</td> <td> 0.999</td> <td>-4.43e+04</td> <td> 4.43e+04</td>\n",
       "</tr>\n",
       "<tr>\n",
       "  <th>2023.0</th>                                                       <td>   26.4965</td> <td> 2.26e+04</td> <td>    0.001</td> <td> 0.999</td> <td>-4.43e+04</td> <td> 4.43e+04</td>\n",
       "</tr>\n",
       "<tr>\n",
       "  <th>Select_EY</th>                                                    <td>   28.7865</td> <td> 2.26e+04</td> <td>    0.001</td> <td> 0.999</td> <td>-4.43e+04</td> <td> 4.43e+04</td>\n",
       "</tr>\n",
       "<tr>\n",
       "  <th>BSIT</th>                                                         <td>   -1.0966</td> <td>    0.738</td> <td>   -1.486</td> <td> 0.137</td> <td>   -2.543</td> <td>    0.350</td>\n",
       "</tr>\n",
       "<tr>\n",
       "  <th>MBA</th>                                                          <td>    2.3200</td> <td>    1.152</td> <td>    2.014</td> <td> 0.044</td> <td>    0.062</td> <td>    4.578</td>\n",
       "</tr>\n",
       "<tr>\n",
       "  <th>Select_P</th>                                                     <td>   23.3736</td> <td> 1.66e+05</td> <td>    0.000</td> <td> 1.000</td> <td>-3.25e+05</td> <td> 3.25e+05</td>\n",
       "</tr>\n",
       "<tr>\n",
       "  <th>Digital Marketing</th>                                            <td>    0.1227</td> <td>    1.622</td> <td>    0.076</td> <td> 0.940</td> <td>   -3.056</td> <td>    3.301</td>\n",
       "</tr>\n",
       "<tr>\n",
       "  <th>Digital Marketing </th>                                           <td>   -0.5761</td> <td>    0.994</td> <td>   -0.580</td> <td> 0.562</td> <td>   -2.524</td> <td>    1.372</td>\n",
       "</tr>\n",
       "<tr>\n",
       "  <th>Entrepreneurship </th>                                            <td>    0.5071</td> <td>    0.647</td> <td>    0.784</td> <td> 0.433</td> <td>   -0.760</td> <td>    1.775</td>\n",
       "</tr>\n",
       "<tr>\n",
       "  <th>Financial Management </th>                                        <td>    0.0983</td> <td>    0.750</td> <td>    0.131</td> <td> 0.896</td> <td>   -1.372</td> <td>    1.569</td>\n",
       "</tr>\n",
       "<tr>\n",
       "  <th>Human Resources Management </th>                                  <td>    0.3585</td> <td>    0.733</td> <td>    0.489</td> <td> 0.625</td> <td>   -1.078</td> <td>    1.795</td>\n",
       "</tr>\n",
       "<tr>\n",
       "  <th>Investment and Economics </th>                                    <td>  -23.3405</td> <td> 8.45e+04</td> <td>   -0.000</td> <td> 1.000</td> <td>-1.66e+05</td> <td> 1.66e+05</td>\n",
       "</tr>\n",
       "<tr>\n",
       "  <th>Marketing Management</th>                                         <td>    0.1425</td> <td>    0.720</td> <td>    0.198</td> <td> 0.843</td> <td>   -1.268</td> <td>    1.553</td>\n",
       "</tr>\n",
       "<tr>\n",
       "  <th>No Concentration</th>                                             <td>    0.2739</td> <td>    0.887</td> <td>    0.309</td> <td> 0.757</td> <td>   -1.464</td> <td>    2.012</td>\n",
       "</tr>\n",
       "<tr>\n",
       "  <th>Nonprofit Management</th>                                         <td>    0.0477</td> <td>    0.832</td> <td>    0.057</td> <td> 0.954</td> <td>   -1.583</td> <td>    1.678</td>\n",
       "</tr>\n",
       "<tr>\n",
       "  <th>Other_AC</th>                                                     <td>   -0.2975</td> <td>    0.783</td> <td>   -0.380</td> <td> 0.704</td> <td>   -1.833</td> <td>    1.238</td>\n",
       "</tr>\n",
       "<tr>\n",
       "  <th>Pending </th>                                                     <td>    0.6890</td> <td>    0.823</td> <td>    0.837</td> <td> 0.402</td> <td>   -0.924</td> <td>    2.302</td>\n",
       "</tr>\n",
       "<tr>\n",
       "  <th>Select_AC</th>                                                    <td>    0.4846</td> <td>    0.789</td> <td>    0.614</td> <td> 0.539</td> <td>   -1.062</td> <td>    2.032</td>\n",
       "</tr>\n",
       "<tr>\n",
       "  <th>Technology and Innovation</th>                                    <td>   -0.6192</td> <td>    0.764</td> <td>   -0.810</td> <td> 0.418</td> <td>   -2.117</td> <td>    0.879</td>\n",
       "</tr>\n",
       "<tr>\n",
       "  <th>Running</th>                                                      <td>    0.0031</td> <td>    0.466</td> <td>    0.007</td> <td> 0.995</td> <td>   -0.910</td> <td>    0.916</td>\n",
       "</tr>\n",
       "<tr>\n",
       "  <th>Select_Status</th>                                                <td>   -0.2290</td> <td>    0.578</td> <td>   -0.396</td> <td> 0.692</td> <td>   -1.361</td> <td>    0.903</td>\n",
       "</tr>\n",
       "<tr>\n",
       "  <th>Withdrawn </th>                                                   <td>    0.0567</td> <td>    0.450</td> <td>    0.126</td> <td> 0.900</td> <td>   -0.825</td> <td>    0.939</td>\n",
       "</tr>\n",
       "<tr>\n",
       "  <th>PE_Entrepreneur</th>                                              <td>   -0.4514</td> <td>    0.408</td> <td>   -1.106</td> <td> 0.269</td> <td>   -1.251</td> <td>    0.349</td>\n",
       "</tr>\n",
       "<tr>\n",
       "  <th>PE_Unemployed</th>                                                <td>   -0.1233</td> <td>    0.304</td> <td>   -0.406</td> <td> 0.685</td> <td>   -0.719</td> <td>    0.473</td>\n",
       "</tr>\n",
       "<tr>\n",
       "  <th>Select_PE</th>                                                    <td>   -1.0133</td> <td>    0.464</td> <td>   -2.182</td> <td> 0.029</td> <td>   -1.923</td> <td>   -0.103</td>\n",
       "</tr>\n",
       "</table>"
      ],
      "text/plain": [
       "<class 'statsmodels.iolib.summary.Summary'>\n",
       "\"\"\"\n",
       "                 Generalized Linear Model Regression Results                  \n",
       "==============================================================================\n",
       "Dep. Variable:            Scholarship   No. Observations:                 1052\n",
       "Model:                            GLM   Df Residuals:                      970\n",
       "Model Family:                Binomial   Df Model:                           81\n",
       "Link Function:                  Logit   Scale:                          1.0000\n",
       "Method:                          IRLS   Log-Likelihood:                -298.82\n",
       "Date:                Mon, 14 Aug 2023   Deviance:                       597.64\n",
       "Time:                        07:41:16   Pearson chi2:                     686.\n",
       "No. Iterations:                    25   Pseudo R-squ. (CS):             0.4943\n",
       "Covariance Type:            nonrobust                                         \n",
       "================================================================================================================================\n",
       "                                                                   coef    std err          z      P>|z|      [0.025      0.975]\n",
       "--------------------------------------------------------------------------------------------------------------------------------\n",
       "const                                                          -28.9388   2.26e+04     -0.001      0.999   -4.43e+04    4.43e+04\n",
       "Student ID                                                       0.0007      0.001      0.457      0.648      -0.002       0.004\n",
       "Male                                                             0.4373      0.232      1.886      0.059      -0.017       0.892\n",
       "Select_G                                                       -24.5445   1.66e+05     -0.000      1.000   -3.25e+05    3.25e+05\n",
       "Select_Country                                                   2.9514      0.629      4.696      0.000       1.720       4.183\n",
       "Chitwan                                                         -0.4154      0.912     -0.456      0.649      -2.203       1.372\n",
       "Dang                                                           -26.3068   5.64e+04     -0.000      1.000   -1.11e+05    1.11e+05\n",
       "Dhading                                                        -21.6775   6.53e+04     -0.000      1.000   -1.28e+05    1.28e+05\n",
       "Dhanusa                                                          0.8654      1.587      0.545      0.586      -2.245       3.976\n",
       "Dolkha                                                           0.9453      1.225      0.771      0.440      -1.456       3.347\n",
       "Gorkha                                                           2.0718      1.857      1.116      0.264      -1.567       5.711\n",
       "Jhapa                                                            1.1776      0.783      1.505      0.132      -0.356       2.711\n",
       "Kailali                                                          2.2005      1.598      1.377      0.169      -0.932       5.333\n",
       "Kanchanpur                                                       1.5315      1.364      1.123      0.261      -1.141       4.204\n",
       "Kaski                                                            0.3034      1.069      0.284      0.776      -1.791       2.398\n",
       "Kathmandu                                                        0.4264      0.565      0.754      0.451      -0.681       1.534\n",
       "Kavreplanchok                                                    0.1511      0.848      0.178      0.859      -1.511       1.813\n",
       "Lalitpur                                                         0.5140      0.651      0.790      0.430      -0.761       1.789\n",
       "Lamjung                                                         -0.3453      1.149     -0.301      0.764      -2.597       1.907\n",
       "Makwanpur                                                        0.3950      1.306      0.302      0.762      -2.166       2.956\n",
       "Morang                                                           2.9341      1.123      2.613      0.009       0.733       5.135\n",
       "Nuwakot                                                          0.7756      1.077      0.720      0.471      -1.336       2.887\n",
       "Other_Districts                                                 -0.2255      0.615     -0.367      0.714      -1.431       0.980\n",
       "Rupandehi                                                        0.6326      1.004      0.630      0.529      -1.336       2.601\n",
       "Sarlahi                                                          2.2125      1.113      1.988      0.047       0.032       4.393\n",
       "Sunsari                                                         -0.1083      1.045     -0.104      0.917      -2.157       1.940\n",
       "Syangja                                                          1.2934      1.246      1.038      0.299      -1.149       3.736\n",
       "Employee_Mother                                                 -0.8941      0.452     -1.976      0.048      -1.781      -0.007\n",
       "Government_Workers_Mother                                       -0.5856      0.918     -0.638      0.523      -2.385       1.213\n",
       "HouseWife                                                        0.0555      0.356      0.156      0.876      -0.642       0.753\n",
       "Select_MothersP                                                  0.1239      0.637      0.194      0.846      -1.125       1.373\n",
       "Employee_Father                                                 -0.0982      0.343     -0.286      0.775      -0.770       0.574\n",
       "Government_Workers_Father                                       -0.2178      0.359     -0.607      0.544      -0.921       0.485\n",
       "Select_FathersP                                                  0.1939      0.605      0.320      0.749      -0.992       1.380\n",
       "A level                                                         -1.3515      1.674     -0.807      0.420      -4.633       1.930\n",
       "Bachelor                                                        43.0311   9.91e+04      0.000      1.000   -1.94e+05    1.94e+05\n",
       "Bachelor of Business Administration                             -3.3313      1.540     -2.164      0.030      -6.349      -0.313\n",
       "Bachelor of Business Administration in Banking and Insurance   -28.1170   1.09e+05     -0.000      1.000   -2.14e+05    2.14e+05\n",
       "Bachelor of Science in Agriculture                              48.8236    1.1e+05      0.000      1.000   -2.16e+05    2.16e+05\n",
       "Bachelor's Degree in Business Studies                           24.9785   5.64e+04      0.000      1.000   -1.11e+05    1.11e+05\n",
       "Bachelor's Degree in Computer Engineering                        0.4907      1.943      0.253      0.801      -3.317       4.298\n",
       "GCE A-Level                                                    -26.6803    9.7e+04     -0.000      1.000    -1.9e+05     1.9e+05\n",
       "GED                                                              1.7275      1.441      1.199      0.231      -1.097       4.552\n",
       "GED-Testing                                                    -27.0256   1.25e+05     -0.000      1.000   -2.44e+05    2.44e+05\n",
       "Intermediate Level                                              -2.7582      1.392     -1.981      0.048      -5.487      -0.030\n",
       "Intermediate Level                                             -25.5823    1.3e+05     -0.000      1.000   -2.55e+05    2.55e+05\n",
       "Intermediate level                                             -25.8304   2.74e+04     -0.001      0.999   -5.38e+04    5.38e+04\n",
       "Intermediate level- Commerce                                    -2.5931      1.799     -1.442      0.149      -6.119       0.932\n",
       "Intermediate level- Sceince                                      0.5988      1.806      0.332      0.740      -2.942       4.139\n",
       "Other_EB                                                        -1.1192      1.505     -0.744      0.457      -4.069       1.831\n",
       "Select_EB                                                       -2.1380      1.543     -1.386      0.166      -5.162       0.886\n",
       "2016.0                                                          22.9010   2.26e+04      0.001      0.999   -4.43e+04    4.43e+04\n",
       "2017.0                                                          24.6794   2.26e+04      0.001      0.999   -4.43e+04    4.43e+04\n",
       "2018.0                                                          25.3442   2.26e+04      0.001      0.999   -4.43e+04    4.43e+04\n",
       "2019.0                                                          26.7389   2.26e+04      0.001      0.999   -4.43e+04    4.43e+04\n",
       "2020.0                                                          27.2294   2.26e+04      0.001      0.999   -4.43e+04    4.43e+04\n",
       "2021.0                                                          27.6911   2.26e+04      0.001      0.999   -4.43e+04    4.43e+04\n",
       "2022.0                                                          28.1185   2.26e+04      0.001      0.999   -4.43e+04    4.43e+04\n",
       "2023.0                                                          26.4965   2.26e+04      0.001      0.999   -4.43e+04    4.43e+04\n",
       "Select_EY                                                       28.7865   2.26e+04      0.001      0.999   -4.43e+04    4.43e+04\n",
       "BSIT                                                            -1.0966      0.738     -1.486      0.137      -2.543       0.350\n",
       "MBA                                                              2.3200      1.152      2.014      0.044       0.062       4.578\n",
       "Select_P                                                        23.3736   1.66e+05      0.000      1.000   -3.25e+05    3.25e+05\n",
       "Digital Marketing                                                0.1227      1.622      0.076      0.940      -3.056       3.301\n",
       "Digital Marketing                                               -0.5761      0.994     -0.580      0.562      -2.524       1.372\n",
       "Entrepreneurship                                                 0.5071      0.647      0.784      0.433      -0.760       1.775\n",
       "Financial Management                                             0.0983      0.750      0.131      0.896      -1.372       1.569\n",
       "Human Resources Management                                       0.3585      0.733      0.489      0.625      -1.078       1.795\n",
       "Investment and Economics                                       -23.3405   8.45e+04     -0.000      1.000   -1.66e+05    1.66e+05\n",
       "Marketing Management                                             0.1425      0.720      0.198      0.843      -1.268       1.553\n",
       "No Concentration                                                 0.2739      0.887      0.309      0.757      -1.464       2.012\n",
       "Nonprofit Management                                             0.0477      0.832      0.057      0.954      -1.583       1.678\n",
       "Other_AC                                                        -0.2975      0.783     -0.380      0.704      -1.833       1.238\n",
       "Pending                                                          0.6890      0.823      0.837      0.402      -0.924       2.302\n",
       "Select_AC                                                        0.4846      0.789      0.614      0.539      -1.062       2.032\n",
       "Technology and Innovation                                       -0.6192      0.764     -0.810      0.418      -2.117       0.879\n",
       "Running                                                          0.0031      0.466      0.007      0.995      -0.910       0.916\n",
       "Select_Status                                                   -0.2290      0.578     -0.396      0.692      -1.361       0.903\n",
       "Withdrawn                                                        0.0567      0.450      0.126      0.900      -0.825       0.939\n",
       "PE_Entrepreneur                                                 -0.4514      0.408     -1.106      0.269      -1.251       0.349\n",
       "PE_Unemployed                                                   -0.1233      0.304     -0.406      0.685      -0.719       0.473\n",
       "Select_PE                                                       -1.0133      0.464     -2.182      0.029      -1.923      -0.103\n",
       "================================================================================================================================\n",
       "\"\"\""
      ]
     },
     "execution_count": 571,
     "metadata": {},
     "output_type": "execute_result"
    }
   ],
   "source": [
    "model = sm.GLM(y_train, (sm.add_constant(x_train)), family = sm.families.Binomial())\n",
    "model.fit().summary()"
   ]
  },
  {
   "cell_type": "code",
   "execution_count": 572,
   "id": "7bd30e1c",
   "metadata": {},
   "outputs": [],
   "source": [
    "x_train.drop('Select_G', axis = 1, inplace = True)"
   ]
  },
  {
   "cell_type": "code",
   "execution_count": 573,
   "id": "c9647d4f",
   "metadata": {},
   "outputs": [],
   "source": [
    "x_train.drop('Dang', axis = 1, inplace = True)"
   ]
  },
  {
   "cell_type": "code",
   "execution_count": 574,
   "id": "c2ad2b48",
   "metadata": {},
   "outputs": [],
   "source": [
    "x_train.drop('Dhading', axis = 1, inplace = True)"
   ]
  },
  {
   "cell_type": "code",
   "execution_count": 575,
   "id": "829705c6",
   "metadata": {},
   "outputs": [],
   "source": [
    "x_train.drop('Bachelor', axis = 1, inplace = True)"
   ]
  },
  {
   "cell_type": "code",
   "execution_count": 576,
   "id": "90baeb9f",
   "metadata": {},
   "outputs": [],
   "source": [
    "x_train.drop('Bachelor of Business Administration in Banking and Insurance', axis = 1, inplace = True)"
   ]
  },
  {
   "cell_type": "code",
   "execution_count": 577,
   "id": "6679b7e8",
   "metadata": {},
   "outputs": [],
   "source": [
    "x_train.drop('Bachelor of Science in Agriculture', axis = 1, inplace = True)"
   ]
  },
  {
   "cell_type": "code",
   "execution_count": 578,
   "id": "c67061e2",
   "metadata": {},
   "outputs": [],
   "source": [
    "x_train.drop(\"Bachelor's Degree in Business Studies\", axis = 1, inplace = True)"
   ]
  },
  {
   "cell_type": "code",
   "execution_count": 579,
   "id": "a41137d2",
   "metadata": {},
   "outputs": [],
   "source": [
    "x_train.drop('GCE A-Level', axis = 1, inplace = True)"
   ]
  },
  {
   "cell_type": "code",
   "execution_count": 580,
   "id": "20b507f2",
   "metadata": {},
   "outputs": [],
   "source": [
    "x_train.drop('GED-Testing', axis = 1, inplace = True)"
   ]
  },
  {
   "cell_type": "code",
   "execution_count": 581,
   "id": "01b7e044",
   "metadata": {},
   "outputs": [],
   "source": [
    "x_train.drop('Intermediate Level', axis = 1, inplace = True)"
   ]
  },
  {
   "cell_type": "code",
   "execution_count": 582,
   "id": "1c7263ed",
   "metadata": {},
   "outputs": [],
   "source": [
    "x_train.drop('Intermediate level', axis = 1, inplace = True)"
   ]
  },
  {
   "cell_type": "code",
   "execution_count": 583,
   "id": "0b6e35e0",
   "metadata": {},
   "outputs": [],
   "source": [
    "x_train.drop(2017.0, axis = 1, inplace = True)"
   ]
  },
  {
   "cell_type": "code",
   "execution_count": 584,
   "id": "75c830a8",
   "metadata": {},
   "outputs": [],
   "source": [
    "x_train.drop(2018.0, axis = 1, inplace = True)"
   ]
  },
  {
   "cell_type": "code",
   "execution_count": 585,
   "id": "419bdec7",
   "metadata": {},
   "outputs": [],
   "source": [
    "x_train.drop(2019.0, axis = 1, inplace = True)"
   ]
  },
  {
   "cell_type": "code",
   "execution_count": 586,
   "id": "b35ab860",
   "metadata": {},
   "outputs": [],
   "source": [
    "x_train.drop(2020.0, axis = 1, inplace = True)"
   ]
  },
  {
   "cell_type": "code",
   "execution_count": 587,
   "id": "631d74eb",
   "metadata": {},
   "outputs": [],
   "source": [
    "x_train.drop(2021.0, axis = 1, inplace = True)"
   ]
  },
  {
   "cell_type": "code",
   "execution_count": 588,
   "id": "91b2f250",
   "metadata": {},
   "outputs": [],
   "source": [
    "x_train.drop(2022.0, axis = 1, inplace = True)"
   ]
  },
  {
   "cell_type": "code",
   "execution_count": 589,
   "id": "9e1db396",
   "metadata": {},
   "outputs": [],
   "source": [
    "x_train.drop(2016.0, axis = 1, inplace = True)"
   ]
  },
  {
   "cell_type": "code",
   "execution_count": 590,
   "id": "ed8dcc07",
   "metadata": {},
   "outputs": [],
   "source": [
    "x_train.drop(2023.0, axis = 1, inplace = True)"
   ]
  },
  {
   "cell_type": "code",
   "execution_count": 591,
   "id": "b834d2d6",
   "metadata": {},
   "outputs": [],
   "source": [
    "x_train.drop('Select_EY', axis = 1, inplace = True)"
   ]
  },
  {
   "cell_type": "code",
   "execution_count": 592,
   "id": "a867486f",
   "metadata": {},
   "outputs": [],
   "source": [
    "x_train.drop('Select_P', axis = 1, inplace = True)"
   ]
  },
  {
   "cell_type": "code",
   "execution_count": 593,
   "id": "5ee8f08c",
   "metadata": {},
   "outputs": [],
   "source": [
    "x_train.drop('Intermediate Level ', axis = 1, inplace = True)"
   ]
  },
  {
   "cell_type": "code",
   "execution_count": 594,
   "id": "74109c41",
   "metadata": {},
   "outputs": [],
   "source": [
    "x_train.drop('Investment and Economics ', axis = 1, inplace = True)"
   ]
  },
  {
   "cell_type": "code",
   "execution_count": 595,
   "id": "06ef048a",
   "metadata": {},
   "outputs": [
    {
     "data": {
      "text/html": [
       "<table class=\"simpletable\">\n",
       "<caption>Generalized Linear Model Regression Results</caption>\n",
       "<tr>\n",
       "  <th>Dep. Variable:</th>      <td>Scholarship</td>   <th>  No. Observations:  </th>  <td>  1052</td> \n",
       "</tr>\n",
       "<tr>\n",
       "  <th>Model:</th>                  <td>GLM</td>       <th>  Df Residuals:      </th>  <td>   993</td> \n",
       "</tr>\n",
       "<tr>\n",
       "  <th>Model Family:</th>        <td>Binomial</td>     <th>  Df Model:          </th>  <td>    58</td> \n",
       "</tr>\n",
       "<tr>\n",
       "  <th>Link Function:</th>         <td>Logit</td>      <th>  Scale:             </th> <td>  1.0000</td>\n",
       "</tr>\n",
       "<tr>\n",
       "  <th>Method:</th>                <td>IRLS</td>       <th>  Log-Likelihood:    </th> <td> -369.32</td>\n",
       "</tr>\n",
       "<tr>\n",
       "  <th>Date:</th>            <td>Mon, 14 Aug 2023</td> <th>  Deviance:          </th> <td>  738.64</td>\n",
       "</tr>\n",
       "<tr>\n",
       "  <th>Time:</th>                <td>07:41:17</td>     <th>  Pearson chi2:      </th> <td>1.30e+03</td>\n",
       "</tr>\n",
       "<tr>\n",
       "  <th>No. Iterations:</th>          <td>6</td>        <th>  Pseudo R-squ. (CS):</th>  <td>0.4218</td> \n",
       "</tr>\n",
       "<tr>\n",
       "  <th>Covariance Type:</th>     <td>nonrobust</td>    <th>                     </th>     <td> </td>   \n",
       "</tr>\n",
       "</table>\n",
       "<table class=\"simpletable\">\n",
       "<tr>\n",
       "                      <td></td>                         <th>coef</th>     <th>std err</th>      <th>z</th>      <th>P>|z|</th>  <th>[0.025</th>    <th>0.975]</th>  \n",
       "</tr>\n",
       "<tr>\n",
       "  <th>const</th>                                     <td>   -5.2119</td> <td>    1.204</td> <td>   -4.328</td> <td> 0.000</td> <td>   -7.572</td> <td>   -2.852</td>\n",
       "</tr>\n",
       "<tr>\n",
       "  <th>Student ID</th>                                <td>    0.0005</td> <td>    0.001</td> <td>    0.576</td> <td> 0.564</td> <td>   -0.001</td> <td>    0.002</td>\n",
       "</tr>\n",
       "<tr>\n",
       "  <th>Male</th>                                      <td>    0.3675</td> <td>    0.205</td> <td>    1.789</td> <td> 0.074</td> <td>   -0.035</td> <td>    0.770</td>\n",
       "</tr>\n",
       "<tr>\n",
       "  <th>Select_Country</th>                            <td>    0.7654</td> <td>    0.312</td> <td>    2.449</td> <td> 0.014</td> <td>    0.153</td> <td>    1.378</td>\n",
       "</tr>\n",
       "<tr>\n",
       "  <th>Chitwan</th>                                   <td>    0.2316</td> <td>    0.733</td> <td>    0.316</td> <td> 0.752</td> <td>   -1.206</td> <td>    1.669</td>\n",
       "</tr>\n",
       "<tr>\n",
       "  <th>Dhanusa</th>                                   <td>   -0.0752</td> <td>    1.185</td> <td>   -0.063</td> <td> 0.949</td> <td>   -2.398</td> <td>    2.248</td>\n",
       "</tr>\n",
       "<tr>\n",
       "  <th>Dolkha</th>                                    <td>    1.1753</td> <td>    1.095</td> <td>    1.073</td> <td> 0.283</td> <td>   -0.971</td> <td>    3.322</td>\n",
       "</tr>\n",
       "<tr>\n",
       "  <th>Gorkha</th>                                    <td>    2.8401</td> <td>    1.303</td> <td>    2.179</td> <td> 0.029</td> <td>    0.286</td> <td>    5.395</td>\n",
       "</tr>\n",
       "<tr>\n",
       "  <th>Jhapa</th>                                     <td>    1.2132</td> <td>    0.672</td> <td>    1.805</td> <td> 0.071</td> <td>   -0.104</td> <td>    2.531</td>\n",
       "</tr>\n",
       "<tr>\n",
       "  <th>Kailali</th>                                   <td>    2.0951</td> <td>    1.165</td> <td>    1.798</td> <td> 0.072</td> <td>   -0.189</td> <td>    4.379</td>\n",
       "</tr>\n",
       "<tr>\n",
       "  <th>Kanchanpur</th>                                <td>    2.2607</td> <td>    1.235</td> <td>    1.831</td> <td> 0.067</td> <td>   -0.160</td> <td>    4.681</td>\n",
       "</tr>\n",
       "<tr>\n",
       "  <th>Kaski</th>                                     <td>    0.4109</td> <td>    0.943</td> <td>    0.436</td> <td> 0.663</td> <td>   -1.438</td> <td>    2.259</td>\n",
       "</tr>\n",
       "<tr>\n",
       "  <th>Kathmandu</th>                                 <td>    0.5588</td> <td>    0.445</td> <td>    1.255</td> <td> 0.209</td> <td>   -0.314</td> <td>    1.431</td>\n",
       "</tr>\n",
       "<tr>\n",
       "  <th>Kavreplanchok</th>                             <td>    0.3191</td> <td>    0.724</td> <td>    0.441</td> <td> 0.660</td> <td>   -1.100</td> <td>    1.739</td>\n",
       "</tr>\n",
       "<tr>\n",
       "  <th>Lalitpur</th>                                  <td>    0.7485</td> <td>    0.533</td> <td>    1.404</td> <td> 0.160</td> <td>   -0.296</td> <td>    1.793</td>\n",
       "</tr>\n",
       "<tr>\n",
       "  <th>Lamjung</th>                                   <td>   -0.0840</td> <td>    1.066</td> <td>   -0.079</td> <td> 0.937</td> <td>   -2.174</td> <td>    2.006</td>\n",
       "</tr>\n",
       "<tr>\n",
       "  <th>Makwanpur</th>                                 <td>    0.4510</td> <td>    1.233</td> <td>    0.366</td> <td> 0.715</td> <td>   -1.966</td> <td>    2.868</td>\n",
       "</tr>\n",
       "<tr>\n",
       "  <th>Morang</th>                                    <td>    2.5721</td> <td>    0.847</td> <td>    3.036</td> <td> 0.002</td> <td>    0.912</td> <td>    4.233</td>\n",
       "</tr>\n",
       "<tr>\n",
       "  <th>Nuwakot</th>                                   <td>    0.5202</td> <td>    0.926</td> <td>    0.562</td> <td> 0.574</td> <td>   -1.294</td> <td>    2.335</td>\n",
       "</tr>\n",
       "<tr>\n",
       "  <th>Other_Districts</th>                           <td>    0.2970</td> <td>    0.477</td> <td>    0.623</td> <td> 0.533</td> <td>   -0.637</td> <td>    1.232</td>\n",
       "</tr>\n",
       "<tr>\n",
       "  <th>Rupandehi</th>                                 <td>    0.8159</td> <td>    0.860</td> <td>    0.948</td> <td> 0.343</td> <td>   -0.870</td> <td>    2.502</td>\n",
       "</tr>\n",
       "<tr>\n",
       "  <th>Sarlahi</th>                                   <td>    1.8081</td> <td>    0.980</td> <td>    1.844</td> <td> 0.065</td> <td>   -0.114</td> <td>    3.730</td>\n",
       "</tr>\n",
       "<tr>\n",
       "  <th>Sunsari</th>                                   <td>    0.3820</td> <td>    0.864</td> <td>    0.442</td> <td> 0.658</td> <td>   -1.311</td> <td>    2.075</td>\n",
       "</tr>\n",
       "<tr>\n",
       "  <th>Syangja</th>                                   <td>    1.6475</td> <td>    1.141</td> <td>    1.444</td> <td> 0.149</td> <td>   -0.589</td> <td>    3.883</td>\n",
       "</tr>\n",
       "<tr>\n",
       "  <th>Employee_Mother</th>                           <td>   -0.3218</td> <td>    0.411</td> <td>   -0.783</td> <td> 0.433</td> <td>   -1.127</td> <td>    0.483</td>\n",
       "</tr>\n",
       "<tr>\n",
       "  <th>Government_Workers_Mother</th>                 <td>   -0.2389</td> <td>    0.850</td> <td>   -0.281</td> <td> 0.779</td> <td>   -1.905</td> <td>    1.427</td>\n",
       "</tr>\n",
       "<tr>\n",
       "  <th>HouseWife</th>                                 <td>    0.4629</td> <td>    0.328</td> <td>    1.409</td> <td> 0.159</td> <td>   -0.181</td> <td>    1.106</td>\n",
       "</tr>\n",
       "<tr>\n",
       "  <th>Select_MothersP</th>                           <td>    0.3444</td> <td>    0.549</td> <td>    0.627</td> <td> 0.531</td> <td>   -0.732</td> <td>    1.421</td>\n",
       "</tr>\n",
       "<tr>\n",
       "  <th>Employee_Father</th>                           <td>    0.0098</td> <td>    0.306</td> <td>    0.032</td> <td> 0.974</td> <td>   -0.589</td> <td>    0.609</td>\n",
       "</tr>\n",
       "<tr>\n",
       "  <th>Government_Workers_Father</th>                 <td>   -0.0431</td> <td>    0.328</td> <td>   -0.132</td> <td> 0.895</td> <td>   -0.685</td> <td>    0.599</td>\n",
       "</tr>\n",
       "<tr>\n",
       "  <th>Select_FathersP</th>                           <td>    0.1661</td> <td>    0.506</td> <td>    0.329</td> <td> 0.742</td> <td>   -0.825</td> <td>    1.157</td>\n",
       "</tr>\n",
       "<tr>\n",
       "  <th>A level</th>                                   <td>    0.9752</td> <td>    0.851</td> <td>    1.145</td> <td> 0.252</td> <td>   -0.694</td> <td>    2.644</td>\n",
       "</tr>\n",
       "<tr>\n",
       "  <th>Bachelor of Business Administration</th>       <td>   -3.0380</td> <td>    0.451</td> <td>   -6.739</td> <td> 0.000</td> <td>   -3.922</td> <td>   -2.154</td>\n",
       "</tr>\n",
       "<tr>\n",
       "  <th>Bachelor's Degree in Computer Engineering</th> <td>    0.6485</td> <td>    1.252</td> <td>    0.518</td> <td> 0.605</td> <td>   -1.806</td> <td>    3.103</td>\n",
       "</tr>\n",
       "<tr>\n",
       "  <th>GED</th>                                       <td>    4.2009</td> <td>    0.474</td> <td>    8.868</td> <td> 0.000</td> <td>    3.272</td> <td>    5.129</td>\n",
       "</tr>\n",
       "<tr>\n",
       "  <th>Intermediate level- Commerce </th>             <td>    0.2798</td> <td>    1.090</td> <td>    0.257</td> <td> 0.797</td> <td>   -1.856</td> <td>    2.416</td>\n",
       "</tr>\n",
       "<tr>\n",
       "  <th>Intermediate level- Sceince </th>              <td>    3.6681</td> <td>    1.119</td> <td>    3.278</td> <td> 0.001</td> <td>    1.475</td> <td>    5.861</td>\n",
       "</tr>\n",
       "<tr>\n",
       "  <th>Other_EB</th>                                  <td>   -0.7579</td> <td>    0.367</td> <td>   -2.063</td> <td> 0.039</td> <td>   -1.478</td> <td>   -0.038</td>\n",
       "</tr>\n",
       "<tr>\n",
       "  <th>Select_EB</th>                                 <td>   -0.8101</td> <td>    0.472</td> <td>   -1.716</td> <td> 0.086</td> <td>   -1.735</td> <td>    0.115</td>\n",
       "</tr>\n",
       "<tr>\n",
       "  <th>BSIT</th>                                      <td>   -0.4560</td> <td>    0.630</td> <td>   -0.723</td> <td> 0.469</td> <td>   -1.691</td> <td>    0.779</td>\n",
       "</tr>\n",
       "<tr>\n",
       "  <th>MBA</th>                                       <td>    4.7152</td> <td>    0.733</td> <td>    6.435</td> <td> 0.000</td> <td>    3.279</td> <td>    6.151</td>\n",
       "</tr>\n",
       "<tr>\n",
       "  <th>Digital Marketing</th>                         <td>    0.3255</td> <td>    1.338</td> <td>    0.243</td> <td> 0.808</td> <td>   -2.297</td> <td>    2.948</td>\n",
       "</tr>\n",
       "<tr>\n",
       "  <th>Digital Marketing </th>                        <td>   -0.3397</td> <td>    0.892</td> <td>   -0.381</td> <td> 0.703</td> <td>   -2.087</td> <td>    1.408</td>\n",
       "</tr>\n",
       "<tr>\n",
       "  <th>Entrepreneurship </th>                         <td>    0.7251</td> <td>    0.553</td> <td>    1.312</td> <td> 0.190</td> <td>   -0.358</td> <td>    1.808</td>\n",
       "</tr>\n",
       "<tr>\n",
       "  <th>Financial Management </th>                     <td>    0.1988</td> <td>    0.619</td> <td>    0.321</td> <td> 0.748</td> <td>   -1.015</td> <td>    1.412</td>\n",
       "</tr>\n",
       "<tr>\n",
       "  <th>Human Resources Management </th>               <td>    0.4068</td> <td>    0.605</td> <td>    0.672</td> <td> 0.501</td> <td>   -0.779</td> <td>    1.592</td>\n",
       "</tr>\n",
       "<tr>\n",
       "  <th>Marketing Management</th>                      <td>    0.3644</td> <td>    0.600</td> <td>    0.607</td> <td> 0.544</td> <td>   -0.812</td> <td>    1.541</td>\n",
       "</tr>\n",
       "<tr>\n",
       "  <th>No Concentration</th>                          <td>    0.0290</td> <td>    0.725</td> <td>    0.040</td> <td> 0.968</td> <td>   -1.391</td> <td>    1.449</td>\n",
       "</tr>\n",
       "<tr>\n",
       "  <th>Nonprofit Management</th>                      <td>    0.3723</td> <td>    0.765</td> <td>    0.487</td> <td> 0.626</td> <td>   -1.126</td> <td>    1.871</td>\n",
       "</tr>\n",
       "<tr>\n",
       "  <th>Other_AC</th>                                  <td>    0.1219</td> <td>    0.684</td> <td>    0.178</td> <td> 0.859</td> <td>   -1.218</td> <td>    1.462</td>\n",
       "</tr>\n",
       "<tr>\n",
       "  <th>Pending </th>                                  <td>    0.4146</td> <td>    0.707</td> <td>    0.586</td> <td> 0.558</td> <td>   -0.972</td> <td>    1.801</td>\n",
       "</tr>\n",
       "<tr>\n",
       "  <th>Select_AC</th>                                 <td>    0.9077</td> <td>    0.660</td> <td>    1.376</td> <td> 0.169</td> <td>   -0.385</td> <td>    2.200</td>\n",
       "</tr>\n",
       "<tr>\n",
       "  <th>Technology and Innovation</th>                 <td>   -0.0709</td> <td>    0.659</td> <td>   -0.108</td> <td> 0.914</td> <td>   -1.363</td> <td>    1.221</td>\n",
       "</tr>\n",
       "<tr>\n",
       "  <th>Running</th>                                   <td>    0.4865</td> <td>    0.366</td> <td>    1.329</td> <td> 0.184</td> <td>   -0.231</td> <td>    1.204</td>\n",
       "</tr>\n",
       "<tr>\n",
       "  <th>Select_Status</th>                             <td>   -0.0398</td> <td>    0.520</td> <td>   -0.077</td> <td> 0.939</td> <td>   -1.060</td> <td>    0.980</td>\n",
       "</tr>\n",
       "<tr>\n",
       "  <th>Withdrawn </th>                                <td>    0.5190</td> <td>    0.381</td> <td>    1.361</td> <td> 0.174</td> <td>   -0.229</td> <td>    1.266</td>\n",
       "</tr>\n",
       "<tr>\n",
       "  <th>PE_Entrepreneur</th>                           <td>   -0.4534</td> <td>    0.375</td> <td>   -1.210</td> <td> 0.226</td> <td>   -1.188</td> <td>    0.281</td>\n",
       "</tr>\n",
       "<tr>\n",
       "  <th>PE_Unemployed</th>                             <td>   -0.0024</td> <td>    0.267</td> <td>   -0.009</td> <td> 0.993</td> <td>   -0.527</td> <td>    0.522</td>\n",
       "</tr>\n",
       "<tr>\n",
       "  <th>Select_PE</th>                                 <td>   -0.8621</td> <td>    0.395</td> <td>   -2.183</td> <td> 0.029</td> <td>   -1.636</td> <td>   -0.088</td>\n",
       "</tr>\n",
       "</table>"
      ],
      "text/plain": [
       "<class 'statsmodels.iolib.summary.Summary'>\n",
       "\"\"\"\n",
       "                 Generalized Linear Model Regression Results                  \n",
       "==============================================================================\n",
       "Dep. Variable:            Scholarship   No. Observations:                 1052\n",
       "Model:                            GLM   Df Residuals:                      993\n",
       "Model Family:                Binomial   Df Model:                           58\n",
       "Link Function:                  Logit   Scale:                          1.0000\n",
       "Method:                          IRLS   Log-Likelihood:                -369.32\n",
       "Date:                Mon, 14 Aug 2023   Deviance:                       738.64\n",
       "Time:                        07:41:17   Pearson chi2:                 1.30e+03\n",
       "No. Iterations:                     6   Pseudo R-squ. (CS):             0.4218\n",
       "Covariance Type:            nonrobust                                         \n",
       "=============================================================================================================\n",
       "                                                coef    std err          z      P>|z|      [0.025      0.975]\n",
       "-------------------------------------------------------------------------------------------------------------\n",
       "const                                        -5.2119      1.204     -4.328      0.000      -7.572      -2.852\n",
       "Student ID                                    0.0005      0.001      0.576      0.564      -0.001       0.002\n",
       "Male                                          0.3675      0.205      1.789      0.074      -0.035       0.770\n",
       "Select_Country                                0.7654      0.312      2.449      0.014       0.153       1.378\n",
       "Chitwan                                       0.2316      0.733      0.316      0.752      -1.206       1.669\n",
       "Dhanusa                                      -0.0752      1.185     -0.063      0.949      -2.398       2.248\n",
       "Dolkha                                        1.1753      1.095      1.073      0.283      -0.971       3.322\n",
       "Gorkha                                        2.8401      1.303      2.179      0.029       0.286       5.395\n",
       "Jhapa                                         1.2132      0.672      1.805      0.071      -0.104       2.531\n",
       "Kailali                                       2.0951      1.165      1.798      0.072      -0.189       4.379\n",
       "Kanchanpur                                    2.2607      1.235      1.831      0.067      -0.160       4.681\n",
       "Kaski                                         0.4109      0.943      0.436      0.663      -1.438       2.259\n",
       "Kathmandu                                     0.5588      0.445      1.255      0.209      -0.314       1.431\n",
       "Kavreplanchok                                 0.3191      0.724      0.441      0.660      -1.100       1.739\n",
       "Lalitpur                                      0.7485      0.533      1.404      0.160      -0.296       1.793\n",
       "Lamjung                                      -0.0840      1.066     -0.079      0.937      -2.174       2.006\n",
       "Makwanpur                                     0.4510      1.233      0.366      0.715      -1.966       2.868\n",
       "Morang                                        2.5721      0.847      3.036      0.002       0.912       4.233\n",
       "Nuwakot                                       0.5202      0.926      0.562      0.574      -1.294       2.335\n",
       "Other_Districts                               0.2970      0.477      0.623      0.533      -0.637       1.232\n",
       "Rupandehi                                     0.8159      0.860      0.948      0.343      -0.870       2.502\n",
       "Sarlahi                                       1.8081      0.980      1.844      0.065      -0.114       3.730\n",
       "Sunsari                                       0.3820      0.864      0.442      0.658      -1.311       2.075\n",
       "Syangja                                       1.6475      1.141      1.444      0.149      -0.589       3.883\n",
       "Employee_Mother                              -0.3218      0.411     -0.783      0.433      -1.127       0.483\n",
       "Government_Workers_Mother                    -0.2389      0.850     -0.281      0.779      -1.905       1.427\n",
       "HouseWife                                     0.4629      0.328      1.409      0.159      -0.181       1.106\n",
       "Select_MothersP                               0.3444      0.549      0.627      0.531      -0.732       1.421\n",
       "Employee_Father                               0.0098      0.306      0.032      0.974      -0.589       0.609\n",
       "Government_Workers_Father                    -0.0431      0.328     -0.132      0.895      -0.685       0.599\n",
       "Select_FathersP                               0.1661      0.506      0.329      0.742      -0.825       1.157\n",
       "A level                                       0.9752      0.851      1.145      0.252      -0.694       2.644\n",
       "Bachelor of Business Administration          -3.0380      0.451     -6.739      0.000      -3.922      -2.154\n",
       "Bachelor's Degree in Computer Engineering     0.6485      1.252      0.518      0.605      -1.806       3.103\n",
       "GED                                           4.2009      0.474      8.868      0.000       3.272       5.129\n",
       "Intermediate level- Commerce                  0.2798      1.090      0.257      0.797      -1.856       2.416\n",
       "Intermediate level- Sceince                   3.6681      1.119      3.278      0.001       1.475       5.861\n",
       "Other_EB                                     -0.7579      0.367     -2.063      0.039      -1.478      -0.038\n",
       "Select_EB                                    -0.8101      0.472     -1.716      0.086      -1.735       0.115\n",
       "BSIT                                         -0.4560      0.630     -0.723      0.469      -1.691       0.779\n",
       "MBA                                           4.7152      0.733      6.435      0.000       3.279       6.151\n",
       "Digital Marketing                             0.3255      1.338      0.243      0.808      -2.297       2.948\n",
       "Digital Marketing                            -0.3397      0.892     -0.381      0.703      -2.087       1.408\n",
       "Entrepreneurship                              0.7251      0.553      1.312      0.190      -0.358       1.808\n",
       "Financial Management                          0.1988      0.619      0.321      0.748      -1.015       1.412\n",
       "Human Resources Management                    0.4068      0.605      0.672      0.501      -0.779       1.592\n",
       "Marketing Management                          0.3644      0.600      0.607      0.544      -0.812       1.541\n",
       "No Concentration                              0.0290      0.725      0.040      0.968      -1.391       1.449\n",
       "Nonprofit Management                          0.3723      0.765      0.487      0.626      -1.126       1.871\n",
       "Other_AC                                      0.1219      0.684      0.178      0.859      -1.218       1.462\n",
       "Pending                                       0.4146      0.707      0.586      0.558      -0.972       1.801\n",
       "Select_AC                                     0.9077      0.660      1.376      0.169      -0.385       2.200\n",
       "Technology and Innovation                    -0.0709      0.659     -0.108      0.914      -1.363       1.221\n",
       "Running                                       0.4865      0.366      1.329      0.184      -0.231       1.204\n",
       "Select_Status                                -0.0398      0.520     -0.077      0.939      -1.060       0.980\n",
       "Withdrawn                                     0.5190      0.381      1.361      0.174      -0.229       1.266\n",
       "PE_Entrepreneur                              -0.4534      0.375     -1.210      0.226      -1.188       0.281\n",
       "PE_Unemployed                                -0.0024      0.267     -0.009      0.993      -0.527       0.522\n",
       "Select_PE                                    -0.8621      0.395     -2.183      0.029      -1.636      -0.088\n",
       "=============================================================================================================\n",
       "\"\"\""
      ]
     },
     "execution_count": 595,
     "metadata": {},
     "output_type": "execute_result"
    }
   ],
   "source": [
    "model = sm.GLM(y_train, (sm.add_constant(x_train)), family = sm.families.Binomial())\n",
    "model.fit().summary()"
   ]
  },
  {
   "cell_type": "markdown",
   "id": "375e6ab6",
   "metadata": {},
   "source": [
    "## F. Selecting the Variables with RFE"
   ]
  },
  {
   "cell_type": "code",
   "execution_count": 596,
   "id": "9272e9fe",
   "metadata": {},
   "outputs": [],
   "source": [
    "# importing relevant libraries \n",
    "\n",
    "from sklearn.linear_model import LogisticRegression \n",
    "logreg = LogisticRegression()"
   ]
  },
  {
   "cell_type": "code",
   "execution_count": 597,
   "id": "51d7b479",
   "metadata": {},
   "outputs": [],
   "source": [
    "x_train.columns = x_train.columns.astype(str)"
   ]
  },
  {
   "cell_type": "code",
   "execution_count": 598,
   "id": "abd179c7",
   "metadata": {},
   "outputs": [],
   "source": [
    "# running Recursive Feature Elimination (RFE) \n",
    "\n",
    "from sklearn.feature_selection import RFE \n",
    "rfe = RFE(estimator=logreg, n_features_to_select = 10)\n",
    "\n",
    "rfe = rfe.fit(x_train, y_train)"
   ]
  },
  {
   "cell_type": "code",
   "execution_count": 599,
   "id": "f7b4ee20",
   "metadata": {},
   "outputs": [
    {
     "data": {
      "text/plain": [
       "[('Student ID', False, 49),\n",
       " ('Male', False, 19),\n",
       " ('Select_Country', False, 11),\n",
       " ('Chitwan', False, 26),\n",
       " ('Dhanusa', False, 15),\n",
       " ('Dolkha', False, 28),\n",
       " ('Gorkha', True, 1),\n",
       " ('Jhapa', False, 6),\n",
       " ('Kailali', True, 1),\n",
       " ('Kanchanpur', False, 2),\n",
       " ('Kaski', False, 40),\n",
       " ('Kathmandu', False, 42),\n",
       " ('Kavreplanchok', False, 20),\n",
       " ('Lalitpur', False, 33),\n",
       " ('Lamjung', False, 17),\n",
       " ('Makwanpur', False, 39),\n",
       " ('Morang', True, 1),\n",
       " ('Nuwakot', False, 41),\n",
       " ('Other_Districts', False, 16),\n",
       " ('Rupandehi', False, 31),\n",
       " ('Sarlahi', False, 3),\n",
       " ('Sunsari', False, 27),\n",
       " ('Syangja', True, 1),\n",
       " ('Employee_Mother', False, 21),\n",
       " ('Government_Workers_Mother', False, 32),\n",
       " ('HouseWife', False, 5),\n",
       " ('Select_MothersP', False, 4),\n",
       " ('Employee_Father', False, 43),\n",
       " ('Government_Workers_Father', False, 47),\n",
       " ('Select_FathersP', False, 30),\n",
       " ('A level', False, 9),\n",
       " ('Bachelor of Business Administration', True, 1),\n",
       " (\"Bachelor's Degree in Computer Engineering\", False, 7),\n",
       " ('GED', True, 1),\n",
       " ('Intermediate level- Commerce ', False, 23),\n",
       " ('Intermediate level- Sceince ', True, 1),\n",
       " ('Other_EB', False, 25),\n",
       " ('Select_EB', False, 24),\n",
       " ('BSIT', False, 29),\n",
       " ('MBA', True, 1),\n",
       " ('Digital Marketing', False, 48),\n",
       " ('Digital Marketing ', True, 1),\n",
       " ('Entrepreneurship ', False, 8),\n",
       " ('Financial Management ', False, 44),\n",
       " ('Human Resources Management ', False, 36),\n",
       " ('Marketing Management', False, 34),\n",
       " ('No Concentration', False, 22),\n",
       " ('Nonprofit Management', False, 37),\n",
       " ('Other_AC', False, 45),\n",
       " ('Pending ', False, 35),\n",
       " ('Select_AC', False, 10),\n",
       " ('Technology and Innovation', False, 14),\n",
       " ('Running', False, 12),\n",
       " ('Select_Status', False, 38),\n",
       " ('Withdrawn ', False, 13),\n",
       " ('PE_Entrepreneur', False, 18),\n",
       " ('PE_Unemployed', False, 46),\n",
       " ('Select_PE', True, 1)]"
      ]
     },
     "execution_count": 599,
     "metadata": {},
     "output_type": "execute_result"
    }
   ],
   "source": [
    "# creating a list of all the variables and their RFE rankings \n",
    "\n",
    "list(zip(x_train.columns, rfe.support_, rfe.ranking_))"
   ]
  },
  {
   "cell_type": "code",
   "execution_count": 600,
   "id": "f03d7621",
   "metadata": {},
   "outputs": [],
   "source": [
    "# storing the selected columns in col\n",
    "\n",
    "col = x_train.columns[rfe.support_]"
   ]
  },
  {
   "cell_type": "code",
   "execution_count": 601,
   "id": "42ed5200",
   "metadata": {},
   "outputs": [
    {
     "data": {
      "text/html": [
       "<div>\n",
       "<style scoped>\n",
       "    .dataframe tbody tr th:only-of-type {\n",
       "        vertical-align: middle;\n",
       "    }\n",
       "\n",
       "    .dataframe tbody tr th {\n",
       "        vertical-align: top;\n",
       "    }\n",
       "\n",
       "    .dataframe thead th {\n",
       "        text-align: right;\n",
       "    }\n",
       "</style>\n",
       "<table border=\"1\" class=\"dataframe\">\n",
       "  <thead>\n",
       "    <tr style=\"text-align: right;\">\n",
       "      <th></th>\n",
       "      <th>Gorkha</th>\n",
       "      <th>Kailali</th>\n",
       "      <th>Morang</th>\n",
       "      <th>Syangja</th>\n",
       "      <th>Bachelor of Business Administration</th>\n",
       "      <th>GED</th>\n",
       "      <th>Intermediate level- Sceince</th>\n",
       "      <th>MBA</th>\n",
       "      <th>Digital Marketing</th>\n",
       "      <th>Select_PE</th>\n",
       "    </tr>\n",
       "  </thead>\n",
       "  <tbody>\n",
       "    <tr>\n",
       "      <th>355</th>\n",
       "      <td>0</td>\n",
       "      <td>0</td>\n",
       "      <td>0</td>\n",
       "      <td>0</td>\n",
       "      <td>0</td>\n",
       "      <td>0</td>\n",
       "      <td>0</td>\n",
       "      <td>1</td>\n",
       "      <td>0</td>\n",
       "      <td>0</td>\n",
       "    </tr>\n",
       "    <tr>\n",
       "      <th>625</th>\n",
       "      <td>0</td>\n",
       "      <td>0</td>\n",
       "      <td>0</td>\n",
       "      <td>0</td>\n",
       "      <td>1</td>\n",
       "      <td>0</td>\n",
       "      <td>0</td>\n",
       "      <td>1</td>\n",
       "      <td>0</td>\n",
       "      <td>0</td>\n",
       "    </tr>\n",
       "    <tr>\n",
       "      <th>1478</th>\n",
       "      <td>0</td>\n",
       "      <td>0</td>\n",
       "      <td>0</td>\n",
       "      <td>0</td>\n",
       "      <td>0</td>\n",
       "      <td>0</td>\n",
       "      <td>0</td>\n",
       "      <td>0</td>\n",
       "      <td>0</td>\n",
       "      <td>0</td>\n",
       "    </tr>\n",
       "    <tr>\n",
       "      <th>637</th>\n",
       "      <td>0</td>\n",
       "      <td>0</td>\n",
       "      <td>0</td>\n",
       "      <td>0</td>\n",
       "      <td>1</td>\n",
       "      <td>0</td>\n",
       "      <td>0</td>\n",
       "      <td>1</td>\n",
       "      <td>0</td>\n",
       "      <td>0</td>\n",
       "    </tr>\n",
       "    <tr>\n",
       "      <th>487</th>\n",
       "      <td>0</td>\n",
       "      <td>0</td>\n",
       "      <td>0</td>\n",
       "      <td>0</td>\n",
       "      <td>1</td>\n",
       "      <td>0</td>\n",
       "      <td>0</td>\n",
       "      <td>1</td>\n",
       "      <td>0</td>\n",
       "      <td>0</td>\n",
       "    </tr>\n",
       "  </tbody>\n",
       "</table>\n",
       "</div>"
      ],
      "text/plain": [
       "      Gorkha  Kailali  Morang  Syangja  Bachelor of Business Administration  \\\n",
       "355        0        0       0        0                                    0   \n",
       "625        0        0       0        0                                    1   \n",
       "1478       0        0       0        0                                    0   \n",
       "637        0        0       0        0                                    1   \n",
       "487        0        0       0        0                                    1   \n",
       "\n",
       "      GED  Intermediate level- Sceince   MBA  Digital Marketing   Select_PE  \n",
       "355     0                             0    1                   0          0  \n",
       "625     0                             0    1                   0          0  \n",
       "1478    0                             0    0                   0          0  \n",
       "637     0                             0    1                   0          0  \n",
       "487     0                             0    1                   0          0  "
      ]
     },
     "execution_count": 601,
     "metadata": {},
     "output_type": "execute_result"
    }
   ],
   "source": [
    "x_train[col].head()"
   ]
  },
  {
   "cell_type": "code",
   "execution_count": 602,
   "id": "af0e68ab",
   "metadata": {},
   "outputs": [
    {
     "data": {
      "text/plain": [
       "Index(['Gorkha', 'Kailali', 'Morang', 'Syangja',\n",
       "       'Bachelor of Business Administration', 'GED',\n",
       "       'Intermediate level- Sceince ', 'MBA', 'Digital Marketing ',\n",
       "       'Select_PE'],\n",
       "      dtype='object')"
      ]
     },
     "execution_count": 602,
     "metadata": {},
     "output_type": "execute_result"
    }
   ],
   "source": [
    "# checking the selected columns \n",
    "\n",
    "x_train.columns[rfe.support_]"
   ]
  },
  {
   "cell_type": "markdown",
   "id": "e7b07552",
   "metadata": {},
   "source": [
    "## G. Building the Model Based on the selected variables "
   ]
  },
  {
   "cell_type": "code",
   "execution_count": 603,
   "id": "3d91c86b",
   "metadata": {},
   "outputs": [
    {
     "data": {
      "text/html": [
       "<table class=\"simpletable\">\n",
       "<caption>Generalized Linear Model Regression Results</caption>\n",
       "<tr>\n",
       "  <th>Dep. Variable:</th>      <td>Scholarship</td>   <th>  No. Observations:  </th>  <td>  1052</td> \n",
       "</tr>\n",
       "<tr>\n",
       "  <th>Model:</th>                  <td>GLM</td>       <th>  Df Residuals:      </th>  <td>  1041</td> \n",
       "</tr>\n",
       "<tr>\n",
       "  <th>Model Family:</th>        <td>Binomial</td>     <th>  Df Model:          </th>  <td>    10</td> \n",
       "</tr>\n",
       "<tr>\n",
       "  <th>Link Function:</th>         <td>Logit</td>      <th>  Scale:             </th> <td>  1.0000</td>\n",
       "</tr>\n",
       "<tr>\n",
       "  <th>Method:</th>                <td>IRLS</td>       <th>  Log-Likelihood:    </th> <td> -389.59</td>\n",
       "</tr>\n",
       "<tr>\n",
       "  <th>Date:</th>            <td>Mon, 14 Aug 2023</td> <th>  Deviance:          </th> <td>  779.18</td>\n",
       "</tr>\n",
       "<tr>\n",
       "  <th>Time:</th>                <td>07:41:17</td>     <th>  Pearson chi2:      </th> <td>1.03e+03</td>\n",
       "</tr>\n",
       "<tr>\n",
       "  <th>No. Iterations:</th>          <td>6</td>        <th>  Pseudo R-squ. (CS):</th>  <td>0.3991</td> \n",
       "</tr>\n",
       "<tr>\n",
       "  <th>Covariance Type:</th>     <td>nonrobust</td>    <th>                     </th>     <td> </td>   \n",
       "</tr>\n",
       "</table>\n",
       "<table class=\"simpletable\">\n",
       "<tr>\n",
       "                   <td></td>                      <th>coef</th>     <th>std err</th>      <th>z</th>      <th>P>|z|</th>  <th>[0.025</th>    <th>0.975]</th>  \n",
       "</tr>\n",
       "<tr>\n",
       "  <th>const</th>                               <td>   -2.6458</td> <td>    0.238</td> <td>  -11.106</td> <td> 0.000</td> <td>   -3.113</td> <td>   -2.179</td>\n",
       "</tr>\n",
       "<tr>\n",
       "  <th>Gorkha</th>                              <td>    2.4403</td> <td>    1.179</td> <td>    2.070</td> <td> 0.038</td> <td>    0.130</td> <td>    4.750</td>\n",
       "</tr>\n",
       "<tr>\n",
       "  <th>Kailali</th>                             <td>    1.5240</td> <td>    1.130</td> <td>    1.349</td> <td> 0.177</td> <td>   -0.690</td> <td>    3.738</td>\n",
       "</tr>\n",
       "<tr>\n",
       "  <th>Morang</th>                              <td>    2.2638</td> <td>    0.715</td> <td>    3.166</td> <td> 0.002</td> <td>    0.862</td> <td>    3.665</td>\n",
       "</tr>\n",
       "<tr>\n",
       "  <th>Syangja</th>                             <td>    1.3393</td> <td>    1.110</td> <td>    1.207</td> <td> 0.228</td> <td>   -0.836</td> <td>    3.515</td>\n",
       "</tr>\n",
       "<tr>\n",
       "  <th>Bachelor of Business Administration</th> <td>   -2.6240</td> <td>    0.304</td> <td>   -8.626</td> <td> 0.000</td> <td>   -3.220</td> <td>   -2.028</td>\n",
       "</tr>\n",
       "<tr>\n",
       "  <th>GED</th>                                 <td>    3.9520</td> <td>    0.416</td> <td>    9.492</td> <td> 0.000</td> <td>    3.136</td> <td>    4.768</td>\n",
       "</tr>\n",
       "<tr>\n",
       "  <th>Intermediate level- Sceince </th>        <td>    2.9452</td> <td>    1.032</td> <td>    2.854</td> <td> 0.004</td> <td>    0.923</td> <td>    4.968</td>\n",
       "</tr>\n",
       "<tr>\n",
       "  <th>MBA</th>                                 <td>    3.5673</td> <td>    0.256</td> <td>   13.941</td> <td> 0.000</td> <td>    3.066</td> <td>    4.069</td>\n",
       "</tr>\n",
       "<tr>\n",
       "  <th>Digital Marketing </th>                  <td>   -0.7802</td> <td>    0.658</td> <td>   -1.186</td> <td> 0.236</td> <td>   -2.069</td> <td>    0.509</td>\n",
       "</tr>\n",
       "<tr>\n",
       "  <th>Select_PE</th>                           <td>   -0.5988</td> <td>    0.258</td> <td>   -2.318</td> <td> 0.020</td> <td>   -1.105</td> <td>   -0.093</td>\n",
       "</tr>\n",
       "</table>"
      ],
      "text/plain": [
       "<class 'statsmodels.iolib.summary.Summary'>\n",
       "\"\"\"\n",
       "                 Generalized Linear Model Regression Results                  \n",
       "==============================================================================\n",
       "Dep. Variable:            Scholarship   No. Observations:                 1052\n",
       "Model:                            GLM   Df Residuals:                     1041\n",
       "Model Family:                Binomial   Df Model:                           10\n",
       "Link Function:                  Logit   Scale:                          1.0000\n",
       "Method:                          IRLS   Log-Likelihood:                -389.59\n",
       "Date:                Mon, 14 Aug 2023   Deviance:                       779.18\n",
       "Time:                        07:41:17   Pearson chi2:                 1.03e+03\n",
       "No. Iterations:                     6   Pseudo R-squ. (CS):             0.3991\n",
       "Covariance Type:            nonrobust                                         \n",
       "=======================================================================================================\n",
       "                                          coef    std err          z      P>|z|      [0.025      0.975]\n",
       "-------------------------------------------------------------------------------------------------------\n",
       "const                                  -2.6458      0.238    -11.106      0.000      -3.113      -2.179\n",
       "Gorkha                                  2.4403      1.179      2.070      0.038       0.130       4.750\n",
       "Kailali                                 1.5240      1.130      1.349      0.177      -0.690       3.738\n",
       "Morang                                  2.2638      0.715      3.166      0.002       0.862       3.665\n",
       "Syangja                                 1.3393      1.110      1.207      0.228      -0.836       3.515\n",
       "Bachelor of Business Administration    -2.6240      0.304     -8.626      0.000      -3.220      -2.028\n",
       "GED                                     3.9520      0.416      9.492      0.000       3.136       4.768\n",
       "Intermediate level- Sceince             2.9452      1.032      2.854      0.004       0.923       4.968\n",
       "MBA                                     3.5673      0.256     13.941      0.000       3.066       4.069\n",
       "Digital Marketing                      -0.7802      0.658     -1.186      0.236      -2.069       0.509\n",
       "Select_PE                              -0.5988      0.258     -2.318      0.020      -1.105      -0.093\n",
       "=======================================================================================================\n",
       "\"\"\""
      ]
     },
     "execution_count": 603,
     "metadata": {},
     "output_type": "execute_result"
    }
   ],
   "source": [
    "# creating the model \n",
    "\n",
    "x_train_sm = sm.add_constant(x_train[col])\n",
    "model_one = sm.GLM(y_train, x_train_sm, family = sm.families.Binomial())\n",
    "pred = model_one.fit()\n",
    "pred.summary()"
   ]
  },
  {
   "cell_type": "code",
   "execution_count": 604,
   "id": "de5890bc",
   "metadata": {},
   "outputs": [],
   "source": [
    "# importing relevant libraries \n",
    "\n",
    "from statsmodels.stats.outliers_influence import variance_inflation_factor"
   ]
  },
  {
   "cell_type": "code",
   "execution_count": 605,
   "id": "afe07d70",
   "metadata": {},
   "outputs": [
    {
     "data": {
      "text/html": [
       "<div>\n",
       "<style scoped>\n",
       "    .dataframe tbody tr th:only-of-type {\n",
       "        vertical-align: middle;\n",
       "    }\n",
       "\n",
       "    .dataframe tbody tr th {\n",
       "        vertical-align: top;\n",
       "    }\n",
       "\n",
       "    .dataframe thead th {\n",
       "        text-align: right;\n",
       "    }\n",
       "</style>\n",
       "<table border=\"1\" class=\"dataframe\">\n",
       "  <thead>\n",
       "    <tr style=\"text-align: right;\">\n",
       "      <th></th>\n",
       "      <th>variables</th>\n",
       "      <th>VIF</th>\n",
       "    </tr>\n",
       "  </thead>\n",
       "  <tbody>\n",
       "    <tr>\n",
       "      <th>4</th>\n",
       "      <td>Bachelor of Business Administration</td>\n",
       "      <td>1.29</td>\n",
       "    </tr>\n",
       "    <tr>\n",
       "      <th>8</th>\n",
       "      <td>Digital Marketing</td>\n",
       "      <td>1.05</td>\n",
       "    </tr>\n",
       "    <tr>\n",
       "      <th>5</th>\n",
       "      <td>GED</td>\n",
       "      <td>1.03</td>\n",
       "    </tr>\n",
       "    <tr>\n",
       "      <th>1</th>\n",
       "      <td>Kailali</td>\n",
       "      <td>1.01</td>\n",
       "    </tr>\n",
       "    <tr>\n",
       "      <th>2</th>\n",
       "      <td>Morang</td>\n",
       "      <td>1.01</td>\n",
       "    </tr>\n",
       "    <tr>\n",
       "      <th>3</th>\n",
       "      <td>Syangja</td>\n",
       "      <td>1.01</td>\n",
       "    </tr>\n",
       "    <tr>\n",
       "      <th>0</th>\n",
       "      <td>Gorkha</td>\n",
       "      <td>1.00</td>\n",
       "    </tr>\n",
       "    <tr>\n",
       "      <th>6</th>\n",
       "      <td>Intermediate level- Sceince</td>\n",
       "      <td>1.00</td>\n",
       "    </tr>\n",
       "    <tr>\n",
       "      <th>7</th>\n",
       "      <td>MBA</td>\n",
       "      <td>0.58</td>\n",
       "    </tr>\n",
       "    <tr>\n",
       "      <th>9</th>\n",
       "      <td>Select_PE</td>\n",
       "      <td>0.33</td>\n",
       "    </tr>\n",
       "  </tbody>\n",
       "</table>\n",
       "</div>"
      ],
      "text/plain": [
       "                             variables   VIF\n",
       "4  Bachelor of Business Administration  1.29\n",
       "8                   Digital Marketing   1.05\n",
       "5                                  GED  1.03\n",
       "1                              Kailali  1.01\n",
       "2                               Morang  1.01\n",
       "3                              Syangja  1.01\n",
       "0                               Gorkha  1.00\n",
       "6         Intermediate level- Sceince   1.00\n",
       "7                                  MBA  0.58\n",
       "9                            Select_PE  0.33"
      ]
     },
     "execution_count": 605,
     "metadata": {},
     "output_type": "execute_result"
    }
   ],
   "source": [
    "# creating a new dataframe that consists of the name of the variables and their respective VIF\n",
    "\n",
    "vif = pd.DataFrame()\n",
    "\n",
    "# assigning the column 'variables' with the columns of X_train \n",
    "\n",
    "vif['variables'] = x_train[col].columns\n",
    "\n",
    "# assigning the column 'VIF' with the VIF values of the variales \n",
    "\n",
    "vif['VIF'] = [variance_inflation_factor(x_train[col].values,i) for i in range (x_train[col].shape[1])]\n",
    "\n",
    "# rounding off the VIF values to 2 decimal places \n",
    "\n",
    "vif['VIF'] = round(vif['VIF'],2)\n",
    "\n",
    "# sorting the VIF values in descending order \n",
    "\n",
    "vif = vif.sort_values(by = 'VIF' , ascending = False)\n",
    "\n",
    "# printing the dataframe vif \n",
    "\n",
    "vif"
   ]
  },
  {
   "cell_type": "code",
   "execution_count": 606,
   "id": "cca03838",
   "metadata": {},
   "outputs": [
    {
     "data": {
      "text/plain": [
       "355     0.715343\n",
       "625     0.154140\n",
       "1478    0.066250\n",
       "637     0.154140\n",
       "487     0.154140\n",
       "1022    0.037521\n",
       "1420    0.066250\n",
       "380     0.715343\n",
       "966     0.037521\n",
       "221     0.715343\n",
       "dtype: float64"
      ]
     },
     "execution_count": 606,
     "metadata": {},
     "output_type": "execute_result"
    }
   ],
   "source": [
    "# Getting the predicted values on the train set\n",
    "\n",
    "y_train_pred = pred.predict(x_train_sm)\n",
    "y_train_pred[:10]"
   ]
  },
  {
   "cell_type": "code",
   "execution_count": 607,
   "id": "a3e7d748",
   "metadata": {},
   "outputs": [
    {
     "data": {
      "text/plain": [
       "355     0.715343\n",
       "625     0.154140\n",
       "1478    0.066250\n",
       "637     0.154140\n",
       "487     0.154140\n",
       "          ...   \n",
       "802     0.037521\n",
       "53      0.154140\n",
       "350     0.154140\n",
       "79      0.715343\n",
       "792     0.669830\n",
       "Length: 1052, dtype: float64"
      ]
     },
     "execution_count": 607,
     "metadata": {},
     "output_type": "execute_result"
    }
   ],
   "source": [
    "y_train_pred"
   ]
  },
  {
   "cell_type": "code",
   "execution_count": 608,
   "id": "aff80ddc",
   "metadata": {},
   "outputs": [],
   "source": [
    "y_train_pred = y_train_pred.values.reshape(-1)"
   ]
  },
  {
   "cell_type": "code",
   "execution_count": 609,
   "id": "d1ac542a",
   "metadata": {},
   "outputs": [
    {
     "data": {
      "text/plain": [
       "array([0.7153432 , 0.1541401 , 0.06624989, 0.1541401 , 0.1541401 ,\n",
       "       0.03752067, 0.06624989, 0.7153432 , 0.03752067, 0.7153432 ])"
      ]
     },
     "execution_count": 609,
     "metadata": {},
     "output_type": "execute_result"
    }
   ],
   "source": [
    "y_train_pred[:10]"
   ]
  },
  {
   "cell_type": "code",
   "execution_count": 610,
   "id": "51098c4d",
   "metadata": {},
   "outputs": [],
   "source": [
    "# creating the columns 'Scholarship' and 'Scholarship_prob' for the dataframe y_train_final\n",
    "\n",
    "y_train_final = pd.DataFrame({'Scholarship' :y_train.values, 'Scholarship_prob' : y_train_pred })"
   ]
  },
  {
   "cell_type": "code",
   "execution_count": 611,
   "id": "c9ee905a",
   "metadata": {},
   "outputs": [],
   "source": [
    "# creating a column 'Student ID' for the datframe y_train_final\n",
    "\n",
    "y_train_final['Student ID'] = final['Student ID']"
   ]
  },
  {
   "cell_type": "code",
   "execution_count": 612,
   "id": "ace6a47b",
   "metadata": {},
   "outputs": [
    {
     "data": {
      "text/html": [
       "<div>\n",
       "<style scoped>\n",
       "    .dataframe tbody tr th:only-of-type {\n",
       "        vertical-align: middle;\n",
       "    }\n",
       "\n",
       "    .dataframe tbody tr th {\n",
       "        vertical-align: top;\n",
       "    }\n",
       "\n",
       "    .dataframe thead th {\n",
       "        text-align: right;\n",
       "    }\n",
       "</style>\n",
       "<table border=\"1\" class=\"dataframe\">\n",
       "  <thead>\n",
       "    <tr style=\"text-align: right;\">\n",
       "      <th></th>\n",
       "      <th>Scholarship</th>\n",
       "      <th>Scholarship_prob</th>\n",
       "      <th>Student ID</th>\n",
       "    </tr>\n",
       "  </thead>\n",
       "  <tbody>\n",
       "    <tr>\n",
       "      <th>0</th>\n",
       "      <td>1</td>\n",
       "      <td>0.715343</td>\n",
       "      <td>1</td>\n",
       "    </tr>\n",
       "    <tr>\n",
       "      <th>1</th>\n",
       "      <td>0</td>\n",
       "      <td>0.154140</td>\n",
       "      <td>2</td>\n",
       "    </tr>\n",
       "    <tr>\n",
       "      <th>2</th>\n",
       "      <td>0</td>\n",
       "      <td>0.066250</td>\n",
       "      <td>3</td>\n",
       "    </tr>\n",
       "    <tr>\n",
       "      <th>3</th>\n",
       "      <td>0</td>\n",
       "      <td>0.154140</td>\n",
       "      <td>4</td>\n",
       "    </tr>\n",
       "    <tr>\n",
       "      <th>4</th>\n",
       "      <td>1</td>\n",
       "      <td>0.154140</td>\n",
       "      <td>5</td>\n",
       "    </tr>\n",
       "  </tbody>\n",
       "</table>\n",
       "</div>"
      ],
      "text/plain": [
       "   Scholarship  Scholarship_prob  Student ID\n",
       "0            1          0.715343           1\n",
       "1            0          0.154140           2\n",
       "2            0          0.066250           3\n",
       "3            0          0.154140           4\n",
       "4            1          0.154140           5"
      ]
     },
     "execution_count": 612,
     "metadata": {},
     "output_type": "execute_result"
    }
   ],
   "source": [
    "y_train_final.head()"
   ]
  },
  {
   "cell_type": "code",
   "execution_count": 613,
   "id": "38f7b995",
   "metadata": {},
   "outputs": [],
   "source": [
    "# creating a column predicted with the cutoff at 0.5\n",
    "\n",
    "y_train_final['predicted'] = y_train_final.Scholarship_prob.map(lambda x: 1 if x >0.5 else 0)"
   ]
  },
  {
   "cell_type": "code",
   "execution_count": 614,
   "id": "9e063540",
   "metadata": {},
   "outputs": [
    {
     "data": {
      "text/html": [
       "<div>\n",
       "<style scoped>\n",
       "    .dataframe tbody tr th:only-of-type {\n",
       "        vertical-align: middle;\n",
       "    }\n",
       "\n",
       "    .dataframe tbody tr th {\n",
       "        vertical-align: top;\n",
       "    }\n",
       "\n",
       "    .dataframe thead th {\n",
       "        text-align: right;\n",
       "    }\n",
       "</style>\n",
       "<table border=\"1\" class=\"dataframe\">\n",
       "  <thead>\n",
       "    <tr style=\"text-align: right;\">\n",
       "      <th></th>\n",
       "      <th>Scholarship</th>\n",
       "      <th>Scholarship_prob</th>\n",
       "      <th>Student ID</th>\n",
       "      <th>predicted</th>\n",
       "    </tr>\n",
       "  </thead>\n",
       "  <tbody>\n",
       "    <tr>\n",
       "      <th>0</th>\n",
       "      <td>1</td>\n",
       "      <td>0.715343</td>\n",
       "      <td>1</td>\n",
       "      <td>1</td>\n",
       "    </tr>\n",
       "    <tr>\n",
       "      <th>1</th>\n",
       "      <td>0</td>\n",
       "      <td>0.154140</td>\n",
       "      <td>2</td>\n",
       "      <td>0</td>\n",
       "    </tr>\n",
       "    <tr>\n",
       "      <th>2</th>\n",
       "      <td>0</td>\n",
       "      <td>0.066250</td>\n",
       "      <td>3</td>\n",
       "      <td>0</td>\n",
       "    </tr>\n",
       "    <tr>\n",
       "      <th>3</th>\n",
       "      <td>0</td>\n",
       "      <td>0.154140</td>\n",
       "      <td>4</td>\n",
       "      <td>0</td>\n",
       "    </tr>\n",
       "    <tr>\n",
       "      <th>4</th>\n",
       "      <td>1</td>\n",
       "      <td>0.154140</td>\n",
       "      <td>5</td>\n",
       "      <td>0</td>\n",
       "    </tr>\n",
       "  </tbody>\n",
       "</table>\n",
       "</div>"
      ],
      "text/plain": [
       "   Scholarship  Scholarship_prob  Student ID  predicted\n",
       "0            1          0.715343           1          1\n",
       "1            0          0.154140           2          0\n",
       "2            0          0.066250           3          0\n",
       "3            0          0.154140           4          0\n",
       "4            1          0.154140           5          0"
      ]
     },
     "execution_count": 614,
     "metadata": {},
     "output_type": "execute_result"
    }
   ],
   "source": [
    "y_train_final.head()"
   ]
  },
  {
   "cell_type": "code",
   "execution_count": 615,
   "id": "254697f7",
   "metadata": {},
   "outputs": [],
   "source": [
    "# calculating the score and storing the information in the column 'score'\n",
    "\n",
    "y_train_final['score'] = round(y_train_final['Scholarship_prob']*100,0)"
   ]
  },
  {
   "cell_type": "code",
   "execution_count": 616,
   "id": "a6946d16",
   "metadata": {},
   "outputs": [
    {
     "data": {
      "text/html": [
       "<div>\n",
       "<style scoped>\n",
       "    .dataframe tbody tr th:only-of-type {\n",
       "        vertical-align: middle;\n",
       "    }\n",
       "\n",
       "    .dataframe tbody tr th {\n",
       "        vertical-align: top;\n",
       "    }\n",
       "\n",
       "    .dataframe thead th {\n",
       "        text-align: right;\n",
       "    }\n",
       "</style>\n",
       "<table border=\"1\" class=\"dataframe\">\n",
       "  <thead>\n",
       "    <tr style=\"text-align: right;\">\n",
       "      <th></th>\n",
       "      <th>Scholarship</th>\n",
       "      <th>Scholarship_prob</th>\n",
       "      <th>Student ID</th>\n",
       "      <th>predicted</th>\n",
       "      <th>score</th>\n",
       "    </tr>\n",
       "  </thead>\n",
       "  <tbody>\n",
       "    <tr>\n",
       "      <th>0</th>\n",
       "      <td>1</td>\n",
       "      <td>0.715343</td>\n",
       "      <td>1</td>\n",
       "      <td>1</td>\n",
       "      <td>72.0</td>\n",
       "    </tr>\n",
       "    <tr>\n",
       "      <th>1</th>\n",
       "      <td>0</td>\n",
       "      <td>0.154140</td>\n",
       "      <td>2</td>\n",
       "      <td>0</td>\n",
       "      <td>15.0</td>\n",
       "    </tr>\n",
       "    <tr>\n",
       "      <th>2</th>\n",
       "      <td>0</td>\n",
       "      <td>0.066250</td>\n",
       "      <td>3</td>\n",
       "      <td>0</td>\n",
       "      <td>7.0</td>\n",
       "    </tr>\n",
       "    <tr>\n",
       "      <th>3</th>\n",
       "      <td>0</td>\n",
       "      <td>0.154140</td>\n",
       "      <td>4</td>\n",
       "      <td>0</td>\n",
       "      <td>15.0</td>\n",
       "    </tr>\n",
       "    <tr>\n",
       "      <th>4</th>\n",
       "      <td>1</td>\n",
       "      <td>0.154140</td>\n",
       "      <td>5</td>\n",
       "      <td>0</td>\n",
       "      <td>15.0</td>\n",
       "    </tr>\n",
       "  </tbody>\n",
       "</table>\n",
       "</div>"
      ],
      "text/plain": [
       "   Scholarship  Scholarship_prob  Student ID  predicted  score\n",
       "0            1          0.715343           1          1   72.0\n",
       "1            0          0.154140           2          0   15.0\n",
       "2            0          0.066250           3          0    7.0\n",
       "3            0          0.154140           4          0   15.0\n",
       "4            1          0.154140           5          0   15.0"
      ]
     },
     "execution_count": 616,
     "metadata": {},
     "output_type": "execute_result"
    }
   ],
   "source": [
    "y_train_final.head()"
   ]
  },
  {
   "cell_type": "markdown",
   "id": "a7ce4496",
   "metadata": {},
   "source": [
    "## Solution One"
   ]
  },
  {
   "cell_type": "markdown",
   "id": "16b513f0",
   "metadata": {},
   "source": [
    "- The score in the 'score' column of y_train_final is the value we need as the first part of the solution for the problem"
   ]
  },
  {
   "cell_type": "markdown",
   "id": "3500e8d9",
   "metadata": {},
   "source": [
    "## H. Evaluating the Model"
   ]
  },
  {
   "cell_type": "markdown",
   "id": "1fa79344",
   "metadata": {},
   "source": [
    "#### Checking the accuracy of the model"
   ]
  },
  {
   "cell_type": "code",
   "execution_count": 617,
   "id": "86aef6d2",
   "metadata": {},
   "outputs": [],
   "source": [
    "# importing relevant libraries \n",
    "\n",
    "from sklearn import metrics "
   ]
  },
  {
   "cell_type": "code",
   "execution_count": 618,
   "id": "f83f3f95",
   "metadata": {},
   "outputs": [
    {
     "name": "stdout",
     "output_type": "stream",
     "text": [
      "[[604 114]\n",
      " [ 48 286]]\n"
     ]
    }
   ],
   "source": [
    "# creating the confusion matrix \n",
    "\n",
    "confusion = metrics.confusion_matrix(y_train_final.Scholarship, y_train_final.predicted)\n",
    "print(confusion)"
   ]
  },
  {
   "cell_type": "code",
   "execution_count": 619,
   "id": "b01461a9",
   "metadata": {},
   "outputs": [],
   "source": [
    "# Predicted     not-churn    churn \n",
    "# Actual                  \n",
    "# not-churn       604        114    \n",
    "# churn            48      286"
   ]
  },
  {
   "cell_type": "code",
   "execution_count": 620,
   "id": "17231cb4",
   "metadata": {},
   "outputs": [
    {
     "data": {
      "text/plain": [
       "0.8460076045627376"
      ]
     },
     "execution_count": 620,
     "metadata": {},
     "output_type": "execute_result"
    }
   ],
   "source": [
    "metrics.accuracy_score(y_train_final.Scholarship, y_train_final.predicted)"
   ]
  },
  {
   "cell_type": "markdown",
   "id": "4804d559",
   "metadata": {},
   "source": [
    "#### Checking the further metrices "
   ]
  },
  {
   "cell_type": "code",
   "execution_count": 621,
   "id": "a7b2940d",
   "metadata": {},
   "outputs": [],
   "source": [
    "# true positives\n",
    "tp5train = confusion[1,1] \n",
    "\n",
    "#true negatives\n",
    "tn5train = confusion[0,0]\n",
    "\n",
    "# false positives\n",
    "fp5train = confusion[0,1]\n",
    "\n",
    "# false negatives\n",
    "fn5train = confusion[1,0]"
   ]
  },
  {
   "cell_type": "code",
   "execution_count": 622,
   "id": "03211ba7",
   "metadata": {},
   "outputs": [
    {
     "data": {
      "text/plain": [
       "0.8562874251497006"
      ]
     },
     "execution_count": 622,
     "metadata": {},
     "output_type": "execute_result"
    }
   ],
   "source": [
    "# sensitivity of the model : A measure of how accurately does the model predict the positive outcomes\n",
    "# sensitivity can also be termed as true positive rate \n",
    "\n",
    "tp5train /(tp5train+fn5train)"
   ]
  },
  {
   "cell_type": "markdown",
   "id": "e69acda9",
   "metadata": {},
   "source": [
    "The model has high specificity "
   ]
  },
  {
   "cell_type": "code",
   "execution_count": 623,
   "id": "54e1a7ef",
   "metadata": {},
   "outputs": [
    {
     "data": {
      "text/plain": [
       "0.841225626740947"
      ]
     },
     "execution_count": 623,
     "metadata": {},
     "output_type": "execute_result"
    }
   ],
   "source": [
    "# specificity of the model : A measure of how accurately does the model predict negative outcomes \n",
    "\n",
    "tn5train /(tn5train+fp5train)"
   ]
  },
  {
   "cell_type": "markdown",
   "id": "e20014c5",
   "metadata": {},
   "source": [
    "The model has high specificity "
   ]
  },
  {
   "cell_type": "code",
   "execution_count": 624,
   "id": "73919de1",
   "metadata": {},
   "outputs": [
    {
     "data": {
      "text/plain": [
       "0.15877437325905291"
      ]
     },
     "execution_count": 624,
     "metadata": {},
     "output_type": "execute_result"
    }
   ],
   "source": [
    "# false positive rate : A measure of how many 0s were predicted as 1 \n",
    "\n",
    "fp5train /(tn5train+fp5train)"
   ]
  },
  {
   "cell_type": "code",
   "execution_count": 625,
   "id": "451d417f",
   "metadata": {},
   "outputs": [
    {
     "data": {
      "text/plain": [
       "0.1437125748502994"
      ]
     },
     "execution_count": 625,
     "metadata": {},
     "output_type": "execute_result"
    }
   ],
   "source": [
    "# false negative rate : A measure of how many 0s were predicted as 1 \n",
    "\n",
    "fn5train /(tp5train+fn5train)"
   ]
  },
  {
   "cell_type": "markdown",
   "id": "7f64cf31",
   "metadata": {},
   "source": [
    "#### Checking the ROC curve "
   ]
  },
  {
   "cell_type": "code",
   "execution_count": 626,
   "id": "8cc83bbd",
   "metadata": {},
   "outputs": [],
   "source": [
    "# importing relevant libraries \n",
    "\n",
    "import matplotlib.pyplot as plt"
   ]
  },
  {
   "cell_type": "code",
   "execution_count": 627,
   "id": "915b8ed7",
   "metadata": {},
   "outputs": [
    {
     "data": {
      "image/png": "[encoded data removed]",
      "text/plain": [
       "<Figure size 500x500 with 1 Axes>"
      ]
     },
     "metadata": {},
     "output_type": "display_data"
    }
   ],
   "source": [
    "# preparing the ROC curve \n",
    "\n",
    "def draw_roc( actual, probs ):\n",
    "    fpr, tpr, thresholds = metrics.roc_curve( actual, probs,\n",
    "                                              drop_intermediate = False )\n",
    "    auc_score = metrics.roc_auc_score( actual, probs )\n",
    "    plt.figure(figsize=(5, 5))\n",
    "    plt.plot( fpr, tpr, label='ROC curve (area = %0.2f)' % auc_score )\n",
    "    plt.plot([0, 1], [0, 1], 'k--')\n",
    "    plt.xlim([0.0, 1.0])\n",
    "    plt.ylim([0.0, 1.05])\n",
    "    plt.xlabel('False Positive Rate or [1 - True Negative Rate]')\n",
    "    plt.ylabel('True Positive Rate')\n",
    "    plt.title('Receiver operating characteristic example')\n",
    "    plt.legend(loc=\"lower right\")\n",
    "    plt.show()\n",
    "\n",
    "    return None\n",
    "\n",
    "# Calling the function\n",
    "draw_roc(y_train_final.Scholarship, y_train_final.Scholarship_prob)"
   ]
  },
  {
   "cell_type": "markdown",
   "id": "d9962cbc",
   "metadata": {},
   "source": [
    "#### Note"
   ]
  },
  {
   "cell_type": "markdown",
   "id": "deef5c69",
   "metadata": {},
   "source": [
    "- The area under the ROC curve is 0.88 which depicts that the model is a good classifier"
   ]
  },
  {
   "cell_type": "code",
   "execution_count": 628,
   "id": "cfda72f9",
   "metadata": {},
   "outputs": [
    {
     "data": {
      "text/html": [
       "<div>\n",
       "<style scoped>\n",
       "    .dataframe tbody tr th:only-of-type {\n",
       "        vertical-align: middle;\n",
       "    }\n",
       "\n",
       "    .dataframe tbody tr th {\n",
       "        vertical-align: top;\n",
       "    }\n",
       "\n",
       "    .dataframe thead th {\n",
       "        text-align: right;\n",
       "    }\n",
       "</style>\n",
       "<table border=\"1\" class=\"dataframe\">\n",
       "  <thead>\n",
       "    <tr style=\"text-align: right;\">\n",
       "      <th></th>\n",
       "      <th>Scholarship</th>\n",
       "      <th>Scholarship_prob</th>\n",
       "      <th>Student ID</th>\n",
       "      <th>predicted</th>\n",
       "      <th>score</th>\n",
       "      <th>0.0</th>\n",
       "      <th>0.1</th>\n",
       "      <th>0.2</th>\n",
       "      <th>0.3</th>\n",
       "      <th>0.4</th>\n",
       "      <th>0.5</th>\n",
       "      <th>0.6</th>\n",
       "      <th>0.7</th>\n",
       "      <th>0.8</th>\n",
       "      <th>0.9</th>\n",
       "    </tr>\n",
       "  </thead>\n",
       "  <tbody>\n",
       "    <tr>\n",
       "      <th>0</th>\n",
       "      <td>1</td>\n",
       "      <td>0.715343</td>\n",
       "      <td>1</td>\n",
       "      <td>1</td>\n",
       "      <td>72.0</td>\n",
       "      <td>1</td>\n",
       "      <td>1</td>\n",
       "      <td>1</td>\n",
       "      <td>1</td>\n",
       "      <td>1</td>\n",
       "      <td>1</td>\n",
       "      <td>1</td>\n",
       "      <td>1</td>\n",
       "      <td>0</td>\n",
       "      <td>0</td>\n",
       "    </tr>\n",
       "    <tr>\n",
       "      <th>1</th>\n",
       "      <td>0</td>\n",
       "      <td>0.154140</td>\n",
       "      <td>2</td>\n",
       "      <td>0</td>\n",
       "      <td>15.0</td>\n",
       "      <td>1</td>\n",
       "      <td>1</td>\n",
       "      <td>0</td>\n",
       "      <td>0</td>\n",
       "      <td>0</td>\n",
       "      <td>0</td>\n",
       "      <td>0</td>\n",
       "      <td>0</td>\n",
       "      <td>0</td>\n",
       "      <td>0</td>\n",
       "    </tr>\n",
       "    <tr>\n",
       "      <th>2</th>\n",
       "      <td>0</td>\n",
       "      <td>0.066250</td>\n",
       "      <td>3</td>\n",
       "      <td>0</td>\n",
       "      <td>7.0</td>\n",
       "      <td>1</td>\n",
       "      <td>0</td>\n",
       "      <td>0</td>\n",
       "      <td>0</td>\n",
       "      <td>0</td>\n",
       "      <td>0</td>\n",
       "      <td>0</td>\n",
       "      <td>0</td>\n",
       "      <td>0</td>\n",
       "      <td>0</td>\n",
       "    </tr>\n",
       "    <tr>\n",
       "      <th>3</th>\n",
       "      <td>0</td>\n",
       "      <td>0.154140</td>\n",
       "      <td>4</td>\n",
       "      <td>0</td>\n",
       "      <td>15.0</td>\n",
       "      <td>1</td>\n",
       "      <td>1</td>\n",
       "      <td>0</td>\n",
       "      <td>0</td>\n",
       "      <td>0</td>\n",
       "      <td>0</td>\n",
       "      <td>0</td>\n",
       "      <td>0</td>\n",
       "      <td>0</td>\n",
       "      <td>0</td>\n",
       "    </tr>\n",
       "    <tr>\n",
       "      <th>4</th>\n",
       "      <td>1</td>\n",
       "      <td>0.154140</td>\n",
       "      <td>5</td>\n",
       "      <td>0</td>\n",
       "      <td>15.0</td>\n",
       "      <td>1</td>\n",
       "      <td>1</td>\n",
       "      <td>0</td>\n",
       "      <td>0</td>\n",
       "      <td>0</td>\n",
       "      <td>0</td>\n",
       "      <td>0</td>\n",
       "      <td>0</td>\n",
       "      <td>0</td>\n",
       "      <td>0</td>\n",
       "    </tr>\n",
       "    <tr>\n",
       "      <th>5</th>\n",
       "      <td>0</td>\n",
       "      <td>0.037521</td>\n",
       "      <td>6</td>\n",
       "      <td>0</td>\n",
       "      <td>4.0</td>\n",
       "      <td>1</td>\n",
       "      <td>0</td>\n",
       "      <td>0</td>\n",
       "      <td>0</td>\n",
       "      <td>0</td>\n",
       "      <td>0</td>\n",
       "      <td>0</td>\n",
       "      <td>0</td>\n",
       "      <td>0</td>\n",
       "      <td>0</td>\n",
       "    </tr>\n",
       "    <tr>\n",
       "      <th>6</th>\n",
       "      <td>0</td>\n",
       "      <td>0.066250</td>\n",
       "      <td>7</td>\n",
       "      <td>0</td>\n",
       "      <td>7.0</td>\n",
       "      <td>1</td>\n",
       "      <td>0</td>\n",
       "      <td>0</td>\n",
       "      <td>0</td>\n",
       "      <td>0</td>\n",
       "      <td>0</td>\n",
       "      <td>0</td>\n",
       "      <td>0</td>\n",
       "      <td>0</td>\n",
       "      <td>0</td>\n",
       "    </tr>\n",
       "    <tr>\n",
       "      <th>7</th>\n",
       "      <td>0</td>\n",
       "      <td>0.715343</td>\n",
       "      <td>8</td>\n",
       "      <td>1</td>\n",
       "      <td>72.0</td>\n",
       "      <td>1</td>\n",
       "      <td>1</td>\n",
       "      <td>1</td>\n",
       "      <td>1</td>\n",
       "      <td>1</td>\n",
       "      <td>1</td>\n",
       "      <td>1</td>\n",
       "      <td>1</td>\n",
       "      <td>0</td>\n",
       "      <td>0</td>\n",
       "    </tr>\n",
       "    <tr>\n",
       "      <th>8</th>\n",
       "      <td>0</td>\n",
       "      <td>0.037521</td>\n",
       "      <td>9</td>\n",
       "      <td>0</td>\n",
       "      <td>4.0</td>\n",
       "      <td>1</td>\n",
       "      <td>0</td>\n",
       "      <td>0</td>\n",
       "      <td>0</td>\n",
       "      <td>0</td>\n",
       "      <td>0</td>\n",
       "      <td>0</td>\n",
       "      <td>0</td>\n",
       "      <td>0</td>\n",
       "      <td>0</td>\n",
       "    </tr>\n",
       "    <tr>\n",
       "      <th>9</th>\n",
       "      <td>1</td>\n",
       "      <td>0.715343</td>\n",
       "      <td>10</td>\n",
       "      <td>1</td>\n",
       "      <td>72.0</td>\n",
       "      <td>1</td>\n",
       "      <td>1</td>\n",
       "      <td>1</td>\n",
       "      <td>1</td>\n",
       "      <td>1</td>\n",
       "      <td>1</td>\n",
       "      <td>1</td>\n",
       "      <td>1</td>\n",
       "      <td>0</td>\n",
       "      <td>0</td>\n",
       "    </tr>\n",
       "  </tbody>\n",
       "</table>\n",
       "</div>"
      ],
      "text/plain": [
       "   Scholarship  Scholarship_prob  Student ID  predicted  score  0.0  0.1  0.2  \\\n",
       "0            1          0.715343           1          1   72.0    1    1    1   \n",
       "1            0          0.154140           2          0   15.0    1    1    0   \n",
       "2            0          0.066250           3          0    7.0    1    0    0   \n",
       "3            0          0.154140           4          0   15.0    1    1    0   \n",
       "4            1          0.154140           5          0   15.0    1    1    0   \n",
       "5            0          0.037521           6          0    4.0    1    0    0   \n",
       "6            0          0.066250           7          0    7.0    1    0    0   \n",
       "7            0          0.715343           8          1   72.0    1    1    1   \n",
       "8            0          0.037521           9          0    4.0    1    0    0   \n",
       "9            1          0.715343          10          1   72.0    1    1    1   \n",
       "\n",
       "   0.3  0.4  0.5  0.6  0.7  0.8  0.9  \n",
       "0    1    1    1    1    1    0    0  \n",
       "1    0    0    0    0    0    0    0  \n",
       "2    0    0    0    0    0    0    0  \n",
       "3    0    0    0    0    0    0    0  \n",
       "4    0    0    0    0    0    0    0  \n",
       "5    0    0    0    0    0    0    0  \n",
       "6    0    0    0    0    0    0    0  \n",
       "7    1    1    1    1    1    0    0  \n",
       "8    0    0    0    0    0    0    0  \n",
       "9    1    1    1    1    1    0    0  "
      ]
     },
     "execution_count": 628,
     "metadata": {},
     "output_type": "execute_result"
    }
   ],
   "source": [
    "# checking different probablity cutoffs \n",
    "\n",
    "numbers = [float(x)/10 for x in range(10)]\n",
    "for i in numbers:\n",
    "    y_train_final[i] = y_train_final.Scholarship_prob.map(lambda x:1 if x>i else 0)\n",
    "y_train_final.head(10)"
   ]
  },
  {
   "cell_type": "code",
   "execution_count": 629,
   "id": "c7ba6faf",
   "metadata": {},
   "outputs": [
    {
     "name": "stdout",
     "output_type": "stream",
     "text": [
      "     prob  accuracy     sensi     speci\n",
      "0.0   0.0  0.317490  1.000000  0.000000\n",
      "0.1   0.1  0.778517  0.922156  0.711699\n",
      "0.2   0.2  0.842205  0.877246  0.825905\n",
      "0.3   0.3  0.845057  0.874251  0.831476\n",
      "0.4   0.4  0.846958  0.874251  0.834262\n",
      "0.5   0.5  0.846008  0.856287  0.841226\n",
      "0.6   0.6  0.840304  0.808383  0.855153\n",
      "0.7   0.7  0.837452  0.781437  0.863510\n",
      "0.8   0.8  0.694867  0.041916  0.998607\n",
      "0.9   0.9  0.693916  0.038922  0.998607\n"
     ]
    }
   ],
   "source": [
    "# creating a dataframe with information about probability, accuracy, sensitivity and specificity \n",
    "\n",
    "cutoff_df = pd.DataFrame( columns = ['prob','accuracy','sensi','speci'])\n",
    "#from sklearn.metrics import confusion_matrix\n",
    "\n",
    "# tp = confusion[1,1]  true positive \n",
    "# tn = confusion[0,0]  true negatives\n",
    "# fp = confusion[0,1]  false positives\n",
    "# fn = confusion[1,0]  false negatives\n",
    "\n",
    "num = [0.0,0.1,0.2,0.3,0.4,0.5,0.6,0.7,0.8,0.9]\n",
    "for i in num:\n",
    "    cm1 = metrics.confusion_matrix(y_train_final.Scholarship, y_train_final[i])\n",
    "    total1=sum(sum(cm1))\n",
    "    accuracy = (cm1[0,0]+cm1[1,1])/total1\n",
    "    \n",
    "    speci = cm1[0,0]/(cm1[0,0]+cm1[0,1])\n",
    "    sensi = cm1[1,1]/(cm1[1,0]+cm1[1,1])\n",
    "    \n",
    "    cutoff_df.loc[i] =[ i ,accuracy,sensi,speci]\n",
    "    \n",
    "print(cutoff_df)"
   ]
  },
  {
   "cell_type": "code",
   "execution_count": 630,
   "id": "f184f60e",
   "metadata": {},
   "outputs": [],
   "source": [
    "# If we have to be extremely sure : we can choose 0.1 because sensi is 92 percentage and accuracy 77 percentage\n",
    "# If we have to save time then : we can choose 0.7 because accuracy : 83 sensi: 78"
   ]
  },
  {
   "cell_type": "code",
   "execution_count": 631,
   "id": "7d348778",
   "metadata": {},
   "outputs": [
    {
     "data": {
      "image/png": "[encoded data removed]",
      "text/plain": [
       "<Figure size 640x480 with 1 Axes>"
      ]
     },
     "metadata": {},
     "output_type": "display_data"
    }
   ],
   "source": [
    "# plotting probability \n",
    "\n",
    "cutoff_df.plot.line(x= 'prob', y = ['accuracy','sensi','speci'])\n",
    "plt.show()"
   ]
  },
  {
   "cell_type": "markdown",
   "id": "29db29a9",
   "metadata": {},
   "source": [
    "#### Note"
   ]
  },
  {
   "cell_type": "markdown",
   "id": "e702470f",
   "metadata": {},
   "source": [
    "- According to the graph the optimal value of cutoff seems to be around 0.5"
   ]
  },
  {
   "cell_type": "markdown",
   "id": "564b8995",
   "metadata": {},
   "source": [
    "# Solution Two"
   ]
  },
  {
   "cell_type": "markdown",
   "id": "052e85b5",
   "metadata": {},
   "source": [
    "## Case One : Sensitivity Focus - Maximizing Opportunities for Deserving Students (Low Threshold)"
   ]
  },
  {
   "cell_type": "code",
   "execution_count": 632,
   "id": "9cad8d33",
   "metadata": {},
   "outputs": [],
   "source": [
    "y_train_final['Max Students'] = y_train_final.Scholarship_prob.map(lambda x: 1 if x >0.1 else 0)"
   ]
  },
  {
   "cell_type": "code",
   "execution_count": 633,
   "id": "14c0524e",
   "metadata": {},
   "outputs": [
    {
     "data": {
      "text/plain": [
       "0    537\n",
       "1    515\n",
       "Name: Max Students, dtype: int64"
      ]
     },
     "execution_count": 633,
     "metadata": {},
     "output_type": "execute_result"
    }
   ],
   "source": [
    "y_train_final['Max Students'].value_counts()"
   ]
  },
  {
   "cell_type": "code",
   "execution_count": 634,
   "id": "fe17996a",
   "metadata": {},
   "outputs": [],
   "source": [
    "max_students = y_train_final[y_train_final['Max Students'] == 1]"
   ]
  },
  {
   "cell_type": "code",
   "execution_count": 635,
   "id": "a8b8bba7",
   "metadata": {
    "scrolled": true
   },
   "outputs": [
    {
     "data": {
      "text/html": [
       "<div>\n",
       "<style scoped>\n",
       "    .dataframe tbody tr th:only-of-type {\n",
       "        vertical-align: middle;\n",
       "    }\n",
       "\n",
       "    .dataframe tbody tr th {\n",
       "        vertical-align: top;\n",
       "    }\n",
       "\n",
       "    .dataframe thead th {\n",
       "        text-align: right;\n",
       "    }\n",
       "</style>\n",
       "<table border=\"1\" class=\"dataframe\">\n",
       "  <thead>\n",
       "    <tr style=\"text-align: right;\">\n",
       "      <th></th>\n",
       "      <th>Scholarship</th>\n",
       "      <th>Scholarship_prob</th>\n",
       "      <th>Student ID</th>\n",
       "      <th>predicted</th>\n",
       "      <th>score</th>\n",
       "      <th>0.0</th>\n",
       "      <th>0.1</th>\n",
       "      <th>0.2</th>\n",
       "      <th>0.3</th>\n",
       "      <th>0.4</th>\n",
       "      <th>0.5</th>\n",
       "      <th>0.6</th>\n",
       "      <th>0.7</th>\n",
       "      <th>0.8</th>\n",
       "      <th>0.9</th>\n",
       "      <th>Max Students</th>\n",
       "    </tr>\n",
       "  </thead>\n",
       "  <tbody>\n",
       "    <tr>\n",
       "      <th>0</th>\n",
       "      <td>1</td>\n",
       "      <td>0.715343</td>\n",
       "      <td>1</td>\n",
       "      <td>1</td>\n",
       "      <td>72.0</td>\n",
       "      <td>1</td>\n",
       "      <td>1</td>\n",
       "      <td>1</td>\n",
       "      <td>1</td>\n",
       "      <td>1</td>\n",
       "      <td>1</td>\n",
       "      <td>1</td>\n",
       "      <td>1</td>\n",
       "      <td>0</td>\n",
       "      <td>0</td>\n",
       "      <td>1</td>\n",
       "    </tr>\n",
       "    <tr>\n",
       "      <th>1</th>\n",
       "      <td>0</td>\n",
       "      <td>0.154140</td>\n",
       "      <td>2</td>\n",
       "      <td>0</td>\n",
       "      <td>15.0</td>\n",
       "      <td>1</td>\n",
       "      <td>1</td>\n",
       "      <td>0</td>\n",
       "      <td>0</td>\n",
       "      <td>0</td>\n",
       "      <td>0</td>\n",
       "      <td>0</td>\n",
       "      <td>0</td>\n",
       "      <td>0</td>\n",
       "      <td>0</td>\n",
       "      <td>1</td>\n",
       "    </tr>\n",
       "    <tr>\n",
       "      <th>3</th>\n",
       "      <td>0</td>\n",
       "      <td>0.154140</td>\n",
       "      <td>4</td>\n",
       "      <td>0</td>\n",
       "      <td>15.0</td>\n",
       "      <td>1</td>\n",
       "      <td>1</td>\n",
       "      <td>0</td>\n",
       "      <td>0</td>\n",
       "      <td>0</td>\n",
       "      <td>0</td>\n",
       "      <td>0</td>\n",
       "      <td>0</td>\n",
       "      <td>0</td>\n",
       "      <td>0</td>\n",
       "      <td>1</td>\n",
       "    </tr>\n",
       "    <tr>\n",
       "      <th>4</th>\n",
       "      <td>1</td>\n",
       "      <td>0.154140</td>\n",
       "      <td>5</td>\n",
       "      <td>0</td>\n",
       "      <td>15.0</td>\n",
       "      <td>1</td>\n",
       "      <td>1</td>\n",
       "      <td>0</td>\n",
       "      <td>0</td>\n",
       "      <td>0</td>\n",
       "      <td>0</td>\n",
       "      <td>0</td>\n",
       "      <td>0</td>\n",
       "      <td>0</td>\n",
       "      <td>0</td>\n",
       "      <td>1</td>\n",
       "    </tr>\n",
       "    <tr>\n",
       "      <th>7</th>\n",
       "      <td>0</td>\n",
       "      <td>0.715343</td>\n",
       "      <td>8</td>\n",
       "      <td>1</td>\n",
       "      <td>72.0</td>\n",
       "      <td>1</td>\n",
       "      <td>1</td>\n",
       "      <td>1</td>\n",
       "      <td>1</td>\n",
       "      <td>1</td>\n",
       "      <td>1</td>\n",
       "      <td>1</td>\n",
       "      <td>1</td>\n",
       "      <td>0</td>\n",
       "      <td>0</td>\n",
       "      <td>1</td>\n",
       "    </tr>\n",
       "    <tr>\n",
       "      <th>9</th>\n",
       "      <td>1</td>\n",
       "      <td>0.715343</td>\n",
       "      <td>10</td>\n",
       "      <td>1</td>\n",
       "      <td>72.0</td>\n",
       "      <td>1</td>\n",
       "      <td>1</td>\n",
       "      <td>1</td>\n",
       "      <td>1</td>\n",
       "      <td>1</td>\n",
       "      <td>1</td>\n",
       "      <td>1</td>\n",
       "      <td>1</td>\n",
       "      <td>0</td>\n",
       "      <td>0</td>\n",
       "      <td>1</td>\n",
       "    </tr>\n",
       "    <tr>\n",
       "      <th>10</th>\n",
       "      <td>1</td>\n",
       "      <td>0.715343</td>\n",
       "      <td>11</td>\n",
       "      <td>1</td>\n",
       "      <td>72.0</td>\n",
       "      <td>1</td>\n",
       "      <td>1</td>\n",
       "      <td>1</td>\n",
       "      <td>1</td>\n",
       "      <td>1</td>\n",
       "      <td>1</td>\n",
       "      <td>1</td>\n",
       "      <td>1</td>\n",
       "      <td>0</td>\n",
       "      <td>0</td>\n",
       "      <td>1</td>\n",
       "    </tr>\n",
       "    <tr>\n",
       "      <th>12</th>\n",
       "      <td>0</td>\n",
       "      <td>0.154140</td>\n",
       "      <td>13</td>\n",
       "      <td>0</td>\n",
       "      <td>15.0</td>\n",
       "      <td>1</td>\n",
       "      <td>1</td>\n",
       "      <td>0</td>\n",
       "      <td>0</td>\n",
       "      <td>0</td>\n",
       "      <td>0</td>\n",
       "      <td>0</td>\n",
       "      <td>0</td>\n",
       "      <td>0</td>\n",
       "      <td>0</td>\n",
       "      <td>1</td>\n",
       "    </tr>\n",
       "    <tr>\n",
       "      <th>13</th>\n",
       "      <td>1</td>\n",
       "      <td>0.579966</td>\n",
       "      <td>14</td>\n",
       "      <td>1</td>\n",
       "      <td>58.0</td>\n",
       "      <td>1</td>\n",
       "      <td>1</td>\n",
       "      <td>1</td>\n",
       "      <td>1</td>\n",
       "      <td>1</td>\n",
       "      <td>1</td>\n",
       "      <td>0</td>\n",
       "      <td>0</td>\n",
       "      <td>0</td>\n",
       "      <td>0</td>\n",
       "      <td>1</td>\n",
       "    </tr>\n",
       "    <tr>\n",
       "      <th>14</th>\n",
       "      <td>1</td>\n",
       "      <td>0.579966</td>\n",
       "      <td>15</td>\n",
       "      <td>1</td>\n",
       "      <td>58.0</td>\n",
       "      <td>1</td>\n",
       "      <td>1</td>\n",
       "      <td>1</td>\n",
       "      <td>1</td>\n",
       "      <td>1</td>\n",
       "      <td>1</td>\n",
       "      <td>0</td>\n",
       "      <td>0</td>\n",
       "      <td>0</td>\n",
       "      <td>0</td>\n",
       "      <td>1</td>\n",
       "    </tr>\n",
       "    <tr>\n",
       "      <th>15</th>\n",
       "      <td>1</td>\n",
       "      <td>0.715343</td>\n",
       "      <td>16</td>\n",
       "      <td>1</td>\n",
       "      <td>72.0</td>\n",
       "      <td>1</td>\n",
       "      <td>1</td>\n",
       "      <td>1</td>\n",
       "      <td>1</td>\n",
       "      <td>1</td>\n",
       "      <td>1</td>\n",
       "      <td>1</td>\n",
       "      <td>1</td>\n",
       "      <td>0</td>\n",
       "      <td>0</td>\n",
       "      <td>1</td>\n",
       "    </tr>\n",
       "    <tr>\n",
       "      <th>16</th>\n",
       "      <td>1</td>\n",
       "      <td>0.715343</td>\n",
       "      <td>17</td>\n",
       "      <td>1</td>\n",
       "      <td>72.0</td>\n",
       "      <td>1</td>\n",
       "      <td>1</td>\n",
       "      <td>1</td>\n",
       "      <td>1</td>\n",
       "      <td>1</td>\n",
       "      <td>1</td>\n",
       "      <td>1</td>\n",
       "      <td>1</td>\n",
       "      <td>0</td>\n",
       "      <td>0</td>\n",
       "      <td>1</td>\n",
       "    </tr>\n",
       "    <tr>\n",
       "      <th>17</th>\n",
       "      <td>1</td>\n",
       "      <td>0.715343</td>\n",
       "      <td>18</td>\n",
       "      <td>1</td>\n",
       "      <td>72.0</td>\n",
       "      <td>1</td>\n",
       "      <td>1</td>\n",
       "      <td>1</td>\n",
       "      <td>1</td>\n",
       "      <td>1</td>\n",
       "      <td>1</td>\n",
       "      <td>1</td>\n",
       "      <td>1</td>\n",
       "      <td>0</td>\n",
       "      <td>0</td>\n",
       "      <td>1</td>\n",
       "    </tr>\n",
       "    <tr>\n",
       "      <th>18</th>\n",
       "      <td>1</td>\n",
       "      <td>0.960277</td>\n",
       "      <td>19</td>\n",
       "      <td>1</td>\n",
       "      <td>96.0</td>\n",
       "      <td>1</td>\n",
       "      <td>1</td>\n",
       "      <td>1</td>\n",
       "      <td>1</td>\n",
       "      <td>1</td>\n",
       "      <td>1</td>\n",
       "      <td>1</td>\n",
       "      <td>1</td>\n",
       "      <td>1</td>\n",
       "      <td>1</td>\n",
       "      <td>1</td>\n",
       "    </tr>\n",
       "    <tr>\n",
       "      <th>19</th>\n",
       "      <td>1</td>\n",
       "      <td>0.715343</td>\n",
       "      <td>20</td>\n",
       "      <td>1</td>\n",
       "      <td>72.0</td>\n",
       "      <td>1</td>\n",
       "      <td>1</td>\n",
       "      <td>1</td>\n",
       "      <td>1</td>\n",
       "      <td>1</td>\n",
       "      <td>1</td>\n",
       "      <td>1</td>\n",
       "      <td>1</td>\n",
       "      <td>0</td>\n",
       "      <td>0</td>\n",
       "      <td>1</td>\n",
       "    </tr>\n",
       "    <tr>\n",
       "      <th>23</th>\n",
       "      <td>1</td>\n",
       "      <td>0.715343</td>\n",
       "      <td>24</td>\n",
       "      <td>1</td>\n",
       "      <td>72.0</td>\n",
       "      <td>1</td>\n",
       "      <td>1</td>\n",
       "      <td>1</td>\n",
       "      <td>1</td>\n",
       "      <td>1</td>\n",
       "      <td>1</td>\n",
       "      <td>1</td>\n",
       "      <td>1</td>\n",
       "      <td>0</td>\n",
       "      <td>0</td>\n",
       "      <td>1</td>\n",
       "    </tr>\n",
       "    <tr>\n",
       "      <th>25</th>\n",
       "      <td>1</td>\n",
       "      <td>0.786887</td>\n",
       "      <td>26</td>\n",
       "      <td>1</td>\n",
       "      <td>79.0</td>\n",
       "      <td>1</td>\n",
       "      <td>1</td>\n",
       "      <td>1</td>\n",
       "      <td>1</td>\n",
       "      <td>1</td>\n",
       "      <td>1</td>\n",
       "      <td>1</td>\n",
       "      <td>1</td>\n",
       "      <td>0</td>\n",
       "      <td>0</td>\n",
       "      <td>1</td>\n",
       "    </tr>\n",
       "    <tr>\n",
       "      <th>26</th>\n",
       "      <td>0</td>\n",
       "      <td>0.425699</td>\n",
       "      <td>27</td>\n",
       "      <td>0</td>\n",
       "      <td>43.0</td>\n",
       "      <td>1</td>\n",
       "      <td>1</td>\n",
       "      <td>1</td>\n",
       "      <td>1</td>\n",
       "      <td>1</td>\n",
       "      <td>0</td>\n",
       "      <td>0</td>\n",
       "      <td>0</td>\n",
       "      <td>0</td>\n",
       "      <td>0</td>\n",
       "      <td>1</td>\n",
       "    </tr>\n",
       "    <tr>\n",
       "      <th>28</th>\n",
       "      <td>0</td>\n",
       "      <td>0.715343</td>\n",
       "      <td>29</td>\n",
       "      <td>1</td>\n",
       "      <td>72.0</td>\n",
       "      <td>1</td>\n",
       "      <td>1</td>\n",
       "      <td>1</td>\n",
       "      <td>1</td>\n",
       "      <td>1</td>\n",
       "      <td>1</td>\n",
       "      <td>1</td>\n",
       "      <td>1</td>\n",
       "      <td>0</td>\n",
       "      <td>0</td>\n",
       "      <td>1</td>\n",
       "    </tr>\n",
       "    <tr>\n",
       "      <th>29</th>\n",
       "      <td>1</td>\n",
       "      <td>0.715343</td>\n",
       "      <td>30</td>\n",
       "      <td>1</td>\n",
       "      <td>72.0</td>\n",
       "      <td>1</td>\n",
       "      <td>1</td>\n",
       "      <td>1</td>\n",
       "      <td>1</td>\n",
       "      <td>1</td>\n",
       "      <td>1</td>\n",
       "      <td>1</td>\n",
       "      <td>1</td>\n",
       "      <td>0</td>\n",
       "      <td>0</td>\n",
       "      <td>1</td>\n",
       "    </tr>\n",
       "  </tbody>\n",
       "</table>\n",
       "</div>"
      ],
      "text/plain": [
       "    Scholarship  Scholarship_prob  Student ID  predicted  score  0.0  0.1  \\\n",
       "0             1          0.715343           1          1   72.0    1    1   \n",
       "1             0          0.154140           2          0   15.0    1    1   \n",
       "3             0          0.154140           4          0   15.0    1    1   \n",
       "4             1          0.154140           5          0   15.0    1    1   \n",
       "7             0          0.715343           8          1   72.0    1    1   \n",
       "9             1          0.715343          10          1   72.0    1    1   \n",
       "10            1          0.715343          11          1   72.0    1    1   \n",
       "12            0          0.154140          13          0   15.0    1    1   \n",
       "13            1          0.579966          14          1   58.0    1    1   \n",
       "14            1          0.579966          15          1   58.0    1    1   \n",
       "15            1          0.715343          16          1   72.0    1    1   \n",
       "16            1          0.715343          17          1   72.0    1    1   \n",
       "17            1          0.715343          18          1   72.0    1    1   \n",
       "18            1          0.960277          19          1   96.0    1    1   \n",
       "19            1          0.715343          20          1   72.0    1    1   \n",
       "23            1          0.715343          24          1   72.0    1    1   \n",
       "25            1          0.786887          26          1   79.0    1    1   \n",
       "26            0          0.425699          27          0   43.0    1    1   \n",
       "28            0          0.715343          29          1   72.0    1    1   \n",
       "29            1          0.715343          30          1   72.0    1    1   \n",
       "\n",
       "    0.2  0.3  0.4  0.5  0.6  0.7  0.8  0.9  Max Students  \n",
       "0     1    1    1    1    1    1    0    0             1  \n",
       "1     0    0    0    0    0    0    0    0             1  \n",
       "3     0    0    0    0    0    0    0    0             1  \n",
       "4     0    0    0    0    0    0    0    0             1  \n",
       "7     1    1    1    1    1    1    0    0             1  \n",
       "9     1    1    1    1    1    1    0    0             1  \n",
       "10    1    1    1    1    1    1    0    0             1  \n",
       "12    0    0    0    0    0    0    0    0             1  \n",
       "13    1    1    1    1    0    0    0    0             1  \n",
       "14    1    1    1    1    0    0    0    0             1  \n",
       "15    1    1    1    1    1    1    0    0             1  \n",
       "16    1    1    1    1    1    1    0    0             1  \n",
       "17    1    1    1    1    1    1    0    0             1  \n",
       "18    1    1    1    1    1    1    1    1             1  \n",
       "19    1    1    1    1    1    1    0    0             1  \n",
       "23    1    1    1    1    1    1    0    0             1  \n",
       "25    1    1    1    1    1    1    0    0             1  \n",
       "26    1    1    1    0    0    0    0    0             1  \n",
       "28    1    1    1    1    1    1    0    0             1  \n",
       "29    1    1    1    1    1    1    0    0             1  "
      ]
     },
     "execution_count": 635,
     "metadata": {},
     "output_type": "execute_result"
    }
   ],
   "source": [
    "max_students.head(20)"
   ]
  },
  {
   "cell_type": "code",
   "execution_count": 636,
   "id": "e595b417",
   "metadata": {},
   "outputs": [
    {
     "data": {
      "text/html": [
       "<div>\n",
       "<style scoped>\n",
       "    .dataframe tbody tr th:only-of-type {\n",
       "        vertical-align: middle;\n",
       "    }\n",
       "\n",
       "    .dataframe tbody tr th {\n",
       "        vertical-align: top;\n",
       "    }\n",
       "\n",
       "    .dataframe thead th {\n",
       "        text-align: right;\n",
       "    }\n",
       "</style>\n",
       "<table border=\"1\" class=\"dataframe\">\n",
       "  <thead>\n",
       "    <tr style=\"text-align: right;\">\n",
       "      <th></th>\n",
       "      <th>Program</th>\n",
       "      <th>Enrollment Year</th>\n",
       "      <th>Gender</th>\n",
       "      <th>District</th>\n",
       "      <th>Country</th>\n",
       "      <th>Education Background</th>\n",
       "      <th>Professional Engagement</th>\n",
       "      <th>Mothers Profession</th>\n",
       "      <th>Fathers Profession</th>\n",
       "      <th>Status</th>\n",
       "      <th>Actual Concentration</th>\n",
       "      <th>Scholarship</th>\n",
       "    </tr>\n",
       "  </thead>\n",
       "  <tbody>\n",
       "    <tr>\n",
       "      <th>0</th>\n",
       "      <td>MBA</td>\n",
       "      <td>2019.0</td>\n",
       "      <td>Male</td>\n",
       "      <td>Kathmandu</td>\n",
       "      <td>Nepal</td>\n",
       "      <td>Bachelor of Business Administration</td>\n",
       "      <td>PE_Unemployed</td>\n",
       "      <td>Businesswoman</td>\n",
       "      <td>Businessman</td>\n",
       "      <td>Withdrawn</td>\n",
       "      <td>Pending</td>\n",
       "      <td>0</td>\n",
       "    </tr>\n",
       "    <tr>\n",
       "      <th>1</th>\n",
       "      <td>MBA</td>\n",
       "      <td>2019.0</td>\n",
       "      <td>Male</td>\n",
       "      <td>Kaski</td>\n",
       "      <td>Nepal</td>\n",
       "      <td>Bachelor of Business Administration</td>\n",
       "      <td>PE_Unemployed</td>\n",
       "      <td>HouseWife</td>\n",
       "      <td>Businessman</td>\n",
       "      <td>Graduate</td>\n",
       "      <td>Marketing Management</td>\n",
       "      <td>0</td>\n",
       "    </tr>\n",
       "    <tr>\n",
       "      <th>3</th>\n",
       "      <td>MBA</td>\n",
       "      <td>2019.0</td>\n",
       "      <td>Male</td>\n",
       "      <td>Kathmandu</td>\n",
       "      <td>Nepal</td>\n",
       "      <td>Bachelor of Business Administration</td>\n",
       "      <td>PE_Employed</td>\n",
       "      <td>HouseWife</td>\n",
       "      <td>Businessman</td>\n",
       "      <td>Withdrawn</td>\n",
       "      <td>Pending</td>\n",
       "      <td>0</td>\n",
       "    </tr>\n",
       "    <tr>\n",
       "      <th>4</th>\n",
       "      <td>MBA</td>\n",
       "      <td>2019.0</td>\n",
       "      <td>Male</td>\n",
       "      <td>Kathmandu</td>\n",
       "      <td>Nepal</td>\n",
       "      <td>Other_EB</td>\n",
       "      <td>PE_Employed</td>\n",
       "      <td>Select_MothersP</td>\n",
       "      <td>Select_FathersP</td>\n",
       "      <td>Withdrawn</td>\n",
       "      <td>Pending</td>\n",
       "      <td>0</td>\n",
       "    </tr>\n",
       "    <tr>\n",
       "      <th>7</th>\n",
       "      <td>MBA</td>\n",
       "      <td>2019.0</td>\n",
       "      <td>Female</td>\n",
       "      <td>Kathmandu</td>\n",
       "      <td>Nepal</td>\n",
       "      <td>Bachelor of Business Administration</td>\n",
       "      <td>PE_Employed</td>\n",
       "      <td>Select_MothersP</td>\n",
       "      <td>Select_FathersP</td>\n",
       "      <td>Withdrawn</td>\n",
       "      <td>Pending</td>\n",
       "      <td>0</td>\n",
       "    </tr>\n",
       "    <tr>\n",
       "      <th>9</th>\n",
       "      <td>MBA</td>\n",
       "      <td>2019.0</td>\n",
       "      <td>Male</td>\n",
       "      <td>Dang</td>\n",
       "      <td>Nepal</td>\n",
       "      <td>Bachelor's Degree in Business Studies</td>\n",
       "      <td>PE_Employed</td>\n",
       "      <td>Select_MothersP</td>\n",
       "      <td>Select_FathersP</td>\n",
       "      <td>Graduate</td>\n",
       "      <td>Entrepreneurship</td>\n",
       "      <td>0</td>\n",
       "    </tr>\n",
       "    <tr>\n",
       "      <th>10</th>\n",
       "      <td>MBA</td>\n",
       "      <td>2019.0</td>\n",
       "      <td>Female</td>\n",
       "      <td>Lalitpur</td>\n",
       "      <td>Nepal</td>\n",
       "      <td>Bachelor of Business Administration</td>\n",
       "      <td>PE_Employed</td>\n",
       "      <td>Businesswoman</td>\n",
       "      <td>Businessman</td>\n",
       "      <td>Withdrawn</td>\n",
       "      <td>Pending</td>\n",
       "      <td>0</td>\n",
       "    </tr>\n",
       "    <tr>\n",
       "      <th>12</th>\n",
       "      <td>MBA</td>\n",
       "      <td>2019.0</td>\n",
       "      <td>Male</td>\n",
       "      <td>Kavreplanchok</td>\n",
       "      <td>Nepal</td>\n",
       "      <td>Other_EB</td>\n",
       "      <td>PE_Unemployed</td>\n",
       "      <td>Select_MothersP</td>\n",
       "      <td>Select_FathersP</td>\n",
       "      <td>Withdrawn</td>\n",
       "      <td>Pending</td>\n",
       "      <td>0</td>\n",
       "    </tr>\n",
       "    <tr>\n",
       "      <th>13</th>\n",
       "      <td>MBA</td>\n",
       "      <td>2019.0</td>\n",
       "      <td>Male</td>\n",
       "      <td>Kathmandu</td>\n",
       "      <td>Nepal</td>\n",
       "      <td>Other_EB</td>\n",
       "      <td>PE_Employed</td>\n",
       "      <td>Employee_Mother</td>\n",
       "      <td>Employee_Father</td>\n",
       "      <td>Withdrawn</td>\n",
       "      <td>Pending</td>\n",
       "      <td>0</td>\n",
       "    </tr>\n",
       "    <tr>\n",
       "      <th>14</th>\n",
       "      <td>MBA</td>\n",
       "      <td>2019.0</td>\n",
       "      <td>Male</td>\n",
       "      <td>Kathmandu</td>\n",
       "      <td>Nepal</td>\n",
       "      <td>Other_EB</td>\n",
       "      <td>PE_Unemployed</td>\n",
       "      <td>HouseWife</td>\n",
       "      <td>Businessman</td>\n",
       "      <td>Graduate</td>\n",
       "      <td>Entrepreneurship</td>\n",
       "      <td>0</td>\n",
       "    </tr>\n",
       "    <tr>\n",
       "      <th>15</th>\n",
       "      <td>MBA</td>\n",
       "      <td>2019.0</td>\n",
       "      <td>Male</td>\n",
       "      <td>Other_Districts</td>\n",
       "      <td>Nepal</td>\n",
       "      <td>Bachelor of Business Administration</td>\n",
       "      <td>PE_Unemployed</td>\n",
       "      <td>HouseWife</td>\n",
       "      <td>Businessman</td>\n",
       "      <td>Select_Status</td>\n",
       "      <td>Select_AC</td>\n",
       "      <td>0</td>\n",
       "    </tr>\n",
       "    <tr>\n",
       "      <th>16</th>\n",
       "      <td>MBA</td>\n",
       "      <td>2019.0</td>\n",
       "      <td>Male</td>\n",
       "      <td>Other_Districts</td>\n",
       "      <td>Nepal</td>\n",
       "      <td>Bachelor's Degree in Business Studies</td>\n",
       "      <td>PE_Unemployed</td>\n",
       "      <td>Employee_Mother</td>\n",
       "      <td>Select_FathersP</td>\n",
       "      <td>Graduate</td>\n",
       "      <td>Entrepreneurship</td>\n",
       "      <td>1</td>\n",
       "    </tr>\n",
       "    <tr>\n",
       "      <th>17</th>\n",
       "      <td>MBA</td>\n",
       "      <td>2019.0</td>\n",
       "      <td>Female</td>\n",
       "      <td>Kathmandu</td>\n",
       "      <td>Nepal</td>\n",
       "      <td>Bachelor of Business Administration</td>\n",
       "      <td>PE_Unemployed</td>\n",
       "      <td>HouseWife</td>\n",
       "      <td>Businessman</td>\n",
       "      <td>Graduate</td>\n",
       "      <td>Technology and Innovation</td>\n",
       "      <td>0</td>\n",
       "    </tr>\n",
       "    <tr>\n",
       "      <th>18</th>\n",
       "      <td>MBA</td>\n",
       "      <td>2019.0</td>\n",
       "      <td>Female</td>\n",
       "      <td>Sarlahi</td>\n",
       "      <td>Nepal</td>\n",
       "      <td>Bachelor of Business Administration</td>\n",
       "      <td>PE_Employed</td>\n",
       "      <td>Employee_Mother</td>\n",
       "      <td>Businessman</td>\n",
       "      <td>Graduate</td>\n",
       "      <td>Human Resources Management</td>\n",
       "      <td>0</td>\n",
       "    </tr>\n",
       "    <tr>\n",
       "      <th>19</th>\n",
       "      <td>MBA</td>\n",
       "      <td>2019.0</td>\n",
       "      <td>Female</td>\n",
       "      <td>Lalitpur</td>\n",
       "      <td>Nepal</td>\n",
       "      <td>Bachelor of Business Administration</td>\n",
       "      <td>PE_Employed</td>\n",
       "      <td>HouseWife</td>\n",
       "      <td>Employee_Father</td>\n",
       "      <td>Graduate</td>\n",
       "      <td>Entrepreneurship</td>\n",
       "      <td>0</td>\n",
       "    </tr>\n",
       "    <tr>\n",
       "      <th>23</th>\n",
       "      <td>MBA</td>\n",
       "      <td>2019.0</td>\n",
       "      <td>Female</td>\n",
       "      <td>Other_Districts</td>\n",
       "      <td>Nepal</td>\n",
       "      <td>Bachelor of Science in Agriculture</td>\n",
       "      <td>PE_Employed</td>\n",
       "      <td>Employee_Mother</td>\n",
       "      <td>Employee_Father</td>\n",
       "      <td>Graduate</td>\n",
       "      <td>Entrepreneurship</td>\n",
       "      <td>1</td>\n",
       "    </tr>\n",
       "    <tr>\n",
       "      <th>25</th>\n",
       "      <td>MBA</td>\n",
       "      <td>2019.0</td>\n",
       "      <td>Female</td>\n",
       "      <td>Kailali</td>\n",
       "      <td>Nepal</td>\n",
       "      <td>Bachelor's Degree in Business Studies</td>\n",
       "      <td>PE_Employed</td>\n",
       "      <td>Select_MothersP</td>\n",
       "      <td>Select_FathersP</td>\n",
       "      <td>Graduate</td>\n",
       "      <td>Technology and Innovation</td>\n",
       "      <td>1</td>\n",
       "    </tr>\n",
       "    <tr>\n",
       "      <th>26</th>\n",
       "      <td>MBA</td>\n",
       "      <td>2019.0</td>\n",
       "      <td>Male</td>\n",
       "      <td>Other_Districts</td>\n",
       "      <td>Nepal</td>\n",
       "      <td>Other_EB</td>\n",
       "      <td>PE_Unemployed</td>\n",
       "      <td>HouseWife</td>\n",
       "      <td>Government_Workers_Father</td>\n",
       "      <td>Graduate</td>\n",
       "      <td>Human Resources Management</td>\n",
       "      <td>1</td>\n",
       "    </tr>\n",
       "    <tr>\n",
       "      <th>28</th>\n",
       "      <td>MBA</td>\n",
       "      <td>2019.0</td>\n",
       "      <td>Male</td>\n",
       "      <td>Kathmandu</td>\n",
       "      <td>Nepal</td>\n",
       "      <td>Bachelor of Business Administration</td>\n",
       "      <td>PE_Employed</td>\n",
       "      <td>Select_MothersP</td>\n",
       "      <td>Select_FathersP</td>\n",
       "      <td>Graduate</td>\n",
       "      <td>Entrepreneurship</td>\n",
       "      <td>0</td>\n",
       "    </tr>\n",
       "    <tr>\n",
       "      <th>29</th>\n",
       "      <td>MBA</td>\n",
       "      <td>2019.0</td>\n",
       "      <td>Male</td>\n",
       "      <td>Kathmandu</td>\n",
       "      <td>Nepal</td>\n",
       "      <td>Bachelor of Business Administration</td>\n",
       "      <td>PE_Employed</td>\n",
       "      <td>HouseWife</td>\n",
       "      <td>Businessman</td>\n",
       "      <td>Graduate</td>\n",
       "      <td>Technology and Innovation</td>\n",
       "      <td>0</td>\n",
       "    </tr>\n",
       "  </tbody>\n",
       "</table>\n",
       "</div>"
      ],
      "text/plain": [
       "   Program Enrollment Year  Gender         District Country  \\\n",
       "0      MBA          2019.0    Male        Kathmandu   Nepal   \n",
       "1      MBA          2019.0    Male            Kaski   Nepal   \n",
       "3      MBA          2019.0    Male        Kathmandu   Nepal   \n",
       "4      MBA          2019.0    Male        Kathmandu   Nepal   \n",
       "7      MBA          2019.0  Female        Kathmandu   Nepal   \n",
       "9      MBA          2019.0    Male             Dang   Nepal   \n",
       "10     MBA          2019.0  Female         Lalitpur   Nepal   \n",
       "12     MBA          2019.0    Male    Kavreplanchok   Nepal   \n",
       "13     MBA          2019.0    Male        Kathmandu   Nepal   \n",
       "14     MBA          2019.0    Male        Kathmandu   Nepal   \n",
       "15     MBA          2019.0    Male  Other_Districts   Nepal   \n",
       "16     MBA          2019.0    Male  Other_Districts   Nepal   \n",
       "17     MBA          2019.0  Female        Kathmandu   Nepal   \n",
       "18     MBA          2019.0  Female          Sarlahi   Nepal   \n",
       "19     MBA          2019.0  Female         Lalitpur   Nepal   \n",
       "23     MBA          2019.0  Female  Other_Districts   Nepal   \n",
       "25     MBA          2019.0  Female          Kailali   Nepal   \n",
       "26     MBA          2019.0    Male  Other_Districts   Nepal   \n",
       "28     MBA          2019.0    Male        Kathmandu   Nepal   \n",
       "29     MBA          2019.0    Male        Kathmandu   Nepal   \n",
       "\n",
       "                     Education Background Professional Engagement  \\\n",
       "0     Bachelor of Business Administration           PE_Unemployed   \n",
       "1     Bachelor of Business Administration           PE_Unemployed   \n",
       "3     Bachelor of Business Administration             PE_Employed   \n",
       "4                                Other_EB             PE_Employed   \n",
       "7     Bachelor of Business Administration             PE_Employed   \n",
       "9   Bachelor's Degree in Business Studies             PE_Employed   \n",
       "10    Bachelor of Business Administration             PE_Employed   \n",
       "12                               Other_EB           PE_Unemployed   \n",
       "13                               Other_EB             PE_Employed   \n",
       "14                               Other_EB           PE_Unemployed   \n",
       "15    Bachelor of Business Administration           PE_Unemployed   \n",
       "16  Bachelor's Degree in Business Studies           PE_Unemployed   \n",
       "17    Bachelor of Business Administration           PE_Unemployed   \n",
       "18    Bachelor of Business Administration             PE_Employed   \n",
       "19    Bachelor of Business Administration             PE_Employed   \n",
       "23     Bachelor of Science in Agriculture             PE_Employed   \n",
       "25  Bachelor's Degree in Business Studies             PE_Employed   \n",
       "26                               Other_EB           PE_Unemployed   \n",
       "28    Bachelor of Business Administration             PE_Employed   \n",
       "29    Bachelor of Business Administration             PE_Employed   \n",
       "\n",
       "   Mothers Profession         Fathers Profession         Status  \\\n",
       "0       Businesswoman                Businessman     Withdrawn    \n",
       "1           HouseWife                Businessman       Graduate   \n",
       "3           HouseWife                Businessman     Withdrawn    \n",
       "4     Select_MothersP            Select_FathersP     Withdrawn    \n",
       "7     Select_MothersP            Select_FathersP     Withdrawn    \n",
       "9     Select_MothersP            Select_FathersP       Graduate   \n",
       "10      Businesswoman                Businessman     Withdrawn    \n",
       "12    Select_MothersP            Select_FathersP     Withdrawn    \n",
       "13    Employee_Mother            Employee_Father     Withdrawn    \n",
       "14          HouseWife                Businessman       Graduate   \n",
       "15          HouseWife                Businessman  Select_Status   \n",
       "16    Employee_Mother            Select_FathersP       Graduate   \n",
       "17          HouseWife                Businessman       Graduate   \n",
       "18    Employee_Mother                Businessman       Graduate   \n",
       "19          HouseWife            Employee_Father       Graduate   \n",
       "23    Employee_Mother            Employee_Father       Graduate   \n",
       "25    Select_MothersP            Select_FathersP       Graduate   \n",
       "26          HouseWife  Government_Workers_Father       Graduate   \n",
       "28    Select_MothersP            Select_FathersP       Graduate   \n",
       "29          HouseWife                Businessman       Graduate   \n",
       "\n",
       "           Actual Concentration  Scholarship  \n",
       "0                      Pending             0  \n",
       "1          Marketing Management            0  \n",
       "3                      Pending             0  \n",
       "4                      Pending             0  \n",
       "7                      Pending             0  \n",
       "9             Entrepreneurship             0  \n",
       "10                     Pending             0  \n",
       "12                     Pending             0  \n",
       "13                     Pending             0  \n",
       "14            Entrepreneurship             0  \n",
       "15                    Select_AC            0  \n",
       "16            Entrepreneurship             1  \n",
       "17    Technology and Innovation            0  \n",
       "18  Human Resources Management             0  \n",
       "19            Entrepreneurship             0  \n",
       "23            Entrepreneurship             1  \n",
       "25    Technology and Innovation            1  \n",
       "26  Human Resources Management             1  \n",
       "28            Entrepreneurship             0  \n",
       "29    Technology and Innovation            0  "
      ]
     },
     "execution_count": 636,
     "metadata": {},
     "output_type": "execute_result"
    }
   ],
   "source": [
    "# Get the indices of the students with 'More Budget' value of 1 from y_train_final\n",
    "indices_with_max_students = y_train_final[y_train_final['Max Students'] == 1].index\n",
    "\n",
    "# Use those indices to retrieve the corresponding students from the data_cleaned DataFrame\n",
    "max_students = data_cleaned.loc[indices_with_max_students]\n",
    "\n",
    "# Print the result\n",
    "max_students.head(20)"
   ]
  },
  {
   "cell_type": "markdown",
   "id": "618572fe",
   "metadata": {},
   "source": [
    "- When the college has increased funding and a strong commitment to support academic excellence and financial need, they can ensure 515 students the opportunity to benefit from the scholarships based on the cutoff of 0.1"
   ]
  },
  {
   "cell_type": "markdown",
   "id": "e0eac695",
   "metadata": {},
   "source": [
    "#### Note"
   ]
  },
  {
   "cell_type": "markdown",
   "id": "83ec9b86",
   "metadata": {},
   "source": [
    "When we mark the model cutoff at 0.1, the college has 48 percent students (from the train set its 515/1052) to give scholarship during this period. The accuracy of the Model is not the greatest. However, we will not miss students who could get scholarship as the sensitivity of the model at this cutoff is very high.\n",
    "\n",
    "This allows us to not miss any students who can get scholarships. \n",
    "Thus this impacts on the college as:\n",
    "\n",
    "1. Positive Impact: More students will have access to financial support, aligning with the college's mission to foster academic excellence and support those in financial need. This can enhance the college's reputation and attract a more diverse student population."
   ]
  },
  {
   "cell_type": "markdown",
   "id": "b0d07c54",
   "metadata": {},
   "source": [
    "## Case Two : Specificity Focus - Managing Scholarship Funds Responsibly (High Threshold)"
   ]
  },
  {
   "cell_type": "code",
   "execution_count": 637,
   "id": "660df760",
   "metadata": {},
   "outputs": [],
   "source": [
    "y_train_final['Deserving Students'] = y_train_final.Scholarship_prob.map(lambda x: 1 if x >0.7 else 0)"
   ]
  },
  {
   "cell_type": "code",
   "execution_count": 638,
   "id": "9e70b6a1",
   "metadata": {},
   "outputs": [
    {
     "data": {
      "text/plain": [
       "0    693\n",
       "1    359\n",
       "Name: Deserving Students, dtype: int64"
      ]
     },
     "execution_count": 638,
     "metadata": {},
     "output_type": "execute_result"
    }
   ],
   "source": [
    "y_train_final['Deserving Students'].value_counts()"
   ]
  },
  {
   "cell_type": "code",
   "execution_count": 639,
   "id": "34a98313",
   "metadata": {},
   "outputs": [],
   "source": [
    "deserving_students = y_train_final[y_train_final['Deserving Students'] == 1]"
   ]
  },
  {
   "cell_type": "code",
   "execution_count": 640,
   "id": "640e6861",
   "metadata": {},
   "outputs": [
    {
     "data": {
      "text/html": [
       "<div>\n",
       "<style scoped>\n",
       "    .dataframe tbody tr th:only-of-type {\n",
       "        vertical-align: middle;\n",
       "    }\n",
       "\n",
       "    .dataframe tbody tr th {\n",
       "        vertical-align: top;\n",
       "    }\n",
       "\n",
       "    .dataframe thead th {\n",
       "        text-align: right;\n",
       "    }\n",
       "</style>\n",
       "<table border=\"1\" class=\"dataframe\">\n",
       "  <thead>\n",
       "    <tr style=\"text-align: right;\">\n",
       "      <th></th>\n",
       "      <th>Scholarship</th>\n",
       "      <th>Scholarship_prob</th>\n",
       "      <th>Student ID</th>\n",
       "      <th>predicted</th>\n",
       "      <th>score</th>\n",
       "      <th>0.0</th>\n",
       "      <th>0.1</th>\n",
       "      <th>0.2</th>\n",
       "      <th>0.3</th>\n",
       "      <th>0.4</th>\n",
       "      <th>0.5</th>\n",
       "      <th>0.6</th>\n",
       "      <th>0.7</th>\n",
       "      <th>0.8</th>\n",
       "      <th>0.9</th>\n",
       "      <th>Max Students</th>\n",
       "      <th>Deserving Students</th>\n",
       "    </tr>\n",
       "  </thead>\n",
       "  <tbody>\n",
       "    <tr>\n",
       "      <th>0</th>\n",
       "      <td>1</td>\n",
       "      <td>0.715343</td>\n",
       "      <td>1</td>\n",
       "      <td>1</td>\n",
       "      <td>72.0</td>\n",
       "      <td>1</td>\n",
       "      <td>1</td>\n",
       "      <td>1</td>\n",
       "      <td>1</td>\n",
       "      <td>1</td>\n",
       "      <td>1</td>\n",
       "      <td>1</td>\n",
       "      <td>1</td>\n",
       "      <td>0</td>\n",
       "      <td>0</td>\n",
       "      <td>1</td>\n",
       "      <td>1</td>\n",
       "    </tr>\n",
       "    <tr>\n",
       "      <th>7</th>\n",
       "      <td>0</td>\n",
       "      <td>0.715343</td>\n",
       "      <td>8</td>\n",
       "      <td>1</td>\n",
       "      <td>72.0</td>\n",
       "      <td>1</td>\n",
       "      <td>1</td>\n",
       "      <td>1</td>\n",
       "      <td>1</td>\n",
       "      <td>1</td>\n",
       "      <td>1</td>\n",
       "      <td>1</td>\n",
       "      <td>1</td>\n",
       "      <td>0</td>\n",
       "      <td>0</td>\n",
       "      <td>1</td>\n",
       "      <td>1</td>\n",
       "    </tr>\n",
       "    <tr>\n",
       "      <th>9</th>\n",
       "      <td>1</td>\n",
       "      <td>0.715343</td>\n",
       "      <td>10</td>\n",
       "      <td>1</td>\n",
       "      <td>72.0</td>\n",
       "      <td>1</td>\n",
       "      <td>1</td>\n",
       "      <td>1</td>\n",
       "      <td>1</td>\n",
       "      <td>1</td>\n",
       "      <td>1</td>\n",
       "      <td>1</td>\n",
       "      <td>1</td>\n",
       "      <td>0</td>\n",
       "      <td>0</td>\n",
       "      <td>1</td>\n",
       "      <td>1</td>\n",
       "    </tr>\n",
       "    <tr>\n",
       "      <th>10</th>\n",
       "      <td>1</td>\n",
       "      <td>0.715343</td>\n",
       "      <td>11</td>\n",
       "      <td>1</td>\n",
       "      <td>72.0</td>\n",
       "      <td>1</td>\n",
       "      <td>1</td>\n",
       "      <td>1</td>\n",
       "      <td>1</td>\n",
       "      <td>1</td>\n",
       "      <td>1</td>\n",
       "      <td>1</td>\n",
       "      <td>1</td>\n",
       "      <td>0</td>\n",
       "      <td>0</td>\n",
       "      <td>1</td>\n",
       "      <td>1</td>\n",
       "    </tr>\n",
       "    <tr>\n",
       "      <th>15</th>\n",
       "      <td>1</td>\n",
       "      <td>0.715343</td>\n",
       "      <td>16</td>\n",
       "      <td>1</td>\n",
       "      <td>72.0</td>\n",
       "      <td>1</td>\n",
       "      <td>1</td>\n",
       "      <td>1</td>\n",
       "      <td>1</td>\n",
       "      <td>1</td>\n",
       "      <td>1</td>\n",
       "      <td>1</td>\n",
       "      <td>1</td>\n",
       "      <td>0</td>\n",
       "      <td>0</td>\n",
       "      <td>1</td>\n",
       "      <td>1</td>\n",
       "    </tr>\n",
       "    <tr>\n",
       "      <th>16</th>\n",
       "      <td>1</td>\n",
       "      <td>0.715343</td>\n",
       "      <td>17</td>\n",
       "      <td>1</td>\n",
       "      <td>72.0</td>\n",
       "      <td>1</td>\n",
       "      <td>1</td>\n",
       "      <td>1</td>\n",
       "      <td>1</td>\n",
       "      <td>1</td>\n",
       "      <td>1</td>\n",
       "      <td>1</td>\n",
       "      <td>1</td>\n",
       "      <td>0</td>\n",
       "      <td>0</td>\n",
       "      <td>1</td>\n",
       "      <td>1</td>\n",
       "    </tr>\n",
       "    <tr>\n",
       "      <th>17</th>\n",
       "      <td>1</td>\n",
       "      <td>0.715343</td>\n",
       "      <td>18</td>\n",
       "      <td>1</td>\n",
       "      <td>72.0</td>\n",
       "      <td>1</td>\n",
       "      <td>1</td>\n",
       "      <td>1</td>\n",
       "      <td>1</td>\n",
       "      <td>1</td>\n",
       "      <td>1</td>\n",
       "      <td>1</td>\n",
       "      <td>1</td>\n",
       "      <td>0</td>\n",
       "      <td>0</td>\n",
       "      <td>1</td>\n",
       "      <td>1</td>\n",
       "    </tr>\n",
       "    <tr>\n",
       "      <th>18</th>\n",
       "      <td>1</td>\n",
       "      <td>0.960277</td>\n",
       "      <td>19</td>\n",
       "      <td>1</td>\n",
       "      <td>96.0</td>\n",
       "      <td>1</td>\n",
       "      <td>1</td>\n",
       "      <td>1</td>\n",
       "      <td>1</td>\n",
       "      <td>1</td>\n",
       "      <td>1</td>\n",
       "      <td>1</td>\n",
       "      <td>1</td>\n",
       "      <td>1</td>\n",
       "      <td>1</td>\n",
       "      <td>1</td>\n",
       "      <td>1</td>\n",
       "    </tr>\n",
       "    <tr>\n",
       "      <th>19</th>\n",
       "      <td>1</td>\n",
       "      <td>0.715343</td>\n",
       "      <td>20</td>\n",
       "      <td>1</td>\n",
       "      <td>72.0</td>\n",
       "      <td>1</td>\n",
       "      <td>1</td>\n",
       "      <td>1</td>\n",
       "      <td>1</td>\n",
       "      <td>1</td>\n",
       "      <td>1</td>\n",
       "      <td>1</td>\n",
       "      <td>1</td>\n",
       "      <td>0</td>\n",
       "      <td>0</td>\n",
       "      <td>1</td>\n",
       "      <td>1</td>\n",
       "    </tr>\n",
       "    <tr>\n",
       "      <th>23</th>\n",
       "      <td>1</td>\n",
       "      <td>0.715343</td>\n",
       "      <td>24</td>\n",
       "      <td>1</td>\n",
       "      <td>72.0</td>\n",
       "      <td>1</td>\n",
       "      <td>1</td>\n",
       "      <td>1</td>\n",
       "      <td>1</td>\n",
       "      <td>1</td>\n",
       "      <td>1</td>\n",
       "      <td>1</td>\n",
       "      <td>1</td>\n",
       "      <td>0</td>\n",
       "      <td>0</td>\n",
       "      <td>1</td>\n",
       "      <td>1</td>\n",
       "    </tr>\n",
       "    <tr>\n",
       "      <th>25</th>\n",
       "      <td>1</td>\n",
       "      <td>0.786887</td>\n",
       "      <td>26</td>\n",
       "      <td>1</td>\n",
       "      <td>79.0</td>\n",
       "      <td>1</td>\n",
       "      <td>1</td>\n",
       "      <td>1</td>\n",
       "      <td>1</td>\n",
       "      <td>1</td>\n",
       "      <td>1</td>\n",
       "      <td>1</td>\n",
       "      <td>1</td>\n",
       "      <td>0</td>\n",
       "      <td>0</td>\n",
       "      <td>1</td>\n",
       "      <td>1</td>\n",
       "    </tr>\n",
       "    <tr>\n",
       "      <th>28</th>\n",
       "      <td>0</td>\n",
       "      <td>0.715343</td>\n",
       "      <td>29</td>\n",
       "      <td>1</td>\n",
       "      <td>72.0</td>\n",
       "      <td>1</td>\n",
       "      <td>1</td>\n",
       "      <td>1</td>\n",
       "      <td>1</td>\n",
       "      <td>1</td>\n",
       "      <td>1</td>\n",
       "      <td>1</td>\n",
       "      <td>1</td>\n",
       "      <td>0</td>\n",
       "      <td>0</td>\n",
       "      <td>1</td>\n",
       "      <td>1</td>\n",
       "    </tr>\n",
       "    <tr>\n",
       "      <th>29</th>\n",
       "      <td>1</td>\n",
       "      <td>0.715343</td>\n",
       "      <td>30</td>\n",
       "      <td>1</td>\n",
       "      <td>72.0</td>\n",
       "      <td>1</td>\n",
       "      <td>1</td>\n",
       "      <td>1</td>\n",
       "      <td>1</td>\n",
       "      <td>1</td>\n",
       "      <td>1</td>\n",
       "      <td>1</td>\n",
       "      <td>1</td>\n",
       "      <td>0</td>\n",
       "      <td>0</td>\n",
       "      <td>1</td>\n",
       "      <td>1</td>\n",
       "    </tr>\n",
       "    <tr>\n",
       "      <th>31</th>\n",
       "      <td>0</td>\n",
       "      <td>0.715343</td>\n",
       "      <td>32</td>\n",
       "      <td>1</td>\n",
       "      <td>72.0</td>\n",
       "      <td>1</td>\n",
       "      <td>1</td>\n",
       "      <td>1</td>\n",
       "      <td>1</td>\n",
       "      <td>1</td>\n",
       "      <td>1</td>\n",
       "      <td>1</td>\n",
       "      <td>1</td>\n",
       "      <td>0</td>\n",
       "      <td>0</td>\n",
       "      <td>1</td>\n",
       "      <td>1</td>\n",
       "    </tr>\n",
       "    <tr>\n",
       "      <th>32</th>\n",
       "      <td>0</td>\n",
       "      <td>0.715343</td>\n",
       "      <td>33</td>\n",
       "      <td>1</td>\n",
       "      <td>72.0</td>\n",
       "      <td>1</td>\n",
       "      <td>1</td>\n",
       "      <td>1</td>\n",
       "      <td>1</td>\n",
       "      <td>1</td>\n",
       "      <td>1</td>\n",
       "      <td>1</td>\n",
       "      <td>1</td>\n",
       "      <td>0</td>\n",
       "      <td>0</td>\n",
       "      <td>1</td>\n",
       "      <td>1</td>\n",
       "    </tr>\n",
       "    <tr>\n",
       "      <th>36</th>\n",
       "      <td>1</td>\n",
       "      <td>0.920228</td>\n",
       "      <td>37</td>\n",
       "      <td>1</td>\n",
       "      <td>92.0</td>\n",
       "      <td>1</td>\n",
       "      <td>1</td>\n",
       "      <td>1</td>\n",
       "      <td>1</td>\n",
       "      <td>1</td>\n",
       "      <td>1</td>\n",
       "      <td>1</td>\n",
       "      <td>1</td>\n",
       "      <td>1</td>\n",
       "      <td>1</td>\n",
       "      <td>1</td>\n",
       "      <td>1</td>\n",
       "    </tr>\n",
       "    <tr>\n",
       "      <th>38</th>\n",
       "      <td>0</td>\n",
       "      <td>0.715343</td>\n",
       "      <td>39</td>\n",
       "      <td>1</td>\n",
       "      <td>72.0</td>\n",
       "      <td>1</td>\n",
       "      <td>1</td>\n",
       "      <td>1</td>\n",
       "      <td>1</td>\n",
       "      <td>1</td>\n",
       "      <td>1</td>\n",
       "      <td>1</td>\n",
       "      <td>1</td>\n",
       "      <td>0</td>\n",
       "      <td>0</td>\n",
       "      <td>1</td>\n",
       "      <td>1</td>\n",
       "    </tr>\n",
       "    <tr>\n",
       "      <th>41</th>\n",
       "      <td>1</td>\n",
       "      <td>0.715343</td>\n",
       "      <td>42</td>\n",
       "      <td>1</td>\n",
       "      <td>72.0</td>\n",
       "      <td>1</td>\n",
       "      <td>1</td>\n",
       "      <td>1</td>\n",
       "      <td>1</td>\n",
       "      <td>1</td>\n",
       "      <td>1</td>\n",
       "      <td>1</td>\n",
       "      <td>1</td>\n",
       "      <td>0</td>\n",
       "      <td>0</td>\n",
       "      <td>1</td>\n",
       "      <td>1</td>\n",
       "    </tr>\n",
       "    <tr>\n",
       "      <th>47</th>\n",
       "      <td>0</td>\n",
       "      <td>0.715343</td>\n",
       "      <td>48</td>\n",
       "      <td>1</td>\n",
       "      <td>72.0</td>\n",
       "      <td>1</td>\n",
       "      <td>1</td>\n",
       "      <td>1</td>\n",
       "      <td>1</td>\n",
       "      <td>1</td>\n",
       "      <td>1</td>\n",
       "      <td>1</td>\n",
       "      <td>1</td>\n",
       "      <td>0</td>\n",
       "      <td>0</td>\n",
       "      <td>1</td>\n",
       "      <td>1</td>\n",
       "    </tr>\n",
       "    <tr>\n",
       "      <th>49</th>\n",
       "      <td>1</td>\n",
       "      <td>0.715343</td>\n",
       "      <td>50</td>\n",
       "      <td>1</td>\n",
       "      <td>72.0</td>\n",
       "      <td>1</td>\n",
       "      <td>1</td>\n",
       "      <td>1</td>\n",
       "      <td>1</td>\n",
       "      <td>1</td>\n",
       "      <td>1</td>\n",
       "      <td>1</td>\n",
       "      <td>1</td>\n",
       "      <td>0</td>\n",
       "      <td>0</td>\n",
       "      <td>1</td>\n",
       "      <td>1</td>\n",
       "    </tr>\n",
       "  </tbody>\n",
       "</table>\n",
       "</div>"
      ],
      "text/plain": [
       "    Scholarship  Scholarship_prob  Student ID  predicted  score  0.0  0.1  \\\n",
       "0             1          0.715343           1          1   72.0    1    1   \n",
       "7             0          0.715343           8          1   72.0    1    1   \n",
       "9             1          0.715343          10          1   72.0    1    1   \n",
       "10            1          0.715343          11          1   72.0    1    1   \n",
       "15            1          0.715343          16          1   72.0    1    1   \n",
       "16            1          0.715343          17          1   72.0    1    1   \n",
       "17            1          0.715343          18          1   72.0    1    1   \n",
       "18            1          0.960277          19          1   96.0    1    1   \n",
       "19            1          0.715343          20          1   72.0    1    1   \n",
       "23            1          0.715343          24          1   72.0    1    1   \n",
       "25            1          0.786887          26          1   79.0    1    1   \n",
       "28            0          0.715343          29          1   72.0    1    1   \n",
       "29            1          0.715343          30          1   72.0    1    1   \n",
       "31            0          0.715343          32          1   72.0    1    1   \n",
       "32            0          0.715343          33          1   72.0    1    1   \n",
       "36            1          0.920228          37          1   92.0    1    1   \n",
       "38            0          0.715343          39          1   72.0    1    1   \n",
       "41            1          0.715343          42          1   72.0    1    1   \n",
       "47            0          0.715343          48          1   72.0    1    1   \n",
       "49            1          0.715343          50          1   72.0    1    1   \n",
       "\n",
       "    0.2  0.3  0.4  0.5  0.6  0.7  0.8  0.9  Max Students  Deserving Students  \n",
       "0     1    1    1    1    1    1    0    0             1                   1  \n",
       "7     1    1    1    1    1    1    0    0             1                   1  \n",
       "9     1    1    1    1    1    1    0    0             1                   1  \n",
       "10    1    1    1    1    1    1    0    0             1                   1  \n",
       "15    1    1    1    1    1    1    0    0             1                   1  \n",
       "16    1    1    1    1    1    1    0    0             1                   1  \n",
       "17    1    1    1    1    1    1    0    0             1                   1  \n",
       "18    1    1    1    1    1    1    1    1             1                   1  \n",
       "19    1    1    1    1    1    1    0    0             1                   1  \n",
       "23    1    1    1    1    1    1    0    0             1                   1  \n",
       "25    1    1    1    1    1    1    0    0             1                   1  \n",
       "28    1    1    1    1    1    1    0    0             1                   1  \n",
       "29    1    1    1    1    1    1    0    0             1                   1  \n",
       "31    1    1    1    1    1    1    0    0             1                   1  \n",
       "32    1    1    1    1    1    1    0    0             1                   1  \n",
       "36    1    1    1    1    1    1    1    1             1                   1  \n",
       "38    1    1    1    1    1    1    0    0             1                   1  \n",
       "41    1    1    1    1    1    1    0    0             1                   1  \n",
       "47    1    1    1    1    1    1    0    0             1                   1  \n",
       "49    1    1    1    1    1    1    0    0             1                   1  "
      ]
     },
     "execution_count": 640,
     "metadata": {},
     "output_type": "execute_result"
    }
   ],
   "source": [
    "deserving_students.head(20)"
   ]
  },
  {
   "cell_type": "code",
   "execution_count": 707,
   "id": "426fe387",
   "metadata": {},
   "outputs": [
    {
     "data": {
      "text/html": [
       "<div>\n",
       "<style scoped>\n",
       "    .dataframe tbody tr th:only-of-type {\n",
       "        vertical-align: middle;\n",
       "    }\n",
       "\n",
       "    .dataframe tbody tr th {\n",
       "        vertical-align: top;\n",
       "    }\n",
       "\n",
       "    .dataframe thead th {\n",
       "        text-align: right;\n",
       "    }\n",
       "</style>\n",
       "<table border=\"1\" class=\"dataframe\">\n",
       "  <thead>\n",
       "    <tr style=\"text-align: right;\">\n",
       "      <th></th>\n",
       "      <th>Program</th>\n",
       "      <th>Enrollment Year</th>\n",
       "      <th>Gender</th>\n",
       "      <th>District</th>\n",
       "      <th>Country</th>\n",
       "      <th>Education Background</th>\n",
       "      <th>Professional Engagement</th>\n",
       "      <th>Mothers Profession</th>\n",
       "      <th>Fathers Profession</th>\n",
       "      <th>Status</th>\n",
       "      <th>Actual Concentration</th>\n",
       "      <th>Scholarship</th>\n",
       "    </tr>\n",
       "  </thead>\n",
       "  <tbody>\n",
       "    <tr>\n",
       "      <th>0</th>\n",
       "      <td>MBA</td>\n",
       "      <td>2019.0</td>\n",
       "      <td>Male</td>\n",
       "      <td>Kathmandu</td>\n",
       "      <td>Nepal</td>\n",
       "      <td>Bachelor of Business Administration</td>\n",
       "      <td>PE_Unemployed</td>\n",
       "      <td>Businesswoman</td>\n",
       "      <td>Businessman</td>\n",
       "      <td>Withdrawn</td>\n",
       "      <td>Pending</td>\n",
       "      <td>0</td>\n",
       "    </tr>\n",
       "    <tr>\n",
       "      <th>7</th>\n",
       "      <td>MBA</td>\n",
       "      <td>2019.0</td>\n",
       "      <td>Female</td>\n",
       "      <td>Kathmandu</td>\n",
       "      <td>Nepal</td>\n",
       "      <td>Bachelor of Business Administration</td>\n",
       "      <td>PE_Employed</td>\n",
       "      <td>Select_MothersP</td>\n",
       "      <td>Select_FathersP</td>\n",
       "      <td>Withdrawn</td>\n",
       "      <td>Pending</td>\n",
       "      <td>0</td>\n",
       "    </tr>\n",
       "    <tr>\n",
       "      <th>9</th>\n",
       "      <td>MBA</td>\n",
       "      <td>2019.0</td>\n",
       "      <td>Male</td>\n",
       "      <td>Dang</td>\n",
       "      <td>Nepal</td>\n",
       "      <td>Bachelor's Degree in Business Studies</td>\n",
       "      <td>PE_Employed</td>\n",
       "      <td>Select_MothersP</td>\n",
       "      <td>Select_FathersP</td>\n",
       "      <td>Graduate</td>\n",
       "      <td>Entrepreneurship</td>\n",
       "      <td>0</td>\n",
       "    </tr>\n",
       "    <tr>\n",
       "      <th>10</th>\n",
       "      <td>MBA</td>\n",
       "      <td>2019.0</td>\n",
       "      <td>Female</td>\n",
       "      <td>Lalitpur</td>\n",
       "      <td>Nepal</td>\n",
       "      <td>Bachelor of Business Administration</td>\n",
       "      <td>PE_Employed</td>\n",
       "      <td>Businesswoman</td>\n",
       "      <td>Businessman</td>\n",
       "      <td>Withdrawn</td>\n",
       "      <td>Pending</td>\n",
       "      <td>0</td>\n",
       "    </tr>\n",
       "    <tr>\n",
       "      <th>15</th>\n",
       "      <td>MBA</td>\n",
       "      <td>2019.0</td>\n",
       "      <td>Male</td>\n",
       "      <td>Other_Districts</td>\n",
       "      <td>Nepal</td>\n",
       "      <td>Bachelor of Business Administration</td>\n",
       "      <td>PE_Unemployed</td>\n",
       "      <td>HouseWife</td>\n",
       "      <td>Businessman</td>\n",
       "      <td>Select_Status</td>\n",
       "      <td>Select_AC</td>\n",
       "      <td>0</td>\n",
       "    </tr>\n",
       "    <tr>\n",
       "      <th>16</th>\n",
       "      <td>MBA</td>\n",
       "      <td>2019.0</td>\n",
       "      <td>Male</td>\n",
       "      <td>Other_Districts</td>\n",
       "      <td>Nepal</td>\n",
       "      <td>Bachelor's Degree in Business Studies</td>\n",
       "      <td>PE_Unemployed</td>\n",
       "      <td>Employee_Mother</td>\n",
       "      <td>Select_FathersP</td>\n",
       "      <td>Graduate</td>\n",
       "      <td>Entrepreneurship</td>\n",
       "      <td>1</td>\n",
       "    </tr>\n",
       "    <tr>\n",
       "      <th>17</th>\n",
       "      <td>MBA</td>\n",
       "      <td>2019.0</td>\n",
       "      <td>Female</td>\n",
       "      <td>Kathmandu</td>\n",
       "      <td>Nepal</td>\n",
       "      <td>Bachelor of Business Administration</td>\n",
       "      <td>PE_Unemployed</td>\n",
       "      <td>HouseWife</td>\n",
       "      <td>Businessman</td>\n",
       "      <td>Graduate</td>\n",
       "      <td>Technology and Innovation</td>\n",
       "      <td>0</td>\n",
       "    </tr>\n",
       "    <tr>\n",
       "      <th>18</th>\n",
       "      <td>MBA</td>\n",
       "      <td>2019.0</td>\n",
       "      <td>Female</td>\n",
       "      <td>Sarlahi</td>\n",
       "      <td>Nepal</td>\n",
       "      <td>Bachelor of Business Administration</td>\n",
       "      <td>PE_Employed</td>\n",
       "      <td>Employee_Mother</td>\n",
       "      <td>Businessman</td>\n",
       "      <td>Graduate</td>\n",
       "      <td>Human Resources Management</td>\n",
       "      <td>0</td>\n",
       "    </tr>\n",
       "    <tr>\n",
       "      <th>19</th>\n",
       "      <td>MBA</td>\n",
       "      <td>2019.0</td>\n",
       "      <td>Female</td>\n",
       "      <td>Lalitpur</td>\n",
       "      <td>Nepal</td>\n",
       "      <td>Bachelor of Business Administration</td>\n",
       "      <td>PE_Employed</td>\n",
       "      <td>HouseWife</td>\n",
       "      <td>Employee_Father</td>\n",
       "      <td>Graduate</td>\n",
       "      <td>Entrepreneurship</td>\n",
       "      <td>0</td>\n",
       "    </tr>\n",
       "    <tr>\n",
       "      <th>23</th>\n",
       "      <td>MBA</td>\n",
       "      <td>2019.0</td>\n",
       "      <td>Female</td>\n",
       "      <td>Other_Districts</td>\n",
       "      <td>Nepal</td>\n",
       "      <td>Bachelor of Science in Agriculture</td>\n",
       "      <td>PE_Employed</td>\n",
       "      <td>Employee_Mother</td>\n",
       "      <td>Employee_Father</td>\n",
       "      <td>Graduate</td>\n",
       "      <td>Entrepreneurship</td>\n",
       "      <td>1</td>\n",
       "    </tr>\n",
       "    <tr>\n",
       "      <th>25</th>\n",
       "      <td>MBA</td>\n",
       "      <td>2019.0</td>\n",
       "      <td>Female</td>\n",
       "      <td>Kailali</td>\n",
       "      <td>Nepal</td>\n",
       "      <td>Bachelor's Degree in Business Studies</td>\n",
       "      <td>PE_Employed</td>\n",
       "      <td>Select_MothersP</td>\n",
       "      <td>Select_FathersP</td>\n",
       "      <td>Graduate</td>\n",
       "      <td>Technology and Innovation</td>\n",
       "      <td>1</td>\n",
       "    </tr>\n",
       "    <tr>\n",
       "      <th>28</th>\n",
       "      <td>MBA</td>\n",
       "      <td>2019.0</td>\n",
       "      <td>Male</td>\n",
       "      <td>Kathmandu</td>\n",
       "      <td>Nepal</td>\n",
       "      <td>Bachelor of Business Administration</td>\n",
       "      <td>PE_Employed</td>\n",
       "      <td>Select_MothersP</td>\n",
       "      <td>Select_FathersP</td>\n",
       "      <td>Graduate</td>\n",
       "      <td>Entrepreneurship</td>\n",
       "      <td>0</td>\n",
       "    </tr>\n",
       "    <tr>\n",
       "      <th>29</th>\n",
       "      <td>MBA</td>\n",
       "      <td>2019.0</td>\n",
       "      <td>Male</td>\n",
       "      <td>Kathmandu</td>\n",
       "      <td>Nepal</td>\n",
       "      <td>Bachelor of Business Administration</td>\n",
       "      <td>PE_Employed</td>\n",
       "      <td>HouseWife</td>\n",
       "      <td>Businessman</td>\n",
       "      <td>Graduate</td>\n",
       "      <td>Technology and Innovation</td>\n",
       "      <td>0</td>\n",
       "    </tr>\n",
       "    <tr>\n",
       "      <th>31</th>\n",
       "      <td>MBA</td>\n",
       "      <td>2019.0</td>\n",
       "      <td>Male</td>\n",
       "      <td>Kanchanpur</td>\n",
       "      <td>Nepal</td>\n",
       "      <td>Bachelor of Business Administration</td>\n",
       "      <td>PE_Unemployed</td>\n",
       "      <td>HouseWife</td>\n",
       "      <td>Employee_Father</td>\n",
       "      <td>Graduate</td>\n",
       "      <td>Technology and Innovation</td>\n",
       "      <td>0</td>\n",
       "    </tr>\n",
       "    <tr>\n",
       "      <th>32</th>\n",
       "      <td>MBA</td>\n",
       "      <td>2019.0</td>\n",
       "      <td>Male</td>\n",
       "      <td>Other_Districts</td>\n",
       "      <td>Nepal</td>\n",
       "      <td>Other_EB</td>\n",
       "      <td>PE_Employed</td>\n",
       "      <td>HouseWife</td>\n",
       "      <td>Employee_Father</td>\n",
       "      <td>Graduate</td>\n",
       "      <td>Entrepreneurship</td>\n",
       "      <td>1</td>\n",
       "    </tr>\n",
       "    <tr>\n",
       "      <th>36</th>\n",
       "      <td>MBA</td>\n",
       "      <td>2019.0</td>\n",
       "      <td>Female</td>\n",
       "      <td>Kathmandu</td>\n",
       "      <td>Nepal</td>\n",
       "      <td>Bachelor's Degree in Business Studies</td>\n",
       "      <td>PE_Unemployed</td>\n",
       "      <td>Employee_Mother</td>\n",
       "      <td>Employee_Father</td>\n",
       "      <td>Graduate</td>\n",
       "      <td>Entrepreneurship</td>\n",
       "      <td>1</td>\n",
       "    </tr>\n",
       "    <tr>\n",
       "      <th>38</th>\n",
       "      <td>MBA</td>\n",
       "      <td>2019.0</td>\n",
       "      <td>Female</td>\n",
       "      <td>Other_Districts</td>\n",
       "      <td>Nepal</td>\n",
       "      <td>Bachelor of Business Administration</td>\n",
       "      <td>PE_Employed</td>\n",
       "      <td>Select_MothersP</td>\n",
       "      <td>Select_FathersP</td>\n",
       "      <td>Graduate</td>\n",
       "      <td>Human Resources Management</td>\n",
       "      <td>0</td>\n",
       "    </tr>\n",
       "    <tr>\n",
       "      <th>41</th>\n",
       "      <td>MBA</td>\n",
       "      <td>2019.0</td>\n",
       "      <td>Female</td>\n",
       "      <td>Makwanpur</td>\n",
       "      <td>Nepal</td>\n",
       "      <td>Bachelor of Business Administration</td>\n",
       "      <td>PE_Employed</td>\n",
       "      <td>Select_MothersP</td>\n",
       "      <td>Select_FathersP</td>\n",
       "      <td>Graduate</td>\n",
       "      <td>Entrepreneurship</td>\n",
       "      <td>0</td>\n",
       "    </tr>\n",
       "    <tr>\n",
       "      <th>47</th>\n",
       "      <td>MBA</td>\n",
       "      <td>2019.0</td>\n",
       "      <td>Male</td>\n",
       "      <td>Lalitpur</td>\n",
       "      <td>Nepal</td>\n",
       "      <td>Bachelor of Business Administration in Banking...</td>\n",
       "      <td>PE_Unemployed</td>\n",
       "      <td>HouseWife</td>\n",
       "      <td>Businessman</td>\n",
       "      <td>Graduate</td>\n",
       "      <td>Financial Management</td>\n",
       "      <td>0</td>\n",
       "    </tr>\n",
       "    <tr>\n",
       "      <th>49</th>\n",
       "      <td>MBA</td>\n",
       "      <td>2019.0</td>\n",
       "      <td>Male</td>\n",
       "      <td>Nuwakot</td>\n",
       "      <td>Nepal</td>\n",
       "      <td>Bachelor's Degree in Business Studies</td>\n",
       "      <td>PE_Employed</td>\n",
       "      <td>HouseWife</td>\n",
       "      <td>Businessman</td>\n",
       "      <td>Graduate</td>\n",
       "      <td>Entrepreneurship</td>\n",
       "      <td>1</td>\n",
       "    </tr>\n",
       "  </tbody>\n",
       "</table>\n",
       "</div>"
      ],
      "text/plain": [
       "   Program Enrollment Year  Gender         District Country  \\\n",
       "0      MBA          2019.0    Male        Kathmandu   Nepal   \n",
       "7      MBA          2019.0  Female        Kathmandu   Nepal   \n",
       "9      MBA          2019.0    Male             Dang   Nepal   \n",
       "10     MBA          2019.0  Female         Lalitpur   Nepal   \n",
       "15     MBA          2019.0    Male  Other_Districts   Nepal   \n",
       "16     MBA          2019.0    Male  Other_Districts   Nepal   \n",
       "17     MBA          2019.0  Female        Kathmandu   Nepal   \n",
       "18     MBA          2019.0  Female          Sarlahi   Nepal   \n",
       "19     MBA          2019.0  Female         Lalitpur   Nepal   \n",
       "23     MBA          2019.0  Female  Other_Districts   Nepal   \n",
       "25     MBA          2019.0  Female          Kailali   Nepal   \n",
       "28     MBA          2019.0    Male        Kathmandu   Nepal   \n",
       "29     MBA          2019.0    Male        Kathmandu   Nepal   \n",
       "31     MBA          2019.0    Male       Kanchanpur   Nepal   \n",
       "32     MBA          2019.0    Male  Other_Districts   Nepal   \n",
       "36     MBA          2019.0  Female        Kathmandu   Nepal   \n",
       "38     MBA          2019.0  Female  Other_Districts   Nepal   \n",
       "41     MBA          2019.0  Female        Makwanpur   Nepal   \n",
       "47     MBA          2019.0    Male         Lalitpur   Nepal   \n",
       "49     MBA          2019.0    Male          Nuwakot   Nepal   \n",
       "\n",
       "                                 Education Background Professional Engagement  \\\n",
       "0                 Bachelor of Business Administration           PE_Unemployed   \n",
       "7                 Bachelor of Business Administration             PE_Employed   \n",
       "9               Bachelor's Degree in Business Studies             PE_Employed   \n",
       "10                Bachelor of Business Administration             PE_Employed   \n",
       "15                Bachelor of Business Administration           PE_Unemployed   \n",
       "16              Bachelor's Degree in Business Studies           PE_Unemployed   \n",
       "17                Bachelor of Business Administration           PE_Unemployed   \n",
       "18                Bachelor of Business Administration             PE_Employed   \n",
       "19                Bachelor of Business Administration             PE_Employed   \n",
       "23                 Bachelor of Science in Agriculture             PE_Employed   \n",
       "25              Bachelor's Degree in Business Studies             PE_Employed   \n",
       "28                Bachelor of Business Administration             PE_Employed   \n",
       "29                Bachelor of Business Administration             PE_Employed   \n",
       "31                Bachelor of Business Administration           PE_Unemployed   \n",
       "32                                           Other_EB             PE_Employed   \n",
       "36              Bachelor's Degree in Business Studies           PE_Unemployed   \n",
       "38                Bachelor of Business Administration             PE_Employed   \n",
       "41                Bachelor of Business Administration             PE_Employed   \n",
       "47  Bachelor of Business Administration in Banking...           PE_Unemployed   \n",
       "49              Bachelor's Degree in Business Studies             PE_Employed   \n",
       "\n",
       "   Mothers Profession Fathers Profession         Status  \\\n",
       "0       Businesswoman        Businessman     Withdrawn    \n",
       "7     Select_MothersP    Select_FathersP     Withdrawn    \n",
       "9     Select_MothersP    Select_FathersP       Graduate   \n",
       "10      Businesswoman        Businessman     Withdrawn    \n",
       "15          HouseWife        Businessman  Select_Status   \n",
       "16    Employee_Mother    Select_FathersP       Graduate   \n",
       "17          HouseWife        Businessman       Graduate   \n",
       "18    Employee_Mother        Businessman       Graduate   \n",
       "19          HouseWife    Employee_Father       Graduate   \n",
       "23    Employee_Mother    Employee_Father       Graduate   \n",
       "25    Select_MothersP    Select_FathersP       Graduate   \n",
       "28    Select_MothersP    Select_FathersP       Graduate   \n",
       "29          HouseWife        Businessman       Graduate   \n",
       "31          HouseWife    Employee_Father       Graduate   \n",
       "32          HouseWife    Employee_Father       Graduate   \n",
       "36    Employee_Mother    Employee_Father       Graduate   \n",
       "38    Select_MothersP    Select_FathersP       Graduate   \n",
       "41    Select_MothersP    Select_FathersP       Graduate   \n",
       "47          HouseWife        Businessman       Graduate   \n",
       "49          HouseWife        Businessman       Graduate   \n",
       "\n",
       "           Actual Concentration  Scholarship  \n",
       "0                      Pending             0  \n",
       "7                      Pending             0  \n",
       "9             Entrepreneurship             0  \n",
       "10                     Pending             0  \n",
       "15                    Select_AC            0  \n",
       "16            Entrepreneurship             1  \n",
       "17    Technology and Innovation            0  \n",
       "18  Human Resources Management             0  \n",
       "19            Entrepreneurship             0  \n",
       "23            Entrepreneurship             1  \n",
       "25    Technology and Innovation            1  \n",
       "28            Entrepreneurship             0  \n",
       "29    Technology and Innovation            0  \n",
       "31    Technology and Innovation            0  \n",
       "32            Entrepreneurship             1  \n",
       "36            Entrepreneurship             1  \n",
       "38  Human Resources Management             0  \n",
       "41            Entrepreneurship             0  \n",
       "47        Financial Management             0  \n",
       "49            Entrepreneurship             1  "
      ]
     },
     "execution_count": 707,
     "metadata": {},
     "output_type": "execute_result"
    }
   ],
   "source": [
    "# Get the indices of the students with 'More Budget' value of 1 from y_train_final\n",
    "indices_with_deserving_students = y_train_final[y_train_final['Deserving Students'] == 1].index\n",
    "\n",
    "# Use those indices to retrieve the corresponding students from the data_cleaned DataFrame\n",
    "deserving_students = data_cleaned.loc[indices_with_deserving_students]\n",
    "\n",
    "# Print the result\n",
    "deserving_students.head(20)"
   ]
  },
  {
   "cell_type": "markdown",
   "id": "2300fe52",
   "metadata": {},
   "source": [
    "- When the college has limited funds and a focus on carefully managing scholarship allocations, they can ensure that scholarships are awarded to 359 most fitting students based on the cutoff of 0.7"
   ]
  },
  {
   "cell_type": "markdown",
   "id": "5036640a",
   "metadata": {},
   "source": [
    "#### Note"
   ]
  },
  {
   "cell_type": "markdown",
   "id": "c3d541ec",
   "metadata": {},
   "source": [
    "When we can mark the model cutoff at 0.7, the college has 34 percent students (from the train set its 359/1052) to give scholarship during this period. This percentage is very close to the actual conversion rate which is 32.5 percentage. The accuracy at this cutoff is almost the highest, the sensitivity is close to maximum and the college will end up giving scholarship to the most fitting students. \n",
    "\n",
    "This allows college to only focus on the students that are best fit for the scholarship. \n",
    "Thus this impacts on the college as:\n",
    "\n",
    "1. Positive Impact: This approach ensures that scholarship funds are allocated responsibly, targeting only those students who strongly align with the scholarship criteria. It allows for more sustainable financial management, preserving funds for other college needs or future scholarship cycles."
   ]
  },
  {
   "cell_type": "markdown",
   "id": "f06ac6b7",
   "metadata": {},
   "source": [
    "# I. Making Predictions"
   ]
  },
  {
   "cell_type": "code",
   "execution_count": 642,
   "id": "49734547",
   "metadata": {},
   "outputs": [
    {
     "data": {
      "text/html": [
       "<div>\n",
       "<style scoped>\n",
       "    .dataframe tbody tr th:only-of-type {\n",
       "        vertical-align: middle;\n",
       "    }\n",
       "\n",
       "    .dataframe tbody tr th {\n",
       "        vertical-align: top;\n",
       "    }\n",
       "\n",
       "    .dataframe thead th {\n",
       "        text-align: right;\n",
       "    }\n",
       "</style>\n",
       "<table border=\"1\" class=\"dataframe\">\n",
       "  <thead>\n",
       "    <tr style=\"text-align: right;\">\n",
       "      <th></th>\n",
       "      <th>Student ID</th>\n",
       "      <th>Scholarship</th>\n",
       "      <th>Male</th>\n",
       "      <th>Select_G</th>\n",
       "      <th>Select_Country</th>\n",
       "      <th>Chitwan</th>\n",
       "      <th>Dang</th>\n",
       "      <th>Dhading</th>\n",
       "      <th>Dhanusa</th>\n",
       "      <th>Dolkha</th>\n",
       "      <th>...</th>\n",
       "      <th>Other_AC</th>\n",
       "      <th>Pending</th>\n",
       "      <th>Select_AC</th>\n",
       "      <th>Technology and Innovation</th>\n",
       "      <th>Running</th>\n",
       "      <th>Select_Status</th>\n",
       "      <th>Withdrawn</th>\n",
       "      <th>PE_Entrepreneur</th>\n",
       "      <th>PE_Unemployed</th>\n",
       "      <th>Select_PE</th>\n",
       "    </tr>\n",
       "  </thead>\n",
       "  <tbody>\n",
       "    <tr>\n",
       "      <th>680</th>\n",
       "      <td>681</td>\n",
       "      <td>1</td>\n",
       "      <td>1</td>\n",
       "      <td>0</td>\n",
       "      <td>0</td>\n",
       "      <td>0</td>\n",
       "      <td>0</td>\n",
       "      <td>0</td>\n",
       "      <td>0</td>\n",
       "      <td>0</td>\n",
       "      <td>...</td>\n",
       "      <td>0</td>\n",
       "      <td>0</td>\n",
       "      <td>1</td>\n",
       "      <td>0</td>\n",
       "      <td>0</td>\n",
       "      <td>1</td>\n",
       "      <td>0</td>\n",
       "      <td>0</td>\n",
       "      <td>0</td>\n",
       "      <td>1</td>\n",
       "    </tr>\n",
       "    <tr>\n",
       "      <th>515</th>\n",
       "      <td>516</td>\n",
       "      <td>0</td>\n",
       "      <td>0</td>\n",
       "      <td>0</td>\n",
       "      <td>0</td>\n",
       "      <td>0</td>\n",
       "      <td>0</td>\n",
       "      <td>0</td>\n",
       "      <td>0</td>\n",
       "      <td>0</td>\n",
       "      <td>...</td>\n",
       "      <td>0</td>\n",
       "      <td>0</td>\n",
       "      <td>0</td>\n",
       "      <td>0</td>\n",
       "      <td>1</td>\n",
       "      <td>0</td>\n",
       "      <td>0</td>\n",
       "      <td>0</td>\n",
       "      <td>1</td>\n",
       "      <td>0</td>\n",
       "    </tr>\n",
       "    <tr>\n",
       "      <th>1479</th>\n",
       "      <td>1480</td>\n",
       "      <td>0</td>\n",
       "      <td>1</td>\n",
       "      <td>0</td>\n",
       "      <td>0</td>\n",
       "      <td>0</td>\n",
       "      <td>0</td>\n",
       "      <td>0</td>\n",
       "      <td>0</td>\n",
       "      <td>0</td>\n",
       "      <td>...</td>\n",
       "      <td>0</td>\n",
       "      <td>0</td>\n",
       "      <td>1</td>\n",
       "      <td>0</td>\n",
       "      <td>1</td>\n",
       "      <td>0</td>\n",
       "      <td>0</td>\n",
       "      <td>0</td>\n",
       "      <td>1</td>\n",
       "      <td>0</td>\n",
       "    </tr>\n",
       "    <tr>\n",
       "      <th>642</th>\n",
       "      <td>643</td>\n",
       "      <td>0</td>\n",
       "      <td>1</td>\n",
       "      <td>0</td>\n",
       "      <td>0</td>\n",
       "      <td>0</td>\n",
       "      <td>0</td>\n",
       "      <td>0</td>\n",
       "      <td>0</td>\n",
       "      <td>0</td>\n",
       "      <td>...</td>\n",
       "      <td>0</td>\n",
       "      <td>1</td>\n",
       "      <td>0</td>\n",
       "      <td>0</td>\n",
       "      <td>0</td>\n",
       "      <td>0</td>\n",
       "      <td>1</td>\n",
       "      <td>0</td>\n",
       "      <td>0</td>\n",
       "      <td>0</td>\n",
       "    </tr>\n",
       "    <tr>\n",
       "      <th>200</th>\n",
       "      <td>201</td>\n",
       "      <td>1</td>\n",
       "      <td>1</td>\n",
       "      <td>0</td>\n",
       "      <td>1</td>\n",
       "      <td>0</td>\n",
       "      <td>0</td>\n",
       "      <td>0</td>\n",
       "      <td>0</td>\n",
       "      <td>0</td>\n",
       "      <td>...</td>\n",
       "      <td>0</td>\n",
       "      <td>0</td>\n",
       "      <td>0</td>\n",
       "      <td>0</td>\n",
       "      <td>0</td>\n",
       "      <td>0</td>\n",
       "      <td>0</td>\n",
       "      <td>0</td>\n",
       "      <td>1</td>\n",
       "      <td>0</td>\n",
       "    </tr>\n",
       "  </tbody>\n",
       "</table>\n",
       "<p>5 rows × 82 columns</p>\n",
       "</div>"
      ],
      "text/plain": [
       "      Student ID  Scholarship  Male  Select_G  Select_Country  Chitwan  Dang  \\\n",
       "680          681            1     1         0               0        0     0   \n",
       "515          516            0     0         0               0        0     0   \n",
       "1479        1480            0     1         0               0        0     0   \n",
       "642          643            0     1         0               0        0     0   \n",
       "200          201            1     1         0               1        0     0   \n",
       "\n",
       "      Dhading  Dhanusa  Dolkha  ...  Other_AC  Pending   Select_AC  \\\n",
       "680         0        0       0  ...         0         0          1   \n",
       "515         0        0       0  ...         0         0          0   \n",
       "1479        0        0       0  ...         0         0          1   \n",
       "642         0        0       0  ...         0         1          0   \n",
       "200         0        0       0  ...         0         0          0   \n",
       "\n",
       "      Technology and Innovation  Running  Select_Status  Withdrawn   \\\n",
       "680                           0        0              1           0   \n",
       "515                           0        1              0           0   \n",
       "1479                          0        1              0           0   \n",
       "642                           0        0              0           1   \n",
       "200                           0        0              0           0   \n",
       "\n",
       "      PE_Entrepreneur  PE_Unemployed  Select_PE  \n",
       "680                 0              0          1  \n",
       "515                 0              1          0  \n",
       "1479                0              1          0  \n",
       "642                 0              0          0  \n",
       "200                 0              1          0  \n",
       "\n",
       "[5 rows x 82 columns]"
      ]
     },
     "execution_count": 642,
     "metadata": {},
     "output_type": "execute_result"
    }
   ],
   "source": [
    "final_test.head()"
   ]
  },
  {
   "cell_type": "code",
   "execution_count": 643,
   "id": "04fecba1",
   "metadata": {},
   "outputs": [],
   "source": [
    "# using the features in the test dataframe that were used to create our model \n",
    "\n",
    "x_test = x_test[col]"
   ]
  },
  {
   "cell_type": "code",
   "execution_count": 644,
   "id": "ba36f907",
   "metadata": {},
   "outputs": [
    {
     "data": {
      "text/html": [
       "<div>\n",
       "<style scoped>\n",
       "    .dataframe tbody tr th:only-of-type {\n",
       "        vertical-align: middle;\n",
       "    }\n",
       "\n",
       "    .dataframe tbody tr th {\n",
       "        vertical-align: top;\n",
       "    }\n",
       "\n",
       "    .dataframe thead th {\n",
       "        text-align: right;\n",
       "    }\n",
       "</style>\n",
       "<table border=\"1\" class=\"dataframe\">\n",
       "  <thead>\n",
       "    <tr style=\"text-align: right;\">\n",
       "      <th></th>\n",
       "      <th>Gorkha</th>\n",
       "      <th>Kailali</th>\n",
       "      <th>Morang</th>\n",
       "      <th>Syangja</th>\n",
       "      <th>Bachelor of Business Administration</th>\n",
       "      <th>GED</th>\n",
       "      <th>Intermediate level- Sceince</th>\n",
       "      <th>MBA</th>\n",
       "      <th>Digital Marketing</th>\n",
       "      <th>Select_PE</th>\n",
       "    </tr>\n",
       "  </thead>\n",
       "  <tbody>\n",
       "    <tr>\n",
       "      <th>680</th>\n",
       "      <td>0</td>\n",
       "      <td>0</td>\n",
       "      <td>0</td>\n",
       "      <td>0</td>\n",
       "      <td>0</td>\n",
       "      <td>0</td>\n",
       "      <td>0</td>\n",
       "      <td>0</td>\n",
       "      <td>0</td>\n",
       "      <td>1</td>\n",
       "    </tr>\n",
       "    <tr>\n",
       "      <th>515</th>\n",
       "      <td>0</td>\n",
       "      <td>0</td>\n",
       "      <td>0</td>\n",
       "      <td>0</td>\n",
       "      <td>1</td>\n",
       "      <td>0</td>\n",
       "      <td>0</td>\n",
       "      <td>1</td>\n",
       "      <td>0</td>\n",
       "      <td>0</td>\n",
       "    </tr>\n",
       "    <tr>\n",
       "      <th>1479</th>\n",
       "      <td>0</td>\n",
       "      <td>0</td>\n",
       "      <td>0</td>\n",
       "      <td>0</td>\n",
       "      <td>0</td>\n",
       "      <td>0</td>\n",
       "      <td>0</td>\n",
       "      <td>0</td>\n",
       "      <td>0</td>\n",
       "      <td>0</td>\n",
       "    </tr>\n",
       "    <tr>\n",
       "      <th>642</th>\n",
       "      <td>0</td>\n",
       "      <td>0</td>\n",
       "      <td>0</td>\n",
       "      <td>0</td>\n",
       "      <td>1</td>\n",
       "      <td>0</td>\n",
       "      <td>0</td>\n",
       "      <td>1</td>\n",
       "      <td>0</td>\n",
       "      <td>0</td>\n",
       "    </tr>\n",
       "    <tr>\n",
       "      <th>200</th>\n",
       "      <td>0</td>\n",
       "      <td>0</td>\n",
       "      <td>0</td>\n",
       "      <td>0</td>\n",
       "      <td>0</td>\n",
       "      <td>0</td>\n",
       "      <td>0</td>\n",
       "      <td>1</td>\n",
       "      <td>0</td>\n",
       "      <td>0</td>\n",
       "    </tr>\n",
       "  </tbody>\n",
       "</table>\n",
       "</div>"
      ],
      "text/plain": [
       "      Gorkha  Kailali  Morang  Syangja  Bachelor of Business Administration  \\\n",
       "680        0        0       0        0                                    0   \n",
       "515        0        0       0        0                                    1   \n",
       "1479       0        0       0        0                                    0   \n",
       "642        0        0       0        0                                    1   \n",
       "200        0        0       0        0                                    0   \n",
       "\n",
       "      GED  Intermediate level- Sceince   MBA  Digital Marketing   Select_PE  \n",
       "680     0                             0    0                   0          1  \n",
       "515     0                             0    1                   0          0  \n",
       "1479    0                             0    0                   0          0  \n",
       "642     0                             0    1                   0          0  \n",
       "200     0                             0    1                   0          0  "
      ]
     },
     "execution_count": 644,
     "metadata": {},
     "output_type": "execute_result"
    }
   ],
   "source": [
    "x_test.head()"
   ]
  },
  {
   "cell_type": "code",
   "execution_count": 645,
   "id": "5682e145",
   "metadata": {},
   "outputs": [],
   "source": [
    "# adding the constant to x_test\n",
    "\n",
    "x_test_sm = sm.add_constant(x_test)"
   ]
  },
  {
   "cell_type": "code",
   "execution_count": 646,
   "id": "4dc7a7f7",
   "metadata": {},
   "outputs": [
    {
     "data": {
      "text/plain": [
       "680     0.037521\n",
       "515     0.154140\n",
       "1479    0.066250\n",
       "642     0.154140\n",
       "200     0.715343\n",
       "981     0.037521\n",
       "1294    0.037521\n",
       "1346    0.037521\n",
       "503     0.715343\n",
       "987     0.037521\n",
       "dtype: float64"
      ]
     },
     "execution_count": 646,
     "metadata": {},
     "output_type": "execute_result"
    }
   ],
   "source": [
    "# creating the predictions based on the model \n",
    "\n",
    "y_test_pred = pred.predict(x_test_sm)\n",
    "y_test_pred[:10]"
   ]
  },
  {
   "cell_type": "code",
   "execution_count": 647,
   "id": "92010e50",
   "metadata": {},
   "outputs": [],
   "source": [
    "# creating different columns to store the Scholarship situation and the probability for the same\n",
    "\n",
    "y_test_final = pd.DataFrame({'Scholarship' : y_test.values, 'Scholarship_prob' : y_test_pred})"
   ]
  },
  {
   "cell_type": "code",
   "execution_count": 648,
   "id": "88fe990e",
   "metadata": {},
   "outputs": [
    {
     "data": {
      "text/html": [
       "<div>\n",
       "<style scoped>\n",
       "    .dataframe tbody tr th:only-of-type {\n",
       "        vertical-align: middle;\n",
       "    }\n",
       "\n",
       "    .dataframe tbody tr th {\n",
       "        vertical-align: top;\n",
       "    }\n",
       "\n",
       "    .dataframe thead th {\n",
       "        text-align: right;\n",
       "    }\n",
       "</style>\n",
       "<table border=\"1\" class=\"dataframe\">\n",
       "  <thead>\n",
       "    <tr style=\"text-align: right;\">\n",
       "      <th></th>\n",
       "      <th>Scholarship</th>\n",
       "      <th>Scholarship_prob</th>\n",
       "    </tr>\n",
       "  </thead>\n",
       "  <tbody>\n",
       "    <tr>\n",
       "      <th>680</th>\n",
       "      <td>1</td>\n",
       "      <td>0.037521</td>\n",
       "    </tr>\n",
       "    <tr>\n",
       "      <th>515</th>\n",
       "      <td>0</td>\n",
       "      <td>0.154140</td>\n",
       "    </tr>\n",
       "    <tr>\n",
       "      <th>1479</th>\n",
       "      <td>0</td>\n",
       "      <td>0.066250</td>\n",
       "    </tr>\n",
       "    <tr>\n",
       "      <th>642</th>\n",
       "      <td>0</td>\n",
       "      <td>0.154140</td>\n",
       "    </tr>\n",
       "    <tr>\n",
       "      <th>200</th>\n",
       "      <td>1</td>\n",
       "      <td>0.715343</td>\n",
       "    </tr>\n",
       "  </tbody>\n",
       "</table>\n",
       "</div>"
      ],
      "text/plain": [
       "      Scholarship  Scholarship_prob\n",
       "680             1          0.037521\n",
       "515             0          0.154140\n",
       "1479            0          0.066250\n",
       "642             0          0.154140\n",
       "200             1          0.715343"
      ]
     },
     "execution_count": 648,
     "metadata": {},
     "output_type": "execute_result"
    }
   ],
   "source": [
    "y_test_final.head()"
   ]
  },
  {
   "cell_type": "code",
   "execution_count": 649,
   "id": "42f82cc9",
   "metadata": {},
   "outputs": [],
   "source": [
    "# testing with a cutoff at 0.7 . We can use different cutoffs as required \n",
    "\n",
    "y_test_final['predicted'] = y_test_final.Scholarship_prob.map(lambda x: 1 if x >0.7 else 0)"
   ]
  },
  {
   "cell_type": "code",
   "execution_count": 650,
   "id": "2f986ca8",
   "metadata": {},
   "outputs": [
    {
     "name": "stdout",
     "output_type": "stream",
     "text": [
      "[[264  32]\n",
      " [ 35 120]]\n"
     ]
    }
   ],
   "source": [
    "# creating the confusion matrix \n",
    "\n",
    "confusion_one = metrics.confusion_matrix(y_test_final.Scholarship, y_test_final.predicted)\n",
    "print(confusion_one)"
   ]
  },
  {
   "cell_type": "code",
   "execution_count": 651,
   "id": "56ccee5d",
   "metadata": {},
   "outputs": [],
   "source": [
    "# Predicted     not-churn    churn \n",
    "# Actual                  \n",
    "# not-churn       264       32    \n",
    "# churn            35      120"
   ]
  },
  {
   "cell_type": "code",
   "execution_count": 652,
   "id": "21a85a84",
   "metadata": {},
   "outputs": [
    {
     "name": "stdout",
     "output_type": "stream",
     "text": [
      "0.8514412416851441\n"
     ]
    }
   ],
   "source": [
    "# the accuracy of the model \n",
    "\n",
    "print(metrics.accuracy_score(y_test_final.Scholarship, y_test_final.predicted))"
   ]
  },
  {
   "cell_type": "code",
   "execution_count": 653,
   "id": "39630ea6",
   "metadata": {},
   "outputs": [],
   "source": [
    "# true positives\n",
    "tp7test = confusion_one[1,1] \n",
    "\n",
    "#true negatives\n",
    "tn7test = confusion_one[0,0]\n",
    "\n",
    "# false positives\n",
    "fp7test = confusion_one[0,1]\n",
    "\n",
    "# false negatives\n",
    "fn7test = confusion_one[1,0]"
   ]
  },
  {
   "cell_type": "code",
   "execution_count": 654,
   "id": "7a914dec",
   "metadata": {},
   "outputs": [
    {
     "data": {
      "text/plain": [
       "0.7741935483870968"
      ]
     },
     "execution_count": 654,
     "metadata": {},
     "output_type": "execute_result"
    }
   ],
   "source": [
    "# sensitivity of the model : A measure of how accurately does the model predict the positive outcomes\n",
    "# sesitivity can also be termed as true positive rate \n",
    "\n",
    "tp7test /(tp7test+fn7test)"
   ]
  },
  {
   "cell_type": "code",
   "execution_count": 655,
   "id": "1ff06b8d",
   "metadata": {},
   "outputs": [
    {
     "data": {
      "text/plain": [
       "0.8918918918918919"
      ]
     },
     "execution_count": 655,
     "metadata": {},
     "output_type": "execute_result"
    }
   ],
   "source": [
    "# specificity of the model : A measure of how accurately does the model predict negative outcomes \n",
    "\n",
    "tn7test /(tn7test+fp7test)"
   ]
  },
  {
   "cell_type": "code",
   "execution_count": 656,
   "id": "20240684",
   "metadata": {},
   "outputs": [
    {
     "data": {
      "text/plain": [
       "0.10810810810810811"
      ]
     },
     "execution_count": 656,
     "metadata": {},
     "output_type": "execute_result"
    }
   ],
   "source": [
    "# false positive rate : A measure of how many 0s were predicted as 1 \n",
    "\n",
    "fp7test /(tn7test+fp7test)"
   ]
  },
  {
   "cell_type": "code",
   "execution_count": 657,
   "id": "ab2d93a6",
   "metadata": {},
   "outputs": [
    {
     "data": {
      "text/plain": [
       "0.22580645161290322"
      ]
     },
     "execution_count": 657,
     "metadata": {},
     "output_type": "execute_result"
    }
   ],
   "source": [
    "# false negative rate : A measure of how many 0s were predicted as 1 \n",
    "\n",
    "fn7test /(tp7test+fn7test)"
   ]
  },
  {
   "cell_type": "code",
   "execution_count": 658,
   "id": "c8996c76",
   "metadata": {},
   "outputs": [],
   "source": [
    "# testing with a cutoff at 0.3 . We can use different cutoffs as required \n",
    "\n",
    "y_test_final['predicted'] = y_test_final.Scholarship_prob.map(lambda x: 1 if x >0.1 else 0)"
   ]
  },
  {
   "cell_type": "code",
   "execution_count": 659,
   "id": "7133eb5f",
   "metadata": {},
   "outputs": [
    {
     "name": "stdout",
     "output_type": "stream",
     "text": [
      "[[264  32]\n",
      " [ 35 120]]\n"
     ]
    }
   ],
   "source": [
    "# creating the confusion matrix \n",
    "\n",
    "confusion_test_1 = metrics.confusion_matrix(y_test_final.Scholarship, y_test_final.predicted)\n",
    "print(confusion_one)"
   ]
  },
  {
   "cell_type": "code",
   "execution_count": 660,
   "id": "156815b3",
   "metadata": {},
   "outputs": [],
   "source": [
    "# Predicted     not-churn    churn \n",
    "# Actual                  \n",
    "# not-churn       204       92    \n",
    "# churn            17      138"
   ]
  },
  {
   "cell_type": "code",
   "execution_count": 661,
   "id": "ae98f11f",
   "metadata": {
    "scrolled": true
   },
   "outputs": [
    {
     "name": "stdout",
     "output_type": "stream",
     "text": [
      "0.7583148558758315\n"
     ]
    }
   ],
   "source": [
    "# the accuracy of the model \n",
    "\n",
    "print(metrics.accuracy_score(y_test_final.Scholarship, y_test_final.predicted))"
   ]
  },
  {
   "cell_type": "code",
   "execution_count": 662,
   "id": "c6f23259",
   "metadata": {},
   "outputs": [],
   "source": [
    "# true positives\n",
    "tp1test = confusion_test_1[1,1] \n",
    "\n",
    "#true negatives\n",
    "tn1test = confusion_test_1[0,0]\n",
    "\n",
    "# false positives\n",
    "fp1test = confusion_test_1[0,1]\n",
    "\n",
    "# false negatives\n",
    "fn1test = confusion_test_1[1,0]"
   ]
  },
  {
   "cell_type": "code",
   "execution_count": 663,
   "id": "1bb7989e",
   "metadata": {},
   "outputs": [
    {
     "data": {
      "text/plain": [
       "0.8903225806451613"
      ]
     },
     "execution_count": 663,
     "metadata": {},
     "output_type": "execute_result"
    }
   ],
   "source": [
    "# sensitivity of the model : A measure of how accurately does the model predict the positive outcomes\n",
    "# sesitivity can also be termed as true positive rate \n",
    "\n",
    "tp1test /(tp1test+fn1test)"
   ]
  },
  {
   "cell_type": "code",
   "execution_count": 664,
   "id": "267f147e",
   "metadata": {},
   "outputs": [
    {
     "data": {
      "text/plain": [
       "0.6891891891891891"
      ]
     },
     "execution_count": 664,
     "metadata": {},
     "output_type": "execute_result"
    }
   ],
   "source": [
    "# specificity of the model : A measure of how accurately does the model predict negative outcomes \n",
    "\n",
    "tn1test /(tn1test+fp1test)"
   ]
  },
  {
   "cell_type": "code",
   "execution_count": 665,
   "id": "f94cea72",
   "metadata": {},
   "outputs": [
    {
     "data": {
      "text/plain": [
       "0.3108108108108108"
      ]
     },
     "execution_count": 665,
     "metadata": {},
     "output_type": "execute_result"
    }
   ],
   "source": [
    "# false positive rate : A measure of how many 0s were predicted as 1 \n",
    "\n",
    "fp1test /(tn1test+fp1test)"
   ]
  },
  {
   "cell_type": "code",
   "execution_count": 666,
   "id": "396e8232",
   "metadata": {},
   "outputs": [
    {
     "data": {
      "text/plain": [
       "0.10967741935483871"
      ]
     },
     "execution_count": 666,
     "metadata": {},
     "output_type": "execute_result"
    }
   ],
   "source": [
    "# false negative rate : A measure of how many 0s were predicted as 1 \n",
    "\n",
    "fn1test /(tp1test+fn1test)"
   ]
  },
  {
   "cell_type": "markdown",
   "id": "c54a2287",
   "metadata": {},
   "source": [
    "## Comparing train and test model"
   ]
  },
  {
   "cell_type": "markdown",
   "id": "2ce2a6eb",
   "metadata": {},
   "source": [
    "### Threshold at 0.1"
   ]
  },
  {
   "cell_type": "code",
   "execution_count": 667,
   "id": "b2cf1bee",
   "metadata": {},
   "outputs": [],
   "source": [
    "y_train_final['predicted'] = y_train_final.Scholarship_prob.map(lambda x: 1 if x >0.1 else 0)"
   ]
  },
  {
   "cell_type": "code",
   "execution_count": 668,
   "id": "fbc884d6",
   "metadata": {},
   "outputs": [
    {
     "data": {
      "text/plain": [
       "0    537\n",
       "1    515\n",
       "Name: predicted, dtype: int64"
      ]
     },
     "execution_count": 668,
     "metadata": {},
     "output_type": "execute_result"
    }
   ],
   "source": [
    "y_train_final['predicted'].value_counts()"
   ]
  },
  {
   "cell_type": "markdown",
   "id": "cc13dbec",
   "metadata": {},
   "source": [
    "- When the college has increased funding and a strong commitment to support academic excellence and financial need, they can ensure 515 students the opportunity to benefit from the scholarships based on the cutoff of 0.1"
   ]
  },
  {
   "cell_type": "markdown",
   "id": "157f5dfe",
   "metadata": {},
   "source": [
    "When we mark the model cutoff at 0.1, the college has 48 percent students (from the train set its 515/1052) to give scholarship during this period. The accuracy of the Model is not the greatest. However, we will not miss students who could get scholarship as the sensitivity of the model at this cutoff is very high.\n",
    "\n",
    "This allows us to not miss any students who can get scholarships. \n",
    "Thus this impacts on the college as:\n",
    "\n",
    "1. Positive Impact: More students will have access to financial support, aligning with the college's mission to foster academic excellence and support those in financial need. This can enhance the college's reputation and attract a more diverse student population."
   ]
  },
  {
   "cell_type": "code",
   "execution_count": 669,
   "id": "9ecda8ff",
   "metadata": {},
   "outputs": [
    {
     "data": {
      "text/plain": [
       "array([[511, 207],\n",
       "       [ 26, 308]])"
      ]
     },
     "execution_count": 669,
     "metadata": {},
     "output_type": "execute_result"
    }
   ],
   "source": [
    "confusion_train_1 = metrics.confusion_matrix(y_train_final.Scholarship, y_train_final.predicted)\n",
    "confusion_train_1"
   ]
  },
  {
   "cell_type": "code",
   "execution_count": 670,
   "id": "1e795273",
   "metadata": {},
   "outputs": [],
   "source": [
    "# Predicted     not-churn    churn \n",
    "# Actual                  \n",
    "# not-churn       511        207   \n",
    "# churn            26      308"
   ]
  },
  {
   "cell_type": "code",
   "execution_count": 671,
   "id": "15acb9b8",
   "metadata": {},
   "outputs": [
    {
     "name": "stdout",
     "output_type": "stream",
     "text": [
      "0.7785171102661597\n"
     ]
    }
   ],
   "source": [
    "print(metrics.accuracy_score(y_train_final.Scholarship, y_train_final.predicted))"
   ]
  },
  {
   "cell_type": "code",
   "execution_count": 672,
   "id": "663de8d0",
   "metadata": {},
   "outputs": [],
   "source": [
    "# true positives\n",
    "tp1train = confusion_train_1[1,1] \n",
    "\n",
    "#true negatives\n",
    "tn1train = confusion_train_1[0,0]\n",
    "\n",
    "# false positives\n",
    "fp1train = confusion_train_1[0,1]\n",
    "\n",
    "# false negatives\n",
    "fn1train = confusion_train_1[1,0]"
   ]
  },
  {
   "cell_type": "code",
   "execution_count": 673,
   "id": "cfcfd050",
   "metadata": {},
   "outputs": [],
   "source": [
    "y_test_final['predicted'] = y_test_final.Scholarship_prob.map(lambda x: 1 if x >0.1 else 0)"
   ]
  },
  {
   "cell_type": "code",
   "execution_count": 674,
   "id": "696b5ebe",
   "metadata": {},
   "outputs": [
    {
     "data": {
      "text/plain": [
       "1    230\n",
       "0    221\n",
       "Name: predicted, dtype: int64"
      ]
     },
     "execution_count": 674,
     "metadata": {},
     "output_type": "execute_result"
    }
   ],
   "source": [
    "y_test_final['predicted'].value_counts()"
   ]
  },
  {
   "cell_type": "markdown",
   "id": "1412f088",
   "metadata": {},
   "source": [
    "- When the college has increased funding and a strong commitment to support academic excellence and financial need, they can ensure 230 students the opportunity to benefit from the scholarships based on the cutoff of 0.1"
   ]
  },
  {
   "cell_type": "markdown",
   "id": "9b967189",
   "metadata": {},
   "source": [
    "When we mark the model cutoff at 0.1, the college has 50 percent students (from the train set its 230/451) to give scholarship during this period. The accuracy of the Model is not the greatest. However, we will not miss students who could get scholarship as the sensitivity of the model at this cutoff is very high.\n",
    "\n",
    "This allows us to not miss any students who can get scholarships. \n",
    "Thus this impacts on the college as:\n",
    "\n",
    "1. Positive Impact: More students will have access to financial support, aligning with the college's mission to foster academic excellence and support those in financial need. This can enhance the college's reputation and attract a more diverse student population."
   ]
  },
  {
   "cell_type": "code",
   "execution_count": 675,
   "id": "28ff69f8",
   "metadata": {},
   "outputs": [
    {
     "data": {
      "text/plain": [
       "array([[204,  92],\n",
       "       [ 17, 138]])"
      ]
     },
     "execution_count": 675,
     "metadata": {},
     "output_type": "execute_result"
    }
   ],
   "source": [
    "confusion_test_1 = metrics.confusion_matrix(y_test_final.Scholarship, y_test_final.predicted)\n",
    "confusion_test_1"
   ]
  },
  {
   "cell_type": "code",
   "execution_count": 676,
   "id": "3edd44b9",
   "metadata": {},
   "outputs": [],
   "source": [
    "# Predicted     not-churn    churn \n",
    "# Actual                  \n",
    "# not-churn       204        92   \n",
    "# churn            17      138"
   ]
  },
  {
   "cell_type": "code",
   "execution_count": 677,
   "id": "2d208bbc",
   "metadata": {},
   "outputs": [
    {
     "name": "stdout",
     "output_type": "stream",
     "text": [
      "0.7583148558758315\n"
     ]
    }
   ],
   "source": [
    "print(metrics.accuracy_score(y_test_final.Scholarship, y_test_final.predicted))"
   ]
  },
  {
   "cell_type": "code",
   "execution_count": 678,
   "id": "0fc682e6",
   "metadata": {},
   "outputs": [],
   "source": [
    "# true positives\n",
    "tp1test = confusion_test_1[1,1] \n",
    "\n",
    "#true negatives\n",
    "tn1test = confusion_test_1[0,0]\n",
    "\n",
    "# false positives\n",
    "fp1test = confusion_test_1[0,1]\n",
    "\n",
    "# false negatives\n",
    "fn1test = confusion_test_1[1,0]"
   ]
  },
  {
   "cell_type": "code",
   "execution_count": 679,
   "id": "f78dc153",
   "metadata": {},
   "outputs": [
    {
     "data": {
      "text/plain": [
       "0.9221556886227545"
      ]
     },
     "execution_count": 679,
     "metadata": {},
     "output_type": "execute_result"
    }
   ],
   "source": [
    "# sensitivity of the train model\n",
    "\n",
    "tp1train /(tp1train+fn1train)"
   ]
  },
  {
   "cell_type": "code",
   "execution_count": 680,
   "id": "00d733ae",
   "metadata": {},
   "outputs": [
    {
     "data": {
      "text/plain": [
       "0.8903225806451613"
      ]
     },
     "execution_count": 680,
     "metadata": {},
     "output_type": "execute_result"
    }
   ],
   "source": [
    "# sensitivity of the test model\n",
    "\n",
    "tp1test /(tp1test+fn1test)"
   ]
  },
  {
   "cell_type": "code",
   "execution_count": 681,
   "id": "01b72f16",
   "metadata": {},
   "outputs": [
    {
     "data": {
      "text/plain": [
       "0.7116991643454039"
      ]
     },
     "execution_count": 681,
     "metadata": {},
     "output_type": "execute_result"
    }
   ],
   "source": [
    "# specificity of the train model\n",
    "\n",
    "tn1train /(tn1train+fp1train)"
   ]
  },
  {
   "cell_type": "code",
   "execution_count": 682,
   "id": "3662ff02",
   "metadata": {},
   "outputs": [
    {
     "data": {
      "text/plain": [
       "0.6891891891891891"
      ]
     },
     "execution_count": 682,
     "metadata": {},
     "output_type": "execute_result"
    }
   ],
   "source": [
    "# specificity of the test model\n",
    "\n",
    "tn1test /(tn1test+fp1test)"
   ]
  },
  {
   "cell_type": "code",
   "execution_count": 683,
   "id": "477957e5",
   "metadata": {},
   "outputs": [
    {
     "data": {
      "text/plain": [
       "0.2883008356545961"
      ]
     },
     "execution_count": 683,
     "metadata": {},
     "output_type": "execute_result"
    }
   ],
   "source": [
    "# false positive rate of the train model\n",
    "\n",
    "fp1train /(tn1train+fp1train)"
   ]
  },
  {
   "cell_type": "code",
   "execution_count": 684,
   "id": "c05edb65",
   "metadata": {},
   "outputs": [
    {
     "data": {
      "text/plain": [
       "0.3108108108108108"
      ]
     },
     "execution_count": 684,
     "metadata": {},
     "output_type": "execute_result"
    }
   ],
   "source": [
    "# false positive rate of the test model\n",
    "\n",
    "fp1test /(tn1test+fp1test)"
   ]
  },
  {
   "cell_type": "code",
   "execution_count": 685,
   "id": "aada5622",
   "metadata": {},
   "outputs": [
    {
     "data": {
      "text/plain": [
       "0.07784431137724551"
      ]
     },
     "execution_count": 685,
     "metadata": {},
     "output_type": "execute_result"
    }
   ],
   "source": [
    "# false negative rate of the train model\n",
    "\n",
    "fn1train /(tp1train+fn1train)"
   ]
  },
  {
   "cell_type": "code",
   "execution_count": 686,
   "id": "0118403f",
   "metadata": {},
   "outputs": [
    {
     "data": {
      "text/plain": [
       "0.10967741935483871"
      ]
     },
     "execution_count": 686,
     "metadata": {},
     "output_type": "execute_result"
    }
   ],
   "source": [
    "# false negative rate of the test model\n",
    "\n",
    "fn1test /(tp1test+fn1test)"
   ]
  },
  {
   "cell_type": "markdown",
   "id": "f0f53844",
   "metadata": {},
   "source": [
    "### Threshold at 0.7"
   ]
  },
  {
   "cell_type": "code",
   "execution_count": 687,
   "id": "81170ee3",
   "metadata": {},
   "outputs": [],
   "source": [
    "y_train_final['predicted'] = y_train_final.Scholarship_prob.map(lambda x: 1 if x >0.7 else 0)"
   ]
  },
  {
   "cell_type": "code",
   "execution_count": 688,
   "id": "2dfe51b1",
   "metadata": {},
   "outputs": [
    {
     "data": {
      "text/plain": [
       "0    693\n",
       "1    359\n",
       "Name: predicted, dtype: int64"
      ]
     },
     "execution_count": 688,
     "metadata": {},
     "output_type": "execute_result"
    }
   ],
   "source": [
    "y_train_final['predicted'].value_counts()"
   ]
  },
  {
   "cell_type": "markdown",
   "id": "e6e3311f",
   "metadata": {},
   "source": [
    "- When the college has limited funds and a focus on carefully managing scholarship allocations, they can ensure that scholarships are awarded to 359 most fitting students based on the cutoff of 0.7"
   ]
  },
  {
   "cell_type": "markdown",
   "id": "f8d709e1",
   "metadata": {},
   "source": [
    "When we can mark the model cutoff at 0.7, the college has 34.1 percent students (from the train set its 359/1052) to give scholarship during this period. This percentage is very close to the actual conversion rate which is 32.5 percentage. The accuracy at this cutoff is almost the highest, the sensitivity is close to maximum and the college will end up giving scholarship to the most fitting students. \n",
    "\n",
    "This allows college to only focus on the students that are best fit for the scholarship. \n",
    "Thus this impacts on the college as:\n",
    "\n",
    "1. Positive Impact: This approach ensures that scholarship funds are allocated responsibly, targeting only those students who strongly align with the scholarship criteria. It allows for more sustainable financial management, preserving funds for other college needs or future scholarship cycles."
   ]
  },
  {
   "cell_type": "code",
   "execution_count": 689,
   "id": "225b2840",
   "metadata": {},
   "outputs": [
    {
     "data": {
      "text/plain": [
       "array([[620,  98],\n",
       "       [ 73, 261]])"
      ]
     },
     "execution_count": 689,
     "metadata": {},
     "output_type": "execute_result"
    }
   ],
   "source": [
    "confusion_train_7 = metrics.confusion_matrix(y_train_final.Scholarship, y_train_final.predicted)\n",
    "confusion_train_7"
   ]
  },
  {
   "cell_type": "code",
   "execution_count": 690,
   "id": "45a57108",
   "metadata": {},
   "outputs": [],
   "source": [
    "# Predicted     not-churn    churn \n",
    "# Actual                  \n",
    "# not-churn       620        98   \n",
    "# churn            73      261"
   ]
  },
  {
   "cell_type": "code",
   "execution_count": 691,
   "id": "5e07eba5",
   "metadata": {},
   "outputs": [
    {
     "name": "stdout",
     "output_type": "stream",
     "text": [
      "0.8374524714828897\n"
     ]
    }
   ],
   "source": [
    "print(metrics.accuracy_score(y_train_final.Scholarship, y_train_final.predicted))"
   ]
  },
  {
   "cell_type": "code",
   "execution_count": 692,
   "id": "44be2957",
   "metadata": {},
   "outputs": [],
   "source": [
    "# true positives\n",
    "tp7train = confusion_train_7[1,1] \n",
    "\n",
    "#true negatives\n",
    "tn7train = confusion_train_7[0,0]\n",
    "\n",
    "# false positives\n",
    "fp7train = confusion_train_7[0,1]\n",
    "\n",
    "# false negatives\n",
    "fn7train = confusion_train_7[1,0]"
   ]
  },
  {
   "cell_type": "code",
   "execution_count": 693,
   "id": "efdd87d8",
   "metadata": {},
   "outputs": [],
   "source": [
    "# testing with a cutoff at 0.5 . We can use different cutoffs as required \n",
    "\n",
    "y_test_final['predicted'] = y_test_final.Scholarship_prob.map(lambda x: 1 if x >0.7 else 0)"
   ]
  },
  {
   "cell_type": "code",
   "execution_count": 694,
   "id": "17c98b19",
   "metadata": {},
   "outputs": [
    {
     "data": {
      "text/plain": [
       "0    299\n",
       "1    152\n",
       "Name: predicted, dtype: int64"
      ]
     },
     "execution_count": 694,
     "metadata": {},
     "output_type": "execute_result"
    }
   ],
   "source": [
    "y_test_final['predicted'].value_counts()"
   ]
  },
  {
   "cell_type": "markdown",
   "id": "bd0fcd88",
   "metadata": {},
   "source": [
    "- When the college has limited funds and a focus on carefully managing scholarship allocations, they can ensure that scholarships are awarded to 152 most fitting students based on the cutoff of 0.7"
   ]
  },
  {
   "cell_type": "markdown",
   "id": "25d9210e",
   "metadata": {},
   "source": [
    "When we can mark the model cutoff at 0.7, the college has 33.7 percent students (from the train set its 152/451) to give scholarship during this period. This percentage is very close to the actual conversion rate which is 32.5 percentage. The accuracy at this cutoff is almost the highest, the sensitivity is close to maximum and the college will end up giving scholarship to the most fitting students. \n",
    "\n",
    "This allows college to only focus on the students that are best fit for the scholarship. \n",
    "Thus this impacts on the college as:\n",
    "\n",
    "1. Positive Impact: This approach ensures that scholarship funds are allocated responsibly, targeting only those students who strongly align with the scholarship criteria. It allows for more sustainable financial management, preserving funds for other college needs or future scholarship cycles."
   ]
  },
  {
   "cell_type": "code",
   "execution_count": 695,
   "id": "5f609c91",
   "metadata": {},
   "outputs": [
    {
     "data": {
      "text/plain": [
       "array([[264,  32],\n",
       "       [ 35, 120]])"
      ]
     },
     "execution_count": 695,
     "metadata": {},
     "output_type": "execute_result"
    }
   ],
   "source": [
    "# creating the confusion matrix \n",
    "\n",
    "confusion_test_7 = metrics.confusion_matrix(y_test_final.Scholarship, y_test_final.predicted)\n",
    "confusion_test_7"
   ]
  },
  {
   "cell_type": "code",
   "execution_count": 696,
   "id": "8ec2e833",
   "metadata": {},
   "outputs": [],
   "source": [
    "# Predicted     not-churn    churn \n",
    "# Actual                  \n",
    "# not-churn       264        32   \n",
    "# churn            35      120"
   ]
  },
  {
   "cell_type": "code",
   "execution_count": 697,
   "id": "528d66ce",
   "metadata": {},
   "outputs": [
    {
     "name": "stdout",
     "output_type": "stream",
     "text": [
      "0.8514412416851441\n"
     ]
    }
   ],
   "source": [
    "print(metrics.accuracy_score(y_test_final.Scholarship, y_test_final.predicted))"
   ]
  },
  {
   "cell_type": "code",
   "execution_count": 698,
   "id": "51abe744",
   "metadata": {},
   "outputs": [],
   "source": [
    "# true positives\n",
    "tp7test = confusion_test_7[1,1] \n",
    "\n",
    "#true negatives\n",
    "tn7test = confusion_test_7[0,0]\n",
    "\n",
    "# false positives\n",
    "fp7test = confusion_test_7[0,1]\n",
    "\n",
    "# false negatives\n",
    "fn7test = confusion_test_7[1,0]"
   ]
  },
  {
   "cell_type": "code",
   "execution_count": 699,
   "id": "c7ea2619",
   "metadata": {},
   "outputs": [
    {
     "data": {
      "text/plain": [
       "0.781437125748503"
      ]
     },
     "execution_count": 699,
     "metadata": {},
     "output_type": "execute_result"
    }
   ],
   "source": [
    "# sensitivity of the train model\n",
    "\n",
    "tp7train /(tp7train+fn7train)"
   ]
  },
  {
   "cell_type": "code",
   "execution_count": 700,
   "id": "59d2377c",
   "metadata": {},
   "outputs": [
    {
     "data": {
      "text/plain": [
       "0.7741935483870968"
      ]
     },
     "execution_count": 700,
     "metadata": {},
     "output_type": "execute_result"
    }
   ],
   "source": [
    "# sensitivity of the test model\n",
    "\n",
    "tp7test /(tp7test+fn7test)"
   ]
  },
  {
   "cell_type": "code",
   "execution_count": 701,
   "id": "322c4f10",
   "metadata": {},
   "outputs": [
    {
     "data": {
      "text/plain": [
       "0.8635097493036211"
      ]
     },
     "execution_count": 701,
     "metadata": {},
     "output_type": "execute_result"
    }
   ],
   "source": [
    "# specificity of the train model\n",
    "\n",
    "tn7train /(tn7train+fp7train)"
   ]
  },
  {
   "cell_type": "code",
   "execution_count": 702,
   "id": "f9889d7e",
   "metadata": {},
   "outputs": [
    {
     "data": {
      "text/plain": [
       "0.8918918918918919"
      ]
     },
     "execution_count": 702,
     "metadata": {},
     "output_type": "execute_result"
    }
   ],
   "source": [
    "# specificity of the test model\n",
    "\n",
    "tn7test /(tn7test+fp7test)"
   ]
  },
  {
   "cell_type": "code",
   "execution_count": 703,
   "id": "36f00f19",
   "metadata": {},
   "outputs": [
    {
     "data": {
      "text/plain": [
       "0.13649025069637882"
      ]
     },
     "execution_count": 703,
     "metadata": {},
     "output_type": "execute_result"
    }
   ],
   "source": [
    "# false positive rate of the train model\n",
    "\n",
    "fp7train /(tn7train+fp7train)"
   ]
  },
  {
   "cell_type": "code",
   "execution_count": 704,
   "id": "25336cb7",
   "metadata": {},
   "outputs": [
    {
     "data": {
      "text/plain": [
       "0.10810810810810811"
      ]
     },
     "execution_count": 704,
     "metadata": {},
     "output_type": "execute_result"
    }
   ],
   "source": [
    "# false positive rate of the test model\n",
    "\n",
    "fp7test /(tn7test+fp7test)"
   ]
  },
  {
   "cell_type": "code",
   "execution_count": 705,
   "id": "744beb54",
   "metadata": {},
   "outputs": [
    {
     "data": {
      "text/plain": [
       "0.218562874251497"
      ]
     },
     "execution_count": 705,
     "metadata": {},
     "output_type": "execute_result"
    }
   ],
   "source": [
    "# false negative rate of the train model\n",
    "\n",
    "fn7train /(tp7train+fn7train)"
   ]
  },
  {
   "cell_type": "code",
   "execution_count": 706,
   "id": "8daefb98",
   "metadata": {},
   "outputs": [
    {
     "data": {
      "text/plain": [
       "0.22580645161290322"
      ]
     },
     "execution_count": 706,
     "metadata": {},
     "output_type": "execute_result"
    }
   ],
   "source": [
    "# false negative rate of the test model\n",
    "\n",
    "fn7test /(tp7test+fn7test)"
   ]
  },
  {
   "cell_type": "markdown",
   "id": "87faba51",
   "metadata": {},
   "source": [
    "### Note"
   ]
  },
  {
   "cell_type": "markdown",
   "id": "8e83520c",
   "metadata": {},
   "source": [
    "1. Model works well \n",
    "2. The accuracy, sensitivity, specificity are very close to the one generated by the train set on a similar cutoff\n",
    "3. We can select different cutoff to increase the accuracy, sensitivity and specificity based on the requirement of the case in context"
   ]
  }
 ],
 "metadata": {
  "kernelspec": {
   "display_name": "Python 3 (ipykernel)",
   "language": "python",
   "name": "python3"
  },
  "language_info": {
   "codemirror_mode": {
    "name": "ipython",
    "version": 3
   },
   "file_extension": ".py",
   "mimetype": "text/x-python",
   "name": "python",
   "nbconvert_exporter": "python",
   "pygments_lexer": "ipython3",
   "version": "3.10.9"
  }
 },
 "nbformat": 4,
 "nbformat_minor": 5
}
